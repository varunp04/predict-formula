{
 "cells": [
  {
   "cell_type": "markdown",
   "metadata": {},
   "source": [
    "# Master pipeline notebook\n",
    "\n",
    "This notebook is mainly meant to run the experimentation. \n",
    "\n",
    "The experimentation is divided into seperate parts according to machine learning process\n",
    "\n",
    "The process involves: \n",
    "1. Data gathering and initial transformation\n",
    "2. Data analysis\n",
    "3. feature engineering \n",
    "4. Modelling \n",
    "5. Evaluation"
   ]
  },
  {
   "cell_type": "code",
   "execution_count": 1,
   "metadata": {},
   "outputs": [],
   "source": [
    "import numpy as np\n",
    "import pandas as pd\n",
    "from data import gatherData\n",
    "import plotly.graph_objects as go\n",
    "from pre_process_data import processData\n",
    "from feature import engineerFeaturesForTraining, splitData\n",
    "from transform import transformData\n",
    "from utils import load_config_file\n",
    "from train import train\n",
    "import torch\n",
    "from LSTM_model import LSTM\n",
    "from inference import makeInference\n",
    "from evaluation import evaluateModellingResults"
   ]
  },
  {
   "cell_type": "code",
   "execution_count": 2,
   "metadata": {},
   "outputs": [
    {
     "data": {
      "text/plain": [
       "'cpu'"
      ]
     },
     "execution_count": 2,
     "metadata": {},
     "output_type": "execute_result"
    }
   ],
   "source": [
    "config = load_config_file(\"config.yml\")\n",
    "device = \"cuda:0\" if torch.cuda.is_available() else \"cpu\"\n",
    "device"
   ]
  },
  {
   "cell_type": "markdown",
   "metadata": {},
   "source": [
    "## 1. Data gathering and transformation\n",
    "\n",
    "This stage is mainly to gather the data. Combine them if necessary. Perform initial data wrangling, so that it is ready for \n",
    "data analysis"
   ]
  },
  {
   "cell_type": "code",
   "execution_count": 3,
   "metadata": {},
   "outputs": [],
   "source": [
    "gather_data_obj = gatherData(config=config)"
   ]
  },
  {
   "cell_type": "code",
   "execution_count": 4,
   "metadata": {},
   "outputs": [],
   "source": [
    "(\n",
    "    lap_times_df,\n",
    "    pit_stops_df,\n",
    "    qualifying_df,\n",
    "    races_df,\n",
    "    results_df,\n",
    "    sprint_results_df,\n",
    "    status_df,\n",
    ") = gather_data_obj.load_data()"
   ]
  },
  {
   "cell_type": "code",
   "execution_count": 5,
   "metadata": {},
   "outputs": [
    {
     "data": {
      "text/html": [
       "<div>\n",
       "<style scoped>\n",
       "    .dataframe tbody tr th:only-of-type {\n",
       "        vertical-align: middle;\n",
       "    }\n",
       "\n",
       "    .dataframe tbody tr th {\n",
       "        vertical-align: top;\n",
       "    }\n",
       "\n",
       "    .dataframe thead th {\n",
       "        text-align: right;\n",
       "    }\n",
       "</style>\n",
       "<table border=\"1\" class=\"dataframe\">\n",
       "  <thead>\n",
       "    <tr style=\"text-align: right;\">\n",
       "      <th></th>\n",
       "      <th>raceId</th>\n",
       "      <th>driverId</th>\n",
       "      <th>lap</th>\n",
       "      <th>position</th>\n",
       "      <th>milliseconds</th>\n",
       "      <th>year</th>\n",
       "      <th>round</th>\n",
       "      <th>circuitId</th>\n",
       "      <th>name</th>\n",
       "      <th>date</th>\n",
       "      <th>number</th>\n",
       "      <th>statusId</th>\n",
       "    </tr>\n",
       "  </thead>\n",
       "  <tbody>\n",
       "    <tr>\n",
       "      <th>0</th>\n",
       "      <td>841</td>\n",
       "      <td>20</td>\n",
       "      <td>1</td>\n",
       "      <td>1</td>\n",
       "      <td>98109</td>\n",
       "      <td>2011</td>\n",
       "      <td>1</td>\n",
       "      <td>1</td>\n",
       "      <td>Australian Grand Prix</td>\n",
       "      <td>2011-03-27</td>\n",
       "      <td>1</td>\n",
       "      <td>1</td>\n",
       "    </tr>\n",
       "    <tr>\n",
       "      <th>1</th>\n",
       "      <td>841</td>\n",
       "      <td>20</td>\n",
       "      <td>2</td>\n",
       "      <td>1</td>\n",
       "      <td>93006</td>\n",
       "      <td>2011</td>\n",
       "      <td>1</td>\n",
       "      <td>1</td>\n",
       "      <td>Australian Grand Prix</td>\n",
       "      <td>2011-03-27</td>\n",
       "      <td>1</td>\n",
       "      <td>1</td>\n",
       "    </tr>\n",
       "    <tr>\n",
       "      <th>2</th>\n",
       "      <td>841</td>\n",
       "      <td>20</td>\n",
       "      <td>3</td>\n",
       "      <td>1</td>\n",
       "      <td>92713</td>\n",
       "      <td>2011</td>\n",
       "      <td>1</td>\n",
       "      <td>1</td>\n",
       "      <td>Australian Grand Prix</td>\n",
       "      <td>2011-03-27</td>\n",
       "      <td>1</td>\n",
       "      <td>1</td>\n",
       "    </tr>\n",
       "    <tr>\n",
       "      <th>3</th>\n",
       "      <td>841</td>\n",
       "      <td>20</td>\n",
       "      <td>4</td>\n",
       "      <td>1</td>\n",
       "      <td>92803</td>\n",
       "      <td>2011</td>\n",
       "      <td>1</td>\n",
       "      <td>1</td>\n",
       "      <td>Australian Grand Prix</td>\n",
       "      <td>2011-03-27</td>\n",
       "      <td>1</td>\n",
       "      <td>1</td>\n",
       "    </tr>\n",
       "    <tr>\n",
       "      <th>4</th>\n",
       "      <td>841</td>\n",
       "      <td>20</td>\n",
       "      <td>5</td>\n",
       "      <td>1</td>\n",
       "      <td>92342</td>\n",
       "      <td>2011</td>\n",
       "      <td>1</td>\n",
       "      <td>1</td>\n",
       "      <td>Australian Grand Prix</td>\n",
       "      <td>2011-03-27</td>\n",
       "      <td>1</td>\n",
       "      <td>1</td>\n",
       "    </tr>\n",
       "    <tr>\n",
       "      <th>...</th>\n",
       "      <td>...</td>\n",
       "      <td>...</td>\n",
       "      <td>...</td>\n",
       "      <td>...</td>\n",
       "      <td>...</td>\n",
       "      <td>...</td>\n",
       "      <td>...</td>\n",
       "      <td>...</td>\n",
       "      <td>...</td>\n",
       "      <td>...</td>\n",
       "      <td>...</td>\n",
       "      <td>...</td>\n",
       "    </tr>\n",
       "    <tr>\n",
       "      <th>551737</th>\n",
       "      <td>1110</td>\n",
       "      <td>817</td>\n",
       "      <td>40</td>\n",
       "      <td>17</td>\n",
       "      <td>114361</td>\n",
       "      <td>2023</td>\n",
       "      <td>12</td>\n",
       "      <td>13</td>\n",
       "      <td>Belgian Grand Prix</td>\n",
       "      <td>2023-07-30</td>\n",
       "      <td>3</td>\n",
       "      <td>1</td>\n",
       "    </tr>\n",
       "    <tr>\n",
       "      <th>551738</th>\n",
       "      <td>1110</td>\n",
       "      <td>817</td>\n",
       "      <td>41</td>\n",
       "      <td>17</td>\n",
       "      <td>113367</td>\n",
       "      <td>2023</td>\n",
       "      <td>12</td>\n",
       "      <td>13</td>\n",
       "      <td>Belgian Grand Prix</td>\n",
       "      <td>2023-07-30</td>\n",
       "      <td>3</td>\n",
       "      <td>1</td>\n",
       "    </tr>\n",
       "    <tr>\n",
       "      <th>551739</th>\n",
       "      <td>1110</td>\n",
       "      <td>817</td>\n",
       "      <td>42</td>\n",
       "      <td>16</td>\n",
       "      <td>115247</td>\n",
       "      <td>2023</td>\n",
       "      <td>12</td>\n",
       "      <td>13</td>\n",
       "      <td>Belgian Grand Prix</td>\n",
       "      <td>2023-07-30</td>\n",
       "      <td>3</td>\n",
       "      <td>1</td>\n",
       "    </tr>\n",
       "    <tr>\n",
       "      <th>551740</th>\n",
       "      <td>1110</td>\n",
       "      <td>817</td>\n",
       "      <td>43</td>\n",
       "      <td>16</td>\n",
       "      <td>112115</td>\n",
       "      <td>2023</td>\n",
       "      <td>12</td>\n",
       "      <td>13</td>\n",
       "      <td>Belgian Grand Prix</td>\n",
       "      <td>2023-07-30</td>\n",
       "      <td>3</td>\n",
       "      <td>1</td>\n",
       "    </tr>\n",
       "    <tr>\n",
       "      <th>551741</th>\n",
       "      <td>1110</td>\n",
       "      <td>817</td>\n",
       "      <td>44</td>\n",
       "      <td>16</td>\n",
       "      <td>112265</td>\n",
       "      <td>2023</td>\n",
       "      <td>12</td>\n",
       "      <td>13</td>\n",
       "      <td>Belgian Grand Prix</td>\n",
       "      <td>2023-07-30</td>\n",
       "      <td>3</td>\n",
       "      <td>1</td>\n",
       "    </tr>\n",
       "  </tbody>\n",
       "</table>\n",
       "<p>551742 rows × 12 columns</p>\n",
       "</div>"
      ],
      "text/plain": [
       "        raceId  driverId  lap  position  milliseconds  year  round  circuitId  \\\n",
       "0          841        20    1         1         98109  2011      1          1   \n",
       "1          841        20    2         1         93006  2011      1          1   \n",
       "2          841        20    3         1         92713  2011      1          1   \n",
       "3          841        20    4         1         92803  2011      1          1   \n",
       "4          841        20    5         1         92342  2011      1          1   \n",
       "...        ...       ...  ...       ...           ...   ...    ...        ...   \n",
       "551737    1110       817   40        17        114361  2023     12         13   \n",
       "551738    1110       817   41        17        113367  2023     12         13   \n",
       "551739    1110       817   42        16        115247  2023     12         13   \n",
       "551740    1110       817   43        16        112115  2023     12         13   \n",
       "551741    1110       817   44        16        112265  2023     12         13   \n",
       "\n",
       "                         name        date number  statusId  \n",
       "0       Australian Grand Prix  2011-03-27      1         1  \n",
       "1       Australian Grand Prix  2011-03-27      1         1  \n",
       "2       Australian Grand Prix  2011-03-27      1         1  \n",
       "3       Australian Grand Prix  2011-03-27      1         1  \n",
       "4       Australian Grand Prix  2011-03-27      1         1  \n",
       "...                       ...         ...    ...       ...  \n",
       "551737     Belgian Grand Prix  2023-07-30      3         1  \n",
       "551738     Belgian Grand Prix  2023-07-30      3         1  \n",
       "551739     Belgian Grand Prix  2023-07-30      3         1  \n",
       "551740     Belgian Grand Prix  2023-07-30      3         1  \n",
       "551741     Belgian Grand Prix  2023-07-30      3         1  \n",
       "\n",
       "[551742 rows x 12 columns]"
      ]
     },
     "execution_count": 5,
     "metadata": {},
     "output_type": "execute_result"
    }
   ],
   "source": [
    "pre_process_obj = processData(config=config)\n",
    "\n",
    "master_lap_times_df = pre_process_obj.create_initial_dataset(\n",
    "    lap_times_df=lap_times_df, races_df=races_df, results_df=results_df\n",
    ")\n",
    "master_lap_times_df"
   ]
  },
  {
   "cell_type": "code",
   "execution_count": 6,
   "metadata": {},
   "outputs": [
    {
     "data": {
      "text/plain": [
       "raceId          False\n",
       "driverId        False\n",
       "lap             False\n",
       "position        False\n",
       "milliseconds    False\n",
       "year            False\n",
       "round           False\n",
       "circuitId       False\n",
       "name            False\n",
       "date            False\n",
       "number          False\n",
       "statusId        False\n",
       "dtype: bool"
      ]
     },
     "execution_count": 6,
     "metadata": {},
     "output_type": "execute_result"
    }
   ],
   "source": [
    "# check for nans in the data\n",
    "master_lap_times_df.isna().any()"
   ]
  },
  {
   "cell_type": "code",
   "execution_count": 7,
   "metadata": {},
   "outputs": [],
   "source": [
    "driver_id = 20\n",
    "race_id = 841\n",
    "\n",
    "lap_times_selected_driver_race = master_lap_times_df[\n",
    "    (master_lap_times_df[\"raceId\"] == race_id)\n",
    "    & (master_lap_times_df[\"driverId\"] == driver_id)\n",
    "]"
   ]
  },
  {
   "cell_type": "code",
   "execution_count": 8,
   "metadata": {},
   "outputs": [
    {
     "data": {
      "application/vnd.plotly.v1+json": {
       "config": {
        "plotlyServerURL": "https://plot.ly"
       },
       "data": [
        {
         "mode": "lines+markers",
         "name": "Lap times in milliseconds",
         "type": "scatter",
         "x": [
          1,
          2,
          3,
          4,
          5,
          6,
          7,
          8,
          9,
          10,
          11,
          12,
          13,
          14,
          15,
          16,
          17,
          18,
          19,
          20,
          21,
          22,
          23,
          24,
          25,
          26,
          27,
          28,
          29,
          30,
          31,
          32,
          33,
          34,
          35,
          36,
          37,
          38,
          39,
          40,
          41,
          42,
          43,
          44,
          45,
          46,
          47,
          48,
          49,
          50,
          51,
          52,
          53,
          54,
          55,
          56,
          57,
          58
         ],
         "y": [
          98109,
          93006,
          92713,
          92803,
          92342,
          92605,
          92502,
          92537,
          93240,
          92572,
          92669,
          92902,
          93698,
          112075,
          98385,
          91548,
          90800,
          91810,
          91018,
          91055,
          91288,
          91084,
          90875,
          92240,
          91699,
          91328,
          91568,
          91113,
          91339,
          91054,
          91707,
          91611,
          91406,
          91871,
          92597,
          113737,
          99321,
          93632,
          91005,
          90530,
          90140,
          90419,
          90503,
          89844,
          90470,
          90669,
          90297,
          90471,
          90710,
          90732,
          90873,
          91087,
          90671,
          90656,
          90899,
          89962,
          90516,
          91946
         ]
        }
       ],
       "layout": {
        "template": {
         "data": {
          "bar": [
           {
            "error_x": {
             "color": "#2a3f5f"
            },
            "error_y": {
             "color": "#2a3f5f"
            },
            "marker": {
             "line": {
              "color": "#E5ECF6",
              "width": 0.5
             },
             "pattern": {
              "fillmode": "overlay",
              "size": 10,
              "solidity": 0.2
             }
            },
            "type": "bar"
           }
          ],
          "barpolar": [
           {
            "marker": {
             "line": {
              "color": "#E5ECF6",
              "width": 0.5
             },
             "pattern": {
              "fillmode": "overlay",
              "size": 10,
              "solidity": 0.2
             }
            },
            "type": "barpolar"
           }
          ],
          "carpet": [
           {
            "aaxis": {
             "endlinecolor": "#2a3f5f",
             "gridcolor": "white",
             "linecolor": "white",
             "minorgridcolor": "white",
             "startlinecolor": "#2a3f5f"
            },
            "baxis": {
             "endlinecolor": "#2a3f5f",
             "gridcolor": "white",
             "linecolor": "white",
             "minorgridcolor": "white",
             "startlinecolor": "#2a3f5f"
            },
            "type": "carpet"
           }
          ],
          "choropleth": [
           {
            "colorbar": {
             "outlinewidth": 0,
             "ticks": ""
            },
            "type": "choropleth"
           }
          ],
          "contour": [
           {
            "colorbar": {
             "outlinewidth": 0,
             "ticks": ""
            },
            "colorscale": [
             [
              0,
              "#0d0887"
             ],
             [
              0.1111111111111111,
              "#46039f"
             ],
             [
              0.2222222222222222,
              "#7201a8"
             ],
             [
              0.3333333333333333,
              "#9c179e"
             ],
             [
              0.4444444444444444,
              "#bd3786"
             ],
             [
              0.5555555555555556,
              "#d8576b"
             ],
             [
              0.6666666666666666,
              "#ed7953"
             ],
             [
              0.7777777777777778,
              "#fb9f3a"
             ],
             [
              0.8888888888888888,
              "#fdca26"
             ],
             [
              1,
              "#f0f921"
             ]
            ],
            "type": "contour"
           }
          ],
          "contourcarpet": [
           {
            "colorbar": {
             "outlinewidth": 0,
             "ticks": ""
            },
            "type": "contourcarpet"
           }
          ],
          "heatmap": [
           {
            "colorbar": {
             "outlinewidth": 0,
             "ticks": ""
            },
            "colorscale": [
             [
              0,
              "#0d0887"
             ],
             [
              0.1111111111111111,
              "#46039f"
             ],
             [
              0.2222222222222222,
              "#7201a8"
             ],
             [
              0.3333333333333333,
              "#9c179e"
             ],
             [
              0.4444444444444444,
              "#bd3786"
             ],
             [
              0.5555555555555556,
              "#d8576b"
             ],
             [
              0.6666666666666666,
              "#ed7953"
             ],
             [
              0.7777777777777778,
              "#fb9f3a"
             ],
             [
              0.8888888888888888,
              "#fdca26"
             ],
             [
              1,
              "#f0f921"
             ]
            ],
            "type": "heatmap"
           }
          ],
          "heatmapgl": [
           {
            "colorbar": {
             "outlinewidth": 0,
             "ticks": ""
            },
            "colorscale": [
             [
              0,
              "#0d0887"
             ],
             [
              0.1111111111111111,
              "#46039f"
             ],
             [
              0.2222222222222222,
              "#7201a8"
             ],
             [
              0.3333333333333333,
              "#9c179e"
             ],
             [
              0.4444444444444444,
              "#bd3786"
             ],
             [
              0.5555555555555556,
              "#d8576b"
             ],
             [
              0.6666666666666666,
              "#ed7953"
             ],
             [
              0.7777777777777778,
              "#fb9f3a"
             ],
             [
              0.8888888888888888,
              "#fdca26"
             ],
             [
              1,
              "#f0f921"
             ]
            ],
            "type": "heatmapgl"
           }
          ],
          "histogram": [
           {
            "marker": {
             "pattern": {
              "fillmode": "overlay",
              "size": 10,
              "solidity": 0.2
             }
            },
            "type": "histogram"
           }
          ],
          "histogram2d": [
           {
            "colorbar": {
             "outlinewidth": 0,
             "ticks": ""
            },
            "colorscale": [
             [
              0,
              "#0d0887"
             ],
             [
              0.1111111111111111,
              "#46039f"
             ],
             [
              0.2222222222222222,
              "#7201a8"
             ],
             [
              0.3333333333333333,
              "#9c179e"
             ],
             [
              0.4444444444444444,
              "#bd3786"
             ],
             [
              0.5555555555555556,
              "#d8576b"
             ],
             [
              0.6666666666666666,
              "#ed7953"
             ],
             [
              0.7777777777777778,
              "#fb9f3a"
             ],
             [
              0.8888888888888888,
              "#fdca26"
             ],
             [
              1,
              "#f0f921"
             ]
            ],
            "type": "histogram2d"
           }
          ],
          "histogram2dcontour": [
           {
            "colorbar": {
             "outlinewidth": 0,
             "ticks": ""
            },
            "colorscale": [
             [
              0,
              "#0d0887"
             ],
             [
              0.1111111111111111,
              "#46039f"
             ],
             [
              0.2222222222222222,
              "#7201a8"
             ],
             [
              0.3333333333333333,
              "#9c179e"
             ],
             [
              0.4444444444444444,
              "#bd3786"
             ],
             [
              0.5555555555555556,
              "#d8576b"
             ],
             [
              0.6666666666666666,
              "#ed7953"
             ],
             [
              0.7777777777777778,
              "#fb9f3a"
             ],
             [
              0.8888888888888888,
              "#fdca26"
             ],
             [
              1,
              "#f0f921"
             ]
            ],
            "type": "histogram2dcontour"
           }
          ],
          "mesh3d": [
           {
            "colorbar": {
             "outlinewidth": 0,
             "ticks": ""
            },
            "type": "mesh3d"
           }
          ],
          "parcoords": [
           {
            "line": {
             "colorbar": {
              "outlinewidth": 0,
              "ticks": ""
             }
            },
            "type": "parcoords"
           }
          ],
          "pie": [
           {
            "automargin": true,
            "type": "pie"
           }
          ],
          "scatter": [
           {
            "fillpattern": {
             "fillmode": "overlay",
             "size": 10,
             "solidity": 0.2
            },
            "type": "scatter"
           }
          ],
          "scatter3d": [
           {
            "line": {
             "colorbar": {
              "outlinewidth": 0,
              "ticks": ""
             }
            },
            "marker": {
             "colorbar": {
              "outlinewidth": 0,
              "ticks": ""
             }
            },
            "type": "scatter3d"
           }
          ],
          "scattercarpet": [
           {
            "marker": {
             "colorbar": {
              "outlinewidth": 0,
              "ticks": ""
             }
            },
            "type": "scattercarpet"
           }
          ],
          "scattergeo": [
           {
            "marker": {
             "colorbar": {
              "outlinewidth": 0,
              "ticks": ""
             }
            },
            "type": "scattergeo"
           }
          ],
          "scattergl": [
           {
            "marker": {
             "colorbar": {
              "outlinewidth": 0,
              "ticks": ""
             }
            },
            "type": "scattergl"
           }
          ],
          "scattermapbox": [
           {
            "marker": {
             "colorbar": {
              "outlinewidth": 0,
              "ticks": ""
             }
            },
            "type": "scattermapbox"
           }
          ],
          "scatterpolar": [
           {
            "marker": {
             "colorbar": {
              "outlinewidth": 0,
              "ticks": ""
             }
            },
            "type": "scatterpolar"
           }
          ],
          "scatterpolargl": [
           {
            "marker": {
             "colorbar": {
              "outlinewidth": 0,
              "ticks": ""
             }
            },
            "type": "scatterpolargl"
           }
          ],
          "scatterternary": [
           {
            "marker": {
             "colorbar": {
              "outlinewidth": 0,
              "ticks": ""
             }
            },
            "type": "scatterternary"
           }
          ],
          "surface": [
           {
            "colorbar": {
             "outlinewidth": 0,
             "ticks": ""
            },
            "colorscale": [
             [
              0,
              "#0d0887"
             ],
             [
              0.1111111111111111,
              "#46039f"
             ],
             [
              0.2222222222222222,
              "#7201a8"
             ],
             [
              0.3333333333333333,
              "#9c179e"
             ],
             [
              0.4444444444444444,
              "#bd3786"
             ],
             [
              0.5555555555555556,
              "#d8576b"
             ],
             [
              0.6666666666666666,
              "#ed7953"
             ],
             [
              0.7777777777777778,
              "#fb9f3a"
             ],
             [
              0.8888888888888888,
              "#fdca26"
             ],
             [
              1,
              "#f0f921"
             ]
            ],
            "type": "surface"
           }
          ],
          "table": [
           {
            "cells": {
             "fill": {
              "color": "#EBF0F8"
             },
             "line": {
              "color": "white"
             }
            },
            "header": {
             "fill": {
              "color": "#C8D4E3"
             },
             "line": {
              "color": "white"
             }
            },
            "type": "table"
           }
          ]
         },
         "layout": {
          "annotationdefaults": {
           "arrowcolor": "#2a3f5f",
           "arrowhead": 0,
           "arrowwidth": 1
          },
          "autotypenumbers": "strict",
          "coloraxis": {
           "colorbar": {
            "outlinewidth": 0,
            "ticks": ""
           }
          },
          "colorscale": {
           "diverging": [
            [
             0,
             "#8e0152"
            ],
            [
             0.1,
             "#c51b7d"
            ],
            [
             0.2,
             "#de77ae"
            ],
            [
             0.3,
             "#f1b6da"
            ],
            [
             0.4,
             "#fde0ef"
            ],
            [
             0.5,
             "#f7f7f7"
            ],
            [
             0.6,
             "#e6f5d0"
            ],
            [
             0.7,
             "#b8e186"
            ],
            [
             0.8,
             "#7fbc41"
            ],
            [
             0.9,
             "#4d9221"
            ],
            [
             1,
             "#276419"
            ]
           ],
           "sequential": [
            [
             0,
             "#0d0887"
            ],
            [
             0.1111111111111111,
             "#46039f"
            ],
            [
             0.2222222222222222,
             "#7201a8"
            ],
            [
             0.3333333333333333,
             "#9c179e"
            ],
            [
             0.4444444444444444,
             "#bd3786"
            ],
            [
             0.5555555555555556,
             "#d8576b"
            ],
            [
             0.6666666666666666,
             "#ed7953"
            ],
            [
             0.7777777777777778,
             "#fb9f3a"
            ],
            [
             0.8888888888888888,
             "#fdca26"
            ],
            [
             1,
             "#f0f921"
            ]
           ],
           "sequentialminus": [
            [
             0,
             "#0d0887"
            ],
            [
             0.1111111111111111,
             "#46039f"
            ],
            [
             0.2222222222222222,
             "#7201a8"
            ],
            [
             0.3333333333333333,
             "#9c179e"
            ],
            [
             0.4444444444444444,
             "#bd3786"
            ],
            [
             0.5555555555555556,
             "#d8576b"
            ],
            [
             0.6666666666666666,
             "#ed7953"
            ],
            [
             0.7777777777777778,
             "#fb9f3a"
            ],
            [
             0.8888888888888888,
             "#fdca26"
            ],
            [
             1,
             "#f0f921"
            ]
           ]
          },
          "colorway": [
           "#636efa",
           "#EF553B",
           "#00cc96",
           "#ab63fa",
           "#FFA15A",
           "#19d3f3",
           "#FF6692",
           "#B6E880",
           "#FF97FF",
           "#FECB52"
          ],
          "font": {
           "color": "#2a3f5f"
          },
          "geo": {
           "bgcolor": "white",
           "lakecolor": "white",
           "landcolor": "#E5ECF6",
           "showlakes": true,
           "showland": true,
           "subunitcolor": "white"
          },
          "hoverlabel": {
           "align": "left"
          },
          "hovermode": "closest",
          "mapbox": {
           "style": "light"
          },
          "paper_bgcolor": "white",
          "plot_bgcolor": "#E5ECF6",
          "polar": {
           "angularaxis": {
            "gridcolor": "white",
            "linecolor": "white",
            "ticks": ""
           },
           "bgcolor": "#E5ECF6",
           "radialaxis": {
            "gridcolor": "white",
            "linecolor": "white",
            "ticks": ""
           }
          },
          "scene": {
           "xaxis": {
            "backgroundcolor": "#E5ECF6",
            "gridcolor": "white",
            "gridwidth": 2,
            "linecolor": "white",
            "showbackground": true,
            "ticks": "",
            "zerolinecolor": "white"
           },
           "yaxis": {
            "backgroundcolor": "#E5ECF6",
            "gridcolor": "white",
            "gridwidth": 2,
            "linecolor": "white",
            "showbackground": true,
            "ticks": "",
            "zerolinecolor": "white"
           },
           "zaxis": {
            "backgroundcolor": "#E5ECF6",
            "gridcolor": "white",
            "gridwidth": 2,
            "linecolor": "white",
            "showbackground": true,
            "ticks": "",
            "zerolinecolor": "white"
           }
          },
          "shapedefaults": {
           "line": {
            "color": "#2a3f5f"
           }
          },
          "ternary": {
           "aaxis": {
            "gridcolor": "white",
            "linecolor": "white",
            "ticks": ""
           },
           "baxis": {
            "gridcolor": "white",
            "linecolor": "white",
            "ticks": ""
           },
           "bgcolor": "#E5ECF6",
           "caxis": {
            "gridcolor": "white",
            "linecolor": "white",
            "ticks": ""
           }
          },
          "title": {
           "x": 0.05
          },
          "xaxis": {
           "automargin": true,
           "gridcolor": "white",
           "linecolor": "white",
           "ticks": "",
           "title": {
            "standoff": 15
           },
           "zerolinecolor": "white",
           "zerolinewidth": 2
          },
          "yaxis": {
           "automargin": true,
           "gridcolor": "white",
           "linecolor": "white",
           "ticks": "",
           "title": {
            "standoff": 15
           },
           "zerolinecolor": "white",
           "zerolinewidth": 2
          }
         }
        },
        "title": {
         "text": "Laptimes by each lap"
        },
        "xaxis": {
         "title": {
          "text": "Lap number"
         }
        },
        "yaxis": {
         "title": {
          "text": "Total lap time"
         }
        }
       }
      }
     },
     "metadata": {},
     "output_type": "display_data"
    }
   ],
   "source": [
    "## Lap times and pit stops\n",
    "\n",
    "fig = go.Figure()\n",
    "\n",
    "fig.add_trace(\n",
    "    go.Scatter(\n",
    "        x=lap_times_selected_driver_race[\"lap\"],\n",
    "        y=lap_times_selected_driver_race[\"milliseconds\"],\n",
    "        mode=\"lines+markers\",\n",
    "        name=\"Lap times in milliseconds\",\n",
    "    )\n",
    ")\n",
    "\n",
    "fig.update_layout(\n",
    "    title=\"Laptimes by each lap\", xaxis_title=\"Lap number\", yaxis_title=\"Total lap time\"\n",
    ")"
   ]
  },
  {
   "cell_type": "markdown",
   "metadata": {},
   "source": [
    "- Two outliers in the data \n",
    "- this is mainly the pit stops that happen in between the race"
   ]
  },
  {
   "cell_type": "code",
   "execution_count": 9,
   "metadata": {},
   "outputs": [
    {
     "data": {
      "text/html": [
       "<div>\n",
       "<style scoped>\n",
       "    .dataframe tbody tr th:only-of-type {\n",
       "        vertical-align: middle;\n",
       "    }\n",
       "\n",
       "    .dataframe tbody tr th {\n",
       "        vertical-align: top;\n",
       "    }\n",
       "\n",
       "    .dataframe thead th {\n",
       "        text-align: right;\n",
       "    }\n",
       "</style>\n",
       "<table border=\"1\" class=\"dataframe\">\n",
       "  <thead>\n",
       "    <tr style=\"text-align: right;\">\n",
       "      <th></th>\n",
       "      <th>raceId</th>\n",
       "      <th>driverId</th>\n",
       "      <th>lap</th>\n",
       "      <th>position</th>\n",
       "      <th>milliseconds</th>\n",
       "      <th>year</th>\n",
       "      <th>round</th>\n",
       "      <th>circuitId</th>\n",
       "      <th>name</th>\n",
       "      <th>date</th>\n",
       "      <th>number</th>\n",
       "      <th>statusId</th>\n",
       "      <th>pitStopMilliseconds</th>\n",
       "      <th>isPitStop</th>\n",
       "    </tr>\n",
       "  </thead>\n",
       "  <tbody>\n",
       "    <tr>\n",
       "      <th>0</th>\n",
       "      <td>841</td>\n",
       "      <td>20</td>\n",
       "      <td>1</td>\n",
       "      <td>1</td>\n",
       "      <td>98109</td>\n",
       "      <td>2011</td>\n",
       "      <td>1</td>\n",
       "      <td>1</td>\n",
       "      <td>Australian Grand Prix</td>\n",
       "      <td>2011-03-27</td>\n",
       "      <td>1</td>\n",
       "      <td>1</td>\n",
       "      <td>0.0</td>\n",
       "      <td>False</td>\n",
       "    </tr>\n",
       "    <tr>\n",
       "      <th>1</th>\n",
       "      <td>841</td>\n",
       "      <td>20</td>\n",
       "      <td>2</td>\n",
       "      <td>1</td>\n",
       "      <td>93006</td>\n",
       "      <td>2011</td>\n",
       "      <td>1</td>\n",
       "      <td>1</td>\n",
       "      <td>Australian Grand Prix</td>\n",
       "      <td>2011-03-27</td>\n",
       "      <td>1</td>\n",
       "      <td>1</td>\n",
       "      <td>0.0</td>\n",
       "      <td>False</td>\n",
       "    </tr>\n",
       "    <tr>\n",
       "      <th>2</th>\n",
       "      <td>841</td>\n",
       "      <td>20</td>\n",
       "      <td>3</td>\n",
       "      <td>1</td>\n",
       "      <td>92713</td>\n",
       "      <td>2011</td>\n",
       "      <td>1</td>\n",
       "      <td>1</td>\n",
       "      <td>Australian Grand Prix</td>\n",
       "      <td>2011-03-27</td>\n",
       "      <td>1</td>\n",
       "      <td>1</td>\n",
       "      <td>0.0</td>\n",
       "      <td>False</td>\n",
       "    </tr>\n",
       "    <tr>\n",
       "      <th>3</th>\n",
       "      <td>841</td>\n",
       "      <td>20</td>\n",
       "      <td>4</td>\n",
       "      <td>1</td>\n",
       "      <td>92803</td>\n",
       "      <td>2011</td>\n",
       "      <td>1</td>\n",
       "      <td>1</td>\n",
       "      <td>Australian Grand Prix</td>\n",
       "      <td>2011-03-27</td>\n",
       "      <td>1</td>\n",
       "      <td>1</td>\n",
       "      <td>0.0</td>\n",
       "      <td>False</td>\n",
       "    </tr>\n",
       "    <tr>\n",
       "      <th>4</th>\n",
       "      <td>841</td>\n",
       "      <td>20</td>\n",
       "      <td>5</td>\n",
       "      <td>1</td>\n",
       "      <td>92342</td>\n",
       "      <td>2011</td>\n",
       "      <td>1</td>\n",
       "      <td>1</td>\n",
       "      <td>Australian Grand Prix</td>\n",
       "      <td>2011-03-27</td>\n",
       "      <td>1</td>\n",
       "      <td>1</td>\n",
       "      <td>0.0</td>\n",
       "      <td>False</td>\n",
       "    </tr>\n",
       "    <tr>\n",
       "      <th>...</th>\n",
       "      <td>...</td>\n",
       "      <td>...</td>\n",
       "      <td>...</td>\n",
       "      <td>...</td>\n",
       "      <td>...</td>\n",
       "      <td>...</td>\n",
       "      <td>...</td>\n",
       "      <td>...</td>\n",
       "      <td>...</td>\n",
       "      <td>...</td>\n",
       "      <td>...</td>\n",
       "      <td>...</td>\n",
       "      <td>...</td>\n",
       "      <td>...</td>\n",
       "    </tr>\n",
       "    <tr>\n",
       "      <th>551737</th>\n",
       "      <td>1110</td>\n",
       "      <td>817</td>\n",
       "      <td>40</td>\n",
       "      <td>17</td>\n",
       "      <td>114361</td>\n",
       "      <td>2023</td>\n",
       "      <td>12</td>\n",
       "      <td>13</td>\n",
       "      <td>Belgian Grand Prix</td>\n",
       "      <td>2023-07-30</td>\n",
       "      <td>3</td>\n",
       "      <td>1</td>\n",
       "      <td>0.0</td>\n",
       "      <td>False</td>\n",
       "    </tr>\n",
       "    <tr>\n",
       "      <th>551738</th>\n",
       "      <td>1110</td>\n",
       "      <td>817</td>\n",
       "      <td>41</td>\n",
       "      <td>17</td>\n",
       "      <td>113367</td>\n",
       "      <td>2023</td>\n",
       "      <td>12</td>\n",
       "      <td>13</td>\n",
       "      <td>Belgian Grand Prix</td>\n",
       "      <td>2023-07-30</td>\n",
       "      <td>3</td>\n",
       "      <td>1</td>\n",
       "      <td>0.0</td>\n",
       "      <td>False</td>\n",
       "    </tr>\n",
       "    <tr>\n",
       "      <th>551739</th>\n",
       "      <td>1110</td>\n",
       "      <td>817</td>\n",
       "      <td>42</td>\n",
       "      <td>16</td>\n",
       "      <td>115247</td>\n",
       "      <td>2023</td>\n",
       "      <td>12</td>\n",
       "      <td>13</td>\n",
       "      <td>Belgian Grand Prix</td>\n",
       "      <td>2023-07-30</td>\n",
       "      <td>3</td>\n",
       "      <td>1</td>\n",
       "      <td>0.0</td>\n",
       "      <td>False</td>\n",
       "    </tr>\n",
       "    <tr>\n",
       "      <th>551740</th>\n",
       "      <td>1110</td>\n",
       "      <td>817</td>\n",
       "      <td>43</td>\n",
       "      <td>16</td>\n",
       "      <td>112115</td>\n",
       "      <td>2023</td>\n",
       "      <td>12</td>\n",
       "      <td>13</td>\n",
       "      <td>Belgian Grand Prix</td>\n",
       "      <td>2023-07-30</td>\n",
       "      <td>3</td>\n",
       "      <td>1</td>\n",
       "      <td>0.0</td>\n",
       "      <td>False</td>\n",
       "    </tr>\n",
       "    <tr>\n",
       "      <th>551741</th>\n",
       "      <td>1110</td>\n",
       "      <td>817</td>\n",
       "      <td>44</td>\n",
       "      <td>16</td>\n",
       "      <td>112265</td>\n",
       "      <td>2023</td>\n",
       "      <td>12</td>\n",
       "      <td>13</td>\n",
       "      <td>Belgian Grand Prix</td>\n",
       "      <td>2023-07-30</td>\n",
       "      <td>3</td>\n",
       "      <td>1</td>\n",
       "      <td>0.0</td>\n",
       "      <td>False</td>\n",
       "    </tr>\n",
       "  </tbody>\n",
       "</table>\n",
       "<p>551742 rows × 14 columns</p>\n",
       "</div>"
      ],
      "text/plain": [
       "        raceId  driverId  lap  position  milliseconds  year  round  circuitId  \\\n",
       "0          841        20    1         1         98109  2011      1          1   \n",
       "1          841        20    2         1         93006  2011      1          1   \n",
       "2          841        20    3         1         92713  2011      1          1   \n",
       "3          841        20    4         1         92803  2011      1          1   \n",
       "4          841        20    5         1         92342  2011      1          1   \n",
       "...        ...       ...  ...       ...           ...   ...    ...        ...   \n",
       "551737    1110       817   40        17        114361  2023     12         13   \n",
       "551738    1110       817   41        17        113367  2023     12         13   \n",
       "551739    1110       817   42        16        115247  2023     12         13   \n",
       "551740    1110       817   43        16        112115  2023     12         13   \n",
       "551741    1110       817   44        16        112265  2023     12         13   \n",
       "\n",
       "                         name        date number  statusId  \\\n",
       "0       Australian Grand Prix  2011-03-27      1         1   \n",
       "1       Australian Grand Prix  2011-03-27      1         1   \n",
       "2       Australian Grand Prix  2011-03-27      1         1   \n",
       "3       Australian Grand Prix  2011-03-27      1         1   \n",
       "4       Australian Grand Prix  2011-03-27      1         1   \n",
       "...                       ...         ...    ...       ...   \n",
       "551737     Belgian Grand Prix  2023-07-30      3         1   \n",
       "551738     Belgian Grand Prix  2023-07-30      3         1   \n",
       "551739     Belgian Grand Prix  2023-07-30      3         1   \n",
       "551740     Belgian Grand Prix  2023-07-30      3         1   \n",
       "551741     Belgian Grand Prix  2023-07-30      3         1   \n",
       "\n",
       "        pitStopMilliseconds  isPitStop  \n",
       "0                       0.0      False  \n",
       "1                       0.0      False  \n",
       "2                       0.0      False  \n",
       "3                       0.0      False  \n",
       "4                       0.0      False  \n",
       "...                     ...        ...  \n",
       "551737                  0.0      False  \n",
       "551738                  0.0      False  \n",
       "551739                  0.0      False  \n",
       "551740                  0.0      False  \n",
       "551741                  0.0      False  \n",
       "\n",
       "[551742 rows x 14 columns]"
      ]
     },
     "execution_count": 9,
     "metadata": {},
     "output_type": "execute_result"
    }
   ],
   "source": [
    "master_laptimes_pitstop_df = pre_process_obj.add_pitstop_data(\n",
    "    master_laptime_data=master_lap_times_df, pit_stop_data=pit_stops_df\n",
    ")\n",
    "master_laptimes_pitstop_df"
   ]
  },
  {
   "cell_type": "code",
   "execution_count": 10,
   "metadata": {},
   "outputs": [],
   "source": [
    "driver_id = 20\n",
    "circuit_id = 1\n",
    "\n",
    "lap_times_selected_driver_circuit = master_laptimes_pitstop_df[\n",
    "    (master_laptimes_pitstop_df[\"circuitId\"] == circuit_id)\n",
    "    & (master_laptimes_pitstop_df[\"driverId\"] == driver_id)\n",
    "]"
   ]
  },
  {
   "cell_type": "code",
   "execution_count": 11,
   "metadata": {},
   "outputs": [
    {
     "data": {
      "text/html": [
       "<div>\n",
       "<style scoped>\n",
       "    .dataframe tbody tr th:only-of-type {\n",
       "        vertical-align: middle;\n",
       "    }\n",
       "\n",
       "    .dataframe tbody tr th {\n",
       "        vertical-align: top;\n",
       "    }\n",
       "\n",
       "    .dataframe thead th {\n",
       "        text-align: right;\n",
       "    }\n",
       "</style>\n",
       "<table border=\"1\" class=\"dataframe\">\n",
       "  <thead>\n",
       "    <tr style=\"text-align: right;\">\n",
       "      <th></th>\n",
       "      <th>raceId</th>\n",
       "      <th>driverId</th>\n",
       "      <th>lap</th>\n",
       "      <th>position</th>\n",
       "      <th>milliseconds</th>\n",
       "      <th>year</th>\n",
       "      <th>round</th>\n",
       "      <th>circuitId</th>\n",
       "      <th>name</th>\n",
       "      <th>date</th>\n",
       "      <th>number</th>\n",
       "      <th>statusId</th>\n",
       "      <th>pitStopMilliseconds</th>\n",
       "      <th>isPitStop</th>\n",
       "    </tr>\n",
       "  </thead>\n",
       "  <tbody>\n",
       "    <tr>\n",
       "      <th>0</th>\n",
       "      <td>841</td>\n",
       "      <td>20</td>\n",
       "      <td>1</td>\n",
       "      <td>1</td>\n",
       "      <td>98109</td>\n",
       "      <td>2011</td>\n",
       "      <td>1</td>\n",
       "      <td>1</td>\n",
       "      <td>Australian Grand Prix</td>\n",
       "      <td>2011-03-27</td>\n",
       "      <td>1</td>\n",
       "      <td>1</td>\n",
       "      <td>0.0</td>\n",
       "      <td>False</td>\n",
       "    </tr>\n",
       "    <tr>\n",
       "      <th>1</th>\n",
       "      <td>841</td>\n",
       "      <td>20</td>\n",
       "      <td>2</td>\n",
       "      <td>1</td>\n",
       "      <td>93006</td>\n",
       "      <td>2011</td>\n",
       "      <td>1</td>\n",
       "      <td>1</td>\n",
       "      <td>Australian Grand Prix</td>\n",
       "      <td>2011-03-27</td>\n",
       "      <td>1</td>\n",
       "      <td>1</td>\n",
       "      <td>0.0</td>\n",
       "      <td>False</td>\n",
       "    </tr>\n",
       "    <tr>\n",
       "      <th>2</th>\n",
       "      <td>841</td>\n",
       "      <td>20</td>\n",
       "      <td>3</td>\n",
       "      <td>1</td>\n",
       "      <td>92713</td>\n",
       "      <td>2011</td>\n",
       "      <td>1</td>\n",
       "      <td>1</td>\n",
       "      <td>Australian Grand Prix</td>\n",
       "      <td>2011-03-27</td>\n",
       "      <td>1</td>\n",
       "      <td>1</td>\n",
       "      <td>0.0</td>\n",
       "      <td>False</td>\n",
       "    </tr>\n",
       "    <tr>\n",
       "      <th>3</th>\n",
       "      <td>841</td>\n",
       "      <td>20</td>\n",
       "      <td>4</td>\n",
       "      <td>1</td>\n",
       "      <td>92803</td>\n",
       "      <td>2011</td>\n",
       "      <td>1</td>\n",
       "      <td>1</td>\n",
       "      <td>Australian Grand Prix</td>\n",
       "      <td>2011-03-27</td>\n",
       "      <td>1</td>\n",
       "      <td>1</td>\n",
       "      <td>0.0</td>\n",
       "      <td>False</td>\n",
       "    </tr>\n",
       "    <tr>\n",
       "      <th>4</th>\n",
       "      <td>841</td>\n",
       "      <td>20</td>\n",
       "      <td>5</td>\n",
       "      <td>1</td>\n",
       "      <td>92342</td>\n",
       "      <td>2011</td>\n",
       "      <td>1</td>\n",
       "      <td>1</td>\n",
       "      <td>Australian Grand Prix</td>\n",
       "      <td>2011-03-27</td>\n",
       "      <td>1</td>\n",
       "      <td>1</td>\n",
       "      <td>0.0</td>\n",
       "      <td>False</td>\n",
       "    </tr>\n",
       "    <tr>\n",
       "      <th>...</th>\n",
       "      <td>...</td>\n",
       "      <td>...</td>\n",
       "      <td>...</td>\n",
       "      <td>...</td>\n",
       "      <td>...</td>\n",
       "      <td>...</td>\n",
       "      <td>...</td>\n",
       "      <td>...</td>\n",
       "      <td>...</td>\n",
       "      <td>...</td>\n",
       "      <td>...</td>\n",
       "      <td>...</td>\n",
       "      <td>...</td>\n",
       "      <td>...</td>\n",
       "    </tr>\n",
       "    <tr>\n",
       "      <th>517395</th>\n",
       "      <td>1076</td>\n",
       "      <td>20</td>\n",
       "      <td>18</td>\n",
       "      <td>15</td>\n",
       "      <td>85367</td>\n",
       "      <td>2022</td>\n",
       "      <td>3</td>\n",
       "      <td>1</td>\n",
       "      <td>Australian Grand Prix</td>\n",
       "      <td>2022-04-10</td>\n",
       "      <td>5</td>\n",
       "      <td>3</td>\n",
       "      <td>0.0</td>\n",
       "      <td>False</td>\n",
       "    </tr>\n",
       "    <tr>\n",
       "      <th>517396</th>\n",
       "      <td>1076</td>\n",
       "      <td>20</td>\n",
       "      <td>19</td>\n",
       "      <td>15</td>\n",
       "      <td>85503</td>\n",
       "      <td>2022</td>\n",
       "      <td>3</td>\n",
       "      <td>1</td>\n",
       "      <td>Australian Grand Prix</td>\n",
       "      <td>2022-04-10</td>\n",
       "      <td>5</td>\n",
       "      <td>3</td>\n",
       "      <td>0.0</td>\n",
       "      <td>False</td>\n",
       "    </tr>\n",
       "    <tr>\n",
       "      <th>517397</th>\n",
       "      <td>1076</td>\n",
       "      <td>20</td>\n",
       "      <td>20</td>\n",
       "      <td>15</td>\n",
       "      <td>85398</td>\n",
       "      <td>2022</td>\n",
       "      <td>3</td>\n",
       "      <td>1</td>\n",
       "      <td>Australian Grand Prix</td>\n",
       "      <td>2022-04-10</td>\n",
       "      <td>5</td>\n",
       "      <td>3</td>\n",
       "      <td>0.0</td>\n",
       "      <td>False</td>\n",
       "    </tr>\n",
       "    <tr>\n",
       "      <th>517398</th>\n",
       "      <td>1076</td>\n",
       "      <td>20</td>\n",
       "      <td>21</td>\n",
       "      <td>13</td>\n",
       "      <td>85505</td>\n",
       "      <td>2022</td>\n",
       "      <td>3</td>\n",
       "      <td>1</td>\n",
       "      <td>Australian Grand Prix</td>\n",
       "      <td>2022-04-10</td>\n",
       "      <td>5</td>\n",
       "      <td>3</td>\n",
       "      <td>0.0</td>\n",
       "      <td>False</td>\n",
       "    </tr>\n",
       "    <tr>\n",
       "      <th>517399</th>\n",
       "      <td>1076</td>\n",
       "      <td>20</td>\n",
       "      <td>22</td>\n",
       "      <td>12</td>\n",
       "      <td>87005</td>\n",
       "      <td>2022</td>\n",
       "      <td>3</td>\n",
       "      <td>1</td>\n",
       "      <td>Australian Grand Prix</td>\n",
       "      <td>2022-04-10</td>\n",
       "      <td>5</td>\n",
       "      <td>3</td>\n",
       "      <td>0.0</td>\n",
       "      <td>False</td>\n",
       "    </tr>\n",
       "  </tbody>\n",
       "</table>\n",
       "<p>568 rows × 14 columns</p>\n",
       "</div>"
      ],
      "text/plain": [
       "        raceId  driverId  lap  position  milliseconds  year  round  circuitId  \\\n",
       "0          841        20    1         1         98109  2011      1          1   \n",
       "1          841        20    2         1         93006  2011      1          1   \n",
       "2          841        20    3         1         92713  2011      1          1   \n",
       "3          841        20    4         1         92803  2011      1          1   \n",
       "4          841        20    5         1         92342  2011      1          1   \n",
       "...        ...       ...  ...       ...           ...   ...    ...        ...   \n",
       "517395    1076        20   18        15         85367  2022      3          1   \n",
       "517396    1076        20   19        15         85503  2022      3          1   \n",
       "517397    1076        20   20        15         85398  2022      3          1   \n",
       "517398    1076        20   21        13         85505  2022      3          1   \n",
       "517399    1076        20   22        12         87005  2022      3          1   \n",
       "\n",
       "                         name        date number  statusId  \\\n",
       "0       Australian Grand Prix  2011-03-27      1         1   \n",
       "1       Australian Grand Prix  2011-03-27      1         1   \n",
       "2       Australian Grand Prix  2011-03-27      1         1   \n",
       "3       Australian Grand Prix  2011-03-27      1         1   \n",
       "4       Australian Grand Prix  2011-03-27      1         1   \n",
       "...                       ...         ...    ...       ...   \n",
       "517395  Australian Grand Prix  2022-04-10      5         3   \n",
       "517396  Australian Grand Prix  2022-04-10      5         3   \n",
       "517397  Australian Grand Prix  2022-04-10      5         3   \n",
       "517398  Australian Grand Prix  2022-04-10      5         3   \n",
       "517399  Australian Grand Prix  2022-04-10      5         3   \n",
       "\n",
       "        pitStopMilliseconds  isPitStop  \n",
       "0                       0.0      False  \n",
       "1                       0.0      False  \n",
       "2                       0.0      False  \n",
       "3                       0.0      False  \n",
       "4                       0.0      False  \n",
       "...                     ...        ...  \n",
       "517395                  0.0      False  \n",
       "517396                  0.0      False  \n",
       "517397                  0.0      False  \n",
       "517398                  0.0      False  \n",
       "517399                  0.0      False  \n",
       "\n",
       "[568 rows x 14 columns]"
      ]
     },
     "execution_count": 11,
     "metadata": {},
     "output_type": "execute_result"
    }
   ],
   "source": [
    "lap_times_selected_driver_circuit"
   ]
  },
  {
   "cell_type": "code",
   "execution_count": 12,
   "metadata": {},
   "outputs": [],
   "source": [
    "list_race_id = lap_times_selected_driver_circuit[\"raceId\"].unique().tolist()"
   ]
  },
  {
   "cell_type": "code",
   "execution_count": 13,
   "metadata": {},
   "outputs": [
    {
     "data": {
      "application/vnd.plotly.v1+json": {
       "config": {
        "plotlyServerURL": "https://plot.ly"
       },
       "data": [
        {
         "mode": "lines+markers",
         "name": "race id: 841",
         "type": "scatter",
         "x": [
          1,
          2,
          3,
          4,
          5,
          6,
          7,
          8,
          9,
          10,
          11,
          12,
          13,
          14,
          15,
          16,
          17,
          18,
          19,
          20,
          21,
          22,
          23,
          24,
          25,
          26,
          27,
          28,
          29,
          30,
          31,
          32,
          33,
          34,
          35,
          36,
          37,
          38,
          39,
          40,
          41,
          42,
          43,
          44,
          45,
          46,
          47,
          48,
          49,
          50,
          51,
          52,
          53,
          54,
          55,
          56,
          57,
          58
         ],
         "y": [
          98109,
          93006,
          92713,
          92803,
          92342,
          92605,
          92502,
          92537,
          93240,
          92572,
          92669,
          92902,
          93698,
          112075,
          98385,
          91548,
          90800,
          91810,
          91018,
          91055,
          91288,
          91084,
          90875,
          92240,
          91699,
          91328,
          91568,
          91113,
          91339,
          91054,
          91707,
          91611,
          91406,
          91871,
          92597,
          113737,
          99321,
          93632,
          91005,
          90530,
          90140,
          90419,
          90503,
          89844,
          90470,
          90669,
          90297,
          90471,
          90710,
          90732,
          90873,
          91087,
          90671,
          90656,
          90899,
          89962,
          90516,
          91946
         ]
        },
        {
         "mode": "lines+markers",
         "name": "race id: 860",
         "type": "scatter",
         "x": [
          1,
          2,
          3,
          4,
          5,
          6,
          7,
          8,
          9,
          10,
          11,
          12,
          13,
          14,
          15,
          16,
          17,
          18,
          19,
          20,
          21,
          22,
          23,
          24,
          25,
          26,
          27,
          28,
          29,
          30,
          31,
          32,
          33,
          34,
          35,
          36,
          37,
          38,
          39,
          40,
          41,
          42,
          43,
          44,
          45,
          46,
          47,
          48,
          49,
          50,
          51,
          52,
          53,
          54,
          55,
          56,
          57,
          58
         ],
         "y": [
          103029,
          95160,
          93848,
          94148,
          94174,
          96499,
          93690,
          93632,
          93500,
          94853,
          93605,
          93308,
          93582,
          93685,
          93750,
          114857,
          99517,
          93273,
          92764,
          92945,
          94467,
          92588,
          93174,
          92182,
          92028,
          92056,
          92162,
          91741,
          92107,
          91621,
          91794,
          92059,
          91947,
          91843,
          91865,
          91874,
          120851,
          163068,
          143569,
          160235,
          141015,
          93226,
          91477,
          90585,
          90221,
          90033,
          89899,
          90160,
          90287,
          90033,
          89888,
          89690,
          89869,
          89587,
          89995,
          89590,
          89417,
          89682
         ]
        },
        {
         "mode": "lines+markers",
         "name": "race id: 880",
         "type": "scatter",
         "x": [
          1,
          2,
          3,
          4,
          5,
          6,
          7,
          8,
          9,
          10,
          11,
          12,
          13,
          14,
          15,
          16,
          17,
          18,
          19,
          20,
          21,
          22,
          23,
          24,
          25,
          26,
          27,
          28,
          29,
          30,
          31,
          32,
          33,
          34,
          35,
          36,
          37,
          38,
          39,
          40,
          41,
          42,
          43,
          44,
          45,
          46,
          47,
          48,
          49,
          50,
          51,
          52,
          53,
          54,
          55,
          56,
          57,
          58
         ],
         "y": [
          99646,
          93106,
          93550,
          94374,
          94496,
          94748,
          112236,
          99173,
          92317,
          92209,
          92690,
          92239,
          92587,
          93665,
          93586,
          93756,
          93494,
          93609,
          93524,
          93644,
          111776,
          97277,
          91657,
          91379,
          92268,
          92667,
          92545,
          92140,
          92911,
          93037,
          93154,
          92839,
          91577,
          91318,
          91538,
          92125,
          109744,
          96665,
          90890,
          91110,
          90459,
          90409,
          90589,
          90723,
          91029,
          91073,
          91064,
          91695,
          91097,
          91068,
          90998,
          90807,
          90966,
          91182,
          90793,
          90883,
          91285,
          92185
         ]
        },
        {
         "mode": "lines+markers",
         "name": "race id: 900",
         "type": "scatter",
         "x": [
          1,
          2,
          3
         ],
         "y": [
          120977,
          109947,
          111460
         ]
        },
        {
         "mode": "lines+markers",
         "name": "race id: 926",
         "type": "scatter",
         "x": [
          1,
          2,
          3,
          4,
          5,
          6,
          7,
          8,
          9,
          10,
          11,
          12,
          13,
          14,
          15,
          16,
          17,
          18,
          19,
          20,
          21,
          22,
          23,
          24,
          25,
          26,
          27,
          28,
          29,
          30,
          31,
          32,
          33,
          34,
          35,
          36,
          37,
          38,
          39,
          40,
          41,
          42,
          43,
          44,
          45,
          46,
          47,
          48,
          49,
          50,
          51,
          52,
          53,
          54,
          55,
          56,
          57,
          58
         ],
         "y": [
          147522,
          144069,
          133846,
          95361,
          94027,
          93438,
          93197,
          93754,
          92991,
          93074,
          93490,
          93597,
          93513,
          93374,
          93853,
          93173,
          93229,
          93146,
          93168,
          93145,
          92859,
          92307,
          92664,
          111263,
          98543,
          92115,
          92429,
          92670,
          92432,
          92518,
          92698,
          92443,
          92300,
          92856,
          92633,
          92567,
          92456,
          92518,
          93729,
          92644,
          92673,
          92653,
          92129,
          92334,
          92288,
          92054,
          92259,
          92037,
          92127,
          91754,
          91578,
          91457,
          91492,
          91847,
          91719,
          91478,
          91717,
          93383
         ]
        },
        {
         "mode": "lines+markers",
         "name": "race id: 948",
         "type": "scatter",
         "x": [
          1,
          2,
          3,
          4,
          5,
          6,
          7,
          8,
          9,
          10,
          11,
          12,
          13,
          14,
          15,
          16,
          17,
          18,
          19,
          20,
          21,
          22,
          23,
          24,
          25,
          26,
          27,
          28,
          29,
          30,
          31,
          32,
          33,
          34,
          35,
          36,
          37,
          38,
          39,
          40,
          41,
          42,
          43,
          44,
          45,
          46,
          47,
          48,
          49,
          50,
          51,
          52,
          53,
          54,
          55,
          56,
          57
         ],
         "y": [
          96916,
          91664,
          92167,
          92014,
          92273,
          92204,
          92080,
          92289,
          92578,
          92571,
          92960,
          93014,
          110574,
          95604,
          90757,
          91809,
          99423,
          201551,
          1213527,
          90524,
          90374,
          90207,
          89951,
          90185,
          90719,
          91764,
          91454,
          91507,
          91809,
          92003,
          92228,
          92227,
          92795,
          92937,
          113109,
          94747,
          90251,
          90612,
          90627,
          91064,
          91220,
          91104,
          90814,
          91196,
          90779,
          90725,
          90590,
          90463,
          90271,
          90168,
          90137,
          91262,
          90665,
          90907,
          95239,
          90965,
          91634
         ]
        },
        {
         "mode": "lines+markers",
         "name": "race id: 1",
         "type": "scatter",
         "x": [
          1,
          2,
          3,
          4,
          5,
          6,
          7,
          8,
          9,
          10,
          11,
          12,
          13,
          14,
          15,
          16,
          17,
          18,
          19,
          20,
          21,
          22,
          23,
          24,
          25,
          26,
          27,
          28,
          29,
          30,
          31,
          32,
          33,
          34,
          35,
          36,
          37,
          38,
          39,
          40,
          41,
          42,
          43,
          44,
          45,
          46,
          47,
          48,
          49,
          50,
          51,
          52,
          53,
          54,
          55,
          56
         ],
         "y": [
          99647,
          91173,
          89752,
          88999,
          88849,
          88424,
          88235,
          88140,
          88331,
          88970,
          88862,
          88387,
          88260,
          88457,
          88279,
          110990,
          95628,
          90580,
          94856,
          144788,
          106868,
          158375,
          151909,
          142185,
          93553,
          91452,
          90116,
          89431,
          89242,
          89120,
          88686,
          88819,
          88875,
          88604,
          88528,
          88173,
          88557,
          88459,
          88369,
          88448,
          88852,
          89082,
          89102,
          88976,
          106765,
          94308,
          89862,
          89555,
          89628,
          89507,
          89225,
          90154,
          89721,
          90237,
          91092,
          160783
         ]
        },
        {
         "mode": "lines+markers",
         "name": "race id: 338",
         "type": "scatter",
         "x": [
          1,
          2,
          3,
          4,
          5,
          6,
          7,
          8,
          9,
          10,
          11,
          12,
          13,
          14,
          15,
          16,
          17,
          18,
          19,
          20,
          21,
          22,
          23,
          24,
          25
         ],
         "y": [
          126947,
          163696,
          156229,
          150999,
          104978,
          103250,
          102775,
          101476,
          121768,
          103572,
          93057,
          92439,
          91856,
          92287,
          93925,
          92447,
          91866,
          91812,
          91744,
          91626,
          91558,
          91556,
          92064,
          92939,
          92391
         ]
        },
        {
         "mode": "lines+markers",
         "name": "race id: 969",
         "type": "scatter",
         "x": [
          1,
          2,
          3,
          4,
          5,
          6,
          7,
          8,
          9,
          10,
          11,
          12,
          13,
          14,
          15,
          16,
          17,
          18,
          19,
          20,
          21,
          22,
          23,
          24,
          25,
          26,
          27,
          28,
          29,
          30,
          31,
          32,
          33,
          34,
          35,
          36,
          37,
          38,
          39,
          40,
          41,
          42,
          43,
          44,
          45,
          46,
          47,
          48,
          49,
          50,
          51,
          52,
          53,
          54,
          55,
          56,
          57
         ],
         "y": [
          95078,
          89727,
          89043,
          89128,
          89127,
          89083,
          88865,
          88753,
          88234,
          88657,
          88393,
          88221,
          88372,
          88690,
          88507,
          88221,
          88364,
          88478,
          88118,
          88224,
          88578,
          88501,
          106995,
          93830,
          87726,
          87598,
          88046,
          87726,
          88009,
          88388,
          88119,
          88226,
          87701,
          87628,
          87483,
          87347,
          87620,
          87490,
          87586,
          87718,
          87386,
          87448,
          87819,
          87954,
          87735,
          87695,
          87735,
          88707,
          87613,
          87422,
          87782,
          87618,
          86638,
          87007,
          87369,
          87437,
          88709
         ]
        },
        {
         "mode": "lines+markers",
         "name": "race id: 989",
         "type": "scatter",
         "x": [
          58,
          57,
          56,
          55,
          54,
          53,
          52,
          51,
          50,
          49,
          48,
          47,
          46,
          45,
          44,
          43,
          42,
          41,
          40,
          39,
          38,
          37,
          36,
          35,
          34,
          33,
          32,
          31,
          30,
          29,
          28,
          27,
          26,
          25,
          24,
          23,
          22,
          21,
          20,
          19,
          18,
          17,
          16,
          15,
          14,
          13,
          12,
          11,
          10,
          9,
          8,
          7,
          6,
          5,
          4,
          3,
          2,
          1
         ],
         "y": [
          88863,
          86990,
          87236,
          86983,
          86711,
          86469,
          86968,
          86604,
          86804,
          87084,
          87237,
          86997,
          86766,
          86785,
          87081,
          86872,
          87022,
          86946,
          86909,
          86947,
          87309,
          87175,
          87123,
          87100,
          87559,
          87889,
          87998,
          138857,
          136470,
          133109,
          123248,
          129347,
          125108,
          88787,
          89030,
          88954,
          88515,
          88561,
          88245,
          88488,
          88534,
          88596,
          88704,
          88685,
          88801,
          89109,
          88405,
          89025,
          88665,
          89375,
          89481,
          90177,
          90497,
          89540,
          89610,
          90177,
          90562,
          96194
         ]
        },
        {
         "mode": "lines+markers",
         "name": "race id: 1010",
         "type": "scatter",
         "x": [
          1,
          2,
          3,
          4,
          5,
          6,
          7,
          8,
          9,
          10,
          11,
          12,
          13,
          14,
          15,
          16,
          17,
          18,
          19,
          20,
          21,
          22,
          23,
          24,
          25,
          26,
          27,
          28,
          29,
          30,
          31,
          32,
          33,
          34,
          35,
          36,
          37,
          38,
          39,
          40,
          41,
          42,
          43,
          44,
          45,
          46,
          47,
          48,
          49,
          50,
          51,
          52,
          53,
          54,
          55,
          56,
          57,
          58
         ],
         "y": [
          95626,
          90095,
          89371,
          89124,
          89310,
          89666,
          89418,
          89557,
          89282,
          89394,
          89246,
          89102,
          88789,
          106627,
          93692,
          87954,
          88561,
          88657,
          89248,
          89227,
          88701,
          88514,
          88637,
          88702,
          88899,
          88710,
          88705,
          88759,
          88207,
          88343,
          90051,
          88489,
          88658,
          88736,
          88494,
          88557,
          88607,
          88561,
          88555,
          88203,
          88215,
          88389,
          88585,
          88275,
          88249,
          88214,
          88400,
          88380,
          88432,
          88746,
          88706,
          88644,
          89006,
          89438,
          89159,
          89683,
          90057,
          90822
         ]
        },
        {
         "mode": "lines+markers",
         "name": "race id: 1076",
         "type": "scatter",
         "x": [
          1,
          2,
          3,
          4,
          5,
          6,
          7,
          8,
          9,
          10,
          11,
          12,
          13,
          14,
          15,
          16,
          17,
          18,
          19,
          20,
          21,
          22
         ],
         "y": [
          100136,
          88340,
          115920,
          132726,
          135917,
          127088,
          87194,
          86763,
          86179,
          93354,
          85984,
          86150,
          86423,
          86074,
          85575,
          85554,
          85189,
          85367,
          85503,
          85398,
          85505,
          87005
         ]
        }
       ],
       "layout": {
        "template": {
         "data": {
          "bar": [
           {
            "error_x": {
             "color": "#2a3f5f"
            },
            "error_y": {
             "color": "#2a3f5f"
            },
            "marker": {
             "line": {
              "color": "#E5ECF6",
              "width": 0.5
             },
             "pattern": {
              "fillmode": "overlay",
              "size": 10,
              "solidity": 0.2
             }
            },
            "type": "bar"
           }
          ],
          "barpolar": [
           {
            "marker": {
             "line": {
              "color": "#E5ECF6",
              "width": 0.5
             },
             "pattern": {
              "fillmode": "overlay",
              "size": 10,
              "solidity": 0.2
             }
            },
            "type": "barpolar"
           }
          ],
          "carpet": [
           {
            "aaxis": {
             "endlinecolor": "#2a3f5f",
             "gridcolor": "white",
             "linecolor": "white",
             "minorgridcolor": "white",
             "startlinecolor": "#2a3f5f"
            },
            "baxis": {
             "endlinecolor": "#2a3f5f",
             "gridcolor": "white",
             "linecolor": "white",
             "minorgridcolor": "white",
             "startlinecolor": "#2a3f5f"
            },
            "type": "carpet"
           }
          ],
          "choropleth": [
           {
            "colorbar": {
             "outlinewidth": 0,
             "ticks": ""
            },
            "type": "choropleth"
           }
          ],
          "contour": [
           {
            "colorbar": {
             "outlinewidth": 0,
             "ticks": ""
            },
            "colorscale": [
             [
              0,
              "#0d0887"
             ],
             [
              0.1111111111111111,
              "#46039f"
             ],
             [
              0.2222222222222222,
              "#7201a8"
             ],
             [
              0.3333333333333333,
              "#9c179e"
             ],
             [
              0.4444444444444444,
              "#bd3786"
             ],
             [
              0.5555555555555556,
              "#d8576b"
             ],
             [
              0.6666666666666666,
              "#ed7953"
             ],
             [
              0.7777777777777778,
              "#fb9f3a"
             ],
             [
              0.8888888888888888,
              "#fdca26"
             ],
             [
              1,
              "#f0f921"
             ]
            ],
            "type": "contour"
           }
          ],
          "contourcarpet": [
           {
            "colorbar": {
             "outlinewidth": 0,
             "ticks": ""
            },
            "type": "contourcarpet"
           }
          ],
          "heatmap": [
           {
            "colorbar": {
             "outlinewidth": 0,
             "ticks": ""
            },
            "colorscale": [
             [
              0,
              "#0d0887"
             ],
             [
              0.1111111111111111,
              "#46039f"
             ],
             [
              0.2222222222222222,
              "#7201a8"
             ],
             [
              0.3333333333333333,
              "#9c179e"
             ],
             [
              0.4444444444444444,
              "#bd3786"
             ],
             [
              0.5555555555555556,
              "#d8576b"
             ],
             [
              0.6666666666666666,
              "#ed7953"
             ],
             [
              0.7777777777777778,
              "#fb9f3a"
             ],
             [
              0.8888888888888888,
              "#fdca26"
             ],
             [
              1,
              "#f0f921"
             ]
            ],
            "type": "heatmap"
           }
          ],
          "heatmapgl": [
           {
            "colorbar": {
             "outlinewidth": 0,
             "ticks": ""
            },
            "colorscale": [
             [
              0,
              "#0d0887"
             ],
             [
              0.1111111111111111,
              "#46039f"
             ],
             [
              0.2222222222222222,
              "#7201a8"
             ],
             [
              0.3333333333333333,
              "#9c179e"
             ],
             [
              0.4444444444444444,
              "#bd3786"
             ],
             [
              0.5555555555555556,
              "#d8576b"
             ],
             [
              0.6666666666666666,
              "#ed7953"
             ],
             [
              0.7777777777777778,
              "#fb9f3a"
             ],
             [
              0.8888888888888888,
              "#fdca26"
             ],
             [
              1,
              "#f0f921"
             ]
            ],
            "type": "heatmapgl"
           }
          ],
          "histogram": [
           {
            "marker": {
             "pattern": {
              "fillmode": "overlay",
              "size": 10,
              "solidity": 0.2
             }
            },
            "type": "histogram"
           }
          ],
          "histogram2d": [
           {
            "colorbar": {
             "outlinewidth": 0,
             "ticks": ""
            },
            "colorscale": [
             [
              0,
              "#0d0887"
             ],
             [
              0.1111111111111111,
              "#46039f"
             ],
             [
              0.2222222222222222,
              "#7201a8"
             ],
             [
              0.3333333333333333,
              "#9c179e"
             ],
             [
              0.4444444444444444,
              "#bd3786"
             ],
             [
              0.5555555555555556,
              "#d8576b"
             ],
             [
              0.6666666666666666,
              "#ed7953"
             ],
             [
              0.7777777777777778,
              "#fb9f3a"
             ],
             [
              0.8888888888888888,
              "#fdca26"
             ],
             [
              1,
              "#f0f921"
             ]
            ],
            "type": "histogram2d"
           }
          ],
          "histogram2dcontour": [
           {
            "colorbar": {
             "outlinewidth": 0,
             "ticks": ""
            },
            "colorscale": [
             [
              0,
              "#0d0887"
             ],
             [
              0.1111111111111111,
              "#46039f"
             ],
             [
              0.2222222222222222,
              "#7201a8"
             ],
             [
              0.3333333333333333,
              "#9c179e"
             ],
             [
              0.4444444444444444,
              "#bd3786"
             ],
             [
              0.5555555555555556,
              "#d8576b"
             ],
             [
              0.6666666666666666,
              "#ed7953"
             ],
             [
              0.7777777777777778,
              "#fb9f3a"
             ],
             [
              0.8888888888888888,
              "#fdca26"
             ],
             [
              1,
              "#f0f921"
             ]
            ],
            "type": "histogram2dcontour"
           }
          ],
          "mesh3d": [
           {
            "colorbar": {
             "outlinewidth": 0,
             "ticks": ""
            },
            "type": "mesh3d"
           }
          ],
          "parcoords": [
           {
            "line": {
             "colorbar": {
              "outlinewidth": 0,
              "ticks": ""
             }
            },
            "type": "parcoords"
           }
          ],
          "pie": [
           {
            "automargin": true,
            "type": "pie"
           }
          ],
          "scatter": [
           {
            "fillpattern": {
             "fillmode": "overlay",
             "size": 10,
             "solidity": 0.2
            },
            "type": "scatter"
           }
          ],
          "scatter3d": [
           {
            "line": {
             "colorbar": {
              "outlinewidth": 0,
              "ticks": ""
             }
            },
            "marker": {
             "colorbar": {
              "outlinewidth": 0,
              "ticks": ""
             }
            },
            "type": "scatter3d"
           }
          ],
          "scattercarpet": [
           {
            "marker": {
             "colorbar": {
              "outlinewidth": 0,
              "ticks": ""
             }
            },
            "type": "scattercarpet"
           }
          ],
          "scattergeo": [
           {
            "marker": {
             "colorbar": {
              "outlinewidth": 0,
              "ticks": ""
             }
            },
            "type": "scattergeo"
           }
          ],
          "scattergl": [
           {
            "marker": {
             "colorbar": {
              "outlinewidth": 0,
              "ticks": ""
             }
            },
            "type": "scattergl"
           }
          ],
          "scattermapbox": [
           {
            "marker": {
             "colorbar": {
              "outlinewidth": 0,
              "ticks": ""
             }
            },
            "type": "scattermapbox"
           }
          ],
          "scatterpolar": [
           {
            "marker": {
             "colorbar": {
              "outlinewidth": 0,
              "ticks": ""
             }
            },
            "type": "scatterpolar"
           }
          ],
          "scatterpolargl": [
           {
            "marker": {
             "colorbar": {
              "outlinewidth": 0,
              "ticks": ""
             }
            },
            "type": "scatterpolargl"
           }
          ],
          "scatterternary": [
           {
            "marker": {
             "colorbar": {
              "outlinewidth": 0,
              "ticks": ""
             }
            },
            "type": "scatterternary"
           }
          ],
          "surface": [
           {
            "colorbar": {
             "outlinewidth": 0,
             "ticks": ""
            },
            "colorscale": [
             [
              0,
              "#0d0887"
             ],
             [
              0.1111111111111111,
              "#46039f"
             ],
             [
              0.2222222222222222,
              "#7201a8"
             ],
             [
              0.3333333333333333,
              "#9c179e"
             ],
             [
              0.4444444444444444,
              "#bd3786"
             ],
             [
              0.5555555555555556,
              "#d8576b"
             ],
             [
              0.6666666666666666,
              "#ed7953"
             ],
             [
              0.7777777777777778,
              "#fb9f3a"
             ],
             [
              0.8888888888888888,
              "#fdca26"
             ],
             [
              1,
              "#f0f921"
             ]
            ],
            "type": "surface"
           }
          ],
          "table": [
           {
            "cells": {
             "fill": {
              "color": "#EBF0F8"
             },
             "line": {
              "color": "white"
             }
            },
            "header": {
             "fill": {
              "color": "#C8D4E3"
             },
             "line": {
              "color": "white"
             }
            },
            "type": "table"
           }
          ]
         },
         "layout": {
          "annotationdefaults": {
           "arrowcolor": "#2a3f5f",
           "arrowhead": 0,
           "arrowwidth": 1
          },
          "autotypenumbers": "strict",
          "coloraxis": {
           "colorbar": {
            "outlinewidth": 0,
            "ticks": ""
           }
          },
          "colorscale": {
           "diverging": [
            [
             0,
             "#8e0152"
            ],
            [
             0.1,
             "#c51b7d"
            ],
            [
             0.2,
             "#de77ae"
            ],
            [
             0.3,
             "#f1b6da"
            ],
            [
             0.4,
             "#fde0ef"
            ],
            [
             0.5,
             "#f7f7f7"
            ],
            [
             0.6,
             "#e6f5d0"
            ],
            [
             0.7,
             "#b8e186"
            ],
            [
             0.8,
             "#7fbc41"
            ],
            [
             0.9,
             "#4d9221"
            ],
            [
             1,
             "#276419"
            ]
           ],
           "sequential": [
            [
             0,
             "#0d0887"
            ],
            [
             0.1111111111111111,
             "#46039f"
            ],
            [
             0.2222222222222222,
             "#7201a8"
            ],
            [
             0.3333333333333333,
             "#9c179e"
            ],
            [
             0.4444444444444444,
             "#bd3786"
            ],
            [
             0.5555555555555556,
             "#d8576b"
            ],
            [
             0.6666666666666666,
             "#ed7953"
            ],
            [
             0.7777777777777778,
             "#fb9f3a"
            ],
            [
             0.8888888888888888,
             "#fdca26"
            ],
            [
             1,
             "#f0f921"
            ]
           ],
           "sequentialminus": [
            [
             0,
             "#0d0887"
            ],
            [
             0.1111111111111111,
             "#46039f"
            ],
            [
             0.2222222222222222,
             "#7201a8"
            ],
            [
             0.3333333333333333,
             "#9c179e"
            ],
            [
             0.4444444444444444,
             "#bd3786"
            ],
            [
             0.5555555555555556,
             "#d8576b"
            ],
            [
             0.6666666666666666,
             "#ed7953"
            ],
            [
             0.7777777777777778,
             "#fb9f3a"
            ],
            [
             0.8888888888888888,
             "#fdca26"
            ],
            [
             1,
             "#f0f921"
            ]
           ]
          },
          "colorway": [
           "#636efa",
           "#EF553B",
           "#00cc96",
           "#ab63fa",
           "#FFA15A",
           "#19d3f3",
           "#FF6692",
           "#B6E880",
           "#FF97FF",
           "#FECB52"
          ],
          "font": {
           "color": "#2a3f5f"
          },
          "geo": {
           "bgcolor": "white",
           "lakecolor": "white",
           "landcolor": "#E5ECF6",
           "showlakes": true,
           "showland": true,
           "subunitcolor": "white"
          },
          "hoverlabel": {
           "align": "left"
          },
          "hovermode": "closest",
          "mapbox": {
           "style": "light"
          },
          "paper_bgcolor": "white",
          "plot_bgcolor": "#E5ECF6",
          "polar": {
           "angularaxis": {
            "gridcolor": "white",
            "linecolor": "white",
            "ticks": ""
           },
           "bgcolor": "#E5ECF6",
           "radialaxis": {
            "gridcolor": "white",
            "linecolor": "white",
            "ticks": ""
           }
          },
          "scene": {
           "xaxis": {
            "backgroundcolor": "#E5ECF6",
            "gridcolor": "white",
            "gridwidth": 2,
            "linecolor": "white",
            "showbackground": true,
            "ticks": "",
            "zerolinecolor": "white"
           },
           "yaxis": {
            "backgroundcolor": "#E5ECF6",
            "gridcolor": "white",
            "gridwidth": 2,
            "linecolor": "white",
            "showbackground": true,
            "ticks": "",
            "zerolinecolor": "white"
           },
           "zaxis": {
            "backgroundcolor": "#E5ECF6",
            "gridcolor": "white",
            "gridwidth": 2,
            "linecolor": "white",
            "showbackground": true,
            "ticks": "",
            "zerolinecolor": "white"
           }
          },
          "shapedefaults": {
           "line": {
            "color": "#2a3f5f"
           }
          },
          "ternary": {
           "aaxis": {
            "gridcolor": "white",
            "linecolor": "white",
            "ticks": ""
           },
           "baxis": {
            "gridcolor": "white",
            "linecolor": "white",
            "ticks": ""
           },
           "bgcolor": "#E5ECF6",
           "caxis": {
            "gridcolor": "white",
            "linecolor": "white",
            "ticks": ""
           }
          },
          "title": {
           "x": 0.05
          },
          "xaxis": {
           "automargin": true,
           "gridcolor": "white",
           "linecolor": "white",
           "ticks": "",
           "title": {
            "standoff": 15
           },
           "zerolinecolor": "white",
           "zerolinewidth": 2
          },
          "yaxis": {
           "automargin": true,
           "gridcolor": "white",
           "linecolor": "white",
           "ticks": "",
           "title": {
            "standoff": 15
           },
           "zerolinecolor": "white",
           "zerolinewidth": 2
          }
         }
        },
        "title": {
         "text": "Laptimes by each lap"
        },
        "xaxis": {
         "title": {
          "text": "Lap number"
         }
        },
        "yaxis": {
         "title": {
          "text": "Total lap time"
         }
        }
       }
      }
     },
     "metadata": {},
     "output_type": "display_data"
    }
   ],
   "source": [
    "## Lap times and pit stops\n",
    "\n",
    "fig = go.Figure()\n",
    "\n",
    "for race_id in list_race_id:\n",
    "\n",
    "    lap_times_race = lap_times_selected_driver_circuit[\n",
    "        lap_times_selected_driver_circuit[\"raceId\"] == race_id\n",
    "    ]\n",
    "\n",
    "    fig.add_trace(\n",
    "        go.Scatter(\n",
    "            x=lap_times_race[\"lap\"],\n",
    "            y=lap_times_race[\"milliseconds\"],\n",
    "            mode=\"lines+markers\",\n",
    "            name=f\"race id: {race_id}\",\n",
    "        )\n",
    "    )\n",
    "\n",
    "    fig.update_layout(\n",
    "        title=\"Laptimes by each lap\",\n",
    "        xaxis_title=\"Lap number\",\n",
    "        yaxis_title=\"Total lap time\",\n",
    "    )\n",
    "fig.show()"
   ]
  },
  {
   "cell_type": "code",
   "execution_count": 14,
   "metadata": {},
   "outputs": [
    {
     "data": {
      "application/vnd.plotly.v1+json": {
       "config": {
        "plotlyServerURL": "https://plot.ly"
       },
       "data": [
        {
         "name": "Lap times for Aus GP",
         "type": "box",
         "y": [
          98109,
          93006,
          92713,
          92803,
          92342,
          92605,
          92502,
          92537,
          93240,
          92572,
          92669,
          92902,
          93698,
          112075,
          98385,
          91548,
          90800,
          91810,
          91018,
          91055,
          91288,
          91084,
          90875,
          92240,
          91699,
          91328,
          91568,
          91113,
          91339,
          91054,
          91707,
          91611,
          91406,
          91871,
          92597,
          113737,
          99321,
          93632,
          91005,
          90530,
          90140,
          90419,
          90503,
          89844,
          90470,
          90669,
          90297,
          90471,
          90710,
          90732,
          90873,
          91087,
          90671,
          90656,
          90899,
          89962,
          90516,
          91946,
          103029,
          95160,
          93848,
          94148,
          94174,
          96499,
          93690,
          93632,
          93500,
          94853,
          93605,
          93308,
          93582,
          93685,
          93750,
          114857,
          99517,
          93273,
          92764,
          92945,
          94467,
          92588,
          93174,
          92182,
          92028,
          92056,
          92162,
          91741,
          92107,
          91621,
          91794,
          92059,
          91947,
          91843,
          91865,
          91874,
          120851,
          163068,
          143569,
          160235,
          141015,
          93226,
          91477,
          90585,
          90221,
          90033,
          89899,
          90160,
          90287,
          90033,
          89888,
          89690,
          89869,
          89587,
          89995,
          89590,
          89417,
          89682,
          99646,
          93106,
          93550,
          94374,
          94496,
          94748,
          112236,
          99173,
          92317,
          92209,
          92690,
          92239,
          92587,
          93665,
          93586,
          93756,
          93494,
          93609,
          93524,
          93644,
          111776,
          97277,
          91657,
          91379,
          92268,
          92667,
          92545,
          92140,
          92911,
          93037,
          93154,
          92839,
          91577,
          91318,
          91538,
          92125,
          109744,
          96665,
          90890,
          91110,
          90459,
          90409,
          90589,
          90723,
          91029,
          91073,
          91064,
          91695,
          91097,
          91068,
          90998,
          90807,
          90966,
          91182,
          90793,
          90883,
          91285,
          92185,
          120977,
          109947,
          111460,
          147522,
          144069,
          133846,
          95361,
          94027,
          93438,
          93197,
          93754,
          92991,
          93074,
          93490,
          93597,
          93513,
          93374,
          93853,
          93173,
          93229,
          93146,
          93168,
          93145,
          92859,
          92307,
          92664,
          111263,
          98543,
          92115,
          92429,
          92670,
          92432,
          92518,
          92698,
          92443,
          92300,
          92856,
          92633,
          92567,
          92456,
          92518,
          93729,
          92644,
          92673,
          92653,
          92129,
          92334,
          92288,
          92054,
          92259,
          92037,
          92127,
          91754,
          91578,
          91457,
          91492,
          91847,
          91719,
          91478,
          91717,
          93383,
          96916,
          91664,
          92167,
          92014,
          92273,
          92204,
          92080,
          92289,
          92578,
          92571,
          92960,
          93014,
          110574,
          95604,
          90757,
          91809,
          99423,
          201551,
          1213527,
          90524,
          90374,
          90207,
          89951,
          90185,
          90719,
          91764,
          91454,
          91507,
          91809,
          92003,
          92228,
          92227,
          92795,
          92937,
          113109,
          94747,
          90251,
          90612,
          90627,
          91064,
          91220,
          91104,
          90814,
          91196,
          90779,
          90725,
          90590,
          90463,
          90271,
          90168,
          90137,
          91262,
          90665,
          90907,
          95239,
          90965,
          91634,
          99647,
          91173,
          89752,
          88999,
          88849,
          88424,
          88235,
          88140,
          88331,
          88970,
          88862,
          88387,
          88260,
          88457,
          88279,
          110990,
          95628,
          90580,
          94856,
          144788,
          106868,
          158375,
          151909,
          142185,
          93553,
          91452,
          90116,
          89431,
          89242,
          89120,
          88686,
          88819,
          88875,
          88604,
          88528,
          88173,
          88557,
          88459,
          88369,
          88448,
          88852,
          89082,
          89102,
          88976,
          106765,
          94308,
          89862,
          89555,
          89628,
          89507,
          89225,
          90154,
          89721,
          90237,
          91092,
          160783,
          126947,
          163696,
          156229,
          150999,
          104978,
          103250,
          102775,
          101476,
          121768,
          103572,
          93057,
          92439,
          91856,
          92287,
          93925,
          92447,
          91866,
          91812,
          91744,
          91626,
          91558,
          91556,
          92064,
          92939,
          92391,
          95078,
          89727,
          89043,
          89128,
          89127,
          89083,
          88865,
          88753,
          88234,
          88657,
          88393,
          88221,
          88372,
          88690,
          88507,
          88221,
          88364,
          88478,
          88118,
          88224,
          88578,
          88501,
          106995,
          93830,
          87726,
          87598,
          88046,
          87726,
          88009,
          88388,
          88119,
          88226,
          87701,
          87628,
          87483,
          87347,
          87620,
          87490,
          87586,
          87718,
          87386,
          87448,
          87819,
          87954,
          87735,
          87695,
          87735,
          88707,
          87613,
          87422,
          87782,
          87618,
          86638,
          87007,
          87369,
          87437,
          88709,
          88863,
          86990,
          87236,
          86983,
          86711,
          86469,
          86968,
          86604,
          86804,
          87084,
          87237,
          86997,
          86766,
          86785,
          87081,
          86872,
          87022,
          86946,
          86909,
          86947,
          87309,
          87175,
          87123,
          87100,
          87559,
          87889,
          87998,
          138857,
          136470,
          133109,
          123248,
          129347,
          125108,
          88787,
          89030,
          88954,
          88515,
          88561,
          88245,
          88488,
          88534,
          88596,
          88704,
          88685,
          88801,
          89109,
          88405,
          89025,
          88665,
          89375,
          89481,
          90177,
          90497,
          89540,
          89610,
          90177,
          90562,
          96194,
          95626,
          90095,
          89371,
          89124,
          89310,
          89666,
          89418,
          89557,
          89282,
          89394,
          89246,
          89102,
          88789,
          106627,
          93692,
          87954,
          88561,
          88657,
          89248,
          89227,
          88701,
          88514,
          88637,
          88702,
          88899,
          88710,
          88705,
          88759,
          88207,
          88343,
          90051,
          88489,
          88658,
          88736,
          88494,
          88557,
          88607,
          88561,
          88555,
          88203,
          88215,
          88389,
          88585,
          88275,
          88249,
          88214,
          88400,
          88380,
          88432,
          88746,
          88706,
          88644,
          89006,
          89438,
          89159,
          89683,
          90057,
          90822,
          100136,
          88340,
          115920,
          132726,
          135917,
          127088,
          87194,
          86763,
          86179,
          93354,
          85984,
          86150,
          86423,
          86074,
          85575,
          85554,
          85189,
          85367,
          85503,
          85398,
          85505,
          87005
         ]
        }
       ],
       "layout": {
        "template": {
         "data": {
          "bar": [
           {
            "error_x": {
             "color": "#2a3f5f"
            },
            "error_y": {
             "color": "#2a3f5f"
            },
            "marker": {
             "line": {
              "color": "#E5ECF6",
              "width": 0.5
             },
             "pattern": {
              "fillmode": "overlay",
              "size": 10,
              "solidity": 0.2
             }
            },
            "type": "bar"
           }
          ],
          "barpolar": [
           {
            "marker": {
             "line": {
              "color": "#E5ECF6",
              "width": 0.5
             },
             "pattern": {
              "fillmode": "overlay",
              "size": 10,
              "solidity": 0.2
             }
            },
            "type": "barpolar"
           }
          ],
          "carpet": [
           {
            "aaxis": {
             "endlinecolor": "#2a3f5f",
             "gridcolor": "white",
             "linecolor": "white",
             "minorgridcolor": "white",
             "startlinecolor": "#2a3f5f"
            },
            "baxis": {
             "endlinecolor": "#2a3f5f",
             "gridcolor": "white",
             "linecolor": "white",
             "minorgridcolor": "white",
             "startlinecolor": "#2a3f5f"
            },
            "type": "carpet"
           }
          ],
          "choropleth": [
           {
            "colorbar": {
             "outlinewidth": 0,
             "ticks": ""
            },
            "type": "choropleth"
           }
          ],
          "contour": [
           {
            "colorbar": {
             "outlinewidth": 0,
             "ticks": ""
            },
            "colorscale": [
             [
              0,
              "#0d0887"
             ],
             [
              0.1111111111111111,
              "#46039f"
             ],
             [
              0.2222222222222222,
              "#7201a8"
             ],
             [
              0.3333333333333333,
              "#9c179e"
             ],
             [
              0.4444444444444444,
              "#bd3786"
             ],
             [
              0.5555555555555556,
              "#d8576b"
             ],
             [
              0.6666666666666666,
              "#ed7953"
             ],
             [
              0.7777777777777778,
              "#fb9f3a"
             ],
             [
              0.8888888888888888,
              "#fdca26"
             ],
             [
              1,
              "#f0f921"
             ]
            ],
            "type": "contour"
           }
          ],
          "contourcarpet": [
           {
            "colorbar": {
             "outlinewidth": 0,
             "ticks": ""
            },
            "type": "contourcarpet"
           }
          ],
          "heatmap": [
           {
            "colorbar": {
             "outlinewidth": 0,
             "ticks": ""
            },
            "colorscale": [
             [
              0,
              "#0d0887"
             ],
             [
              0.1111111111111111,
              "#46039f"
             ],
             [
              0.2222222222222222,
              "#7201a8"
             ],
             [
              0.3333333333333333,
              "#9c179e"
             ],
             [
              0.4444444444444444,
              "#bd3786"
             ],
             [
              0.5555555555555556,
              "#d8576b"
             ],
             [
              0.6666666666666666,
              "#ed7953"
             ],
             [
              0.7777777777777778,
              "#fb9f3a"
             ],
             [
              0.8888888888888888,
              "#fdca26"
             ],
             [
              1,
              "#f0f921"
             ]
            ],
            "type": "heatmap"
           }
          ],
          "heatmapgl": [
           {
            "colorbar": {
             "outlinewidth": 0,
             "ticks": ""
            },
            "colorscale": [
             [
              0,
              "#0d0887"
             ],
             [
              0.1111111111111111,
              "#46039f"
             ],
             [
              0.2222222222222222,
              "#7201a8"
             ],
             [
              0.3333333333333333,
              "#9c179e"
             ],
             [
              0.4444444444444444,
              "#bd3786"
             ],
             [
              0.5555555555555556,
              "#d8576b"
             ],
             [
              0.6666666666666666,
              "#ed7953"
             ],
             [
              0.7777777777777778,
              "#fb9f3a"
             ],
             [
              0.8888888888888888,
              "#fdca26"
             ],
             [
              1,
              "#f0f921"
             ]
            ],
            "type": "heatmapgl"
           }
          ],
          "histogram": [
           {
            "marker": {
             "pattern": {
              "fillmode": "overlay",
              "size": 10,
              "solidity": 0.2
             }
            },
            "type": "histogram"
           }
          ],
          "histogram2d": [
           {
            "colorbar": {
             "outlinewidth": 0,
             "ticks": ""
            },
            "colorscale": [
             [
              0,
              "#0d0887"
             ],
             [
              0.1111111111111111,
              "#46039f"
             ],
             [
              0.2222222222222222,
              "#7201a8"
             ],
             [
              0.3333333333333333,
              "#9c179e"
             ],
             [
              0.4444444444444444,
              "#bd3786"
             ],
             [
              0.5555555555555556,
              "#d8576b"
             ],
             [
              0.6666666666666666,
              "#ed7953"
             ],
             [
              0.7777777777777778,
              "#fb9f3a"
             ],
             [
              0.8888888888888888,
              "#fdca26"
             ],
             [
              1,
              "#f0f921"
             ]
            ],
            "type": "histogram2d"
           }
          ],
          "histogram2dcontour": [
           {
            "colorbar": {
             "outlinewidth": 0,
             "ticks": ""
            },
            "colorscale": [
             [
              0,
              "#0d0887"
             ],
             [
              0.1111111111111111,
              "#46039f"
             ],
             [
              0.2222222222222222,
              "#7201a8"
             ],
             [
              0.3333333333333333,
              "#9c179e"
             ],
             [
              0.4444444444444444,
              "#bd3786"
             ],
             [
              0.5555555555555556,
              "#d8576b"
             ],
             [
              0.6666666666666666,
              "#ed7953"
             ],
             [
              0.7777777777777778,
              "#fb9f3a"
             ],
             [
              0.8888888888888888,
              "#fdca26"
             ],
             [
              1,
              "#f0f921"
             ]
            ],
            "type": "histogram2dcontour"
           }
          ],
          "mesh3d": [
           {
            "colorbar": {
             "outlinewidth": 0,
             "ticks": ""
            },
            "type": "mesh3d"
           }
          ],
          "parcoords": [
           {
            "line": {
             "colorbar": {
              "outlinewidth": 0,
              "ticks": ""
             }
            },
            "type": "parcoords"
           }
          ],
          "pie": [
           {
            "automargin": true,
            "type": "pie"
           }
          ],
          "scatter": [
           {
            "fillpattern": {
             "fillmode": "overlay",
             "size": 10,
             "solidity": 0.2
            },
            "type": "scatter"
           }
          ],
          "scatter3d": [
           {
            "line": {
             "colorbar": {
              "outlinewidth": 0,
              "ticks": ""
             }
            },
            "marker": {
             "colorbar": {
              "outlinewidth": 0,
              "ticks": ""
             }
            },
            "type": "scatter3d"
           }
          ],
          "scattercarpet": [
           {
            "marker": {
             "colorbar": {
              "outlinewidth": 0,
              "ticks": ""
             }
            },
            "type": "scattercarpet"
           }
          ],
          "scattergeo": [
           {
            "marker": {
             "colorbar": {
              "outlinewidth": 0,
              "ticks": ""
             }
            },
            "type": "scattergeo"
           }
          ],
          "scattergl": [
           {
            "marker": {
             "colorbar": {
              "outlinewidth": 0,
              "ticks": ""
             }
            },
            "type": "scattergl"
           }
          ],
          "scattermapbox": [
           {
            "marker": {
             "colorbar": {
              "outlinewidth": 0,
              "ticks": ""
             }
            },
            "type": "scattermapbox"
           }
          ],
          "scatterpolar": [
           {
            "marker": {
             "colorbar": {
              "outlinewidth": 0,
              "ticks": ""
             }
            },
            "type": "scatterpolar"
           }
          ],
          "scatterpolargl": [
           {
            "marker": {
             "colorbar": {
              "outlinewidth": 0,
              "ticks": ""
             }
            },
            "type": "scatterpolargl"
           }
          ],
          "scatterternary": [
           {
            "marker": {
             "colorbar": {
              "outlinewidth": 0,
              "ticks": ""
             }
            },
            "type": "scatterternary"
           }
          ],
          "surface": [
           {
            "colorbar": {
             "outlinewidth": 0,
             "ticks": ""
            },
            "colorscale": [
             [
              0,
              "#0d0887"
             ],
             [
              0.1111111111111111,
              "#46039f"
             ],
             [
              0.2222222222222222,
              "#7201a8"
             ],
             [
              0.3333333333333333,
              "#9c179e"
             ],
             [
              0.4444444444444444,
              "#bd3786"
             ],
             [
              0.5555555555555556,
              "#d8576b"
             ],
             [
              0.6666666666666666,
              "#ed7953"
             ],
             [
              0.7777777777777778,
              "#fb9f3a"
             ],
             [
              0.8888888888888888,
              "#fdca26"
             ],
             [
              1,
              "#f0f921"
             ]
            ],
            "type": "surface"
           }
          ],
          "table": [
           {
            "cells": {
             "fill": {
              "color": "#EBF0F8"
             },
             "line": {
              "color": "white"
             }
            },
            "header": {
             "fill": {
              "color": "#C8D4E3"
             },
             "line": {
              "color": "white"
             }
            },
            "type": "table"
           }
          ]
         },
         "layout": {
          "annotationdefaults": {
           "arrowcolor": "#2a3f5f",
           "arrowhead": 0,
           "arrowwidth": 1
          },
          "autotypenumbers": "strict",
          "coloraxis": {
           "colorbar": {
            "outlinewidth": 0,
            "ticks": ""
           }
          },
          "colorscale": {
           "diverging": [
            [
             0,
             "#8e0152"
            ],
            [
             0.1,
             "#c51b7d"
            ],
            [
             0.2,
             "#de77ae"
            ],
            [
             0.3,
             "#f1b6da"
            ],
            [
             0.4,
             "#fde0ef"
            ],
            [
             0.5,
             "#f7f7f7"
            ],
            [
             0.6,
             "#e6f5d0"
            ],
            [
             0.7,
             "#b8e186"
            ],
            [
             0.8,
             "#7fbc41"
            ],
            [
             0.9,
             "#4d9221"
            ],
            [
             1,
             "#276419"
            ]
           ],
           "sequential": [
            [
             0,
             "#0d0887"
            ],
            [
             0.1111111111111111,
             "#46039f"
            ],
            [
             0.2222222222222222,
             "#7201a8"
            ],
            [
             0.3333333333333333,
             "#9c179e"
            ],
            [
             0.4444444444444444,
             "#bd3786"
            ],
            [
             0.5555555555555556,
             "#d8576b"
            ],
            [
             0.6666666666666666,
             "#ed7953"
            ],
            [
             0.7777777777777778,
             "#fb9f3a"
            ],
            [
             0.8888888888888888,
             "#fdca26"
            ],
            [
             1,
             "#f0f921"
            ]
           ],
           "sequentialminus": [
            [
             0,
             "#0d0887"
            ],
            [
             0.1111111111111111,
             "#46039f"
            ],
            [
             0.2222222222222222,
             "#7201a8"
            ],
            [
             0.3333333333333333,
             "#9c179e"
            ],
            [
             0.4444444444444444,
             "#bd3786"
            ],
            [
             0.5555555555555556,
             "#d8576b"
            ],
            [
             0.6666666666666666,
             "#ed7953"
            ],
            [
             0.7777777777777778,
             "#fb9f3a"
            ],
            [
             0.8888888888888888,
             "#fdca26"
            ],
            [
             1,
             "#f0f921"
            ]
           ]
          },
          "colorway": [
           "#636efa",
           "#EF553B",
           "#00cc96",
           "#ab63fa",
           "#FFA15A",
           "#19d3f3",
           "#FF6692",
           "#B6E880",
           "#FF97FF",
           "#FECB52"
          ],
          "font": {
           "color": "#2a3f5f"
          },
          "geo": {
           "bgcolor": "white",
           "lakecolor": "white",
           "landcolor": "#E5ECF6",
           "showlakes": true,
           "showland": true,
           "subunitcolor": "white"
          },
          "hoverlabel": {
           "align": "left"
          },
          "hovermode": "closest",
          "mapbox": {
           "style": "light"
          },
          "paper_bgcolor": "white",
          "plot_bgcolor": "#E5ECF6",
          "polar": {
           "angularaxis": {
            "gridcolor": "white",
            "linecolor": "white",
            "ticks": ""
           },
           "bgcolor": "#E5ECF6",
           "radialaxis": {
            "gridcolor": "white",
            "linecolor": "white",
            "ticks": ""
           }
          },
          "scene": {
           "xaxis": {
            "backgroundcolor": "#E5ECF6",
            "gridcolor": "white",
            "gridwidth": 2,
            "linecolor": "white",
            "showbackground": true,
            "ticks": "",
            "zerolinecolor": "white"
           },
           "yaxis": {
            "backgroundcolor": "#E5ECF6",
            "gridcolor": "white",
            "gridwidth": 2,
            "linecolor": "white",
            "showbackground": true,
            "ticks": "",
            "zerolinecolor": "white"
           },
           "zaxis": {
            "backgroundcolor": "#E5ECF6",
            "gridcolor": "white",
            "gridwidth": 2,
            "linecolor": "white",
            "showbackground": true,
            "ticks": "",
            "zerolinecolor": "white"
           }
          },
          "shapedefaults": {
           "line": {
            "color": "#2a3f5f"
           }
          },
          "ternary": {
           "aaxis": {
            "gridcolor": "white",
            "linecolor": "white",
            "ticks": ""
           },
           "baxis": {
            "gridcolor": "white",
            "linecolor": "white",
            "ticks": ""
           },
           "bgcolor": "#E5ECF6",
           "caxis": {
            "gridcolor": "white",
            "linecolor": "white",
            "ticks": ""
           }
          },
          "title": {
           "x": 0.05
          },
          "xaxis": {
           "automargin": true,
           "gridcolor": "white",
           "linecolor": "white",
           "ticks": "",
           "title": {
            "standoff": 15
           },
           "zerolinecolor": "white",
           "zerolinewidth": 2
          },
          "yaxis": {
           "automargin": true,
           "gridcolor": "white",
           "linecolor": "white",
           "ticks": "",
           "title": {
            "standoff": 15
           },
           "zerolinecolor": "white",
           "zerolinewidth": 2
          }
         }
        },
        "title": {
         "text": "Box Plot with plotly.graph_objects"
        },
        "yaxis": {
         "title": {
          "text": "Values"
         }
        }
       }
      }
     },
     "metadata": {},
     "output_type": "display_data"
    }
   ],
   "source": [
    "fig = go.Figure()\n",
    "\n",
    "# Add a box trace\n",
    "fig.add_trace(\n",
    "    go.Box(\n",
    "        y=lap_times_selected_driver_circuit[\"milliseconds\"], name=\"Lap times for Aus GP\"\n",
    "    )\n",
    ")\n",
    "\n",
    "# Customize the layout\n",
    "fig.update_layout(\n",
    "    title=\"Box Plot with plotly.graph_objects\",\n",
    "    yaxis_title=\"Values\",\n",
    ")\n",
    "\n",
    "# Show the figure\n",
    "fig.show()"
   ]
  },
  {
   "cell_type": "code",
   "execution_count": 15,
   "metadata": {},
   "outputs": [
    {
     "data": {
      "text/html": [
       "<div>\n",
       "<style scoped>\n",
       "    .dataframe tbody tr th:only-of-type {\n",
       "        vertical-align: middle;\n",
       "    }\n",
       "\n",
       "    .dataframe tbody tr th {\n",
       "        vertical-align: top;\n",
       "    }\n",
       "\n",
       "    .dataframe thead th {\n",
       "        text-align: right;\n",
       "    }\n",
       "</style>\n",
       "<table border=\"1\" class=\"dataframe\">\n",
       "  <thead>\n",
       "    <tr style=\"text-align: right;\">\n",
       "      <th></th>\n",
       "      <th>raceId</th>\n",
       "      <th>driverId</th>\n",
       "      <th>lap</th>\n",
       "      <th>position</th>\n",
       "      <th>milliseconds</th>\n",
       "      <th>year</th>\n",
       "      <th>round</th>\n",
       "      <th>circuitId</th>\n",
       "      <th>name</th>\n",
       "      <th>date</th>\n",
       "      <th>number</th>\n",
       "      <th>statusId</th>\n",
       "      <th>pitStopMilliseconds</th>\n",
       "      <th>isPitStop</th>\n",
       "    </tr>\n",
       "  </thead>\n",
       "  <tbody>\n",
       "    <tr>\n",
       "      <th>111775</th>\n",
       "      <td>948</td>\n",
       "      <td>20</td>\n",
       "      <td>1</td>\n",
       "      <td>1</td>\n",
       "      <td>96916</td>\n",
       "      <td>2016</td>\n",
       "      <td>1</td>\n",
       "      <td>1</td>\n",
       "      <td>Australian Grand Prix</td>\n",
       "      <td>2016-03-20</td>\n",
       "      <td>5</td>\n",
       "      <td>1</td>\n",
       "      <td>0.0</td>\n",
       "      <td>False</td>\n",
       "    </tr>\n",
       "    <tr>\n",
       "      <th>111776</th>\n",
       "      <td>948</td>\n",
       "      <td>20</td>\n",
       "      <td>2</td>\n",
       "      <td>1</td>\n",
       "      <td>91664</td>\n",
       "      <td>2016</td>\n",
       "      <td>1</td>\n",
       "      <td>1</td>\n",
       "      <td>Australian Grand Prix</td>\n",
       "      <td>2016-03-20</td>\n",
       "      <td>5</td>\n",
       "      <td>1</td>\n",
       "      <td>0.0</td>\n",
       "      <td>False</td>\n",
       "    </tr>\n",
       "    <tr>\n",
       "      <th>111777</th>\n",
       "      <td>948</td>\n",
       "      <td>20</td>\n",
       "      <td>3</td>\n",
       "      <td>1</td>\n",
       "      <td>92167</td>\n",
       "      <td>2016</td>\n",
       "      <td>1</td>\n",
       "      <td>1</td>\n",
       "      <td>Australian Grand Prix</td>\n",
       "      <td>2016-03-20</td>\n",
       "      <td>5</td>\n",
       "      <td>1</td>\n",
       "      <td>0.0</td>\n",
       "      <td>False</td>\n",
       "    </tr>\n",
       "    <tr>\n",
       "      <th>111778</th>\n",
       "      <td>948</td>\n",
       "      <td>20</td>\n",
       "      <td>4</td>\n",
       "      <td>1</td>\n",
       "      <td>92014</td>\n",
       "      <td>2016</td>\n",
       "      <td>1</td>\n",
       "      <td>1</td>\n",
       "      <td>Australian Grand Prix</td>\n",
       "      <td>2016-03-20</td>\n",
       "      <td>5</td>\n",
       "      <td>1</td>\n",
       "      <td>0.0</td>\n",
       "      <td>False</td>\n",
       "    </tr>\n",
       "    <tr>\n",
       "      <th>111779</th>\n",
       "      <td>948</td>\n",
       "      <td>20</td>\n",
       "      <td>5</td>\n",
       "      <td>1</td>\n",
       "      <td>92273</td>\n",
       "      <td>2016</td>\n",
       "      <td>1</td>\n",
       "      <td>1</td>\n",
       "      <td>Australian Grand Prix</td>\n",
       "      <td>2016-03-20</td>\n",
       "      <td>5</td>\n",
       "      <td>1</td>\n",
       "      <td>0.0</td>\n",
       "      <td>False</td>\n",
       "    </tr>\n",
       "    <tr>\n",
       "      <th>111780</th>\n",
       "      <td>948</td>\n",
       "      <td>20</td>\n",
       "      <td>6</td>\n",
       "      <td>1</td>\n",
       "      <td>92204</td>\n",
       "      <td>2016</td>\n",
       "      <td>1</td>\n",
       "      <td>1</td>\n",
       "      <td>Australian Grand Prix</td>\n",
       "      <td>2016-03-20</td>\n",
       "      <td>5</td>\n",
       "      <td>1</td>\n",
       "      <td>0.0</td>\n",
       "      <td>False</td>\n",
       "    </tr>\n",
       "    <tr>\n",
       "      <th>111781</th>\n",
       "      <td>948</td>\n",
       "      <td>20</td>\n",
       "      <td>7</td>\n",
       "      <td>1</td>\n",
       "      <td>92080</td>\n",
       "      <td>2016</td>\n",
       "      <td>1</td>\n",
       "      <td>1</td>\n",
       "      <td>Australian Grand Prix</td>\n",
       "      <td>2016-03-20</td>\n",
       "      <td>5</td>\n",
       "      <td>1</td>\n",
       "      <td>0.0</td>\n",
       "      <td>False</td>\n",
       "    </tr>\n",
       "    <tr>\n",
       "      <th>111782</th>\n",
       "      <td>948</td>\n",
       "      <td>20</td>\n",
       "      <td>8</td>\n",
       "      <td>1</td>\n",
       "      <td>92289</td>\n",
       "      <td>2016</td>\n",
       "      <td>1</td>\n",
       "      <td>1</td>\n",
       "      <td>Australian Grand Prix</td>\n",
       "      <td>2016-03-20</td>\n",
       "      <td>5</td>\n",
       "      <td>1</td>\n",
       "      <td>0.0</td>\n",
       "      <td>False</td>\n",
       "    </tr>\n",
       "    <tr>\n",
       "      <th>111783</th>\n",
       "      <td>948</td>\n",
       "      <td>20</td>\n",
       "      <td>9</td>\n",
       "      <td>1</td>\n",
       "      <td>92578</td>\n",
       "      <td>2016</td>\n",
       "      <td>1</td>\n",
       "      <td>1</td>\n",
       "      <td>Australian Grand Prix</td>\n",
       "      <td>2016-03-20</td>\n",
       "      <td>5</td>\n",
       "      <td>1</td>\n",
       "      <td>0.0</td>\n",
       "      <td>False</td>\n",
       "    </tr>\n",
       "    <tr>\n",
       "      <th>111784</th>\n",
       "      <td>948</td>\n",
       "      <td>20</td>\n",
       "      <td>10</td>\n",
       "      <td>1</td>\n",
       "      <td>92571</td>\n",
       "      <td>2016</td>\n",
       "      <td>1</td>\n",
       "      <td>1</td>\n",
       "      <td>Australian Grand Prix</td>\n",
       "      <td>2016-03-20</td>\n",
       "      <td>5</td>\n",
       "      <td>1</td>\n",
       "      <td>0.0</td>\n",
       "      <td>False</td>\n",
       "    </tr>\n",
       "    <tr>\n",
       "      <th>111785</th>\n",
       "      <td>948</td>\n",
       "      <td>20</td>\n",
       "      <td>11</td>\n",
       "      <td>1</td>\n",
       "      <td>92960</td>\n",
       "      <td>2016</td>\n",
       "      <td>1</td>\n",
       "      <td>1</td>\n",
       "      <td>Australian Grand Prix</td>\n",
       "      <td>2016-03-20</td>\n",
       "      <td>5</td>\n",
       "      <td>1</td>\n",
       "      <td>0.0</td>\n",
       "      <td>False</td>\n",
       "    </tr>\n",
       "    <tr>\n",
       "      <th>111786</th>\n",
       "      <td>948</td>\n",
       "      <td>20</td>\n",
       "      <td>12</td>\n",
       "      <td>1</td>\n",
       "      <td>93014</td>\n",
       "      <td>2016</td>\n",
       "      <td>1</td>\n",
       "      <td>1</td>\n",
       "      <td>Australian Grand Prix</td>\n",
       "      <td>2016-03-20</td>\n",
       "      <td>5</td>\n",
       "      <td>1</td>\n",
       "      <td>0.0</td>\n",
       "      <td>False</td>\n",
       "    </tr>\n",
       "    <tr>\n",
       "      <th>111787</th>\n",
       "      <td>948</td>\n",
       "      <td>20</td>\n",
       "      <td>13</td>\n",
       "      <td>3</td>\n",
       "      <td>110574</td>\n",
       "      <td>2016</td>\n",
       "      <td>1</td>\n",
       "      <td>1</td>\n",
       "      <td>Australian Grand Prix</td>\n",
       "      <td>2016-03-20</td>\n",
       "      <td>5</td>\n",
       "      <td>1</td>\n",
       "      <td>21339.0</td>\n",
       "      <td>True</td>\n",
       "    </tr>\n",
       "    <tr>\n",
       "      <th>111788</th>\n",
       "      <td>948</td>\n",
       "      <td>20</td>\n",
       "      <td>14</td>\n",
       "      <td>3</td>\n",
       "      <td>95604</td>\n",
       "      <td>2016</td>\n",
       "      <td>1</td>\n",
       "      <td>1</td>\n",
       "      <td>Australian Grand Prix</td>\n",
       "      <td>2016-03-20</td>\n",
       "      <td>5</td>\n",
       "      <td>1</td>\n",
       "      <td>0.0</td>\n",
       "      <td>False</td>\n",
       "    </tr>\n",
       "    <tr>\n",
       "      <th>111789</th>\n",
       "      <td>948</td>\n",
       "      <td>20</td>\n",
       "      <td>15</td>\n",
       "      <td>3</td>\n",
       "      <td>90757</td>\n",
       "      <td>2016</td>\n",
       "      <td>1</td>\n",
       "      <td>1</td>\n",
       "      <td>Australian Grand Prix</td>\n",
       "      <td>2016-03-20</td>\n",
       "      <td>5</td>\n",
       "      <td>1</td>\n",
       "      <td>0.0</td>\n",
       "      <td>False</td>\n",
       "    </tr>\n",
       "    <tr>\n",
       "      <th>111790</th>\n",
       "      <td>948</td>\n",
       "      <td>20</td>\n",
       "      <td>16</td>\n",
       "      <td>1</td>\n",
       "      <td>91809</td>\n",
       "      <td>2016</td>\n",
       "      <td>1</td>\n",
       "      <td>1</td>\n",
       "      <td>Australian Grand Prix</td>\n",
       "      <td>2016-03-20</td>\n",
       "      <td>5</td>\n",
       "      <td>1</td>\n",
       "      <td>0.0</td>\n",
       "      <td>False</td>\n",
       "    </tr>\n",
       "    <tr>\n",
       "      <th>111791</th>\n",
       "      <td>948</td>\n",
       "      <td>20</td>\n",
       "      <td>17</td>\n",
       "      <td>1</td>\n",
       "      <td>99423</td>\n",
       "      <td>2016</td>\n",
       "      <td>1</td>\n",
       "      <td>1</td>\n",
       "      <td>Australian Grand Prix</td>\n",
       "      <td>2016-03-20</td>\n",
       "      <td>5</td>\n",
       "      <td>1</td>\n",
       "      <td>0.0</td>\n",
       "      <td>False</td>\n",
       "    </tr>\n",
       "    <tr>\n",
       "      <th>111792</th>\n",
       "      <td>948</td>\n",
       "      <td>20</td>\n",
       "      <td>18</td>\n",
       "      <td>1</td>\n",
       "      <td>201551</td>\n",
       "      <td>2016</td>\n",
       "      <td>1</td>\n",
       "      <td>1</td>\n",
       "      <td>Australian Grand Prix</td>\n",
       "      <td>2016-03-20</td>\n",
       "      <td>5</td>\n",
       "      <td>1</td>\n",
       "      <td>1089312.0</td>\n",
       "      <td>True</td>\n",
       "    </tr>\n",
       "    <tr>\n",
       "      <th>111793</th>\n",
       "      <td>948</td>\n",
       "      <td>20</td>\n",
       "      <td>19</td>\n",
       "      <td>1</td>\n",
       "      <td>1213527</td>\n",
       "      <td>2016</td>\n",
       "      <td>1</td>\n",
       "      <td>1</td>\n",
       "      <td>Australian Grand Prix</td>\n",
       "      <td>2016-03-20</td>\n",
       "      <td>5</td>\n",
       "      <td>1</td>\n",
       "      <td>0.0</td>\n",
       "      <td>False</td>\n",
       "    </tr>\n",
       "    <tr>\n",
       "      <th>111794</th>\n",
       "      <td>948</td>\n",
       "      <td>20</td>\n",
       "      <td>20</td>\n",
       "      <td>1</td>\n",
       "      <td>90524</td>\n",
       "      <td>2016</td>\n",
       "      <td>1</td>\n",
       "      <td>1</td>\n",
       "      <td>Australian Grand Prix</td>\n",
       "      <td>2016-03-20</td>\n",
       "      <td>5</td>\n",
       "      <td>1</td>\n",
       "      <td>0.0</td>\n",
       "      <td>False</td>\n",
       "    </tr>\n",
       "    <tr>\n",
       "      <th>111795</th>\n",
       "      <td>948</td>\n",
       "      <td>20</td>\n",
       "      <td>21</td>\n",
       "      <td>1</td>\n",
       "      <td>90374</td>\n",
       "      <td>2016</td>\n",
       "      <td>1</td>\n",
       "      <td>1</td>\n",
       "      <td>Australian Grand Prix</td>\n",
       "      <td>2016-03-20</td>\n",
       "      <td>5</td>\n",
       "      <td>1</td>\n",
       "      <td>0.0</td>\n",
       "      <td>False</td>\n",
       "    </tr>\n",
       "    <tr>\n",
       "      <th>111796</th>\n",
       "      <td>948</td>\n",
       "      <td>20</td>\n",
       "      <td>22</td>\n",
       "      <td>1</td>\n",
       "      <td>90207</td>\n",
       "      <td>2016</td>\n",
       "      <td>1</td>\n",
       "      <td>1</td>\n",
       "      <td>Australian Grand Prix</td>\n",
       "      <td>2016-03-20</td>\n",
       "      <td>5</td>\n",
       "      <td>1</td>\n",
       "      <td>0.0</td>\n",
       "      <td>False</td>\n",
       "    </tr>\n",
       "    <tr>\n",
       "      <th>111797</th>\n",
       "      <td>948</td>\n",
       "      <td>20</td>\n",
       "      <td>23</td>\n",
       "      <td>1</td>\n",
       "      <td>89951</td>\n",
       "      <td>2016</td>\n",
       "      <td>1</td>\n",
       "      <td>1</td>\n",
       "      <td>Australian Grand Prix</td>\n",
       "      <td>2016-03-20</td>\n",
       "      <td>5</td>\n",
       "      <td>1</td>\n",
       "      <td>0.0</td>\n",
       "      <td>False</td>\n",
       "    </tr>\n",
       "    <tr>\n",
       "      <th>111798</th>\n",
       "      <td>948</td>\n",
       "      <td>20</td>\n",
       "      <td>24</td>\n",
       "      <td>1</td>\n",
       "      <td>90185</td>\n",
       "      <td>2016</td>\n",
       "      <td>1</td>\n",
       "      <td>1</td>\n",
       "      <td>Australian Grand Prix</td>\n",
       "      <td>2016-03-20</td>\n",
       "      <td>5</td>\n",
       "      <td>1</td>\n",
       "      <td>0.0</td>\n",
       "      <td>False</td>\n",
       "    </tr>\n",
       "    <tr>\n",
       "      <th>111799</th>\n",
       "      <td>948</td>\n",
       "      <td>20</td>\n",
       "      <td>25</td>\n",
       "      <td>1</td>\n",
       "      <td>90719</td>\n",
       "      <td>2016</td>\n",
       "      <td>1</td>\n",
       "      <td>1</td>\n",
       "      <td>Australian Grand Prix</td>\n",
       "      <td>2016-03-20</td>\n",
       "      <td>5</td>\n",
       "      <td>1</td>\n",
       "      <td>0.0</td>\n",
       "      <td>False</td>\n",
       "    </tr>\n",
       "    <tr>\n",
       "      <th>111800</th>\n",
       "      <td>948</td>\n",
       "      <td>20</td>\n",
       "      <td>26</td>\n",
       "      <td>1</td>\n",
       "      <td>91764</td>\n",
       "      <td>2016</td>\n",
       "      <td>1</td>\n",
       "      <td>1</td>\n",
       "      <td>Australian Grand Prix</td>\n",
       "      <td>2016-03-20</td>\n",
       "      <td>5</td>\n",
       "      <td>1</td>\n",
       "      <td>0.0</td>\n",
       "      <td>False</td>\n",
       "    </tr>\n",
       "    <tr>\n",
       "      <th>111801</th>\n",
       "      <td>948</td>\n",
       "      <td>20</td>\n",
       "      <td>27</td>\n",
       "      <td>1</td>\n",
       "      <td>91454</td>\n",
       "      <td>2016</td>\n",
       "      <td>1</td>\n",
       "      <td>1</td>\n",
       "      <td>Australian Grand Prix</td>\n",
       "      <td>2016-03-20</td>\n",
       "      <td>5</td>\n",
       "      <td>1</td>\n",
       "      <td>0.0</td>\n",
       "      <td>False</td>\n",
       "    </tr>\n",
       "    <tr>\n",
       "      <th>111802</th>\n",
       "      <td>948</td>\n",
       "      <td>20</td>\n",
       "      <td>28</td>\n",
       "      <td>1</td>\n",
       "      <td>91507</td>\n",
       "      <td>2016</td>\n",
       "      <td>1</td>\n",
       "      <td>1</td>\n",
       "      <td>Australian Grand Prix</td>\n",
       "      <td>2016-03-20</td>\n",
       "      <td>5</td>\n",
       "      <td>1</td>\n",
       "      <td>0.0</td>\n",
       "      <td>False</td>\n",
       "    </tr>\n",
       "    <tr>\n",
       "      <th>111803</th>\n",
       "      <td>948</td>\n",
       "      <td>20</td>\n",
       "      <td>29</td>\n",
       "      <td>1</td>\n",
       "      <td>91809</td>\n",
       "      <td>2016</td>\n",
       "      <td>1</td>\n",
       "      <td>1</td>\n",
       "      <td>Australian Grand Prix</td>\n",
       "      <td>2016-03-20</td>\n",
       "      <td>5</td>\n",
       "      <td>1</td>\n",
       "      <td>0.0</td>\n",
       "      <td>False</td>\n",
       "    </tr>\n",
       "    <tr>\n",
       "      <th>111804</th>\n",
       "      <td>948</td>\n",
       "      <td>20</td>\n",
       "      <td>30</td>\n",
       "      <td>1</td>\n",
       "      <td>92003</td>\n",
       "      <td>2016</td>\n",
       "      <td>1</td>\n",
       "      <td>1</td>\n",
       "      <td>Australian Grand Prix</td>\n",
       "      <td>2016-03-20</td>\n",
       "      <td>5</td>\n",
       "      <td>1</td>\n",
       "      <td>0.0</td>\n",
       "      <td>False</td>\n",
       "    </tr>\n",
       "    <tr>\n",
       "      <th>111805</th>\n",
       "      <td>948</td>\n",
       "      <td>20</td>\n",
       "      <td>31</td>\n",
       "      <td>1</td>\n",
       "      <td>92228</td>\n",
       "      <td>2016</td>\n",
       "      <td>1</td>\n",
       "      <td>1</td>\n",
       "      <td>Australian Grand Prix</td>\n",
       "      <td>2016-03-20</td>\n",
       "      <td>5</td>\n",
       "      <td>1</td>\n",
       "      <td>0.0</td>\n",
       "      <td>False</td>\n",
       "    </tr>\n",
       "    <tr>\n",
       "      <th>111806</th>\n",
       "      <td>948</td>\n",
       "      <td>20</td>\n",
       "      <td>32</td>\n",
       "      <td>1</td>\n",
       "      <td>92227</td>\n",
       "      <td>2016</td>\n",
       "      <td>1</td>\n",
       "      <td>1</td>\n",
       "      <td>Australian Grand Prix</td>\n",
       "      <td>2016-03-20</td>\n",
       "      <td>5</td>\n",
       "      <td>1</td>\n",
       "      <td>0.0</td>\n",
       "      <td>False</td>\n",
       "    </tr>\n",
       "    <tr>\n",
       "      <th>111807</th>\n",
       "      <td>948</td>\n",
       "      <td>20</td>\n",
       "      <td>33</td>\n",
       "      <td>1</td>\n",
       "      <td>92795</td>\n",
       "      <td>2016</td>\n",
       "      <td>1</td>\n",
       "      <td>1</td>\n",
       "      <td>Australian Grand Prix</td>\n",
       "      <td>2016-03-20</td>\n",
       "      <td>5</td>\n",
       "      <td>1</td>\n",
       "      <td>0.0</td>\n",
       "      <td>False</td>\n",
       "    </tr>\n",
       "    <tr>\n",
       "      <th>111808</th>\n",
       "      <td>948</td>\n",
       "      <td>20</td>\n",
       "      <td>34</td>\n",
       "      <td>1</td>\n",
       "      <td>92937</td>\n",
       "      <td>2016</td>\n",
       "      <td>1</td>\n",
       "      <td>1</td>\n",
       "      <td>Australian Grand Prix</td>\n",
       "      <td>2016-03-20</td>\n",
       "      <td>5</td>\n",
       "      <td>1</td>\n",
       "      <td>0.0</td>\n",
       "      <td>False</td>\n",
       "    </tr>\n",
       "    <tr>\n",
       "      <th>111809</th>\n",
       "      <td>948</td>\n",
       "      <td>20</td>\n",
       "      <td>35</td>\n",
       "      <td>4</td>\n",
       "      <td>113109</td>\n",
       "      <td>2016</td>\n",
       "      <td>1</td>\n",
       "      <td>1</td>\n",
       "      <td>Australian Grand Prix</td>\n",
       "      <td>2016-03-20</td>\n",
       "      <td>5</td>\n",
       "      <td>1</td>\n",
       "      <td>24548.0</td>\n",
       "      <td>True</td>\n",
       "    </tr>\n",
       "    <tr>\n",
       "      <th>111810</th>\n",
       "      <td>948</td>\n",
       "      <td>20</td>\n",
       "      <td>36</td>\n",
       "      <td>4</td>\n",
       "      <td>94747</td>\n",
       "      <td>2016</td>\n",
       "      <td>1</td>\n",
       "      <td>1</td>\n",
       "      <td>Australian Grand Prix</td>\n",
       "      <td>2016-03-20</td>\n",
       "      <td>5</td>\n",
       "      <td>1</td>\n",
       "      <td>0.0</td>\n",
       "      <td>False</td>\n",
       "    </tr>\n",
       "    <tr>\n",
       "      <th>111811</th>\n",
       "      <td>948</td>\n",
       "      <td>20</td>\n",
       "      <td>37</td>\n",
       "      <td>4</td>\n",
       "      <td>90251</td>\n",
       "      <td>2016</td>\n",
       "      <td>1</td>\n",
       "      <td>1</td>\n",
       "      <td>Australian Grand Prix</td>\n",
       "      <td>2016-03-20</td>\n",
       "      <td>5</td>\n",
       "      <td>1</td>\n",
       "      <td>0.0</td>\n",
       "      <td>False</td>\n",
       "    </tr>\n",
       "    <tr>\n",
       "      <th>111812</th>\n",
       "      <td>948</td>\n",
       "      <td>20</td>\n",
       "      <td>38</td>\n",
       "      <td>4</td>\n",
       "      <td>90612</td>\n",
       "      <td>2016</td>\n",
       "      <td>1</td>\n",
       "      <td>1</td>\n",
       "      <td>Australian Grand Prix</td>\n",
       "      <td>2016-03-20</td>\n",
       "      <td>5</td>\n",
       "      <td>1</td>\n",
       "      <td>0.0</td>\n",
       "      <td>False</td>\n",
       "    </tr>\n",
       "    <tr>\n",
       "      <th>111813</th>\n",
       "      <td>948</td>\n",
       "      <td>20</td>\n",
       "      <td>39</td>\n",
       "      <td>4</td>\n",
       "      <td>90627</td>\n",
       "      <td>2016</td>\n",
       "      <td>1</td>\n",
       "      <td>1</td>\n",
       "      <td>Australian Grand Prix</td>\n",
       "      <td>2016-03-20</td>\n",
       "      <td>5</td>\n",
       "      <td>1</td>\n",
       "      <td>0.0</td>\n",
       "      <td>False</td>\n",
       "    </tr>\n",
       "    <tr>\n",
       "      <th>111814</th>\n",
       "      <td>948</td>\n",
       "      <td>20</td>\n",
       "      <td>40</td>\n",
       "      <td>4</td>\n",
       "      <td>91064</td>\n",
       "      <td>2016</td>\n",
       "      <td>1</td>\n",
       "      <td>1</td>\n",
       "      <td>Australian Grand Prix</td>\n",
       "      <td>2016-03-20</td>\n",
       "      <td>5</td>\n",
       "      <td>1</td>\n",
       "      <td>0.0</td>\n",
       "      <td>False</td>\n",
       "    </tr>\n",
       "    <tr>\n",
       "      <th>111815</th>\n",
       "      <td>948</td>\n",
       "      <td>20</td>\n",
       "      <td>41</td>\n",
       "      <td>4</td>\n",
       "      <td>91220</td>\n",
       "      <td>2016</td>\n",
       "      <td>1</td>\n",
       "      <td>1</td>\n",
       "      <td>Australian Grand Prix</td>\n",
       "      <td>2016-03-20</td>\n",
       "      <td>5</td>\n",
       "      <td>1</td>\n",
       "      <td>0.0</td>\n",
       "      <td>False</td>\n",
       "    </tr>\n",
       "    <tr>\n",
       "      <th>111816</th>\n",
       "      <td>948</td>\n",
       "      <td>20</td>\n",
       "      <td>42</td>\n",
       "      <td>3</td>\n",
       "      <td>91104</td>\n",
       "      <td>2016</td>\n",
       "      <td>1</td>\n",
       "      <td>1</td>\n",
       "      <td>Australian Grand Prix</td>\n",
       "      <td>2016-03-20</td>\n",
       "      <td>5</td>\n",
       "      <td>1</td>\n",
       "      <td>0.0</td>\n",
       "      <td>False</td>\n",
       "    </tr>\n",
       "    <tr>\n",
       "      <th>111817</th>\n",
       "      <td>948</td>\n",
       "      <td>20</td>\n",
       "      <td>43</td>\n",
       "      <td>3</td>\n",
       "      <td>90814</td>\n",
       "      <td>2016</td>\n",
       "      <td>1</td>\n",
       "      <td>1</td>\n",
       "      <td>Australian Grand Prix</td>\n",
       "      <td>2016-03-20</td>\n",
       "      <td>5</td>\n",
       "      <td>1</td>\n",
       "      <td>0.0</td>\n",
       "      <td>False</td>\n",
       "    </tr>\n",
       "    <tr>\n",
       "      <th>111818</th>\n",
       "      <td>948</td>\n",
       "      <td>20</td>\n",
       "      <td>44</td>\n",
       "      <td>3</td>\n",
       "      <td>91196</td>\n",
       "      <td>2016</td>\n",
       "      <td>1</td>\n",
       "      <td>1</td>\n",
       "      <td>Australian Grand Prix</td>\n",
       "      <td>2016-03-20</td>\n",
       "      <td>5</td>\n",
       "      <td>1</td>\n",
       "      <td>0.0</td>\n",
       "      <td>False</td>\n",
       "    </tr>\n",
       "    <tr>\n",
       "      <th>111819</th>\n",
       "      <td>948</td>\n",
       "      <td>20</td>\n",
       "      <td>45</td>\n",
       "      <td>3</td>\n",
       "      <td>90779</td>\n",
       "      <td>2016</td>\n",
       "      <td>1</td>\n",
       "      <td>1</td>\n",
       "      <td>Australian Grand Prix</td>\n",
       "      <td>2016-03-20</td>\n",
       "      <td>5</td>\n",
       "      <td>1</td>\n",
       "      <td>0.0</td>\n",
       "      <td>False</td>\n",
       "    </tr>\n",
       "    <tr>\n",
       "      <th>111820</th>\n",
       "      <td>948</td>\n",
       "      <td>20</td>\n",
       "      <td>46</td>\n",
       "      <td>3</td>\n",
       "      <td>90725</td>\n",
       "      <td>2016</td>\n",
       "      <td>1</td>\n",
       "      <td>1</td>\n",
       "      <td>Australian Grand Prix</td>\n",
       "      <td>2016-03-20</td>\n",
       "      <td>5</td>\n",
       "      <td>1</td>\n",
       "      <td>0.0</td>\n",
       "      <td>False</td>\n",
       "    </tr>\n",
       "    <tr>\n",
       "      <th>111821</th>\n",
       "      <td>948</td>\n",
       "      <td>20</td>\n",
       "      <td>47</td>\n",
       "      <td>3</td>\n",
       "      <td>90590</td>\n",
       "      <td>2016</td>\n",
       "      <td>1</td>\n",
       "      <td>1</td>\n",
       "      <td>Australian Grand Prix</td>\n",
       "      <td>2016-03-20</td>\n",
       "      <td>5</td>\n",
       "      <td>1</td>\n",
       "      <td>0.0</td>\n",
       "      <td>False</td>\n",
       "    </tr>\n",
       "    <tr>\n",
       "      <th>111822</th>\n",
       "      <td>948</td>\n",
       "      <td>20</td>\n",
       "      <td>48</td>\n",
       "      <td>3</td>\n",
       "      <td>90463</td>\n",
       "      <td>2016</td>\n",
       "      <td>1</td>\n",
       "      <td>1</td>\n",
       "      <td>Australian Grand Prix</td>\n",
       "      <td>2016-03-20</td>\n",
       "      <td>5</td>\n",
       "      <td>1</td>\n",
       "      <td>0.0</td>\n",
       "      <td>False</td>\n",
       "    </tr>\n",
       "    <tr>\n",
       "      <th>111823</th>\n",
       "      <td>948</td>\n",
       "      <td>20</td>\n",
       "      <td>49</td>\n",
       "      <td>3</td>\n",
       "      <td>90271</td>\n",
       "      <td>2016</td>\n",
       "      <td>1</td>\n",
       "      <td>1</td>\n",
       "      <td>Australian Grand Prix</td>\n",
       "      <td>2016-03-20</td>\n",
       "      <td>5</td>\n",
       "      <td>1</td>\n",
       "      <td>0.0</td>\n",
       "      <td>False</td>\n",
       "    </tr>\n",
       "    <tr>\n",
       "      <th>111824</th>\n",
       "      <td>948</td>\n",
       "      <td>20</td>\n",
       "      <td>50</td>\n",
       "      <td>3</td>\n",
       "      <td>90168</td>\n",
       "      <td>2016</td>\n",
       "      <td>1</td>\n",
       "      <td>1</td>\n",
       "      <td>Australian Grand Prix</td>\n",
       "      <td>2016-03-20</td>\n",
       "      <td>5</td>\n",
       "      <td>1</td>\n",
       "      <td>0.0</td>\n",
       "      <td>False</td>\n",
       "    </tr>\n",
       "    <tr>\n",
       "      <th>111825</th>\n",
       "      <td>948</td>\n",
       "      <td>20</td>\n",
       "      <td>51</td>\n",
       "      <td>3</td>\n",
       "      <td>90137</td>\n",
       "      <td>2016</td>\n",
       "      <td>1</td>\n",
       "      <td>1</td>\n",
       "      <td>Australian Grand Prix</td>\n",
       "      <td>2016-03-20</td>\n",
       "      <td>5</td>\n",
       "      <td>1</td>\n",
       "      <td>0.0</td>\n",
       "      <td>False</td>\n",
       "    </tr>\n",
       "    <tr>\n",
       "      <th>111826</th>\n",
       "      <td>948</td>\n",
       "      <td>20</td>\n",
       "      <td>52</td>\n",
       "      <td>3</td>\n",
       "      <td>91262</td>\n",
       "      <td>2016</td>\n",
       "      <td>1</td>\n",
       "      <td>1</td>\n",
       "      <td>Australian Grand Prix</td>\n",
       "      <td>2016-03-20</td>\n",
       "      <td>5</td>\n",
       "      <td>1</td>\n",
       "      <td>0.0</td>\n",
       "      <td>False</td>\n",
       "    </tr>\n",
       "    <tr>\n",
       "      <th>111827</th>\n",
       "      <td>948</td>\n",
       "      <td>20</td>\n",
       "      <td>53</td>\n",
       "      <td>3</td>\n",
       "      <td>90665</td>\n",
       "      <td>2016</td>\n",
       "      <td>1</td>\n",
       "      <td>1</td>\n",
       "      <td>Australian Grand Prix</td>\n",
       "      <td>2016-03-20</td>\n",
       "      <td>5</td>\n",
       "      <td>1</td>\n",
       "      <td>0.0</td>\n",
       "      <td>False</td>\n",
       "    </tr>\n",
       "    <tr>\n",
       "      <th>111828</th>\n",
       "      <td>948</td>\n",
       "      <td>20</td>\n",
       "      <td>54</td>\n",
       "      <td>3</td>\n",
       "      <td>90907</td>\n",
       "      <td>2016</td>\n",
       "      <td>1</td>\n",
       "      <td>1</td>\n",
       "      <td>Australian Grand Prix</td>\n",
       "      <td>2016-03-20</td>\n",
       "      <td>5</td>\n",
       "      <td>1</td>\n",
       "      <td>0.0</td>\n",
       "      <td>False</td>\n",
       "    </tr>\n",
       "    <tr>\n",
       "      <th>111829</th>\n",
       "      <td>948</td>\n",
       "      <td>20</td>\n",
       "      <td>55</td>\n",
       "      <td>3</td>\n",
       "      <td>95239</td>\n",
       "      <td>2016</td>\n",
       "      <td>1</td>\n",
       "      <td>1</td>\n",
       "      <td>Australian Grand Prix</td>\n",
       "      <td>2016-03-20</td>\n",
       "      <td>5</td>\n",
       "      <td>1</td>\n",
       "      <td>0.0</td>\n",
       "      <td>False</td>\n",
       "    </tr>\n",
       "    <tr>\n",
       "      <th>111830</th>\n",
       "      <td>948</td>\n",
       "      <td>20</td>\n",
       "      <td>56</td>\n",
       "      <td>3</td>\n",
       "      <td>90965</td>\n",
       "      <td>2016</td>\n",
       "      <td>1</td>\n",
       "      <td>1</td>\n",
       "      <td>Australian Grand Prix</td>\n",
       "      <td>2016-03-20</td>\n",
       "      <td>5</td>\n",
       "      <td>1</td>\n",
       "      <td>0.0</td>\n",
       "      <td>False</td>\n",
       "    </tr>\n",
       "    <tr>\n",
       "      <th>111831</th>\n",
       "      <td>948</td>\n",
       "      <td>20</td>\n",
       "      <td>57</td>\n",
       "      <td>3</td>\n",
       "      <td>91634</td>\n",
       "      <td>2016</td>\n",
       "      <td>1</td>\n",
       "      <td>1</td>\n",
       "      <td>Australian Grand Prix</td>\n",
       "      <td>2016-03-20</td>\n",
       "      <td>5</td>\n",
       "      <td>1</td>\n",
       "      <td>0.0</td>\n",
       "      <td>False</td>\n",
       "    </tr>\n",
       "  </tbody>\n",
       "</table>\n",
       "</div>"
      ],
      "text/plain": [
       "        raceId  driverId  lap  position  milliseconds  year  round  circuitId  \\\n",
       "111775     948        20    1         1         96916  2016      1          1   \n",
       "111776     948        20    2         1         91664  2016      1          1   \n",
       "111777     948        20    3         1         92167  2016      1          1   \n",
       "111778     948        20    4         1         92014  2016      1          1   \n",
       "111779     948        20    5         1         92273  2016      1          1   \n",
       "111780     948        20    6         1         92204  2016      1          1   \n",
       "111781     948        20    7         1         92080  2016      1          1   \n",
       "111782     948        20    8         1         92289  2016      1          1   \n",
       "111783     948        20    9         1         92578  2016      1          1   \n",
       "111784     948        20   10         1         92571  2016      1          1   \n",
       "111785     948        20   11         1         92960  2016      1          1   \n",
       "111786     948        20   12         1         93014  2016      1          1   \n",
       "111787     948        20   13         3        110574  2016      1          1   \n",
       "111788     948        20   14         3         95604  2016      1          1   \n",
       "111789     948        20   15         3         90757  2016      1          1   \n",
       "111790     948        20   16         1         91809  2016      1          1   \n",
       "111791     948        20   17         1         99423  2016      1          1   \n",
       "111792     948        20   18         1        201551  2016      1          1   \n",
       "111793     948        20   19         1       1213527  2016      1          1   \n",
       "111794     948        20   20         1         90524  2016      1          1   \n",
       "111795     948        20   21         1         90374  2016      1          1   \n",
       "111796     948        20   22         1         90207  2016      1          1   \n",
       "111797     948        20   23         1         89951  2016      1          1   \n",
       "111798     948        20   24         1         90185  2016      1          1   \n",
       "111799     948        20   25         1         90719  2016      1          1   \n",
       "111800     948        20   26         1         91764  2016      1          1   \n",
       "111801     948        20   27         1         91454  2016      1          1   \n",
       "111802     948        20   28         1         91507  2016      1          1   \n",
       "111803     948        20   29         1         91809  2016      1          1   \n",
       "111804     948        20   30         1         92003  2016      1          1   \n",
       "111805     948        20   31         1         92228  2016      1          1   \n",
       "111806     948        20   32         1         92227  2016      1          1   \n",
       "111807     948        20   33         1         92795  2016      1          1   \n",
       "111808     948        20   34         1         92937  2016      1          1   \n",
       "111809     948        20   35         4        113109  2016      1          1   \n",
       "111810     948        20   36         4         94747  2016      1          1   \n",
       "111811     948        20   37         4         90251  2016      1          1   \n",
       "111812     948        20   38         4         90612  2016      1          1   \n",
       "111813     948        20   39         4         90627  2016      1          1   \n",
       "111814     948        20   40         4         91064  2016      1          1   \n",
       "111815     948        20   41         4         91220  2016      1          1   \n",
       "111816     948        20   42         3         91104  2016      1          1   \n",
       "111817     948        20   43         3         90814  2016      1          1   \n",
       "111818     948        20   44         3         91196  2016      1          1   \n",
       "111819     948        20   45         3         90779  2016      1          1   \n",
       "111820     948        20   46         3         90725  2016      1          1   \n",
       "111821     948        20   47         3         90590  2016      1          1   \n",
       "111822     948        20   48         3         90463  2016      1          1   \n",
       "111823     948        20   49         3         90271  2016      1          1   \n",
       "111824     948        20   50         3         90168  2016      1          1   \n",
       "111825     948        20   51         3         90137  2016      1          1   \n",
       "111826     948        20   52         3         91262  2016      1          1   \n",
       "111827     948        20   53         3         90665  2016      1          1   \n",
       "111828     948        20   54         3         90907  2016      1          1   \n",
       "111829     948        20   55         3         95239  2016      1          1   \n",
       "111830     948        20   56         3         90965  2016      1          1   \n",
       "111831     948        20   57         3         91634  2016      1          1   \n",
       "\n",
       "                         name        date number  statusId  \\\n",
       "111775  Australian Grand Prix  2016-03-20      5         1   \n",
       "111776  Australian Grand Prix  2016-03-20      5         1   \n",
       "111777  Australian Grand Prix  2016-03-20      5         1   \n",
       "111778  Australian Grand Prix  2016-03-20      5         1   \n",
       "111779  Australian Grand Prix  2016-03-20      5         1   \n",
       "111780  Australian Grand Prix  2016-03-20      5         1   \n",
       "111781  Australian Grand Prix  2016-03-20      5         1   \n",
       "111782  Australian Grand Prix  2016-03-20      5         1   \n",
       "111783  Australian Grand Prix  2016-03-20      5         1   \n",
       "111784  Australian Grand Prix  2016-03-20      5         1   \n",
       "111785  Australian Grand Prix  2016-03-20      5         1   \n",
       "111786  Australian Grand Prix  2016-03-20      5         1   \n",
       "111787  Australian Grand Prix  2016-03-20      5         1   \n",
       "111788  Australian Grand Prix  2016-03-20      5         1   \n",
       "111789  Australian Grand Prix  2016-03-20      5         1   \n",
       "111790  Australian Grand Prix  2016-03-20      5         1   \n",
       "111791  Australian Grand Prix  2016-03-20      5         1   \n",
       "111792  Australian Grand Prix  2016-03-20      5         1   \n",
       "111793  Australian Grand Prix  2016-03-20      5         1   \n",
       "111794  Australian Grand Prix  2016-03-20      5         1   \n",
       "111795  Australian Grand Prix  2016-03-20      5         1   \n",
       "111796  Australian Grand Prix  2016-03-20      5         1   \n",
       "111797  Australian Grand Prix  2016-03-20      5         1   \n",
       "111798  Australian Grand Prix  2016-03-20      5         1   \n",
       "111799  Australian Grand Prix  2016-03-20      5         1   \n",
       "111800  Australian Grand Prix  2016-03-20      5         1   \n",
       "111801  Australian Grand Prix  2016-03-20      5         1   \n",
       "111802  Australian Grand Prix  2016-03-20      5         1   \n",
       "111803  Australian Grand Prix  2016-03-20      5         1   \n",
       "111804  Australian Grand Prix  2016-03-20      5         1   \n",
       "111805  Australian Grand Prix  2016-03-20      5         1   \n",
       "111806  Australian Grand Prix  2016-03-20      5         1   \n",
       "111807  Australian Grand Prix  2016-03-20      5         1   \n",
       "111808  Australian Grand Prix  2016-03-20      5         1   \n",
       "111809  Australian Grand Prix  2016-03-20      5         1   \n",
       "111810  Australian Grand Prix  2016-03-20      5         1   \n",
       "111811  Australian Grand Prix  2016-03-20      5         1   \n",
       "111812  Australian Grand Prix  2016-03-20      5         1   \n",
       "111813  Australian Grand Prix  2016-03-20      5         1   \n",
       "111814  Australian Grand Prix  2016-03-20      5         1   \n",
       "111815  Australian Grand Prix  2016-03-20      5         1   \n",
       "111816  Australian Grand Prix  2016-03-20      5         1   \n",
       "111817  Australian Grand Prix  2016-03-20      5         1   \n",
       "111818  Australian Grand Prix  2016-03-20      5         1   \n",
       "111819  Australian Grand Prix  2016-03-20      5         1   \n",
       "111820  Australian Grand Prix  2016-03-20      5         1   \n",
       "111821  Australian Grand Prix  2016-03-20      5         1   \n",
       "111822  Australian Grand Prix  2016-03-20      5         1   \n",
       "111823  Australian Grand Prix  2016-03-20      5         1   \n",
       "111824  Australian Grand Prix  2016-03-20      5         1   \n",
       "111825  Australian Grand Prix  2016-03-20      5         1   \n",
       "111826  Australian Grand Prix  2016-03-20      5         1   \n",
       "111827  Australian Grand Prix  2016-03-20      5         1   \n",
       "111828  Australian Grand Prix  2016-03-20      5         1   \n",
       "111829  Australian Grand Prix  2016-03-20      5         1   \n",
       "111830  Australian Grand Prix  2016-03-20      5         1   \n",
       "111831  Australian Grand Prix  2016-03-20      5         1   \n",
       "\n",
       "        pitStopMilliseconds  isPitStop  \n",
       "111775                  0.0      False  \n",
       "111776                  0.0      False  \n",
       "111777                  0.0      False  \n",
       "111778                  0.0      False  \n",
       "111779                  0.0      False  \n",
       "111780                  0.0      False  \n",
       "111781                  0.0      False  \n",
       "111782                  0.0      False  \n",
       "111783                  0.0      False  \n",
       "111784                  0.0      False  \n",
       "111785                  0.0      False  \n",
       "111786                  0.0      False  \n",
       "111787              21339.0       True  \n",
       "111788                  0.0      False  \n",
       "111789                  0.0      False  \n",
       "111790                  0.0      False  \n",
       "111791                  0.0      False  \n",
       "111792            1089312.0       True  \n",
       "111793                  0.0      False  \n",
       "111794                  0.0      False  \n",
       "111795                  0.0      False  \n",
       "111796                  0.0      False  \n",
       "111797                  0.0      False  \n",
       "111798                  0.0      False  \n",
       "111799                  0.0      False  \n",
       "111800                  0.0      False  \n",
       "111801                  0.0      False  \n",
       "111802                  0.0      False  \n",
       "111803                  0.0      False  \n",
       "111804                  0.0      False  \n",
       "111805                  0.0      False  \n",
       "111806                  0.0      False  \n",
       "111807                  0.0      False  \n",
       "111808                  0.0      False  \n",
       "111809              24548.0       True  \n",
       "111810                  0.0      False  \n",
       "111811                  0.0      False  \n",
       "111812                  0.0      False  \n",
       "111813                  0.0      False  \n",
       "111814                  0.0      False  \n",
       "111815                  0.0      False  \n",
       "111816                  0.0      False  \n",
       "111817                  0.0      False  \n",
       "111818                  0.0      False  \n",
       "111819                  0.0      False  \n",
       "111820                  0.0      False  \n",
       "111821                  0.0      False  \n",
       "111822                  0.0      False  \n",
       "111823                  0.0      False  \n",
       "111824                  0.0      False  \n",
       "111825                  0.0      False  \n",
       "111826                  0.0      False  \n",
       "111827                  0.0      False  \n",
       "111828                  0.0      False  \n",
       "111829                  0.0      False  \n",
       "111830                  0.0      False  \n",
       "111831                  0.0      False  "
      ]
     },
     "execution_count": 15,
     "metadata": {},
     "output_type": "execute_result"
    }
   ],
   "source": [
    "lap_times_selected_driver_circuit[lap_times_selected_driver_circuit[\"raceId\"] == 948]"
   ]
  },
  {
   "cell_type": "code",
   "execution_count": 16,
   "metadata": {},
   "outputs": [
    {
     "data": {
      "text/html": [
       "<div>\n",
       "<style scoped>\n",
       "    .dataframe tbody tr th:only-of-type {\n",
       "        vertical-align: middle;\n",
       "    }\n",
       "\n",
       "    .dataframe tbody tr th {\n",
       "        vertical-align: top;\n",
       "    }\n",
       "\n",
       "    .dataframe thead th {\n",
       "        text-align: right;\n",
       "    }\n",
       "</style>\n",
       "<table border=\"1\" class=\"dataframe\">\n",
       "  <thead>\n",
       "    <tr style=\"text-align: right;\">\n",
       "      <th></th>\n",
       "      <th>raceId</th>\n",
       "      <th>driverId</th>\n",
       "      <th>lap</th>\n",
       "      <th>position</th>\n",
       "      <th>milliseconds</th>\n",
       "      <th>year</th>\n",
       "      <th>round</th>\n",
       "      <th>circuitId</th>\n",
       "      <th>name</th>\n",
       "      <th>date</th>\n",
       "      <th>number</th>\n",
       "      <th>statusId</th>\n",
       "      <th>pitStopMilliseconds</th>\n",
       "      <th>isPitStop</th>\n",
       "    </tr>\n",
       "  </thead>\n",
       "  <tbody>\n",
       "    <tr>\n",
       "      <th>343523</th>\n",
       "      <td>1</td>\n",
       "      <td>20</td>\n",
       "      <td>1</td>\n",
       "      <td>2</td>\n",
       "      <td>99647</td>\n",
       "      <td>2009</td>\n",
       "      <td>1</td>\n",
       "      <td>1</td>\n",
       "      <td>Australian Grand Prix</td>\n",
       "      <td>2009-03-29</td>\n",
       "      <td>15</td>\n",
       "      <td>4</td>\n",
       "      <td>0.0</td>\n",
       "      <td>False</td>\n",
       "    </tr>\n",
       "    <tr>\n",
       "      <th>343524</th>\n",
       "      <td>1</td>\n",
       "      <td>20</td>\n",
       "      <td>2</td>\n",
       "      <td>2</td>\n",
       "      <td>91173</td>\n",
       "      <td>2009</td>\n",
       "      <td>1</td>\n",
       "      <td>1</td>\n",
       "      <td>Australian Grand Prix</td>\n",
       "      <td>2009-03-29</td>\n",
       "      <td>15</td>\n",
       "      <td>4</td>\n",
       "      <td>0.0</td>\n",
       "      <td>False</td>\n",
       "    </tr>\n",
       "    <tr>\n",
       "      <th>343525</th>\n",
       "      <td>1</td>\n",
       "      <td>20</td>\n",
       "      <td>3</td>\n",
       "      <td>2</td>\n",
       "      <td>89752</td>\n",
       "      <td>2009</td>\n",
       "      <td>1</td>\n",
       "      <td>1</td>\n",
       "      <td>Australian Grand Prix</td>\n",
       "      <td>2009-03-29</td>\n",
       "      <td>15</td>\n",
       "      <td>4</td>\n",
       "      <td>0.0</td>\n",
       "      <td>False</td>\n",
       "    </tr>\n",
       "    <tr>\n",
       "      <th>343526</th>\n",
       "      <td>1</td>\n",
       "      <td>20</td>\n",
       "      <td>4</td>\n",
       "      <td>2</td>\n",
       "      <td>88999</td>\n",
       "      <td>2009</td>\n",
       "      <td>1</td>\n",
       "      <td>1</td>\n",
       "      <td>Australian Grand Prix</td>\n",
       "      <td>2009-03-29</td>\n",
       "      <td>15</td>\n",
       "      <td>4</td>\n",
       "      <td>0.0</td>\n",
       "      <td>False</td>\n",
       "    </tr>\n",
       "    <tr>\n",
       "      <th>343527</th>\n",
       "      <td>1</td>\n",
       "      <td>20</td>\n",
       "      <td>5</td>\n",
       "      <td>2</td>\n",
       "      <td>88849</td>\n",
       "      <td>2009</td>\n",
       "      <td>1</td>\n",
       "      <td>1</td>\n",
       "      <td>Australian Grand Prix</td>\n",
       "      <td>2009-03-29</td>\n",
       "      <td>15</td>\n",
       "      <td>4</td>\n",
       "      <td>0.0</td>\n",
       "      <td>False</td>\n",
       "    </tr>\n",
       "    <tr>\n",
       "      <th>343528</th>\n",
       "      <td>1</td>\n",
       "      <td>20</td>\n",
       "      <td>6</td>\n",
       "      <td>2</td>\n",
       "      <td>88424</td>\n",
       "      <td>2009</td>\n",
       "      <td>1</td>\n",
       "      <td>1</td>\n",
       "      <td>Australian Grand Prix</td>\n",
       "      <td>2009-03-29</td>\n",
       "      <td>15</td>\n",
       "      <td>4</td>\n",
       "      <td>0.0</td>\n",
       "      <td>False</td>\n",
       "    </tr>\n",
       "    <tr>\n",
       "      <th>343529</th>\n",
       "      <td>1</td>\n",
       "      <td>20</td>\n",
       "      <td>7</td>\n",
       "      <td>2</td>\n",
       "      <td>88235</td>\n",
       "      <td>2009</td>\n",
       "      <td>1</td>\n",
       "      <td>1</td>\n",
       "      <td>Australian Grand Prix</td>\n",
       "      <td>2009-03-29</td>\n",
       "      <td>15</td>\n",
       "      <td>4</td>\n",
       "      <td>0.0</td>\n",
       "      <td>False</td>\n",
       "    </tr>\n",
       "    <tr>\n",
       "      <th>343530</th>\n",
       "      <td>1</td>\n",
       "      <td>20</td>\n",
       "      <td>8</td>\n",
       "      <td>2</td>\n",
       "      <td>88140</td>\n",
       "      <td>2009</td>\n",
       "      <td>1</td>\n",
       "      <td>1</td>\n",
       "      <td>Australian Grand Prix</td>\n",
       "      <td>2009-03-29</td>\n",
       "      <td>15</td>\n",
       "      <td>4</td>\n",
       "      <td>0.0</td>\n",
       "      <td>False</td>\n",
       "    </tr>\n",
       "    <tr>\n",
       "      <th>343531</th>\n",
       "      <td>1</td>\n",
       "      <td>20</td>\n",
       "      <td>9</td>\n",
       "      <td>2</td>\n",
       "      <td>88331</td>\n",
       "      <td>2009</td>\n",
       "      <td>1</td>\n",
       "      <td>1</td>\n",
       "      <td>Australian Grand Prix</td>\n",
       "      <td>2009-03-29</td>\n",
       "      <td>15</td>\n",
       "      <td>4</td>\n",
       "      <td>0.0</td>\n",
       "      <td>False</td>\n",
       "    </tr>\n",
       "    <tr>\n",
       "      <th>343532</th>\n",
       "      <td>1</td>\n",
       "      <td>20</td>\n",
       "      <td>10</td>\n",
       "      <td>2</td>\n",
       "      <td>88970</td>\n",
       "      <td>2009</td>\n",
       "      <td>1</td>\n",
       "      <td>1</td>\n",
       "      <td>Australian Grand Prix</td>\n",
       "      <td>2009-03-29</td>\n",
       "      <td>15</td>\n",
       "      <td>4</td>\n",
       "      <td>0.0</td>\n",
       "      <td>False</td>\n",
       "    </tr>\n",
       "    <tr>\n",
       "      <th>343533</th>\n",
       "      <td>1</td>\n",
       "      <td>20</td>\n",
       "      <td>11</td>\n",
       "      <td>2</td>\n",
       "      <td>88862</td>\n",
       "      <td>2009</td>\n",
       "      <td>1</td>\n",
       "      <td>1</td>\n",
       "      <td>Australian Grand Prix</td>\n",
       "      <td>2009-03-29</td>\n",
       "      <td>15</td>\n",
       "      <td>4</td>\n",
       "      <td>0.0</td>\n",
       "      <td>False</td>\n",
       "    </tr>\n",
       "    <tr>\n",
       "      <th>343534</th>\n",
       "      <td>1</td>\n",
       "      <td>20</td>\n",
       "      <td>12</td>\n",
       "      <td>2</td>\n",
       "      <td>88387</td>\n",
       "      <td>2009</td>\n",
       "      <td>1</td>\n",
       "      <td>1</td>\n",
       "      <td>Australian Grand Prix</td>\n",
       "      <td>2009-03-29</td>\n",
       "      <td>15</td>\n",
       "      <td>4</td>\n",
       "      <td>0.0</td>\n",
       "      <td>False</td>\n",
       "    </tr>\n",
       "    <tr>\n",
       "      <th>343535</th>\n",
       "      <td>1</td>\n",
       "      <td>20</td>\n",
       "      <td>13</td>\n",
       "      <td>2</td>\n",
       "      <td>88260</td>\n",
       "      <td>2009</td>\n",
       "      <td>1</td>\n",
       "      <td>1</td>\n",
       "      <td>Australian Grand Prix</td>\n",
       "      <td>2009-03-29</td>\n",
       "      <td>15</td>\n",
       "      <td>4</td>\n",
       "      <td>0.0</td>\n",
       "      <td>False</td>\n",
       "    </tr>\n",
       "    <tr>\n",
       "      <th>343536</th>\n",
       "      <td>1</td>\n",
       "      <td>20</td>\n",
       "      <td>14</td>\n",
       "      <td>2</td>\n",
       "      <td>88457</td>\n",
       "      <td>2009</td>\n",
       "      <td>1</td>\n",
       "      <td>1</td>\n",
       "      <td>Australian Grand Prix</td>\n",
       "      <td>2009-03-29</td>\n",
       "      <td>15</td>\n",
       "      <td>4</td>\n",
       "      <td>0.0</td>\n",
       "      <td>False</td>\n",
       "    </tr>\n",
       "    <tr>\n",
       "      <th>343537</th>\n",
       "      <td>1</td>\n",
       "      <td>20</td>\n",
       "      <td>15</td>\n",
       "      <td>2</td>\n",
       "      <td>88279</td>\n",
       "      <td>2009</td>\n",
       "      <td>1</td>\n",
       "      <td>1</td>\n",
       "      <td>Australian Grand Prix</td>\n",
       "      <td>2009-03-29</td>\n",
       "      <td>15</td>\n",
       "      <td>4</td>\n",
       "      <td>0.0</td>\n",
       "      <td>False</td>\n",
       "    </tr>\n",
       "    <tr>\n",
       "      <th>343538</th>\n",
       "      <td>1</td>\n",
       "      <td>20</td>\n",
       "      <td>16</td>\n",
       "      <td>2</td>\n",
       "      <td>110990</td>\n",
       "      <td>2009</td>\n",
       "      <td>1</td>\n",
       "      <td>1</td>\n",
       "      <td>Australian Grand Prix</td>\n",
       "      <td>2009-03-29</td>\n",
       "      <td>15</td>\n",
       "      <td>4</td>\n",
       "      <td>0.0</td>\n",
       "      <td>False</td>\n",
       "    </tr>\n",
       "    <tr>\n",
       "      <th>343539</th>\n",
       "      <td>1</td>\n",
       "      <td>20</td>\n",
       "      <td>17</td>\n",
       "      <td>2</td>\n",
       "      <td>95628</td>\n",
       "      <td>2009</td>\n",
       "      <td>1</td>\n",
       "      <td>1</td>\n",
       "      <td>Australian Grand Prix</td>\n",
       "      <td>2009-03-29</td>\n",
       "      <td>15</td>\n",
       "      <td>4</td>\n",
       "      <td>0.0</td>\n",
       "      <td>False</td>\n",
       "    </tr>\n",
       "    <tr>\n",
       "      <th>343540</th>\n",
       "      <td>1</td>\n",
       "      <td>20</td>\n",
       "      <td>18</td>\n",
       "      <td>2</td>\n",
       "      <td>90580</td>\n",
       "      <td>2009</td>\n",
       "      <td>1</td>\n",
       "      <td>1</td>\n",
       "      <td>Australian Grand Prix</td>\n",
       "      <td>2009-03-29</td>\n",
       "      <td>15</td>\n",
       "      <td>4</td>\n",
       "      <td>0.0</td>\n",
       "      <td>False</td>\n",
       "    </tr>\n",
       "    <tr>\n",
       "      <th>343541</th>\n",
       "      <td>1</td>\n",
       "      <td>20</td>\n",
       "      <td>19</td>\n",
       "      <td>2</td>\n",
       "      <td>94856</td>\n",
       "      <td>2009</td>\n",
       "      <td>1</td>\n",
       "      <td>1</td>\n",
       "      <td>Australian Grand Prix</td>\n",
       "      <td>2009-03-29</td>\n",
       "      <td>15</td>\n",
       "      <td>4</td>\n",
       "      <td>0.0</td>\n",
       "      <td>False</td>\n",
       "    </tr>\n",
       "    <tr>\n",
       "      <th>343542</th>\n",
       "      <td>1</td>\n",
       "      <td>20</td>\n",
       "      <td>20</td>\n",
       "      <td>2</td>\n",
       "      <td>144788</td>\n",
       "      <td>2009</td>\n",
       "      <td>1</td>\n",
       "      <td>1</td>\n",
       "      <td>Australian Grand Prix</td>\n",
       "      <td>2009-03-29</td>\n",
       "      <td>15</td>\n",
       "      <td>4</td>\n",
       "      <td>0.0</td>\n",
       "      <td>False</td>\n",
       "    </tr>\n",
       "    <tr>\n",
       "      <th>343543</th>\n",
       "      <td>1</td>\n",
       "      <td>20</td>\n",
       "      <td>21</td>\n",
       "      <td>2</td>\n",
       "      <td>106868</td>\n",
       "      <td>2009</td>\n",
       "      <td>1</td>\n",
       "      <td>1</td>\n",
       "      <td>Australian Grand Prix</td>\n",
       "      <td>2009-03-29</td>\n",
       "      <td>15</td>\n",
       "      <td>4</td>\n",
       "      <td>0.0</td>\n",
       "      <td>False</td>\n",
       "    </tr>\n",
       "    <tr>\n",
       "      <th>343544</th>\n",
       "      <td>1</td>\n",
       "      <td>20</td>\n",
       "      <td>22</td>\n",
       "      <td>2</td>\n",
       "      <td>158375</td>\n",
       "      <td>2009</td>\n",
       "      <td>1</td>\n",
       "      <td>1</td>\n",
       "      <td>Australian Grand Prix</td>\n",
       "      <td>2009-03-29</td>\n",
       "      <td>15</td>\n",
       "      <td>4</td>\n",
       "      <td>0.0</td>\n",
       "      <td>False</td>\n",
       "    </tr>\n",
       "    <tr>\n",
       "      <th>343545</th>\n",
       "      <td>1</td>\n",
       "      <td>20</td>\n",
       "      <td>23</td>\n",
       "      <td>2</td>\n",
       "      <td>151909</td>\n",
       "      <td>2009</td>\n",
       "      <td>1</td>\n",
       "      <td>1</td>\n",
       "      <td>Australian Grand Prix</td>\n",
       "      <td>2009-03-29</td>\n",
       "      <td>15</td>\n",
       "      <td>4</td>\n",
       "      <td>0.0</td>\n",
       "      <td>False</td>\n",
       "    </tr>\n",
       "    <tr>\n",
       "      <th>343546</th>\n",
       "      <td>1</td>\n",
       "      <td>20</td>\n",
       "      <td>24</td>\n",
       "      <td>2</td>\n",
       "      <td>142185</td>\n",
       "      <td>2009</td>\n",
       "      <td>1</td>\n",
       "      <td>1</td>\n",
       "      <td>Australian Grand Prix</td>\n",
       "      <td>2009-03-29</td>\n",
       "      <td>15</td>\n",
       "      <td>4</td>\n",
       "      <td>0.0</td>\n",
       "      <td>False</td>\n",
       "    </tr>\n",
       "    <tr>\n",
       "      <th>343547</th>\n",
       "      <td>1</td>\n",
       "      <td>20</td>\n",
       "      <td>25</td>\n",
       "      <td>2</td>\n",
       "      <td>93553</td>\n",
       "      <td>2009</td>\n",
       "      <td>1</td>\n",
       "      <td>1</td>\n",
       "      <td>Australian Grand Prix</td>\n",
       "      <td>2009-03-29</td>\n",
       "      <td>15</td>\n",
       "      <td>4</td>\n",
       "      <td>0.0</td>\n",
       "      <td>False</td>\n",
       "    </tr>\n",
       "    <tr>\n",
       "      <th>343548</th>\n",
       "      <td>1</td>\n",
       "      <td>20</td>\n",
       "      <td>26</td>\n",
       "      <td>2</td>\n",
       "      <td>91452</td>\n",
       "      <td>2009</td>\n",
       "      <td>1</td>\n",
       "      <td>1</td>\n",
       "      <td>Australian Grand Prix</td>\n",
       "      <td>2009-03-29</td>\n",
       "      <td>15</td>\n",
       "      <td>4</td>\n",
       "      <td>0.0</td>\n",
       "      <td>False</td>\n",
       "    </tr>\n",
       "    <tr>\n",
       "      <th>343549</th>\n",
       "      <td>1</td>\n",
       "      <td>20</td>\n",
       "      <td>27</td>\n",
       "      <td>2</td>\n",
       "      <td>90116</td>\n",
       "      <td>2009</td>\n",
       "      <td>1</td>\n",
       "      <td>1</td>\n",
       "      <td>Australian Grand Prix</td>\n",
       "      <td>2009-03-29</td>\n",
       "      <td>15</td>\n",
       "      <td>4</td>\n",
       "      <td>0.0</td>\n",
       "      <td>False</td>\n",
       "    </tr>\n",
       "    <tr>\n",
       "      <th>343550</th>\n",
       "      <td>1</td>\n",
       "      <td>20</td>\n",
       "      <td>28</td>\n",
       "      <td>2</td>\n",
       "      <td>89431</td>\n",
       "      <td>2009</td>\n",
       "      <td>1</td>\n",
       "      <td>1</td>\n",
       "      <td>Australian Grand Prix</td>\n",
       "      <td>2009-03-29</td>\n",
       "      <td>15</td>\n",
       "      <td>4</td>\n",
       "      <td>0.0</td>\n",
       "      <td>False</td>\n",
       "    </tr>\n",
       "    <tr>\n",
       "      <th>343551</th>\n",
       "      <td>1</td>\n",
       "      <td>20</td>\n",
       "      <td>29</td>\n",
       "      <td>2</td>\n",
       "      <td>89242</td>\n",
       "      <td>2009</td>\n",
       "      <td>1</td>\n",
       "      <td>1</td>\n",
       "      <td>Australian Grand Prix</td>\n",
       "      <td>2009-03-29</td>\n",
       "      <td>15</td>\n",
       "      <td>4</td>\n",
       "      <td>0.0</td>\n",
       "      <td>False</td>\n",
       "    </tr>\n",
       "    <tr>\n",
       "      <th>343552</th>\n",
       "      <td>1</td>\n",
       "      <td>20</td>\n",
       "      <td>30</td>\n",
       "      <td>2</td>\n",
       "      <td>89120</td>\n",
       "      <td>2009</td>\n",
       "      <td>1</td>\n",
       "      <td>1</td>\n",
       "      <td>Australian Grand Prix</td>\n",
       "      <td>2009-03-29</td>\n",
       "      <td>15</td>\n",
       "      <td>4</td>\n",
       "      <td>0.0</td>\n",
       "      <td>False</td>\n",
       "    </tr>\n",
       "    <tr>\n",
       "      <th>343553</th>\n",
       "      <td>1</td>\n",
       "      <td>20</td>\n",
       "      <td>31</td>\n",
       "      <td>2</td>\n",
       "      <td>88686</td>\n",
       "      <td>2009</td>\n",
       "      <td>1</td>\n",
       "      <td>1</td>\n",
       "      <td>Australian Grand Prix</td>\n",
       "      <td>2009-03-29</td>\n",
       "      <td>15</td>\n",
       "      <td>4</td>\n",
       "      <td>0.0</td>\n",
       "      <td>False</td>\n",
       "    </tr>\n",
       "    <tr>\n",
       "      <th>343554</th>\n",
       "      <td>1</td>\n",
       "      <td>20</td>\n",
       "      <td>32</td>\n",
       "      <td>2</td>\n",
       "      <td>88819</td>\n",
       "      <td>2009</td>\n",
       "      <td>1</td>\n",
       "      <td>1</td>\n",
       "      <td>Australian Grand Prix</td>\n",
       "      <td>2009-03-29</td>\n",
       "      <td>15</td>\n",
       "      <td>4</td>\n",
       "      <td>0.0</td>\n",
       "      <td>False</td>\n",
       "    </tr>\n",
       "    <tr>\n",
       "      <th>343555</th>\n",
       "      <td>1</td>\n",
       "      <td>20</td>\n",
       "      <td>33</td>\n",
       "      <td>2</td>\n",
       "      <td>88875</td>\n",
       "      <td>2009</td>\n",
       "      <td>1</td>\n",
       "      <td>1</td>\n",
       "      <td>Australian Grand Prix</td>\n",
       "      <td>2009-03-29</td>\n",
       "      <td>15</td>\n",
       "      <td>4</td>\n",
       "      <td>0.0</td>\n",
       "      <td>False</td>\n",
       "    </tr>\n",
       "    <tr>\n",
       "      <th>343556</th>\n",
       "      <td>1</td>\n",
       "      <td>20</td>\n",
       "      <td>34</td>\n",
       "      <td>2</td>\n",
       "      <td>88604</td>\n",
       "      <td>2009</td>\n",
       "      <td>1</td>\n",
       "      <td>1</td>\n",
       "      <td>Australian Grand Prix</td>\n",
       "      <td>2009-03-29</td>\n",
       "      <td>15</td>\n",
       "      <td>4</td>\n",
       "      <td>0.0</td>\n",
       "      <td>False</td>\n",
       "    </tr>\n",
       "    <tr>\n",
       "      <th>343557</th>\n",
       "      <td>1</td>\n",
       "      <td>20</td>\n",
       "      <td>35</td>\n",
       "      <td>2</td>\n",
       "      <td>88528</td>\n",
       "      <td>2009</td>\n",
       "      <td>1</td>\n",
       "      <td>1</td>\n",
       "      <td>Australian Grand Prix</td>\n",
       "      <td>2009-03-29</td>\n",
       "      <td>15</td>\n",
       "      <td>4</td>\n",
       "      <td>0.0</td>\n",
       "      <td>False</td>\n",
       "    </tr>\n",
       "    <tr>\n",
       "      <th>343558</th>\n",
       "      <td>1</td>\n",
       "      <td>20</td>\n",
       "      <td>36</td>\n",
       "      <td>2</td>\n",
       "      <td>88173</td>\n",
       "      <td>2009</td>\n",
       "      <td>1</td>\n",
       "      <td>1</td>\n",
       "      <td>Australian Grand Prix</td>\n",
       "      <td>2009-03-29</td>\n",
       "      <td>15</td>\n",
       "      <td>4</td>\n",
       "      <td>0.0</td>\n",
       "      <td>False</td>\n",
       "    </tr>\n",
       "    <tr>\n",
       "      <th>343559</th>\n",
       "      <td>1</td>\n",
       "      <td>20</td>\n",
       "      <td>37</td>\n",
       "      <td>2</td>\n",
       "      <td>88557</td>\n",
       "      <td>2009</td>\n",
       "      <td>1</td>\n",
       "      <td>1</td>\n",
       "      <td>Australian Grand Prix</td>\n",
       "      <td>2009-03-29</td>\n",
       "      <td>15</td>\n",
       "      <td>4</td>\n",
       "      <td>0.0</td>\n",
       "      <td>False</td>\n",
       "    </tr>\n",
       "    <tr>\n",
       "      <th>343560</th>\n",
       "      <td>1</td>\n",
       "      <td>20</td>\n",
       "      <td>38</td>\n",
       "      <td>2</td>\n",
       "      <td>88459</td>\n",
       "      <td>2009</td>\n",
       "      <td>1</td>\n",
       "      <td>1</td>\n",
       "      <td>Australian Grand Prix</td>\n",
       "      <td>2009-03-29</td>\n",
       "      <td>15</td>\n",
       "      <td>4</td>\n",
       "      <td>0.0</td>\n",
       "      <td>False</td>\n",
       "    </tr>\n",
       "    <tr>\n",
       "      <th>343561</th>\n",
       "      <td>1</td>\n",
       "      <td>20</td>\n",
       "      <td>39</td>\n",
       "      <td>2</td>\n",
       "      <td>88369</td>\n",
       "      <td>2009</td>\n",
       "      <td>1</td>\n",
       "      <td>1</td>\n",
       "      <td>Australian Grand Prix</td>\n",
       "      <td>2009-03-29</td>\n",
       "      <td>15</td>\n",
       "      <td>4</td>\n",
       "      <td>0.0</td>\n",
       "      <td>False</td>\n",
       "    </tr>\n",
       "    <tr>\n",
       "      <th>343562</th>\n",
       "      <td>1</td>\n",
       "      <td>20</td>\n",
       "      <td>40</td>\n",
       "      <td>2</td>\n",
       "      <td>88448</td>\n",
       "      <td>2009</td>\n",
       "      <td>1</td>\n",
       "      <td>1</td>\n",
       "      <td>Australian Grand Prix</td>\n",
       "      <td>2009-03-29</td>\n",
       "      <td>15</td>\n",
       "      <td>4</td>\n",
       "      <td>0.0</td>\n",
       "      <td>False</td>\n",
       "    </tr>\n",
       "    <tr>\n",
       "      <th>343563</th>\n",
       "      <td>1</td>\n",
       "      <td>20</td>\n",
       "      <td>41</td>\n",
       "      <td>2</td>\n",
       "      <td>88852</td>\n",
       "      <td>2009</td>\n",
       "      <td>1</td>\n",
       "      <td>1</td>\n",
       "      <td>Australian Grand Prix</td>\n",
       "      <td>2009-03-29</td>\n",
       "      <td>15</td>\n",
       "      <td>4</td>\n",
       "      <td>0.0</td>\n",
       "      <td>False</td>\n",
       "    </tr>\n",
       "    <tr>\n",
       "      <th>343564</th>\n",
       "      <td>1</td>\n",
       "      <td>20</td>\n",
       "      <td>42</td>\n",
       "      <td>2</td>\n",
       "      <td>89082</td>\n",
       "      <td>2009</td>\n",
       "      <td>1</td>\n",
       "      <td>1</td>\n",
       "      <td>Australian Grand Prix</td>\n",
       "      <td>2009-03-29</td>\n",
       "      <td>15</td>\n",
       "      <td>4</td>\n",
       "      <td>0.0</td>\n",
       "      <td>False</td>\n",
       "    </tr>\n",
       "    <tr>\n",
       "      <th>343565</th>\n",
       "      <td>1</td>\n",
       "      <td>20</td>\n",
       "      <td>43</td>\n",
       "      <td>2</td>\n",
       "      <td>89102</td>\n",
       "      <td>2009</td>\n",
       "      <td>1</td>\n",
       "      <td>1</td>\n",
       "      <td>Australian Grand Prix</td>\n",
       "      <td>2009-03-29</td>\n",
       "      <td>15</td>\n",
       "      <td>4</td>\n",
       "      <td>0.0</td>\n",
       "      <td>False</td>\n",
       "    </tr>\n",
       "    <tr>\n",
       "      <th>343566</th>\n",
       "      <td>1</td>\n",
       "      <td>20</td>\n",
       "      <td>44</td>\n",
       "      <td>2</td>\n",
       "      <td>88976</td>\n",
       "      <td>2009</td>\n",
       "      <td>1</td>\n",
       "      <td>1</td>\n",
       "      <td>Australian Grand Prix</td>\n",
       "      <td>2009-03-29</td>\n",
       "      <td>15</td>\n",
       "      <td>4</td>\n",
       "      <td>0.0</td>\n",
       "      <td>False</td>\n",
       "    </tr>\n",
       "    <tr>\n",
       "      <th>343567</th>\n",
       "      <td>1</td>\n",
       "      <td>20</td>\n",
       "      <td>45</td>\n",
       "      <td>2</td>\n",
       "      <td>106765</td>\n",
       "      <td>2009</td>\n",
       "      <td>1</td>\n",
       "      <td>1</td>\n",
       "      <td>Australian Grand Prix</td>\n",
       "      <td>2009-03-29</td>\n",
       "      <td>15</td>\n",
       "      <td>4</td>\n",
       "      <td>0.0</td>\n",
       "      <td>False</td>\n",
       "    </tr>\n",
       "    <tr>\n",
       "      <th>343568</th>\n",
       "      <td>1</td>\n",
       "      <td>20</td>\n",
       "      <td>46</td>\n",
       "      <td>2</td>\n",
       "      <td>94308</td>\n",
       "      <td>2009</td>\n",
       "      <td>1</td>\n",
       "      <td>1</td>\n",
       "      <td>Australian Grand Prix</td>\n",
       "      <td>2009-03-29</td>\n",
       "      <td>15</td>\n",
       "      <td>4</td>\n",
       "      <td>0.0</td>\n",
       "      <td>False</td>\n",
       "    </tr>\n",
       "    <tr>\n",
       "      <th>343569</th>\n",
       "      <td>1</td>\n",
       "      <td>20</td>\n",
       "      <td>47</td>\n",
       "      <td>2</td>\n",
       "      <td>89862</td>\n",
       "      <td>2009</td>\n",
       "      <td>1</td>\n",
       "      <td>1</td>\n",
       "      <td>Australian Grand Prix</td>\n",
       "      <td>2009-03-29</td>\n",
       "      <td>15</td>\n",
       "      <td>4</td>\n",
       "      <td>0.0</td>\n",
       "      <td>False</td>\n",
       "    </tr>\n",
       "    <tr>\n",
       "      <th>343570</th>\n",
       "      <td>1</td>\n",
       "      <td>20</td>\n",
       "      <td>48</td>\n",
       "      <td>2</td>\n",
       "      <td>89555</td>\n",
       "      <td>2009</td>\n",
       "      <td>1</td>\n",
       "      <td>1</td>\n",
       "      <td>Australian Grand Prix</td>\n",
       "      <td>2009-03-29</td>\n",
       "      <td>15</td>\n",
       "      <td>4</td>\n",
       "      <td>0.0</td>\n",
       "      <td>False</td>\n",
       "    </tr>\n",
       "    <tr>\n",
       "      <th>343571</th>\n",
       "      <td>1</td>\n",
       "      <td>20</td>\n",
       "      <td>49</td>\n",
       "      <td>2</td>\n",
       "      <td>89628</td>\n",
       "      <td>2009</td>\n",
       "      <td>1</td>\n",
       "      <td>1</td>\n",
       "      <td>Australian Grand Prix</td>\n",
       "      <td>2009-03-29</td>\n",
       "      <td>15</td>\n",
       "      <td>4</td>\n",
       "      <td>0.0</td>\n",
       "      <td>False</td>\n",
       "    </tr>\n",
       "    <tr>\n",
       "      <th>343572</th>\n",
       "      <td>1</td>\n",
       "      <td>20</td>\n",
       "      <td>50</td>\n",
       "      <td>2</td>\n",
       "      <td>89507</td>\n",
       "      <td>2009</td>\n",
       "      <td>1</td>\n",
       "      <td>1</td>\n",
       "      <td>Australian Grand Prix</td>\n",
       "      <td>2009-03-29</td>\n",
       "      <td>15</td>\n",
       "      <td>4</td>\n",
       "      <td>0.0</td>\n",
       "      <td>False</td>\n",
       "    </tr>\n",
       "    <tr>\n",
       "      <th>343573</th>\n",
       "      <td>1</td>\n",
       "      <td>20</td>\n",
       "      <td>51</td>\n",
       "      <td>2</td>\n",
       "      <td>89225</td>\n",
       "      <td>2009</td>\n",
       "      <td>1</td>\n",
       "      <td>1</td>\n",
       "      <td>Australian Grand Prix</td>\n",
       "      <td>2009-03-29</td>\n",
       "      <td>15</td>\n",
       "      <td>4</td>\n",
       "      <td>0.0</td>\n",
       "      <td>False</td>\n",
       "    </tr>\n",
       "    <tr>\n",
       "      <th>343574</th>\n",
       "      <td>1</td>\n",
       "      <td>20</td>\n",
       "      <td>52</td>\n",
       "      <td>2</td>\n",
       "      <td>90154</td>\n",
       "      <td>2009</td>\n",
       "      <td>1</td>\n",
       "      <td>1</td>\n",
       "      <td>Australian Grand Prix</td>\n",
       "      <td>2009-03-29</td>\n",
       "      <td>15</td>\n",
       "      <td>4</td>\n",
       "      <td>0.0</td>\n",
       "      <td>False</td>\n",
       "    </tr>\n",
       "    <tr>\n",
       "      <th>343575</th>\n",
       "      <td>1</td>\n",
       "      <td>20</td>\n",
       "      <td>53</td>\n",
       "      <td>2</td>\n",
       "      <td>89721</td>\n",
       "      <td>2009</td>\n",
       "      <td>1</td>\n",
       "      <td>1</td>\n",
       "      <td>Australian Grand Prix</td>\n",
       "      <td>2009-03-29</td>\n",
       "      <td>15</td>\n",
       "      <td>4</td>\n",
       "      <td>0.0</td>\n",
       "      <td>False</td>\n",
       "    </tr>\n",
       "    <tr>\n",
       "      <th>343576</th>\n",
       "      <td>1</td>\n",
       "      <td>20</td>\n",
       "      <td>54</td>\n",
       "      <td>2</td>\n",
       "      <td>90237</td>\n",
       "      <td>2009</td>\n",
       "      <td>1</td>\n",
       "      <td>1</td>\n",
       "      <td>Australian Grand Prix</td>\n",
       "      <td>2009-03-29</td>\n",
       "      <td>15</td>\n",
       "      <td>4</td>\n",
       "      <td>0.0</td>\n",
       "      <td>False</td>\n",
       "    </tr>\n",
       "    <tr>\n",
       "      <th>343577</th>\n",
       "      <td>1</td>\n",
       "      <td>20</td>\n",
       "      <td>55</td>\n",
       "      <td>2</td>\n",
       "      <td>91092</td>\n",
       "      <td>2009</td>\n",
       "      <td>1</td>\n",
       "      <td>1</td>\n",
       "      <td>Australian Grand Prix</td>\n",
       "      <td>2009-03-29</td>\n",
       "      <td>15</td>\n",
       "      <td>4</td>\n",
       "      <td>0.0</td>\n",
       "      <td>False</td>\n",
       "    </tr>\n",
       "    <tr>\n",
       "      <th>343578</th>\n",
       "      <td>1</td>\n",
       "      <td>20</td>\n",
       "      <td>56</td>\n",
       "      <td>7</td>\n",
       "      <td>160783</td>\n",
       "      <td>2009</td>\n",
       "      <td>1</td>\n",
       "      <td>1</td>\n",
       "      <td>Australian Grand Prix</td>\n",
       "      <td>2009-03-29</td>\n",
       "      <td>15</td>\n",
       "      <td>4</td>\n",
       "      <td>0.0</td>\n",
       "      <td>False</td>\n",
       "    </tr>\n",
       "  </tbody>\n",
       "</table>\n",
       "</div>"
      ],
      "text/plain": [
       "        raceId  driverId  lap  position  milliseconds  year  round  circuitId  \\\n",
       "343523       1        20    1         2         99647  2009      1          1   \n",
       "343524       1        20    2         2         91173  2009      1          1   \n",
       "343525       1        20    3         2         89752  2009      1          1   \n",
       "343526       1        20    4         2         88999  2009      1          1   \n",
       "343527       1        20    5         2         88849  2009      1          1   \n",
       "343528       1        20    6         2         88424  2009      1          1   \n",
       "343529       1        20    7         2         88235  2009      1          1   \n",
       "343530       1        20    8         2         88140  2009      1          1   \n",
       "343531       1        20    9         2         88331  2009      1          1   \n",
       "343532       1        20   10         2         88970  2009      1          1   \n",
       "343533       1        20   11         2         88862  2009      1          1   \n",
       "343534       1        20   12         2         88387  2009      1          1   \n",
       "343535       1        20   13         2         88260  2009      1          1   \n",
       "343536       1        20   14         2         88457  2009      1          1   \n",
       "343537       1        20   15         2         88279  2009      1          1   \n",
       "343538       1        20   16         2        110990  2009      1          1   \n",
       "343539       1        20   17         2         95628  2009      1          1   \n",
       "343540       1        20   18         2         90580  2009      1          1   \n",
       "343541       1        20   19         2         94856  2009      1          1   \n",
       "343542       1        20   20         2        144788  2009      1          1   \n",
       "343543       1        20   21         2        106868  2009      1          1   \n",
       "343544       1        20   22         2        158375  2009      1          1   \n",
       "343545       1        20   23         2        151909  2009      1          1   \n",
       "343546       1        20   24         2        142185  2009      1          1   \n",
       "343547       1        20   25         2         93553  2009      1          1   \n",
       "343548       1        20   26         2         91452  2009      1          1   \n",
       "343549       1        20   27         2         90116  2009      1          1   \n",
       "343550       1        20   28         2         89431  2009      1          1   \n",
       "343551       1        20   29         2         89242  2009      1          1   \n",
       "343552       1        20   30         2         89120  2009      1          1   \n",
       "343553       1        20   31         2         88686  2009      1          1   \n",
       "343554       1        20   32         2         88819  2009      1          1   \n",
       "343555       1        20   33         2         88875  2009      1          1   \n",
       "343556       1        20   34         2         88604  2009      1          1   \n",
       "343557       1        20   35         2         88528  2009      1          1   \n",
       "343558       1        20   36         2         88173  2009      1          1   \n",
       "343559       1        20   37         2         88557  2009      1          1   \n",
       "343560       1        20   38         2         88459  2009      1          1   \n",
       "343561       1        20   39         2         88369  2009      1          1   \n",
       "343562       1        20   40         2         88448  2009      1          1   \n",
       "343563       1        20   41         2         88852  2009      1          1   \n",
       "343564       1        20   42         2         89082  2009      1          1   \n",
       "343565       1        20   43         2         89102  2009      1          1   \n",
       "343566       1        20   44         2         88976  2009      1          1   \n",
       "343567       1        20   45         2        106765  2009      1          1   \n",
       "343568       1        20   46         2         94308  2009      1          1   \n",
       "343569       1        20   47         2         89862  2009      1          1   \n",
       "343570       1        20   48         2         89555  2009      1          1   \n",
       "343571       1        20   49         2         89628  2009      1          1   \n",
       "343572       1        20   50         2         89507  2009      1          1   \n",
       "343573       1        20   51         2         89225  2009      1          1   \n",
       "343574       1        20   52         2         90154  2009      1          1   \n",
       "343575       1        20   53         2         89721  2009      1          1   \n",
       "343576       1        20   54         2         90237  2009      1          1   \n",
       "343577       1        20   55         2         91092  2009      1          1   \n",
       "343578       1        20   56         7        160783  2009      1          1   \n",
       "\n",
       "                         name        date number  statusId  \\\n",
       "343523  Australian Grand Prix  2009-03-29     15         4   \n",
       "343524  Australian Grand Prix  2009-03-29     15         4   \n",
       "343525  Australian Grand Prix  2009-03-29     15         4   \n",
       "343526  Australian Grand Prix  2009-03-29     15         4   \n",
       "343527  Australian Grand Prix  2009-03-29     15         4   \n",
       "343528  Australian Grand Prix  2009-03-29     15         4   \n",
       "343529  Australian Grand Prix  2009-03-29     15         4   \n",
       "343530  Australian Grand Prix  2009-03-29     15         4   \n",
       "343531  Australian Grand Prix  2009-03-29     15         4   \n",
       "343532  Australian Grand Prix  2009-03-29     15         4   \n",
       "343533  Australian Grand Prix  2009-03-29     15         4   \n",
       "343534  Australian Grand Prix  2009-03-29     15         4   \n",
       "343535  Australian Grand Prix  2009-03-29     15         4   \n",
       "343536  Australian Grand Prix  2009-03-29     15         4   \n",
       "343537  Australian Grand Prix  2009-03-29     15         4   \n",
       "343538  Australian Grand Prix  2009-03-29     15         4   \n",
       "343539  Australian Grand Prix  2009-03-29     15         4   \n",
       "343540  Australian Grand Prix  2009-03-29     15         4   \n",
       "343541  Australian Grand Prix  2009-03-29     15         4   \n",
       "343542  Australian Grand Prix  2009-03-29     15         4   \n",
       "343543  Australian Grand Prix  2009-03-29     15         4   \n",
       "343544  Australian Grand Prix  2009-03-29     15         4   \n",
       "343545  Australian Grand Prix  2009-03-29     15         4   \n",
       "343546  Australian Grand Prix  2009-03-29     15         4   \n",
       "343547  Australian Grand Prix  2009-03-29     15         4   \n",
       "343548  Australian Grand Prix  2009-03-29     15         4   \n",
       "343549  Australian Grand Prix  2009-03-29     15         4   \n",
       "343550  Australian Grand Prix  2009-03-29     15         4   \n",
       "343551  Australian Grand Prix  2009-03-29     15         4   \n",
       "343552  Australian Grand Prix  2009-03-29     15         4   \n",
       "343553  Australian Grand Prix  2009-03-29     15         4   \n",
       "343554  Australian Grand Prix  2009-03-29     15         4   \n",
       "343555  Australian Grand Prix  2009-03-29     15         4   \n",
       "343556  Australian Grand Prix  2009-03-29     15         4   \n",
       "343557  Australian Grand Prix  2009-03-29     15         4   \n",
       "343558  Australian Grand Prix  2009-03-29     15         4   \n",
       "343559  Australian Grand Prix  2009-03-29     15         4   \n",
       "343560  Australian Grand Prix  2009-03-29     15         4   \n",
       "343561  Australian Grand Prix  2009-03-29     15         4   \n",
       "343562  Australian Grand Prix  2009-03-29     15         4   \n",
       "343563  Australian Grand Prix  2009-03-29     15         4   \n",
       "343564  Australian Grand Prix  2009-03-29     15         4   \n",
       "343565  Australian Grand Prix  2009-03-29     15         4   \n",
       "343566  Australian Grand Prix  2009-03-29     15         4   \n",
       "343567  Australian Grand Prix  2009-03-29     15         4   \n",
       "343568  Australian Grand Prix  2009-03-29     15         4   \n",
       "343569  Australian Grand Prix  2009-03-29     15         4   \n",
       "343570  Australian Grand Prix  2009-03-29     15         4   \n",
       "343571  Australian Grand Prix  2009-03-29     15         4   \n",
       "343572  Australian Grand Prix  2009-03-29     15         4   \n",
       "343573  Australian Grand Prix  2009-03-29     15         4   \n",
       "343574  Australian Grand Prix  2009-03-29     15         4   \n",
       "343575  Australian Grand Prix  2009-03-29     15         4   \n",
       "343576  Australian Grand Prix  2009-03-29     15         4   \n",
       "343577  Australian Grand Prix  2009-03-29     15         4   \n",
       "343578  Australian Grand Prix  2009-03-29     15         4   \n",
       "\n",
       "        pitStopMilliseconds  isPitStop  \n",
       "343523                  0.0      False  \n",
       "343524                  0.0      False  \n",
       "343525                  0.0      False  \n",
       "343526                  0.0      False  \n",
       "343527                  0.0      False  \n",
       "343528                  0.0      False  \n",
       "343529                  0.0      False  \n",
       "343530                  0.0      False  \n",
       "343531                  0.0      False  \n",
       "343532                  0.0      False  \n",
       "343533                  0.0      False  \n",
       "343534                  0.0      False  \n",
       "343535                  0.0      False  \n",
       "343536                  0.0      False  \n",
       "343537                  0.0      False  \n",
       "343538                  0.0      False  \n",
       "343539                  0.0      False  \n",
       "343540                  0.0      False  \n",
       "343541                  0.0      False  \n",
       "343542                  0.0      False  \n",
       "343543                  0.0      False  \n",
       "343544                  0.0      False  \n",
       "343545                  0.0      False  \n",
       "343546                  0.0      False  \n",
       "343547                  0.0      False  \n",
       "343548                  0.0      False  \n",
       "343549                  0.0      False  \n",
       "343550                  0.0      False  \n",
       "343551                  0.0      False  \n",
       "343552                  0.0      False  \n",
       "343553                  0.0      False  \n",
       "343554                  0.0      False  \n",
       "343555                  0.0      False  \n",
       "343556                  0.0      False  \n",
       "343557                  0.0      False  \n",
       "343558                  0.0      False  \n",
       "343559                  0.0      False  \n",
       "343560                  0.0      False  \n",
       "343561                  0.0      False  \n",
       "343562                  0.0      False  \n",
       "343563                  0.0      False  \n",
       "343564                  0.0      False  \n",
       "343565                  0.0      False  \n",
       "343566                  0.0      False  \n",
       "343567                  0.0      False  \n",
       "343568                  0.0      False  \n",
       "343569                  0.0      False  \n",
       "343570                  0.0      False  \n",
       "343571                  0.0      False  \n",
       "343572                  0.0      False  \n",
       "343573                  0.0      False  \n",
       "343574                  0.0      False  \n",
       "343575                  0.0      False  \n",
       "343576                  0.0      False  \n",
       "343577                  0.0      False  \n",
       "343578                  0.0      False  "
      ]
     },
     "execution_count": 16,
     "metadata": {},
     "output_type": "execute_result"
    }
   ],
   "source": [
    "lap_times_selected_driver_circuit[lap_times_selected_driver_circuit[\"raceId\"] == 1]"
   ]
  },
  {
   "cell_type": "code",
   "execution_count": 17,
   "metadata": {},
   "outputs": [
    {
     "data": {
      "text/html": [
       "<div>\n",
       "<style scoped>\n",
       "    .dataframe tbody tr th:only-of-type {\n",
       "        vertical-align: middle;\n",
       "    }\n",
       "\n",
       "    .dataframe tbody tr th {\n",
       "        vertical-align: top;\n",
       "    }\n",
       "\n",
       "    .dataframe thead th {\n",
       "        text-align: right;\n",
       "    }\n",
       "</style>\n",
       "<table border=\"1\" class=\"dataframe\">\n",
       "  <thead>\n",
       "    <tr style=\"text-align: right;\">\n",
       "      <th></th>\n",
       "      <th>raceId</th>\n",
       "      <th>driverId</th>\n",
       "      <th>lap</th>\n",
       "      <th>position</th>\n",
       "      <th>milliseconds</th>\n",
       "      <th>year</th>\n",
       "      <th>round</th>\n",
       "      <th>circuitId</th>\n",
       "      <th>name</th>\n",
       "      <th>date</th>\n",
       "      <th>number</th>\n",
       "      <th>statusId</th>\n",
       "      <th>pitStopMilliseconds</th>\n",
       "      <th>isPitStop</th>\n",
       "    </tr>\n",
       "  </thead>\n",
       "  <tbody>\n",
       "    <tr>\n",
       "      <th>111792</th>\n",
       "      <td>948</td>\n",
       "      <td>20</td>\n",
       "      <td>18</td>\n",
       "      <td>1</td>\n",
       "      <td>201551</td>\n",
       "      <td>2016</td>\n",
       "      <td>1</td>\n",
       "      <td>1</td>\n",
       "      <td>Australian Grand Prix</td>\n",
       "      <td>2016-03-20</td>\n",
       "      <td>5</td>\n",
       "      <td>1</td>\n",
       "      <td>1089312.0</td>\n",
       "      <td>True</td>\n",
       "    </tr>\n",
       "    <tr>\n",
       "      <th>111849</th>\n",
       "      <td>948</td>\n",
       "      <td>8</td>\n",
       "      <td>18</td>\n",
       "      <td>3</td>\n",
       "      <td>188276</td>\n",
       "      <td>2016</td>\n",
       "      <td>1</td>\n",
       "      <td>1</td>\n",
       "      <td>Australian Grand Prix</td>\n",
       "      <td>2016-03-20</td>\n",
       "      <td>7</td>\n",
       "      <td>5</td>\n",
       "      <td>1089365.0</td>\n",
       "      <td>True</td>\n",
       "    </tr>\n",
       "    <tr>\n",
       "      <th>111870</th>\n",
       "      <td>948</td>\n",
       "      <td>3</td>\n",
       "      <td>18</td>\n",
       "      <td>2</td>\n",
       "      <td>199132</td>\n",
       "      <td>2016</td>\n",
       "      <td>1</td>\n",
       "      <td>1</td>\n",
       "      <td>Australian Grand Prix</td>\n",
       "      <td>2016-03-20</td>\n",
       "      <td>6</td>\n",
       "      <td>1</td>\n",
       "      <td>1089303.0</td>\n",
       "      <td>True</td>\n",
       "    </tr>\n",
       "    <tr>\n",
       "      <th>111927</th>\n",
       "      <td>948</td>\n",
       "      <td>830</td>\n",
       "      <td>18</td>\n",
       "      <td>5</td>\n",
       "      <td>189398</td>\n",
       "      <td>2016</td>\n",
       "      <td>1</td>\n",
       "      <td>1</td>\n",
       "      <td>Australian Grand Prix</td>\n",
       "      <td>2016-03-20</td>\n",
       "      <td>33</td>\n",
       "      <td>1</td>\n",
       "      <td>1089372.0</td>\n",
       "      <td>True</td>\n",
       "    </tr>\n",
       "    <tr>\n",
       "      <th>111984</th>\n",
       "      <td>948</td>\n",
       "      <td>13</td>\n",
       "      <td>18</td>\n",
       "      <td>8</td>\n",
       "      <td>1243269</td>\n",
       "      <td>2016</td>\n",
       "      <td>1</td>\n",
       "      <td>1</td>\n",
       "      <td>Australian Grand Prix</td>\n",
       "      <td>2016-03-20</td>\n",
       "      <td>19</td>\n",
       "      <td>1</td>\n",
       "      <td>1089805.0</td>\n",
       "      <td>True</td>\n",
       "    </tr>\n",
       "    <tr>\n",
       "      <th>112041</th>\n",
       "      <td>948</td>\n",
       "      <td>1</td>\n",
       "      <td>18</td>\n",
       "      <td>7</td>\n",
       "      <td>1243047</td>\n",
       "      <td>2016</td>\n",
       "      <td>1</td>\n",
       "      <td>1</td>\n",
       "      <td>Australian Grand Prix</td>\n",
       "      <td>2016-03-20</td>\n",
       "      <td>44</td>\n",
       "      <td>1</td>\n",
       "      <td>1090087.0</td>\n",
       "      <td>True</td>\n",
       "    </tr>\n",
       "    <tr>\n",
       "      <th>112098</th>\n",
       "      <td>948</td>\n",
       "      <td>832</td>\n",
       "      <td>18</td>\n",
       "      <td>6</td>\n",
       "      <td>1242495</td>\n",
       "      <td>2016</td>\n",
       "      <td>1</td>\n",
       "      <td>1</td>\n",
       "      <td>Australian Grand Prix</td>\n",
       "      <td>2016-03-20</td>\n",
       "      <td>55</td>\n",
       "      <td>1</td>\n",
       "      <td>1089971.0</td>\n",
       "      <td>True</td>\n",
       "    </tr>\n",
       "    <tr>\n",
       "      <th>112155</th>\n",
       "      <td>948</td>\n",
       "      <td>807</td>\n",
       "      <td>18</td>\n",
       "      <td>10</td>\n",
       "      <td>1229799</td>\n",
       "      <td>2016</td>\n",
       "      <td>1</td>\n",
       "      <td>1</td>\n",
       "      <td>Australian Grand Prix</td>\n",
       "      <td>2016-03-20</td>\n",
       "      <td>27</td>\n",
       "      <td>1</td>\n",
       "      <td>1089155.0</td>\n",
       "      <td>True</td>\n",
       "    </tr>\n",
       "    <tr>\n",
       "      <th>112212</th>\n",
       "      <td>948</td>\n",
       "      <td>817</td>\n",
       "      <td>18</td>\n",
       "      <td>4</td>\n",
       "      <td>190570</td>\n",
       "      <td>2016</td>\n",
       "      <td>1</td>\n",
       "      <td>1</td>\n",
       "      <td>Australian Grand Prix</td>\n",
       "      <td>2016-03-20</td>\n",
       "      <td>3</td>\n",
       "      <td>1</td>\n",
       "      <td>1089822.0</td>\n",
       "      <td>True</td>\n",
       "    </tr>\n",
       "    <tr>\n",
       "      <th>112285</th>\n",
       "      <td>948</td>\n",
       "      <td>815</td>\n",
       "      <td>18</td>\n",
       "      <td>13</td>\n",
       "      <td>1221249</td>\n",
       "      <td>2016</td>\n",
       "      <td>1</td>\n",
       "      <td>1</td>\n",
       "      <td>Australian Grand Prix</td>\n",
       "      <td>2016-03-20</td>\n",
       "      <td>11</td>\n",
       "      <td>1</td>\n",
       "      <td>1087311.0</td>\n",
       "      <td>True</td>\n",
       "    </tr>\n",
       "    <tr>\n",
       "      <th>112342</th>\n",
       "      <td>948</td>\n",
       "      <td>18</td>\n",
       "      <td>18</td>\n",
       "      <td>15</td>\n",
       "      <td>1223874</td>\n",
       "      <td>2016</td>\n",
       "      <td>1</td>\n",
       "      <td>1</td>\n",
       "      <td>Australian Grand Prix</td>\n",
       "      <td>2016-03-20</td>\n",
       "      <td>22</td>\n",
       "      <td>11</td>\n",
       "      <td>1084466.0</td>\n",
       "      <td>True</td>\n",
       "    </tr>\n",
       "    <tr>\n",
       "      <th>112398</th>\n",
       "      <td>948</td>\n",
       "      <td>835</td>\n",
       "      <td>18</td>\n",
       "      <td>12</td>\n",
       "      <td>1223356</td>\n",
       "      <td>2016</td>\n",
       "      <td>1</td>\n",
       "      <td>1</td>\n",
       "      <td>Australian Grand Prix</td>\n",
       "      <td>2016-03-20</td>\n",
       "      <td>30</td>\n",
       "      <td>1</td>\n",
       "      <td>1088294.0</td>\n",
       "      <td>True</td>\n",
       "    </tr>\n",
       "    <tr>\n",
       "      <th>112455</th>\n",
       "      <td>948</td>\n",
       "      <td>836</td>\n",
       "      <td>18</td>\n",
       "      <td>17</td>\n",
       "      <td>1223494</td>\n",
       "      <td>2016</td>\n",
       "      <td>1</td>\n",
       "      <td>1</td>\n",
       "      <td>Australian Grand Prix</td>\n",
       "      <td>2016-03-20</td>\n",
       "      <td>94</td>\n",
       "      <td>11</td>\n",
       "      <td>1082140.0</td>\n",
       "      <td>True</td>\n",
       "    </tr>\n",
       "    <tr>\n",
       "      <th>112511</th>\n",
       "      <td>948</td>\n",
       "      <td>828</td>\n",
       "      <td>18</td>\n",
       "      <td>14</td>\n",
       "      <td>1222582</td>\n",
       "      <td>2016</td>\n",
       "      <td>1</td>\n",
       "      <td>1</td>\n",
       "      <td>Australian Grand Prix</td>\n",
       "      <td>2016-03-20</td>\n",
       "      <td>9</td>\n",
       "      <td>5</td>\n",
       "      <td>1086875.0</td>\n",
       "      <td>True</td>\n",
       "    </tr>\n",
       "    <tr>\n",
       "      <th>112549</th>\n",
       "      <td>948</td>\n",
       "      <td>831</td>\n",
       "      <td>18</td>\n",
       "      <td>16</td>\n",
       "      <td>1222819</td>\n",
       "      <td>2016</td>\n",
       "      <td>1</td>\n",
       "      <td>1</td>\n",
       "      <td>Australian Grand Prix</td>\n",
       "      <td>2016-03-20</td>\n",
       "      <td>12</td>\n",
       "      <td>11</td>\n",
       "      <td>1082337.0</td>\n",
       "      <td>True</td>\n",
       "    </tr>\n",
       "    <tr>\n",
       "      <th>112605</th>\n",
       "      <td>948</td>\n",
       "      <td>822</td>\n",
       "      <td>18</td>\n",
       "      <td>11</td>\n",
       "      <td>1231528</td>\n",
       "      <td>2016</td>\n",
       "      <td>1</td>\n",
       "      <td>1</td>\n",
       "      <td>Australian Grand Prix</td>\n",
       "      <td>2016-03-20</td>\n",
       "      <td>77</td>\n",
       "      <td>1</td>\n",
       "      <td>1088989.0</td>\n",
       "      <td>True</td>\n",
       "    </tr>\n",
       "    <tr>\n",
       "      <th>112662</th>\n",
       "      <td>948</td>\n",
       "      <td>154</td>\n",
       "      <td>18</td>\n",
       "      <td>9</td>\n",
       "      <td>1241349</td>\n",
       "      <td>2016</td>\n",
       "      <td>1</td>\n",
       "      <td>1</td>\n",
       "      <td>Australian Grand Prix</td>\n",
       "      <td>2016-03-20</td>\n",
       "      <td>8</td>\n",
       "      <td>1</td>\n",
       "      <td>1089417.0</td>\n",
       "      <td>True</td>\n",
       "    </tr>\n",
       "    <tr>\n",
       "      <th>112752</th>\n",
       "      <td>948</td>\n",
       "      <td>825</td>\n",
       "      <td>18</td>\n",
       "      <td>18</td>\n",
       "      <td>500454</td>\n",
       "      <td>2016</td>\n",
       "      <td>1</td>\n",
       "      <td>1</td>\n",
       "      <td>Australian Grand Prix</td>\n",
       "      <td>2016-03-20</td>\n",
       "      <td>20</td>\n",
       "      <td>1</td>\n",
       "      <td>0.0</td>\n",
       "      <td>False</td>\n",
       "    </tr>\n",
       "  </tbody>\n",
       "</table>\n",
       "</div>"
      ],
      "text/plain": [
       "        raceId  driverId  lap  position  milliseconds  year  round  circuitId  \\\n",
       "111792     948        20   18         1        201551  2016      1          1   \n",
       "111849     948         8   18         3        188276  2016      1          1   \n",
       "111870     948         3   18         2        199132  2016      1          1   \n",
       "111927     948       830   18         5        189398  2016      1          1   \n",
       "111984     948        13   18         8       1243269  2016      1          1   \n",
       "112041     948         1   18         7       1243047  2016      1          1   \n",
       "112098     948       832   18         6       1242495  2016      1          1   \n",
       "112155     948       807   18        10       1229799  2016      1          1   \n",
       "112212     948       817   18         4        190570  2016      1          1   \n",
       "112285     948       815   18        13       1221249  2016      1          1   \n",
       "112342     948        18   18        15       1223874  2016      1          1   \n",
       "112398     948       835   18        12       1223356  2016      1          1   \n",
       "112455     948       836   18        17       1223494  2016      1          1   \n",
       "112511     948       828   18        14       1222582  2016      1          1   \n",
       "112549     948       831   18        16       1222819  2016      1          1   \n",
       "112605     948       822   18        11       1231528  2016      1          1   \n",
       "112662     948       154   18         9       1241349  2016      1          1   \n",
       "112752     948       825   18        18        500454  2016      1          1   \n",
       "\n",
       "                         name        date number  statusId  \\\n",
       "111792  Australian Grand Prix  2016-03-20      5         1   \n",
       "111849  Australian Grand Prix  2016-03-20      7         5   \n",
       "111870  Australian Grand Prix  2016-03-20      6         1   \n",
       "111927  Australian Grand Prix  2016-03-20     33         1   \n",
       "111984  Australian Grand Prix  2016-03-20     19         1   \n",
       "112041  Australian Grand Prix  2016-03-20     44         1   \n",
       "112098  Australian Grand Prix  2016-03-20     55         1   \n",
       "112155  Australian Grand Prix  2016-03-20     27         1   \n",
       "112212  Australian Grand Prix  2016-03-20      3         1   \n",
       "112285  Australian Grand Prix  2016-03-20     11         1   \n",
       "112342  Australian Grand Prix  2016-03-20     22        11   \n",
       "112398  Australian Grand Prix  2016-03-20     30         1   \n",
       "112455  Australian Grand Prix  2016-03-20     94        11   \n",
       "112511  Australian Grand Prix  2016-03-20      9         5   \n",
       "112549  Australian Grand Prix  2016-03-20     12        11   \n",
       "112605  Australian Grand Prix  2016-03-20     77         1   \n",
       "112662  Australian Grand Prix  2016-03-20      8         1   \n",
       "112752  Australian Grand Prix  2016-03-20     20         1   \n",
       "\n",
       "        pitStopMilliseconds  isPitStop  \n",
       "111792            1089312.0       True  \n",
       "111849            1089365.0       True  \n",
       "111870            1089303.0       True  \n",
       "111927            1089372.0       True  \n",
       "111984            1089805.0       True  \n",
       "112041            1090087.0       True  \n",
       "112098            1089971.0       True  \n",
       "112155            1089155.0       True  \n",
       "112212            1089822.0       True  \n",
       "112285            1087311.0       True  \n",
       "112342            1084466.0       True  \n",
       "112398            1088294.0       True  \n",
       "112455            1082140.0       True  \n",
       "112511            1086875.0       True  \n",
       "112549            1082337.0       True  \n",
       "112605            1088989.0       True  \n",
       "112662            1089417.0       True  \n",
       "112752                  0.0      False  "
      ]
     },
     "execution_count": 17,
     "metadata": {},
     "output_type": "execute_result"
    }
   ],
   "source": [
    "master_laptimes_pitstop_df[\n",
    "    (master_laptimes_pitstop_df[\"raceId\"] == 948)\n",
    "    & (master_laptimes_pitstop_df[\"lap\"] == 18)\n",
    "]"
   ]
  },
  {
   "cell_type": "code",
   "execution_count": 18,
   "metadata": {},
   "outputs": [
    {
     "data": {
      "text/html": [
       "<div>\n",
       "<style scoped>\n",
       "    .dataframe tbody tr th:only-of-type {\n",
       "        vertical-align: middle;\n",
       "    }\n",
       "\n",
       "    .dataframe tbody tr th {\n",
       "        vertical-align: top;\n",
       "    }\n",
       "\n",
       "    .dataframe thead th {\n",
       "        text-align: right;\n",
       "    }\n",
       "</style>\n",
       "<table border=\"1\" class=\"dataframe\">\n",
       "  <thead>\n",
       "    <tr style=\"text-align: right;\">\n",
       "      <th></th>\n",
       "      <th>raceId</th>\n",
       "      <th>driverId</th>\n",
       "      <th>lap</th>\n",
       "      <th>position</th>\n",
       "      <th>milliseconds</th>\n",
       "      <th>year</th>\n",
       "      <th>round</th>\n",
       "      <th>circuitId</th>\n",
       "      <th>name</th>\n",
       "      <th>date</th>\n",
       "      <th>number</th>\n",
       "      <th>statusId</th>\n",
       "      <th>pitStopMilliseconds</th>\n",
       "      <th>isPitStop</th>\n",
       "    </tr>\n",
       "  </thead>\n",
       "  <tbody>\n",
       "    <tr>\n",
       "      <th>112735</th>\n",
       "      <td>948</td>\n",
       "      <td>825</td>\n",
       "      <td>1</td>\n",
       "      <td>21</td>\n",
       "      <td>180423</td>\n",
       "      <td>2016</td>\n",
       "      <td>1</td>\n",
       "      <td>1</td>\n",
       "      <td>Australian Grand Prix</td>\n",
       "      <td>2016-03-20</td>\n",
       "      <td>20</td>\n",
       "      <td>1</td>\n",
       "      <td>27831.0</td>\n",
       "      <td>True</td>\n",
       "    </tr>\n",
       "    <tr>\n",
       "      <th>112736</th>\n",
       "      <td>948</td>\n",
       "      <td>825</td>\n",
       "      <td>2</td>\n",
       "      <td>21</td>\n",
       "      <td>106207</td>\n",
       "      <td>2016</td>\n",
       "      <td>1</td>\n",
       "      <td>1</td>\n",
       "      <td>Australian Grand Prix</td>\n",
       "      <td>2016-03-20</td>\n",
       "      <td>20</td>\n",
       "      <td>1</td>\n",
       "      <td>0.0</td>\n",
       "      <td>False</td>\n",
       "    </tr>\n",
       "    <tr>\n",
       "      <th>112737</th>\n",
       "      <td>948</td>\n",
       "      <td>825</td>\n",
       "      <td>3</td>\n",
       "      <td>21</td>\n",
       "      <td>97229</td>\n",
       "      <td>2016</td>\n",
       "      <td>1</td>\n",
       "      <td>1</td>\n",
       "      <td>Australian Grand Prix</td>\n",
       "      <td>2016-03-20</td>\n",
       "      <td>20</td>\n",
       "      <td>1</td>\n",
       "      <td>0.0</td>\n",
       "      <td>False</td>\n",
       "    </tr>\n",
       "    <tr>\n",
       "      <th>112738</th>\n",
       "      <td>948</td>\n",
       "      <td>825</td>\n",
       "      <td>4</td>\n",
       "      <td>21</td>\n",
       "      <td>94720</td>\n",
       "      <td>2016</td>\n",
       "      <td>1</td>\n",
       "      <td>1</td>\n",
       "      <td>Australian Grand Prix</td>\n",
       "      <td>2016-03-20</td>\n",
       "      <td>20</td>\n",
       "      <td>1</td>\n",
       "      <td>0.0</td>\n",
       "      <td>False</td>\n",
       "    </tr>\n",
       "    <tr>\n",
       "      <th>112739</th>\n",
       "      <td>948</td>\n",
       "      <td>825</td>\n",
       "      <td>5</td>\n",
       "      <td>21</td>\n",
       "      <td>95346</td>\n",
       "      <td>2016</td>\n",
       "      <td>1</td>\n",
       "      <td>1</td>\n",
       "      <td>Australian Grand Prix</td>\n",
       "      <td>2016-03-20</td>\n",
       "      <td>20</td>\n",
       "      <td>1</td>\n",
       "      <td>0.0</td>\n",
       "      <td>False</td>\n",
       "    </tr>\n",
       "    <tr>\n",
       "      <th>112740</th>\n",
       "      <td>948</td>\n",
       "      <td>825</td>\n",
       "      <td>6</td>\n",
       "      <td>21</td>\n",
       "      <td>103453</td>\n",
       "      <td>2016</td>\n",
       "      <td>1</td>\n",
       "      <td>1</td>\n",
       "      <td>Australian Grand Prix</td>\n",
       "      <td>2016-03-20</td>\n",
       "      <td>20</td>\n",
       "      <td>1</td>\n",
       "      <td>0.0</td>\n",
       "      <td>False</td>\n",
       "    </tr>\n",
       "    <tr>\n",
       "      <th>112741</th>\n",
       "      <td>948</td>\n",
       "      <td>825</td>\n",
       "      <td>7</td>\n",
       "      <td>21</td>\n",
       "      <td>94917</td>\n",
       "      <td>2016</td>\n",
       "      <td>1</td>\n",
       "      <td>1</td>\n",
       "      <td>Australian Grand Prix</td>\n",
       "      <td>2016-03-20</td>\n",
       "      <td>20</td>\n",
       "      <td>1</td>\n",
       "      <td>0.0</td>\n",
       "      <td>False</td>\n",
       "    </tr>\n",
       "    <tr>\n",
       "      <th>112742</th>\n",
       "      <td>948</td>\n",
       "      <td>825</td>\n",
       "      <td>8</td>\n",
       "      <td>21</td>\n",
       "      <td>95742</td>\n",
       "      <td>2016</td>\n",
       "      <td>1</td>\n",
       "      <td>1</td>\n",
       "      <td>Australian Grand Prix</td>\n",
       "      <td>2016-03-20</td>\n",
       "      <td>20</td>\n",
       "      <td>1</td>\n",
       "      <td>0.0</td>\n",
       "      <td>False</td>\n",
       "    </tr>\n",
       "    <tr>\n",
       "      <th>112743</th>\n",
       "      <td>948</td>\n",
       "      <td>825</td>\n",
       "      <td>9</td>\n",
       "      <td>21</td>\n",
       "      <td>95633</td>\n",
       "      <td>2016</td>\n",
       "      <td>1</td>\n",
       "      <td>1</td>\n",
       "      <td>Australian Grand Prix</td>\n",
       "      <td>2016-03-20</td>\n",
       "      <td>20</td>\n",
       "      <td>1</td>\n",
       "      <td>0.0</td>\n",
       "      <td>False</td>\n",
       "    </tr>\n",
       "    <tr>\n",
       "      <th>112744</th>\n",
       "      <td>948</td>\n",
       "      <td>825</td>\n",
       "      <td>10</td>\n",
       "      <td>21</td>\n",
       "      <td>97304</td>\n",
       "      <td>2016</td>\n",
       "      <td>1</td>\n",
       "      <td>1</td>\n",
       "      <td>Australian Grand Prix</td>\n",
       "      <td>2016-03-20</td>\n",
       "      <td>20</td>\n",
       "      <td>1</td>\n",
       "      <td>0.0</td>\n",
       "      <td>False</td>\n",
       "    </tr>\n",
       "    <tr>\n",
       "      <th>112745</th>\n",
       "      <td>948</td>\n",
       "      <td>825</td>\n",
       "      <td>11</td>\n",
       "      <td>21</td>\n",
       "      <td>97254</td>\n",
       "      <td>2016</td>\n",
       "      <td>1</td>\n",
       "      <td>1</td>\n",
       "      <td>Australian Grand Prix</td>\n",
       "      <td>2016-03-20</td>\n",
       "      <td>20</td>\n",
       "      <td>1</td>\n",
       "      <td>0.0</td>\n",
       "      <td>False</td>\n",
       "    </tr>\n",
       "    <tr>\n",
       "      <th>112746</th>\n",
       "      <td>948</td>\n",
       "      <td>825</td>\n",
       "      <td>12</td>\n",
       "      <td>21</td>\n",
       "      <td>95206</td>\n",
       "      <td>2016</td>\n",
       "      <td>1</td>\n",
       "      <td>1</td>\n",
       "      <td>Australian Grand Prix</td>\n",
       "      <td>2016-03-20</td>\n",
       "      <td>20</td>\n",
       "      <td>1</td>\n",
       "      <td>0.0</td>\n",
       "      <td>False</td>\n",
       "    </tr>\n",
       "    <tr>\n",
       "      <th>112747</th>\n",
       "      <td>948</td>\n",
       "      <td>825</td>\n",
       "      <td>13</td>\n",
       "      <td>21</td>\n",
       "      <td>94927</td>\n",
       "      <td>2016</td>\n",
       "      <td>1</td>\n",
       "      <td>1</td>\n",
       "      <td>Australian Grand Prix</td>\n",
       "      <td>2016-03-20</td>\n",
       "      <td>20</td>\n",
       "      <td>1</td>\n",
       "      <td>0.0</td>\n",
       "      <td>False</td>\n",
       "    </tr>\n",
       "    <tr>\n",
       "      <th>112748</th>\n",
       "      <td>948</td>\n",
       "      <td>825</td>\n",
       "      <td>14</td>\n",
       "      <td>21</td>\n",
       "      <td>97999</td>\n",
       "      <td>2016</td>\n",
       "      <td>1</td>\n",
       "      <td>1</td>\n",
       "      <td>Australian Grand Prix</td>\n",
       "      <td>2016-03-20</td>\n",
       "      <td>20</td>\n",
       "      <td>1</td>\n",
       "      <td>0.0</td>\n",
       "      <td>False</td>\n",
       "    </tr>\n",
       "    <tr>\n",
       "      <th>112749</th>\n",
       "      <td>948</td>\n",
       "      <td>825</td>\n",
       "      <td>15</td>\n",
       "      <td>21</td>\n",
       "      <td>95084</td>\n",
       "      <td>2016</td>\n",
       "      <td>1</td>\n",
       "      <td>1</td>\n",
       "      <td>Australian Grand Prix</td>\n",
       "      <td>2016-03-20</td>\n",
       "      <td>20</td>\n",
       "      <td>1</td>\n",
       "      <td>0.0</td>\n",
       "      <td>False</td>\n",
       "    </tr>\n",
       "    <tr>\n",
       "      <th>112750</th>\n",
       "      <td>948</td>\n",
       "      <td>825</td>\n",
       "      <td>16</td>\n",
       "      <td>21</td>\n",
       "      <td>135143</td>\n",
       "      <td>2016</td>\n",
       "      <td>1</td>\n",
       "      <td>1</td>\n",
       "      <td>Australian Grand Prix</td>\n",
       "      <td>2016-03-20</td>\n",
       "      <td>20</td>\n",
       "      <td>1</td>\n",
       "      <td>22079.0</td>\n",
       "      <td>True</td>\n",
       "    </tr>\n",
       "    <tr>\n",
       "      <th>112751</th>\n",
       "      <td>948</td>\n",
       "      <td>825</td>\n",
       "      <td>17</td>\n",
       "      <td>19</td>\n",
       "      <td>729123</td>\n",
       "      <td>2016</td>\n",
       "      <td>1</td>\n",
       "      <td>1</td>\n",
       "      <td>Australian Grand Prix</td>\n",
       "      <td>2016-03-20</td>\n",
       "      <td>20</td>\n",
       "      <td>1</td>\n",
       "      <td>946318.0</td>\n",
       "      <td>True</td>\n",
       "    </tr>\n",
       "    <tr>\n",
       "      <th>112752</th>\n",
       "      <td>948</td>\n",
       "      <td>825</td>\n",
       "      <td>18</td>\n",
       "      <td>18</td>\n",
       "      <td>500454</td>\n",
       "      <td>2016</td>\n",
       "      <td>1</td>\n",
       "      <td>1</td>\n",
       "      <td>Australian Grand Prix</td>\n",
       "      <td>2016-03-20</td>\n",
       "      <td>20</td>\n",
       "      <td>1</td>\n",
       "      <td>0.0</td>\n",
       "      <td>False</td>\n",
       "    </tr>\n",
       "    <tr>\n",
       "      <th>112753</th>\n",
       "      <td>948</td>\n",
       "      <td>825</td>\n",
       "      <td>19</td>\n",
       "      <td>18</td>\n",
       "      <td>120667</td>\n",
       "      <td>2016</td>\n",
       "      <td>1</td>\n",
       "      <td>1</td>\n",
       "      <td>Australian Grand Prix</td>\n",
       "      <td>2016-03-20</td>\n",
       "      <td>20</td>\n",
       "      <td>1</td>\n",
       "      <td>0.0</td>\n",
       "      <td>False</td>\n",
       "    </tr>\n",
       "    <tr>\n",
       "      <th>112754</th>\n",
       "      <td>948</td>\n",
       "      <td>825</td>\n",
       "      <td>20</td>\n",
       "      <td>18</td>\n",
       "      <td>96001</td>\n",
       "      <td>2016</td>\n",
       "      <td>1</td>\n",
       "      <td>1</td>\n",
       "      <td>Australian Grand Prix</td>\n",
       "      <td>2016-03-20</td>\n",
       "      <td>20</td>\n",
       "      <td>1</td>\n",
       "      <td>0.0</td>\n",
       "      <td>False</td>\n",
       "    </tr>\n",
       "    <tr>\n",
       "      <th>112755</th>\n",
       "      <td>948</td>\n",
       "      <td>825</td>\n",
       "      <td>21</td>\n",
       "      <td>17</td>\n",
       "      <td>95554</td>\n",
       "      <td>2016</td>\n",
       "      <td>1</td>\n",
       "      <td>1</td>\n",
       "      <td>Australian Grand Prix</td>\n",
       "      <td>2016-03-20</td>\n",
       "      <td>20</td>\n",
       "      <td>1</td>\n",
       "      <td>0.0</td>\n",
       "      <td>False</td>\n",
       "    </tr>\n",
       "    <tr>\n",
       "      <th>112756</th>\n",
       "      <td>948</td>\n",
       "      <td>825</td>\n",
       "      <td>22</td>\n",
       "      <td>16</td>\n",
       "      <td>93453</td>\n",
       "      <td>2016</td>\n",
       "      <td>1</td>\n",
       "      <td>1</td>\n",
       "      <td>Australian Grand Prix</td>\n",
       "      <td>2016-03-20</td>\n",
       "      <td>20</td>\n",
       "      <td>1</td>\n",
       "      <td>0.0</td>\n",
       "      <td>False</td>\n",
       "    </tr>\n",
       "    <tr>\n",
       "      <th>112757</th>\n",
       "      <td>948</td>\n",
       "      <td>825</td>\n",
       "      <td>23</td>\n",
       "      <td>16</td>\n",
       "      <td>94824</td>\n",
       "      <td>2016</td>\n",
       "      <td>1</td>\n",
       "      <td>1</td>\n",
       "      <td>Australian Grand Prix</td>\n",
       "      <td>2016-03-20</td>\n",
       "      <td>20</td>\n",
       "      <td>1</td>\n",
       "      <td>0.0</td>\n",
       "      <td>False</td>\n",
       "    </tr>\n",
       "    <tr>\n",
       "      <th>112758</th>\n",
       "      <td>948</td>\n",
       "      <td>825</td>\n",
       "      <td>24</td>\n",
       "      <td>16</td>\n",
       "      <td>94813</td>\n",
       "      <td>2016</td>\n",
       "      <td>1</td>\n",
       "      <td>1</td>\n",
       "      <td>Australian Grand Prix</td>\n",
       "      <td>2016-03-20</td>\n",
       "      <td>20</td>\n",
       "      <td>1</td>\n",
       "      <td>0.0</td>\n",
       "      <td>False</td>\n",
       "    </tr>\n",
       "    <tr>\n",
       "      <th>112759</th>\n",
       "      <td>948</td>\n",
       "      <td>825</td>\n",
       "      <td>25</td>\n",
       "      <td>15</td>\n",
       "      <td>95592</td>\n",
       "      <td>2016</td>\n",
       "      <td>1</td>\n",
       "      <td>1</td>\n",
       "      <td>Australian Grand Prix</td>\n",
       "      <td>2016-03-20</td>\n",
       "      <td>20</td>\n",
       "      <td>1</td>\n",
       "      <td>0.0</td>\n",
       "      <td>False</td>\n",
       "    </tr>\n",
       "    <tr>\n",
       "      <th>112760</th>\n",
       "      <td>948</td>\n",
       "      <td>825</td>\n",
       "      <td>26</td>\n",
       "      <td>15</td>\n",
       "      <td>94649</td>\n",
       "      <td>2016</td>\n",
       "      <td>1</td>\n",
       "      <td>1</td>\n",
       "      <td>Australian Grand Prix</td>\n",
       "      <td>2016-03-20</td>\n",
       "      <td>20</td>\n",
       "      <td>1</td>\n",
       "      <td>0.0</td>\n",
       "      <td>False</td>\n",
       "    </tr>\n",
       "    <tr>\n",
       "      <th>112761</th>\n",
       "      <td>948</td>\n",
       "      <td>825</td>\n",
       "      <td>27</td>\n",
       "      <td>14</td>\n",
       "      <td>94562</td>\n",
       "      <td>2016</td>\n",
       "      <td>1</td>\n",
       "      <td>1</td>\n",
       "      <td>Australian Grand Prix</td>\n",
       "      <td>2016-03-20</td>\n",
       "      <td>20</td>\n",
       "      <td>1</td>\n",
       "      <td>0.0</td>\n",
       "      <td>False</td>\n",
       "    </tr>\n",
       "    <tr>\n",
       "      <th>112762</th>\n",
       "      <td>948</td>\n",
       "      <td>825</td>\n",
       "      <td>28</td>\n",
       "      <td>14</td>\n",
       "      <td>94012</td>\n",
       "      <td>2016</td>\n",
       "      <td>1</td>\n",
       "      <td>1</td>\n",
       "      <td>Australian Grand Prix</td>\n",
       "      <td>2016-03-20</td>\n",
       "      <td>20</td>\n",
       "      <td>1</td>\n",
       "      <td>0.0</td>\n",
       "      <td>False</td>\n",
       "    </tr>\n",
       "    <tr>\n",
       "      <th>112763</th>\n",
       "      <td>948</td>\n",
       "      <td>825</td>\n",
       "      <td>29</td>\n",
       "      <td>14</td>\n",
       "      <td>93727</td>\n",
       "      <td>2016</td>\n",
       "      <td>1</td>\n",
       "      <td>1</td>\n",
       "      <td>Australian Grand Prix</td>\n",
       "      <td>2016-03-20</td>\n",
       "      <td>20</td>\n",
       "      <td>1</td>\n",
       "      <td>0.0</td>\n",
       "      <td>False</td>\n",
       "    </tr>\n",
       "    <tr>\n",
       "      <th>112764</th>\n",
       "      <td>948</td>\n",
       "      <td>825</td>\n",
       "      <td>30</td>\n",
       "      <td>13</td>\n",
       "      <td>93539</td>\n",
       "      <td>2016</td>\n",
       "      <td>1</td>\n",
       "      <td>1</td>\n",
       "      <td>Australian Grand Prix</td>\n",
       "      <td>2016-03-20</td>\n",
       "      <td>20</td>\n",
       "      <td>1</td>\n",
       "      <td>0.0</td>\n",
       "      <td>False</td>\n",
       "    </tr>\n",
       "    <tr>\n",
       "      <th>112765</th>\n",
       "      <td>948</td>\n",
       "      <td>825</td>\n",
       "      <td>31</td>\n",
       "      <td>13</td>\n",
       "      <td>93508</td>\n",
       "      <td>2016</td>\n",
       "      <td>1</td>\n",
       "      <td>1</td>\n",
       "      <td>Australian Grand Prix</td>\n",
       "      <td>2016-03-20</td>\n",
       "      <td>20</td>\n",
       "      <td>1</td>\n",
       "      <td>0.0</td>\n",
       "      <td>False</td>\n",
       "    </tr>\n",
       "    <tr>\n",
       "      <th>112766</th>\n",
       "      <td>948</td>\n",
       "      <td>825</td>\n",
       "      <td>32</td>\n",
       "      <td>13</td>\n",
       "      <td>93585</td>\n",
       "      <td>2016</td>\n",
       "      <td>1</td>\n",
       "      <td>1</td>\n",
       "      <td>Australian Grand Prix</td>\n",
       "      <td>2016-03-20</td>\n",
       "      <td>20</td>\n",
       "      <td>1</td>\n",
       "      <td>0.0</td>\n",
       "      <td>False</td>\n",
       "    </tr>\n",
       "    <tr>\n",
       "      <th>112767</th>\n",
       "      <td>948</td>\n",
       "      <td>825</td>\n",
       "      <td>33</td>\n",
       "      <td>13</td>\n",
       "      <td>93838</td>\n",
       "      <td>2016</td>\n",
       "      <td>1</td>\n",
       "      <td>1</td>\n",
       "      <td>Australian Grand Prix</td>\n",
       "      <td>2016-03-20</td>\n",
       "      <td>20</td>\n",
       "      <td>1</td>\n",
       "      <td>0.0</td>\n",
       "      <td>False</td>\n",
       "    </tr>\n",
       "    <tr>\n",
       "      <th>112768</th>\n",
       "      <td>948</td>\n",
       "      <td>825</td>\n",
       "      <td>34</td>\n",
       "      <td>13</td>\n",
       "      <td>93718</td>\n",
       "      <td>2016</td>\n",
       "      <td>1</td>\n",
       "      <td>1</td>\n",
       "      <td>Australian Grand Prix</td>\n",
       "      <td>2016-03-20</td>\n",
       "      <td>20</td>\n",
       "      <td>1</td>\n",
       "      <td>0.0</td>\n",
       "      <td>False</td>\n",
       "    </tr>\n",
       "    <tr>\n",
       "      <th>112769</th>\n",
       "      <td>948</td>\n",
       "      <td>825</td>\n",
       "      <td>35</td>\n",
       "      <td>13</td>\n",
       "      <td>93306</td>\n",
       "      <td>2016</td>\n",
       "      <td>1</td>\n",
       "      <td>1</td>\n",
       "      <td>Australian Grand Prix</td>\n",
       "      <td>2016-03-20</td>\n",
       "      <td>20</td>\n",
       "      <td>1</td>\n",
       "      <td>0.0</td>\n",
       "      <td>False</td>\n",
       "    </tr>\n",
       "    <tr>\n",
       "      <th>112770</th>\n",
       "      <td>948</td>\n",
       "      <td>825</td>\n",
       "      <td>36</td>\n",
       "      <td>13</td>\n",
       "      <td>93004</td>\n",
       "      <td>2016</td>\n",
       "      <td>1</td>\n",
       "      <td>1</td>\n",
       "      <td>Australian Grand Prix</td>\n",
       "      <td>2016-03-20</td>\n",
       "      <td>20</td>\n",
       "      <td>1</td>\n",
       "      <td>0.0</td>\n",
       "      <td>False</td>\n",
       "    </tr>\n",
       "    <tr>\n",
       "      <th>112771</th>\n",
       "      <td>948</td>\n",
       "      <td>825</td>\n",
       "      <td>37</td>\n",
       "      <td>13</td>\n",
       "      <td>92789</td>\n",
       "      <td>2016</td>\n",
       "      <td>1</td>\n",
       "      <td>1</td>\n",
       "      <td>Australian Grand Prix</td>\n",
       "      <td>2016-03-20</td>\n",
       "      <td>20</td>\n",
       "      <td>1</td>\n",
       "      <td>0.0</td>\n",
       "      <td>False</td>\n",
       "    </tr>\n",
       "    <tr>\n",
       "      <th>112772</th>\n",
       "      <td>948</td>\n",
       "      <td>825</td>\n",
       "      <td>38</td>\n",
       "      <td>13</td>\n",
       "      <td>92783</td>\n",
       "      <td>2016</td>\n",
       "      <td>1</td>\n",
       "      <td>1</td>\n",
       "      <td>Australian Grand Prix</td>\n",
       "      <td>2016-03-20</td>\n",
       "      <td>20</td>\n",
       "      <td>1</td>\n",
       "      <td>0.0</td>\n",
       "      <td>False</td>\n",
       "    </tr>\n",
       "    <tr>\n",
       "      <th>112773</th>\n",
       "      <td>948</td>\n",
       "      <td>825</td>\n",
       "      <td>39</td>\n",
       "      <td>13</td>\n",
       "      <td>92791</td>\n",
       "      <td>2016</td>\n",
       "      <td>1</td>\n",
       "      <td>1</td>\n",
       "      <td>Australian Grand Prix</td>\n",
       "      <td>2016-03-20</td>\n",
       "      <td>20</td>\n",
       "      <td>1</td>\n",
       "      <td>0.0</td>\n",
       "      <td>False</td>\n",
       "    </tr>\n",
       "    <tr>\n",
       "      <th>112774</th>\n",
       "      <td>948</td>\n",
       "      <td>825</td>\n",
       "      <td>40</td>\n",
       "      <td>13</td>\n",
       "      <td>93244</td>\n",
       "      <td>2016</td>\n",
       "      <td>1</td>\n",
       "      <td>1</td>\n",
       "      <td>Australian Grand Prix</td>\n",
       "      <td>2016-03-20</td>\n",
       "      <td>20</td>\n",
       "      <td>1</td>\n",
       "      <td>0.0</td>\n",
       "      <td>False</td>\n",
       "    </tr>\n",
       "    <tr>\n",
       "      <th>112775</th>\n",
       "      <td>948</td>\n",
       "      <td>825</td>\n",
       "      <td>41</td>\n",
       "      <td>13</td>\n",
       "      <td>93320</td>\n",
       "      <td>2016</td>\n",
       "      <td>1</td>\n",
       "      <td>1</td>\n",
       "      <td>Australian Grand Prix</td>\n",
       "      <td>2016-03-20</td>\n",
       "      <td>20</td>\n",
       "      <td>1</td>\n",
       "      <td>0.0</td>\n",
       "      <td>False</td>\n",
       "    </tr>\n",
       "    <tr>\n",
       "      <th>112776</th>\n",
       "      <td>948</td>\n",
       "      <td>825</td>\n",
       "      <td>42</td>\n",
       "      <td>13</td>\n",
       "      <td>92765</td>\n",
       "      <td>2016</td>\n",
       "      <td>1</td>\n",
       "      <td>1</td>\n",
       "      <td>Australian Grand Prix</td>\n",
       "      <td>2016-03-20</td>\n",
       "      <td>20</td>\n",
       "      <td>1</td>\n",
       "      <td>0.0</td>\n",
       "      <td>False</td>\n",
       "    </tr>\n",
       "    <tr>\n",
       "      <th>112777</th>\n",
       "      <td>948</td>\n",
       "      <td>825</td>\n",
       "      <td>43</td>\n",
       "      <td>13</td>\n",
       "      <td>92715</td>\n",
       "      <td>2016</td>\n",
       "      <td>1</td>\n",
       "      <td>1</td>\n",
       "      <td>Australian Grand Prix</td>\n",
       "      <td>2016-03-20</td>\n",
       "      <td>20</td>\n",
       "      <td>1</td>\n",
       "      <td>0.0</td>\n",
       "      <td>False</td>\n",
       "    </tr>\n",
       "    <tr>\n",
       "      <th>112778</th>\n",
       "      <td>948</td>\n",
       "      <td>825</td>\n",
       "      <td>44</td>\n",
       "      <td>13</td>\n",
       "      <td>93016</td>\n",
       "      <td>2016</td>\n",
       "      <td>1</td>\n",
       "      <td>1</td>\n",
       "      <td>Australian Grand Prix</td>\n",
       "      <td>2016-03-20</td>\n",
       "      <td>20</td>\n",
       "      <td>1</td>\n",
       "      <td>0.0</td>\n",
       "      <td>False</td>\n",
       "    </tr>\n",
       "    <tr>\n",
       "      <th>112779</th>\n",
       "      <td>948</td>\n",
       "      <td>825</td>\n",
       "      <td>45</td>\n",
       "      <td>13</td>\n",
       "      <td>92452</td>\n",
       "      <td>2016</td>\n",
       "      <td>1</td>\n",
       "      <td>1</td>\n",
       "      <td>Australian Grand Prix</td>\n",
       "      <td>2016-03-20</td>\n",
       "      <td>20</td>\n",
       "      <td>1</td>\n",
       "      <td>0.0</td>\n",
       "      <td>False</td>\n",
       "    </tr>\n",
       "    <tr>\n",
       "      <th>112780</th>\n",
       "      <td>948</td>\n",
       "      <td>825</td>\n",
       "      <td>46</td>\n",
       "      <td>13</td>\n",
       "      <td>92797</td>\n",
       "      <td>2016</td>\n",
       "      <td>1</td>\n",
       "      <td>1</td>\n",
       "      <td>Australian Grand Prix</td>\n",
       "      <td>2016-03-20</td>\n",
       "      <td>20</td>\n",
       "      <td>1</td>\n",
       "      <td>0.0</td>\n",
       "      <td>False</td>\n",
       "    </tr>\n",
       "    <tr>\n",
       "      <th>112781</th>\n",
       "      <td>948</td>\n",
       "      <td>825</td>\n",
       "      <td>47</td>\n",
       "      <td>13</td>\n",
       "      <td>92459</td>\n",
       "      <td>2016</td>\n",
       "      <td>1</td>\n",
       "      <td>1</td>\n",
       "      <td>Australian Grand Prix</td>\n",
       "      <td>2016-03-20</td>\n",
       "      <td>20</td>\n",
       "      <td>1</td>\n",
       "      <td>0.0</td>\n",
       "      <td>False</td>\n",
       "    </tr>\n",
       "    <tr>\n",
       "      <th>112782</th>\n",
       "      <td>948</td>\n",
       "      <td>825</td>\n",
       "      <td>48</td>\n",
       "      <td>13</td>\n",
       "      <td>92815</td>\n",
       "      <td>2016</td>\n",
       "      <td>1</td>\n",
       "      <td>1</td>\n",
       "      <td>Australian Grand Prix</td>\n",
       "      <td>2016-03-20</td>\n",
       "      <td>20</td>\n",
       "      <td>1</td>\n",
       "      <td>0.0</td>\n",
       "      <td>False</td>\n",
       "    </tr>\n",
       "    <tr>\n",
       "      <th>112783</th>\n",
       "      <td>948</td>\n",
       "      <td>825</td>\n",
       "      <td>49</td>\n",
       "      <td>13</td>\n",
       "      <td>93023</td>\n",
       "      <td>2016</td>\n",
       "      <td>1</td>\n",
       "      <td>1</td>\n",
       "      <td>Australian Grand Prix</td>\n",
       "      <td>2016-03-20</td>\n",
       "      <td>20</td>\n",
       "      <td>1</td>\n",
       "      <td>0.0</td>\n",
       "      <td>False</td>\n",
       "    </tr>\n",
       "    <tr>\n",
       "      <th>112784</th>\n",
       "      <td>948</td>\n",
       "      <td>825</td>\n",
       "      <td>50</td>\n",
       "      <td>13</td>\n",
       "      <td>93856</td>\n",
       "      <td>2016</td>\n",
       "      <td>1</td>\n",
       "      <td>1</td>\n",
       "      <td>Australian Grand Prix</td>\n",
       "      <td>2016-03-20</td>\n",
       "      <td>20</td>\n",
       "      <td>1</td>\n",
       "      <td>0.0</td>\n",
       "      <td>False</td>\n",
       "    </tr>\n",
       "    <tr>\n",
       "      <th>112785</th>\n",
       "      <td>948</td>\n",
       "      <td>825</td>\n",
       "      <td>51</td>\n",
       "      <td>13</td>\n",
       "      <td>92849</td>\n",
       "      <td>2016</td>\n",
       "      <td>1</td>\n",
       "      <td>1</td>\n",
       "      <td>Australian Grand Prix</td>\n",
       "      <td>2016-03-20</td>\n",
       "      <td>20</td>\n",
       "      <td>1</td>\n",
       "      <td>0.0</td>\n",
       "      <td>False</td>\n",
       "    </tr>\n",
       "    <tr>\n",
       "      <th>112786</th>\n",
       "      <td>948</td>\n",
       "      <td>825</td>\n",
       "      <td>52</td>\n",
       "      <td>13</td>\n",
       "      <td>93184</td>\n",
       "      <td>2016</td>\n",
       "      <td>1</td>\n",
       "      <td>1</td>\n",
       "      <td>Australian Grand Prix</td>\n",
       "      <td>2016-03-20</td>\n",
       "      <td>20</td>\n",
       "      <td>1</td>\n",
       "      <td>0.0</td>\n",
       "      <td>False</td>\n",
       "    </tr>\n",
       "    <tr>\n",
       "      <th>112787</th>\n",
       "      <td>948</td>\n",
       "      <td>825</td>\n",
       "      <td>53</td>\n",
       "      <td>13</td>\n",
       "      <td>93007</td>\n",
       "      <td>2016</td>\n",
       "      <td>1</td>\n",
       "      <td>1</td>\n",
       "      <td>Australian Grand Prix</td>\n",
       "      <td>2016-03-20</td>\n",
       "      <td>20</td>\n",
       "      <td>1</td>\n",
       "      <td>0.0</td>\n",
       "      <td>False</td>\n",
       "    </tr>\n",
       "    <tr>\n",
       "      <th>112788</th>\n",
       "      <td>948</td>\n",
       "      <td>825</td>\n",
       "      <td>54</td>\n",
       "      <td>13</td>\n",
       "      <td>93570</td>\n",
       "      <td>2016</td>\n",
       "      <td>1</td>\n",
       "      <td>1</td>\n",
       "      <td>Australian Grand Prix</td>\n",
       "      <td>2016-03-20</td>\n",
       "      <td>20</td>\n",
       "      <td>1</td>\n",
       "      <td>0.0</td>\n",
       "      <td>False</td>\n",
       "    </tr>\n",
       "    <tr>\n",
       "      <th>112789</th>\n",
       "      <td>948</td>\n",
       "      <td>825</td>\n",
       "      <td>55</td>\n",
       "      <td>12</td>\n",
       "      <td>93242</td>\n",
       "      <td>2016</td>\n",
       "      <td>1</td>\n",
       "      <td>1</td>\n",
       "      <td>Australian Grand Prix</td>\n",
       "      <td>2016-03-20</td>\n",
       "      <td>20</td>\n",
       "      <td>1</td>\n",
       "      <td>0.0</td>\n",
       "      <td>False</td>\n",
       "    </tr>\n",
       "    <tr>\n",
       "      <th>112790</th>\n",
       "      <td>948</td>\n",
       "      <td>825</td>\n",
       "      <td>56</td>\n",
       "      <td>12</td>\n",
       "      <td>92635</td>\n",
       "      <td>2016</td>\n",
       "      <td>1</td>\n",
       "      <td>1</td>\n",
       "      <td>Australian Grand Prix</td>\n",
       "      <td>2016-03-20</td>\n",
       "      <td>20</td>\n",
       "      <td>1</td>\n",
       "      <td>0.0</td>\n",
       "      <td>False</td>\n",
       "    </tr>\n",
       "    <tr>\n",
       "      <th>112791</th>\n",
       "      <td>948</td>\n",
       "      <td>825</td>\n",
       "      <td>57</td>\n",
       "      <td>12</td>\n",
       "      <td>93343</td>\n",
       "      <td>2016</td>\n",
       "      <td>1</td>\n",
       "      <td>1</td>\n",
       "      <td>Australian Grand Prix</td>\n",
       "      <td>2016-03-20</td>\n",
       "      <td>20</td>\n",
       "      <td>1</td>\n",
       "      <td>0.0</td>\n",
       "      <td>False</td>\n",
       "    </tr>\n",
       "  </tbody>\n",
       "</table>\n",
       "</div>"
      ],
      "text/plain": [
       "        raceId  driverId  lap  position  milliseconds  year  round  circuitId  \\\n",
       "112735     948       825    1        21        180423  2016      1          1   \n",
       "112736     948       825    2        21        106207  2016      1          1   \n",
       "112737     948       825    3        21         97229  2016      1          1   \n",
       "112738     948       825    4        21         94720  2016      1          1   \n",
       "112739     948       825    5        21         95346  2016      1          1   \n",
       "112740     948       825    6        21        103453  2016      1          1   \n",
       "112741     948       825    7        21         94917  2016      1          1   \n",
       "112742     948       825    8        21         95742  2016      1          1   \n",
       "112743     948       825    9        21         95633  2016      1          1   \n",
       "112744     948       825   10        21         97304  2016      1          1   \n",
       "112745     948       825   11        21         97254  2016      1          1   \n",
       "112746     948       825   12        21         95206  2016      1          1   \n",
       "112747     948       825   13        21         94927  2016      1          1   \n",
       "112748     948       825   14        21         97999  2016      1          1   \n",
       "112749     948       825   15        21         95084  2016      1          1   \n",
       "112750     948       825   16        21        135143  2016      1          1   \n",
       "112751     948       825   17        19        729123  2016      1          1   \n",
       "112752     948       825   18        18        500454  2016      1          1   \n",
       "112753     948       825   19        18        120667  2016      1          1   \n",
       "112754     948       825   20        18         96001  2016      1          1   \n",
       "112755     948       825   21        17         95554  2016      1          1   \n",
       "112756     948       825   22        16         93453  2016      1          1   \n",
       "112757     948       825   23        16         94824  2016      1          1   \n",
       "112758     948       825   24        16         94813  2016      1          1   \n",
       "112759     948       825   25        15         95592  2016      1          1   \n",
       "112760     948       825   26        15         94649  2016      1          1   \n",
       "112761     948       825   27        14         94562  2016      1          1   \n",
       "112762     948       825   28        14         94012  2016      1          1   \n",
       "112763     948       825   29        14         93727  2016      1          1   \n",
       "112764     948       825   30        13         93539  2016      1          1   \n",
       "112765     948       825   31        13         93508  2016      1          1   \n",
       "112766     948       825   32        13         93585  2016      1          1   \n",
       "112767     948       825   33        13         93838  2016      1          1   \n",
       "112768     948       825   34        13         93718  2016      1          1   \n",
       "112769     948       825   35        13         93306  2016      1          1   \n",
       "112770     948       825   36        13         93004  2016      1          1   \n",
       "112771     948       825   37        13         92789  2016      1          1   \n",
       "112772     948       825   38        13         92783  2016      1          1   \n",
       "112773     948       825   39        13         92791  2016      1          1   \n",
       "112774     948       825   40        13         93244  2016      1          1   \n",
       "112775     948       825   41        13         93320  2016      1          1   \n",
       "112776     948       825   42        13         92765  2016      1          1   \n",
       "112777     948       825   43        13         92715  2016      1          1   \n",
       "112778     948       825   44        13         93016  2016      1          1   \n",
       "112779     948       825   45        13         92452  2016      1          1   \n",
       "112780     948       825   46        13         92797  2016      1          1   \n",
       "112781     948       825   47        13         92459  2016      1          1   \n",
       "112782     948       825   48        13         92815  2016      1          1   \n",
       "112783     948       825   49        13         93023  2016      1          1   \n",
       "112784     948       825   50        13         93856  2016      1          1   \n",
       "112785     948       825   51        13         92849  2016      1          1   \n",
       "112786     948       825   52        13         93184  2016      1          1   \n",
       "112787     948       825   53        13         93007  2016      1          1   \n",
       "112788     948       825   54        13         93570  2016      1          1   \n",
       "112789     948       825   55        12         93242  2016      1          1   \n",
       "112790     948       825   56        12         92635  2016      1          1   \n",
       "112791     948       825   57        12         93343  2016      1          1   \n",
       "\n",
       "                         name        date number  statusId  \\\n",
       "112735  Australian Grand Prix  2016-03-20     20         1   \n",
       "112736  Australian Grand Prix  2016-03-20     20         1   \n",
       "112737  Australian Grand Prix  2016-03-20     20         1   \n",
       "112738  Australian Grand Prix  2016-03-20     20         1   \n",
       "112739  Australian Grand Prix  2016-03-20     20         1   \n",
       "112740  Australian Grand Prix  2016-03-20     20         1   \n",
       "112741  Australian Grand Prix  2016-03-20     20         1   \n",
       "112742  Australian Grand Prix  2016-03-20     20         1   \n",
       "112743  Australian Grand Prix  2016-03-20     20         1   \n",
       "112744  Australian Grand Prix  2016-03-20     20         1   \n",
       "112745  Australian Grand Prix  2016-03-20     20         1   \n",
       "112746  Australian Grand Prix  2016-03-20     20         1   \n",
       "112747  Australian Grand Prix  2016-03-20     20         1   \n",
       "112748  Australian Grand Prix  2016-03-20     20         1   \n",
       "112749  Australian Grand Prix  2016-03-20     20         1   \n",
       "112750  Australian Grand Prix  2016-03-20     20         1   \n",
       "112751  Australian Grand Prix  2016-03-20     20         1   \n",
       "112752  Australian Grand Prix  2016-03-20     20         1   \n",
       "112753  Australian Grand Prix  2016-03-20     20         1   \n",
       "112754  Australian Grand Prix  2016-03-20     20         1   \n",
       "112755  Australian Grand Prix  2016-03-20     20         1   \n",
       "112756  Australian Grand Prix  2016-03-20     20         1   \n",
       "112757  Australian Grand Prix  2016-03-20     20         1   \n",
       "112758  Australian Grand Prix  2016-03-20     20         1   \n",
       "112759  Australian Grand Prix  2016-03-20     20         1   \n",
       "112760  Australian Grand Prix  2016-03-20     20         1   \n",
       "112761  Australian Grand Prix  2016-03-20     20         1   \n",
       "112762  Australian Grand Prix  2016-03-20     20         1   \n",
       "112763  Australian Grand Prix  2016-03-20     20         1   \n",
       "112764  Australian Grand Prix  2016-03-20     20         1   \n",
       "112765  Australian Grand Prix  2016-03-20     20         1   \n",
       "112766  Australian Grand Prix  2016-03-20     20         1   \n",
       "112767  Australian Grand Prix  2016-03-20     20         1   \n",
       "112768  Australian Grand Prix  2016-03-20     20         1   \n",
       "112769  Australian Grand Prix  2016-03-20     20         1   \n",
       "112770  Australian Grand Prix  2016-03-20     20         1   \n",
       "112771  Australian Grand Prix  2016-03-20     20         1   \n",
       "112772  Australian Grand Prix  2016-03-20     20         1   \n",
       "112773  Australian Grand Prix  2016-03-20     20         1   \n",
       "112774  Australian Grand Prix  2016-03-20     20         1   \n",
       "112775  Australian Grand Prix  2016-03-20     20         1   \n",
       "112776  Australian Grand Prix  2016-03-20     20         1   \n",
       "112777  Australian Grand Prix  2016-03-20     20         1   \n",
       "112778  Australian Grand Prix  2016-03-20     20         1   \n",
       "112779  Australian Grand Prix  2016-03-20     20         1   \n",
       "112780  Australian Grand Prix  2016-03-20     20         1   \n",
       "112781  Australian Grand Prix  2016-03-20     20         1   \n",
       "112782  Australian Grand Prix  2016-03-20     20         1   \n",
       "112783  Australian Grand Prix  2016-03-20     20         1   \n",
       "112784  Australian Grand Prix  2016-03-20     20         1   \n",
       "112785  Australian Grand Prix  2016-03-20     20         1   \n",
       "112786  Australian Grand Prix  2016-03-20     20         1   \n",
       "112787  Australian Grand Prix  2016-03-20     20         1   \n",
       "112788  Australian Grand Prix  2016-03-20     20         1   \n",
       "112789  Australian Grand Prix  2016-03-20     20         1   \n",
       "112790  Australian Grand Prix  2016-03-20     20         1   \n",
       "112791  Australian Grand Prix  2016-03-20     20         1   \n",
       "\n",
       "        pitStopMilliseconds  isPitStop  \n",
       "112735              27831.0       True  \n",
       "112736                  0.0      False  \n",
       "112737                  0.0      False  \n",
       "112738                  0.0      False  \n",
       "112739                  0.0      False  \n",
       "112740                  0.0      False  \n",
       "112741                  0.0      False  \n",
       "112742                  0.0      False  \n",
       "112743                  0.0      False  \n",
       "112744                  0.0      False  \n",
       "112745                  0.0      False  \n",
       "112746                  0.0      False  \n",
       "112747                  0.0      False  \n",
       "112748                  0.0      False  \n",
       "112749                  0.0      False  \n",
       "112750              22079.0       True  \n",
       "112751             946318.0       True  \n",
       "112752                  0.0      False  \n",
       "112753                  0.0      False  \n",
       "112754                  0.0      False  \n",
       "112755                  0.0      False  \n",
       "112756                  0.0      False  \n",
       "112757                  0.0      False  \n",
       "112758                  0.0      False  \n",
       "112759                  0.0      False  \n",
       "112760                  0.0      False  \n",
       "112761                  0.0      False  \n",
       "112762                  0.0      False  \n",
       "112763                  0.0      False  \n",
       "112764                  0.0      False  \n",
       "112765                  0.0      False  \n",
       "112766                  0.0      False  \n",
       "112767                  0.0      False  \n",
       "112768                  0.0      False  \n",
       "112769                  0.0      False  \n",
       "112770                  0.0      False  \n",
       "112771                  0.0      False  \n",
       "112772                  0.0      False  \n",
       "112773                  0.0      False  \n",
       "112774                  0.0      False  \n",
       "112775                  0.0      False  \n",
       "112776                  0.0      False  \n",
       "112777                  0.0      False  \n",
       "112778                  0.0      False  \n",
       "112779                  0.0      False  \n",
       "112780                  0.0      False  \n",
       "112781                  0.0      False  \n",
       "112782                  0.0      False  \n",
       "112783                  0.0      False  \n",
       "112784                  0.0      False  \n",
       "112785                  0.0      False  \n",
       "112786                  0.0      False  \n",
       "112787                  0.0      False  \n",
       "112788                  0.0      False  \n",
       "112789                  0.0      False  \n",
       "112790                  0.0      False  \n",
       "112791                  0.0      False  "
      ]
     },
     "execution_count": 18,
     "metadata": {},
     "output_type": "execute_result"
    }
   ],
   "source": [
    "master_laptimes_pitstop_df[\n",
    "    (master_laptimes_pitstop_df[\"raceId\"] == 948)\n",
    "    & (master_laptimes_pitstop_df[\"driverId\"] == 825)\n",
    "]"
   ]
  },
  {
   "cell_type": "code",
   "execution_count": 19,
   "metadata": {},
   "outputs": [
    {
     "data": {
      "text/html": [
       "<div>\n",
       "<style scoped>\n",
       "    .dataframe tbody tr th:only-of-type {\n",
       "        vertical-align: middle;\n",
       "    }\n",
       "\n",
       "    .dataframe tbody tr th {\n",
       "        vertical-align: top;\n",
       "    }\n",
       "\n",
       "    .dataframe thead th {\n",
       "        text-align: right;\n",
       "    }\n",
       "</style>\n",
       "<table border=\"1\" class=\"dataframe\">\n",
       "  <thead>\n",
       "    <tr style=\"text-align: right;\">\n",
       "      <th></th>\n",
       "      <th>raceId</th>\n",
       "      <th>driverId</th>\n",
       "      <th>lap</th>\n",
       "      <th>position</th>\n",
       "      <th>milliseconds</th>\n",
       "      <th>year</th>\n",
       "      <th>round</th>\n",
       "      <th>circuitId</th>\n",
       "      <th>name</th>\n",
       "      <th>date</th>\n",
       "      <th>number</th>\n",
       "      <th>statusId</th>\n",
       "      <th>pitStopMilliseconds</th>\n",
       "      <th>isPitStop</th>\n",
       "    </tr>\n",
       "  </thead>\n",
       "  <tbody>\n",
       "    <tr>\n",
       "      <th>72699</th>\n",
       "      <td>900</td>\n",
       "      <td>20</td>\n",
       "      <td>1</td>\n",
       "      <td>15</td>\n",
       "      <td>120977</td>\n",
       "      <td>2014</td>\n",
       "      <td>1</td>\n",
       "      <td>1</td>\n",
       "      <td>Australian Grand Prix</td>\n",
       "      <td>2014-03-16</td>\n",
       "      <td>1</td>\n",
       "      <td>5</td>\n",
       "      <td>0.0</td>\n",
       "      <td>False</td>\n",
       "    </tr>\n",
       "    <tr>\n",
       "      <th>72700</th>\n",
       "      <td>900</td>\n",
       "      <td>20</td>\n",
       "      <td>2</td>\n",
       "      <td>16</td>\n",
       "      <td>109947</td>\n",
       "      <td>2014</td>\n",
       "      <td>1</td>\n",
       "      <td>1</td>\n",
       "      <td>Australian Grand Prix</td>\n",
       "      <td>2014-03-16</td>\n",
       "      <td>1</td>\n",
       "      <td>5</td>\n",
       "      <td>0.0</td>\n",
       "      <td>False</td>\n",
       "    </tr>\n",
       "    <tr>\n",
       "      <th>72701</th>\n",
       "      <td>900</td>\n",
       "      <td>20</td>\n",
       "      <td>3</td>\n",
       "      <td>16</td>\n",
       "      <td>111460</td>\n",
       "      <td>2014</td>\n",
       "      <td>1</td>\n",
       "      <td>1</td>\n",
       "      <td>Australian Grand Prix</td>\n",
       "      <td>2014-03-16</td>\n",
       "      <td>1</td>\n",
       "      <td>5</td>\n",
       "      <td>0.0</td>\n",
       "      <td>False</td>\n",
       "    </tr>\n",
       "  </tbody>\n",
       "</table>\n",
       "</div>"
      ],
      "text/plain": [
       "       raceId  driverId  lap  position  milliseconds  year  round  circuitId  \\\n",
       "72699     900        20    1        15        120977  2014      1          1   \n",
       "72700     900        20    2        16        109947  2014      1          1   \n",
       "72701     900        20    3        16        111460  2014      1          1   \n",
       "\n",
       "                        name        date number  statusId  \\\n",
       "72699  Australian Grand Prix  2014-03-16      1         5   \n",
       "72700  Australian Grand Prix  2014-03-16      1         5   \n",
       "72701  Australian Grand Prix  2014-03-16      1         5   \n",
       "\n",
       "       pitStopMilliseconds  isPitStop  \n",
       "72699                  0.0      False  \n",
       "72700                  0.0      False  \n",
       "72701                  0.0      False  "
      ]
     },
     "execution_count": 19,
     "metadata": {},
     "output_type": "execute_result"
    }
   ],
   "source": [
    "lap_times_selected_driver_circuit[lap_times_selected_driver_circuit[\"raceId\"] == 900]"
   ]
  },
  {
   "cell_type": "code",
   "execution_count": 20,
   "metadata": {},
   "outputs": [
    {
     "data": {
      "text/html": [
       "<div>\n",
       "<style scoped>\n",
       "    .dataframe tbody tr th:only-of-type {\n",
       "        vertical-align: middle;\n",
       "    }\n",
       "\n",
       "    .dataframe tbody tr th {\n",
       "        vertical-align: top;\n",
       "    }\n",
       "\n",
       "    .dataframe thead th {\n",
       "        text-align: right;\n",
       "    }\n",
       "</style>\n",
       "<table border=\"1\" class=\"dataframe\">\n",
       "  <thead>\n",
       "    <tr style=\"text-align: right;\">\n",
       "      <th></th>\n",
       "      <th>raceId</th>\n",
       "      <th>driverId</th>\n",
       "      <th>lap</th>\n",
       "      <th>position</th>\n",
       "      <th>milliseconds</th>\n",
       "      <th>year</th>\n",
       "      <th>round</th>\n",
       "      <th>circuitId</th>\n",
       "      <th>name</th>\n",
       "      <th>date</th>\n",
       "      <th>number</th>\n",
       "      <th>statusId</th>\n",
       "      <th>pitStopMilliseconds</th>\n",
       "      <th>isPitStop</th>\n",
       "    </tr>\n",
       "  </thead>\n",
       "  <tbody>\n",
       "    <tr>\n",
       "      <th>111792</th>\n",
       "      <td>948</td>\n",
       "      <td>20</td>\n",
       "      <td>18</td>\n",
       "      <td>1</td>\n",
       "      <td>201551</td>\n",
       "      <td>2016</td>\n",
       "      <td>1</td>\n",
       "      <td>1</td>\n",
       "      <td>Australian Grand Prix</td>\n",
       "      <td>2016-03-20</td>\n",
       "      <td>5</td>\n",
       "      <td>1</td>\n",
       "      <td>1089312.0</td>\n",
       "      <td>True</td>\n",
       "    </tr>\n",
       "  </tbody>\n",
       "</table>\n",
       "</div>"
      ],
      "text/plain": [
       "        raceId  driverId  lap  position  milliseconds  year  round  circuitId  \\\n",
       "111792     948        20   18         1        201551  2016      1          1   \n",
       "\n",
       "                         name        date number  statusId  \\\n",
       "111792  Australian Grand Prix  2016-03-20      5         1   \n",
       "\n",
       "        pitStopMilliseconds  isPitStop  \n",
       "111792            1089312.0       True  "
      ]
     },
     "execution_count": 20,
     "metadata": {},
     "output_type": "execute_result"
    }
   ],
   "source": [
    "lap_times_selected_driver_circuit[\n",
    "    (lap_times_selected_driver_circuit[\"raceId\"] == 948)\n",
    "    & (lap_times_selected_driver_circuit[\"lap\"] == 18)\n",
    "]"
   ]
  },
  {
   "cell_type": "code",
   "execution_count": 21,
   "metadata": {},
   "outputs": [],
   "source": [
    "## work on the outlier\n",
    "lap17_time = lap_times_selected_driver_circuit[\n",
    "    (lap_times_selected_driver_circuit[\"raceId\"] == 948)\n",
    "    & (lap_times_selected_driver_circuit[\"lap\"] == 17)\n",
    "][\"milliseconds\"].values[0]\n",
    "\n",
    "lap20_time = lap_times_selected_driver_circuit[\n",
    "    (lap_times_selected_driver_circuit[\"raceId\"] == 948)\n",
    "    & (lap_times_selected_driver_circuit[\"lap\"] == 20)\n",
    "][\"milliseconds\"].values[0]\n",
    "\n",
    "lap_times_selected_driver_circuit.loc[\n",
    "    (lap_times_selected_driver_circuit[\"raceId\"] == 948)\n",
    "    & (lap_times_selected_driver_circuit[\"lap\"] == 18),\n",
    "    \"milliseconds\",\n",
    "] = (lap17_time + lap20_time) / 2\n",
    "\n",
    "lap_times_selected_driver_circuit.loc[\n",
    "    (lap_times_selected_driver_circuit[\"raceId\"] == 948)\n",
    "    & (lap_times_selected_driver_circuit[\"lap\"] == 19),\n",
    "    \"milliseconds\",\n",
    "] = (lap17_time + lap20_time) / 2"
   ]
  },
  {
   "cell_type": "code",
   "execution_count": 22,
   "metadata": {},
   "outputs": [
    {
     "data": {
      "application/vnd.plotly.v1+json": {
       "config": {
        "plotlyServerURL": "https://plot.ly"
       },
       "data": [
        {
         "mode": "lines+markers",
         "name": "race id: 841",
         "type": "scatter",
         "x": [
          1,
          2,
          3,
          4,
          5,
          6,
          7,
          8,
          9,
          10,
          11,
          12,
          13,
          14,
          15,
          16,
          17,
          18,
          19,
          20,
          21,
          22,
          23,
          24,
          25,
          26,
          27,
          28,
          29,
          30,
          31,
          32,
          33,
          34,
          35,
          36,
          37,
          38,
          39,
          40,
          41,
          42,
          43,
          44,
          45,
          46,
          47,
          48,
          49,
          50,
          51,
          52,
          53,
          54,
          55,
          56,
          57,
          58
         ],
         "y": [
          98109,
          93006,
          92713,
          92803,
          92342,
          92605,
          92502,
          92537,
          93240,
          92572,
          92669,
          92902,
          93698,
          112075,
          98385,
          91548,
          90800,
          91810,
          91018,
          91055,
          91288,
          91084,
          90875,
          92240,
          91699,
          91328,
          91568,
          91113,
          91339,
          91054,
          91707,
          91611,
          91406,
          91871,
          92597,
          113737,
          99321,
          93632,
          91005,
          90530,
          90140,
          90419,
          90503,
          89844,
          90470,
          90669,
          90297,
          90471,
          90710,
          90732,
          90873,
          91087,
          90671,
          90656,
          90899,
          89962,
          90516,
          91946
         ]
        },
        {
         "mode": "lines+markers",
         "name": "race id: 860",
         "type": "scatter",
         "x": [
          1,
          2,
          3,
          4,
          5,
          6,
          7,
          8,
          9,
          10,
          11,
          12,
          13,
          14,
          15,
          16,
          17,
          18,
          19,
          20,
          21,
          22,
          23,
          24,
          25,
          26,
          27,
          28,
          29,
          30,
          31,
          32,
          33,
          34,
          35,
          36,
          37,
          38,
          39,
          40,
          41,
          42,
          43,
          44,
          45,
          46,
          47,
          48,
          49,
          50,
          51,
          52,
          53,
          54,
          55,
          56,
          57,
          58
         ],
         "y": [
          103029,
          95160,
          93848,
          94148,
          94174,
          96499,
          93690,
          93632,
          93500,
          94853,
          93605,
          93308,
          93582,
          93685,
          93750,
          114857,
          99517,
          93273,
          92764,
          92945,
          94467,
          92588,
          93174,
          92182,
          92028,
          92056,
          92162,
          91741,
          92107,
          91621,
          91794,
          92059,
          91947,
          91843,
          91865,
          91874,
          120851,
          163068,
          143569,
          160235,
          141015,
          93226,
          91477,
          90585,
          90221,
          90033,
          89899,
          90160,
          90287,
          90033,
          89888,
          89690,
          89869,
          89587,
          89995,
          89590,
          89417,
          89682
         ]
        },
        {
         "mode": "lines+markers",
         "name": "race id: 880",
         "type": "scatter",
         "x": [
          1,
          2,
          3,
          4,
          5,
          6,
          7,
          8,
          9,
          10,
          11,
          12,
          13,
          14,
          15,
          16,
          17,
          18,
          19,
          20,
          21,
          22,
          23,
          24,
          25,
          26,
          27,
          28,
          29,
          30,
          31,
          32,
          33,
          34,
          35,
          36,
          37,
          38,
          39,
          40,
          41,
          42,
          43,
          44,
          45,
          46,
          47,
          48,
          49,
          50,
          51,
          52,
          53,
          54,
          55,
          56,
          57,
          58
         ],
         "y": [
          99646,
          93106,
          93550,
          94374,
          94496,
          94748,
          112236,
          99173,
          92317,
          92209,
          92690,
          92239,
          92587,
          93665,
          93586,
          93756,
          93494,
          93609,
          93524,
          93644,
          111776,
          97277,
          91657,
          91379,
          92268,
          92667,
          92545,
          92140,
          92911,
          93037,
          93154,
          92839,
          91577,
          91318,
          91538,
          92125,
          109744,
          96665,
          90890,
          91110,
          90459,
          90409,
          90589,
          90723,
          91029,
          91073,
          91064,
          91695,
          91097,
          91068,
          90998,
          90807,
          90966,
          91182,
          90793,
          90883,
          91285,
          92185
         ]
        },
        {
         "mode": "lines+markers",
         "name": "race id: 900",
         "type": "scatter",
         "x": [
          1,
          2,
          3
         ],
         "y": [
          120977,
          109947,
          111460
         ]
        },
        {
         "mode": "lines+markers",
         "name": "race id: 926",
         "type": "scatter",
         "x": [
          1,
          2,
          3,
          4,
          5,
          6,
          7,
          8,
          9,
          10,
          11,
          12,
          13,
          14,
          15,
          16,
          17,
          18,
          19,
          20,
          21,
          22,
          23,
          24,
          25,
          26,
          27,
          28,
          29,
          30,
          31,
          32,
          33,
          34,
          35,
          36,
          37,
          38,
          39,
          40,
          41,
          42,
          43,
          44,
          45,
          46,
          47,
          48,
          49,
          50,
          51,
          52,
          53,
          54,
          55,
          56,
          57,
          58
         ],
         "y": [
          147522,
          144069,
          133846,
          95361,
          94027,
          93438,
          93197,
          93754,
          92991,
          93074,
          93490,
          93597,
          93513,
          93374,
          93853,
          93173,
          93229,
          93146,
          93168,
          93145,
          92859,
          92307,
          92664,
          111263,
          98543,
          92115,
          92429,
          92670,
          92432,
          92518,
          92698,
          92443,
          92300,
          92856,
          92633,
          92567,
          92456,
          92518,
          93729,
          92644,
          92673,
          92653,
          92129,
          92334,
          92288,
          92054,
          92259,
          92037,
          92127,
          91754,
          91578,
          91457,
          91492,
          91847,
          91719,
          91478,
          91717,
          93383
         ]
        },
        {
         "mode": "lines+markers",
         "name": "race id: 948",
         "type": "scatter",
         "x": [
          1,
          2,
          3,
          4,
          5,
          6,
          7,
          8,
          9,
          10,
          11,
          12,
          13,
          14,
          15,
          16,
          17,
          18,
          19,
          20,
          21,
          22,
          23,
          24,
          25,
          26,
          27,
          28,
          29,
          30,
          31,
          32,
          33,
          34,
          35,
          36,
          37,
          38,
          39,
          40,
          41,
          42,
          43,
          44,
          45,
          46,
          47,
          48,
          49,
          50,
          51,
          52,
          53,
          54,
          55,
          56,
          57
         ],
         "y": [
          96916,
          91664,
          92167,
          92014,
          92273,
          92204,
          92080,
          92289,
          92578,
          92571,
          92960,
          93014,
          110574,
          95604,
          90757,
          91809,
          99423,
          94973.5,
          94973.5,
          90524,
          90374,
          90207,
          89951,
          90185,
          90719,
          91764,
          91454,
          91507,
          91809,
          92003,
          92228,
          92227,
          92795,
          92937,
          113109,
          94747,
          90251,
          90612,
          90627,
          91064,
          91220,
          91104,
          90814,
          91196,
          90779,
          90725,
          90590,
          90463,
          90271,
          90168,
          90137,
          91262,
          90665,
          90907,
          95239,
          90965,
          91634
         ]
        },
        {
         "mode": "lines+markers",
         "name": "race id: 1",
         "type": "scatter",
         "x": [
          1,
          2,
          3,
          4,
          5,
          6,
          7,
          8,
          9,
          10,
          11,
          12,
          13,
          14,
          15,
          16,
          17,
          18,
          19,
          20,
          21,
          22,
          23,
          24,
          25,
          26,
          27,
          28,
          29,
          30,
          31,
          32,
          33,
          34,
          35,
          36,
          37,
          38,
          39,
          40,
          41,
          42,
          43,
          44,
          45,
          46,
          47,
          48,
          49,
          50,
          51,
          52,
          53,
          54,
          55,
          56
         ],
         "y": [
          99647,
          91173,
          89752,
          88999,
          88849,
          88424,
          88235,
          88140,
          88331,
          88970,
          88862,
          88387,
          88260,
          88457,
          88279,
          110990,
          95628,
          90580,
          94856,
          144788,
          106868,
          158375,
          151909,
          142185,
          93553,
          91452,
          90116,
          89431,
          89242,
          89120,
          88686,
          88819,
          88875,
          88604,
          88528,
          88173,
          88557,
          88459,
          88369,
          88448,
          88852,
          89082,
          89102,
          88976,
          106765,
          94308,
          89862,
          89555,
          89628,
          89507,
          89225,
          90154,
          89721,
          90237,
          91092,
          160783
         ]
        },
        {
         "mode": "lines+markers",
         "name": "race id: 338",
         "type": "scatter",
         "x": [
          1,
          2,
          3,
          4,
          5,
          6,
          7,
          8,
          9,
          10,
          11,
          12,
          13,
          14,
          15,
          16,
          17,
          18,
          19,
          20,
          21,
          22,
          23,
          24,
          25
         ],
         "y": [
          126947,
          163696,
          156229,
          150999,
          104978,
          103250,
          102775,
          101476,
          121768,
          103572,
          93057,
          92439,
          91856,
          92287,
          93925,
          92447,
          91866,
          91812,
          91744,
          91626,
          91558,
          91556,
          92064,
          92939,
          92391
         ]
        },
        {
         "mode": "lines+markers",
         "name": "race id: 969",
         "type": "scatter",
         "x": [
          1,
          2,
          3,
          4,
          5,
          6,
          7,
          8,
          9,
          10,
          11,
          12,
          13,
          14,
          15,
          16,
          17,
          18,
          19,
          20,
          21,
          22,
          23,
          24,
          25,
          26,
          27,
          28,
          29,
          30,
          31,
          32,
          33,
          34,
          35,
          36,
          37,
          38,
          39,
          40,
          41,
          42,
          43,
          44,
          45,
          46,
          47,
          48,
          49,
          50,
          51,
          52,
          53,
          54,
          55,
          56,
          57
         ],
         "y": [
          95078,
          89727,
          89043,
          89128,
          89127,
          89083,
          88865,
          88753,
          88234,
          88657,
          88393,
          88221,
          88372,
          88690,
          88507,
          88221,
          88364,
          88478,
          88118,
          88224,
          88578,
          88501,
          106995,
          93830,
          87726,
          87598,
          88046,
          87726,
          88009,
          88388,
          88119,
          88226,
          87701,
          87628,
          87483,
          87347,
          87620,
          87490,
          87586,
          87718,
          87386,
          87448,
          87819,
          87954,
          87735,
          87695,
          87735,
          88707,
          87613,
          87422,
          87782,
          87618,
          86638,
          87007,
          87369,
          87437,
          88709
         ]
        },
        {
         "mode": "lines+markers",
         "name": "race id: 989",
         "type": "scatter",
         "x": [
          58,
          57,
          56,
          55,
          54,
          53,
          52,
          51,
          50,
          49,
          48,
          47,
          46,
          45,
          44,
          43,
          42,
          41,
          40,
          39,
          38,
          37,
          36,
          35,
          34,
          33,
          32,
          31,
          30,
          29,
          28,
          27,
          26,
          25,
          24,
          23,
          22,
          21,
          20,
          19,
          18,
          17,
          16,
          15,
          14,
          13,
          12,
          11,
          10,
          9,
          8,
          7,
          6,
          5,
          4,
          3,
          2,
          1
         ],
         "y": [
          88863,
          86990,
          87236,
          86983,
          86711,
          86469,
          86968,
          86604,
          86804,
          87084,
          87237,
          86997,
          86766,
          86785,
          87081,
          86872,
          87022,
          86946,
          86909,
          86947,
          87309,
          87175,
          87123,
          87100,
          87559,
          87889,
          87998,
          138857,
          136470,
          133109,
          123248,
          129347,
          125108,
          88787,
          89030,
          88954,
          88515,
          88561,
          88245,
          88488,
          88534,
          88596,
          88704,
          88685,
          88801,
          89109,
          88405,
          89025,
          88665,
          89375,
          89481,
          90177,
          90497,
          89540,
          89610,
          90177,
          90562,
          96194
         ]
        },
        {
         "mode": "lines+markers",
         "name": "race id: 1010",
         "type": "scatter",
         "x": [
          1,
          2,
          3,
          4,
          5,
          6,
          7,
          8,
          9,
          10,
          11,
          12,
          13,
          14,
          15,
          16,
          17,
          18,
          19,
          20,
          21,
          22,
          23,
          24,
          25,
          26,
          27,
          28,
          29,
          30,
          31,
          32,
          33,
          34,
          35,
          36,
          37,
          38,
          39,
          40,
          41,
          42,
          43,
          44,
          45,
          46,
          47,
          48,
          49,
          50,
          51,
          52,
          53,
          54,
          55,
          56,
          57,
          58
         ],
         "y": [
          95626,
          90095,
          89371,
          89124,
          89310,
          89666,
          89418,
          89557,
          89282,
          89394,
          89246,
          89102,
          88789,
          106627,
          93692,
          87954,
          88561,
          88657,
          89248,
          89227,
          88701,
          88514,
          88637,
          88702,
          88899,
          88710,
          88705,
          88759,
          88207,
          88343,
          90051,
          88489,
          88658,
          88736,
          88494,
          88557,
          88607,
          88561,
          88555,
          88203,
          88215,
          88389,
          88585,
          88275,
          88249,
          88214,
          88400,
          88380,
          88432,
          88746,
          88706,
          88644,
          89006,
          89438,
          89159,
          89683,
          90057,
          90822
         ]
        },
        {
         "mode": "lines+markers",
         "name": "race id: 1076",
         "type": "scatter",
         "x": [
          1,
          2,
          3,
          4,
          5,
          6,
          7,
          8,
          9,
          10,
          11,
          12,
          13,
          14,
          15,
          16,
          17,
          18,
          19,
          20,
          21,
          22
         ],
         "y": [
          100136,
          88340,
          115920,
          132726,
          135917,
          127088,
          87194,
          86763,
          86179,
          93354,
          85984,
          86150,
          86423,
          86074,
          85575,
          85554,
          85189,
          85367,
          85503,
          85398,
          85505,
          87005
         ]
        }
       ],
       "layout": {
        "template": {
         "data": {
          "bar": [
           {
            "error_x": {
             "color": "#2a3f5f"
            },
            "error_y": {
             "color": "#2a3f5f"
            },
            "marker": {
             "line": {
              "color": "#E5ECF6",
              "width": 0.5
             },
             "pattern": {
              "fillmode": "overlay",
              "size": 10,
              "solidity": 0.2
             }
            },
            "type": "bar"
           }
          ],
          "barpolar": [
           {
            "marker": {
             "line": {
              "color": "#E5ECF6",
              "width": 0.5
             },
             "pattern": {
              "fillmode": "overlay",
              "size": 10,
              "solidity": 0.2
             }
            },
            "type": "barpolar"
           }
          ],
          "carpet": [
           {
            "aaxis": {
             "endlinecolor": "#2a3f5f",
             "gridcolor": "white",
             "linecolor": "white",
             "minorgridcolor": "white",
             "startlinecolor": "#2a3f5f"
            },
            "baxis": {
             "endlinecolor": "#2a3f5f",
             "gridcolor": "white",
             "linecolor": "white",
             "minorgridcolor": "white",
             "startlinecolor": "#2a3f5f"
            },
            "type": "carpet"
           }
          ],
          "choropleth": [
           {
            "colorbar": {
             "outlinewidth": 0,
             "ticks": ""
            },
            "type": "choropleth"
           }
          ],
          "contour": [
           {
            "colorbar": {
             "outlinewidth": 0,
             "ticks": ""
            },
            "colorscale": [
             [
              0,
              "#0d0887"
             ],
             [
              0.1111111111111111,
              "#46039f"
             ],
             [
              0.2222222222222222,
              "#7201a8"
             ],
             [
              0.3333333333333333,
              "#9c179e"
             ],
             [
              0.4444444444444444,
              "#bd3786"
             ],
             [
              0.5555555555555556,
              "#d8576b"
             ],
             [
              0.6666666666666666,
              "#ed7953"
             ],
             [
              0.7777777777777778,
              "#fb9f3a"
             ],
             [
              0.8888888888888888,
              "#fdca26"
             ],
             [
              1,
              "#f0f921"
             ]
            ],
            "type": "contour"
           }
          ],
          "contourcarpet": [
           {
            "colorbar": {
             "outlinewidth": 0,
             "ticks": ""
            },
            "type": "contourcarpet"
           }
          ],
          "heatmap": [
           {
            "colorbar": {
             "outlinewidth": 0,
             "ticks": ""
            },
            "colorscale": [
             [
              0,
              "#0d0887"
             ],
             [
              0.1111111111111111,
              "#46039f"
             ],
             [
              0.2222222222222222,
              "#7201a8"
             ],
             [
              0.3333333333333333,
              "#9c179e"
             ],
             [
              0.4444444444444444,
              "#bd3786"
             ],
             [
              0.5555555555555556,
              "#d8576b"
             ],
             [
              0.6666666666666666,
              "#ed7953"
             ],
             [
              0.7777777777777778,
              "#fb9f3a"
             ],
             [
              0.8888888888888888,
              "#fdca26"
             ],
             [
              1,
              "#f0f921"
             ]
            ],
            "type": "heatmap"
           }
          ],
          "heatmapgl": [
           {
            "colorbar": {
             "outlinewidth": 0,
             "ticks": ""
            },
            "colorscale": [
             [
              0,
              "#0d0887"
             ],
             [
              0.1111111111111111,
              "#46039f"
             ],
             [
              0.2222222222222222,
              "#7201a8"
             ],
             [
              0.3333333333333333,
              "#9c179e"
             ],
             [
              0.4444444444444444,
              "#bd3786"
             ],
             [
              0.5555555555555556,
              "#d8576b"
             ],
             [
              0.6666666666666666,
              "#ed7953"
             ],
             [
              0.7777777777777778,
              "#fb9f3a"
             ],
             [
              0.8888888888888888,
              "#fdca26"
             ],
             [
              1,
              "#f0f921"
             ]
            ],
            "type": "heatmapgl"
           }
          ],
          "histogram": [
           {
            "marker": {
             "pattern": {
              "fillmode": "overlay",
              "size": 10,
              "solidity": 0.2
             }
            },
            "type": "histogram"
           }
          ],
          "histogram2d": [
           {
            "colorbar": {
             "outlinewidth": 0,
             "ticks": ""
            },
            "colorscale": [
             [
              0,
              "#0d0887"
             ],
             [
              0.1111111111111111,
              "#46039f"
             ],
             [
              0.2222222222222222,
              "#7201a8"
             ],
             [
              0.3333333333333333,
              "#9c179e"
             ],
             [
              0.4444444444444444,
              "#bd3786"
             ],
             [
              0.5555555555555556,
              "#d8576b"
             ],
             [
              0.6666666666666666,
              "#ed7953"
             ],
             [
              0.7777777777777778,
              "#fb9f3a"
             ],
             [
              0.8888888888888888,
              "#fdca26"
             ],
             [
              1,
              "#f0f921"
             ]
            ],
            "type": "histogram2d"
           }
          ],
          "histogram2dcontour": [
           {
            "colorbar": {
             "outlinewidth": 0,
             "ticks": ""
            },
            "colorscale": [
             [
              0,
              "#0d0887"
             ],
             [
              0.1111111111111111,
              "#46039f"
             ],
             [
              0.2222222222222222,
              "#7201a8"
             ],
             [
              0.3333333333333333,
              "#9c179e"
             ],
             [
              0.4444444444444444,
              "#bd3786"
             ],
             [
              0.5555555555555556,
              "#d8576b"
             ],
             [
              0.6666666666666666,
              "#ed7953"
             ],
             [
              0.7777777777777778,
              "#fb9f3a"
             ],
             [
              0.8888888888888888,
              "#fdca26"
             ],
             [
              1,
              "#f0f921"
             ]
            ],
            "type": "histogram2dcontour"
           }
          ],
          "mesh3d": [
           {
            "colorbar": {
             "outlinewidth": 0,
             "ticks": ""
            },
            "type": "mesh3d"
           }
          ],
          "parcoords": [
           {
            "line": {
             "colorbar": {
              "outlinewidth": 0,
              "ticks": ""
             }
            },
            "type": "parcoords"
           }
          ],
          "pie": [
           {
            "automargin": true,
            "type": "pie"
           }
          ],
          "scatter": [
           {
            "fillpattern": {
             "fillmode": "overlay",
             "size": 10,
             "solidity": 0.2
            },
            "type": "scatter"
           }
          ],
          "scatter3d": [
           {
            "line": {
             "colorbar": {
              "outlinewidth": 0,
              "ticks": ""
             }
            },
            "marker": {
             "colorbar": {
              "outlinewidth": 0,
              "ticks": ""
             }
            },
            "type": "scatter3d"
           }
          ],
          "scattercarpet": [
           {
            "marker": {
             "colorbar": {
              "outlinewidth": 0,
              "ticks": ""
             }
            },
            "type": "scattercarpet"
           }
          ],
          "scattergeo": [
           {
            "marker": {
             "colorbar": {
              "outlinewidth": 0,
              "ticks": ""
             }
            },
            "type": "scattergeo"
           }
          ],
          "scattergl": [
           {
            "marker": {
             "colorbar": {
              "outlinewidth": 0,
              "ticks": ""
             }
            },
            "type": "scattergl"
           }
          ],
          "scattermapbox": [
           {
            "marker": {
             "colorbar": {
              "outlinewidth": 0,
              "ticks": ""
             }
            },
            "type": "scattermapbox"
           }
          ],
          "scatterpolar": [
           {
            "marker": {
             "colorbar": {
              "outlinewidth": 0,
              "ticks": ""
             }
            },
            "type": "scatterpolar"
           }
          ],
          "scatterpolargl": [
           {
            "marker": {
             "colorbar": {
              "outlinewidth": 0,
              "ticks": ""
             }
            },
            "type": "scatterpolargl"
           }
          ],
          "scatterternary": [
           {
            "marker": {
             "colorbar": {
              "outlinewidth": 0,
              "ticks": ""
             }
            },
            "type": "scatterternary"
           }
          ],
          "surface": [
           {
            "colorbar": {
             "outlinewidth": 0,
             "ticks": ""
            },
            "colorscale": [
             [
              0,
              "#0d0887"
             ],
             [
              0.1111111111111111,
              "#46039f"
             ],
             [
              0.2222222222222222,
              "#7201a8"
             ],
             [
              0.3333333333333333,
              "#9c179e"
             ],
             [
              0.4444444444444444,
              "#bd3786"
             ],
             [
              0.5555555555555556,
              "#d8576b"
             ],
             [
              0.6666666666666666,
              "#ed7953"
             ],
             [
              0.7777777777777778,
              "#fb9f3a"
             ],
             [
              0.8888888888888888,
              "#fdca26"
             ],
             [
              1,
              "#f0f921"
             ]
            ],
            "type": "surface"
           }
          ],
          "table": [
           {
            "cells": {
             "fill": {
              "color": "#EBF0F8"
             },
             "line": {
              "color": "white"
             }
            },
            "header": {
             "fill": {
              "color": "#C8D4E3"
             },
             "line": {
              "color": "white"
             }
            },
            "type": "table"
           }
          ]
         },
         "layout": {
          "annotationdefaults": {
           "arrowcolor": "#2a3f5f",
           "arrowhead": 0,
           "arrowwidth": 1
          },
          "autotypenumbers": "strict",
          "coloraxis": {
           "colorbar": {
            "outlinewidth": 0,
            "ticks": ""
           }
          },
          "colorscale": {
           "diverging": [
            [
             0,
             "#8e0152"
            ],
            [
             0.1,
             "#c51b7d"
            ],
            [
             0.2,
             "#de77ae"
            ],
            [
             0.3,
             "#f1b6da"
            ],
            [
             0.4,
             "#fde0ef"
            ],
            [
             0.5,
             "#f7f7f7"
            ],
            [
             0.6,
             "#e6f5d0"
            ],
            [
             0.7,
             "#b8e186"
            ],
            [
             0.8,
             "#7fbc41"
            ],
            [
             0.9,
             "#4d9221"
            ],
            [
             1,
             "#276419"
            ]
           ],
           "sequential": [
            [
             0,
             "#0d0887"
            ],
            [
             0.1111111111111111,
             "#46039f"
            ],
            [
             0.2222222222222222,
             "#7201a8"
            ],
            [
             0.3333333333333333,
             "#9c179e"
            ],
            [
             0.4444444444444444,
             "#bd3786"
            ],
            [
             0.5555555555555556,
             "#d8576b"
            ],
            [
             0.6666666666666666,
             "#ed7953"
            ],
            [
             0.7777777777777778,
             "#fb9f3a"
            ],
            [
             0.8888888888888888,
             "#fdca26"
            ],
            [
             1,
             "#f0f921"
            ]
           ],
           "sequentialminus": [
            [
             0,
             "#0d0887"
            ],
            [
             0.1111111111111111,
             "#46039f"
            ],
            [
             0.2222222222222222,
             "#7201a8"
            ],
            [
             0.3333333333333333,
             "#9c179e"
            ],
            [
             0.4444444444444444,
             "#bd3786"
            ],
            [
             0.5555555555555556,
             "#d8576b"
            ],
            [
             0.6666666666666666,
             "#ed7953"
            ],
            [
             0.7777777777777778,
             "#fb9f3a"
            ],
            [
             0.8888888888888888,
             "#fdca26"
            ],
            [
             1,
             "#f0f921"
            ]
           ]
          },
          "colorway": [
           "#636efa",
           "#EF553B",
           "#00cc96",
           "#ab63fa",
           "#FFA15A",
           "#19d3f3",
           "#FF6692",
           "#B6E880",
           "#FF97FF",
           "#FECB52"
          ],
          "font": {
           "color": "#2a3f5f"
          },
          "geo": {
           "bgcolor": "white",
           "lakecolor": "white",
           "landcolor": "#E5ECF6",
           "showlakes": true,
           "showland": true,
           "subunitcolor": "white"
          },
          "hoverlabel": {
           "align": "left"
          },
          "hovermode": "closest",
          "mapbox": {
           "style": "light"
          },
          "paper_bgcolor": "white",
          "plot_bgcolor": "#E5ECF6",
          "polar": {
           "angularaxis": {
            "gridcolor": "white",
            "linecolor": "white",
            "ticks": ""
           },
           "bgcolor": "#E5ECF6",
           "radialaxis": {
            "gridcolor": "white",
            "linecolor": "white",
            "ticks": ""
           }
          },
          "scene": {
           "xaxis": {
            "backgroundcolor": "#E5ECF6",
            "gridcolor": "white",
            "gridwidth": 2,
            "linecolor": "white",
            "showbackground": true,
            "ticks": "",
            "zerolinecolor": "white"
           },
           "yaxis": {
            "backgroundcolor": "#E5ECF6",
            "gridcolor": "white",
            "gridwidth": 2,
            "linecolor": "white",
            "showbackground": true,
            "ticks": "",
            "zerolinecolor": "white"
           },
           "zaxis": {
            "backgroundcolor": "#E5ECF6",
            "gridcolor": "white",
            "gridwidth": 2,
            "linecolor": "white",
            "showbackground": true,
            "ticks": "",
            "zerolinecolor": "white"
           }
          },
          "shapedefaults": {
           "line": {
            "color": "#2a3f5f"
           }
          },
          "ternary": {
           "aaxis": {
            "gridcolor": "white",
            "linecolor": "white",
            "ticks": ""
           },
           "baxis": {
            "gridcolor": "white",
            "linecolor": "white",
            "ticks": ""
           },
           "bgcolor": "#E5ECF6",
           "caxis": {
            "gridcolor": "white",
            "linecolor": "white",
            "ticks": ""
           }
          },
          "title": {
           "x": 0.05
          },
          "xaxis": {
           "automargin": true,
           "gridcolor": "white",
           "linecolor": "white",
           "ticks": "",
           "title": {
            "standoff": 15
           },
           "zerolinecolor": "white",
           "zerolinewidth": 2
          },
          "yaxis": {
           "automargin": true,
           "gridcolor": "white",
           "linecolor": "white",
           "ticks": "",
           "title": {
            "standoff": 15
           },
           "zerolinecolor": "white",
           "zerolinewidth": 2
          }
         }
        },
        "title": {
         "text": "Laptimes by each lap"
        },
        "xaxis": {
         "title": {
          "text": "Lap number"
         }
        },
        "yaxis": {
         "title": {
          "text": "Total lap time"
         }
        }
       }
      }
     },
     "metadata": {},
     "output_type": "display_data"
    }
   ],
   "source": [
    "fig = go.Figure()\n",
    "\n",
    "for race_id in list_race_id:\n",
    "\n",
    "    lap_times_race = lap_times_selected_driver_circuit[\n",
    "        lap_times_selected_driver_circuit[\"raceId\"] == race_id\n",
    "    ]\n",
    "\n",
    "    fig.add_trace(\n",
    "        go.Scatter(\n",
    "            x=lap_times_race[\"lap\"],\n",
    "            y=lap_times_race[\"milliseconds\"],\n",
    "            mode=\"lines+markers\",\n",
    "            name=f\"race id: {race_id}\",\n",
    "        )\n",
    "    )\n",
    "\n",
    "    fig.update_layout(\n",
    "        title=\"Laptimes by each lap\",\n",
    "        xaxis_title=\"Lap number\",\n",
    "        yaxis_title=\"Total lap time\",\n",
    "    )\n",
    "fig.show()"
   ]
  },
  {
   "cell_type": "code",
   "execution_count": 23,
   "metadata": {},
   "outputs": [
    {
     "data": {
      "application/vnd.plotly.v1+json": {
       "config": {
        "plotlyServerURL": "https://plot.ly"
       },
       "data": [
        {
         "name": "Lap times for Aus GP",
         "type": "box",
         "y": [
          98109,
          93006,
          92713,
          92803,
          92342,
          92605,
          92502,
          92537,
          93240,
          92572,
          92669,
          92902,
          93698,
          112075,
          98385,
          91548,
          90800,
          91810,
          91018,
          91055,
          91288,
          91084,
          90875,
          92240,
          91699,
          91328,
          91568,
          91113,
          91339,
          91054,
          91707,
          91611,
          91406,
          91871,
          92597,
          113737,
          99321,
          93632,
          91005,
          90530,
          90140,
          90419,
          90503,
          89844,
          90470,
          90669,
          90297,
          90471,
          90710,
          90732,
          90873,
          91087,
          90671,
          90656,
          90899,
          89962,
          90516,
          91946,
          103029,
          95160,
          93848,
          94148,
          94174,
          96499,
          93690,
          93632,
          93500,
          94853,
          93605,
          93308,
          93582,
          93685,
          93750,
          114857,
          99517,
          93273,
          92764,
          92945,
          94467,
          92588,
          93174,
          92182,
          92028,
          92056,
          92162,
          91741,
          92107,
          91621,
          91794,
          92059,
          91947,
          91843,
          91865,
          91874,
          120851,
          163068,
          143569,
          160235,
          141015,
          93226,
          91477,
          90585,
          90221,
          90033,
          89899,
          90160,
          90287,
          90033,
          89888,
          89690,
          89869,
          89587,
          89995,
          89590,
          89417,
          89682,
          99646,
          93106,
          93550,
          94374,
          94496,
          94748,
          112236,
          99173,
          92317,
          92209,
          92690,
          92239,
          92587,
          93665,
          93586,
          93756,
          93494,
          93609,
          93524,
          93644,
          111776,
          97277,
          91657,
          91379,
          92268,
          92667,
          92545,
          92140,
          92911,
          93037,
          93154,
          92839,
          91577,
          91318,
          91538,
          92125,
          109744,
          96665,
          90890,
          91110,
          90459,
          90409,
          90589,
          90723,
          91029,
          91073,
          91064,
          91695,
          91097,
          91068,
          90998,
          90807,
          90966,
          91182,
          90793,
          90883,
          91285,
          92185,
          120977,
          109947,
          111460,
          147522,
          144069,
          133846,
          95361,
          94027,
          93438,
          93197,
          93754,
          92991,
          93074,
          93490,
          93597,
          93513,
          93374,
          93853,
          93173,
          93229,
          93146,
          93168,
          93145,
          92859,
          92307,
          92664,
          111263,
          98543,
          92115,
          92429,
          92670,
          92432,
          92518,
          92698,
          92443,
          92300,
          92856,
          92633,
          92567,
          92456,
          92518,
          93729,
          92644,
          92673,
          92653,
          92129,
          92334,
          92288,
          92054,
          92259,
          92037,
          92127,
          91754,
          91578,
          91457,
          91492,
          91847,
          91719,
          91478,
          91717,
          93383,
          96916,
          91664,
          92167,
          92014,
          92273,
          92204,
          92080,
          92289,
          92578,
          92571,
          92960,
          93014,
          110574,
          95604,
          90757,
          91809,
          99423,
          94973.5,
          94973.5,
          90524,
          90374,
          90207,
          89951,
          90185,
          90719,
          91764,
          91454,
          91507,
          91809,
          92003,
          92228,
          92227,
          92795,
          92937,
          113109,
          94747,
          90251,
          90612,
          90627,
          91064,
          91220,
          91104,
          90814,
          91196,
          90779,
          90725,
          90590,
          90463,
          90271,
          90168,
          90137,
          91262,
          90665,
          90907,
          95239,
          90965,
          91634,
          99647,
          91173,
          89752,
          88999,
          88849,
          88424,
          88235,
          88140,
          88331,
          88970,
          88862,
          88387,
          88260,
          88457,
          88279,
          110990,
          95628,
          90580,
          94856,
          144788,
          106868,
          158375,
          151909,
          142185,
          93553,
          91452,
          90116,
          89431,
          89242,
          89120,
          88686,
          88819,
          88875,
          88604,
          88528,
          88173,
          88557,
          88459,
          88369,
          88448,
          88852,
          89082,
          89102,
          88976,
          106765,
          94308,
          89862,
          89555,
          89628,
          89507,
          89225,
          90154,
          89721,
          90237,
          91092,
          160783,
          126947,
          163696,
          156229,
          150999,
          104978,
          103250,
          102775,
          101476,
          121768,
          103572,
          93057,
          92439,
          91856,
          92287,
          93925,
          92447,
          91866,
          91812,
          91744,
          91626,
          91558,
          91556,
          92064,
          92939,
          92391,
          95078,
          89727,
          89043,
          89128,
          89127,
          89083,
          88865,
          88753,
          88234,
          88657,
          88393,
          88221,
          88372,
          88690,
          88507,
          88221,
          88364,
          88478,
          88118,
          88224,
          88578,
          88501,
          106995,
          93830,
          87726,
          87598,
          88046,
          87726,
          88009,
          88388,
          88119,
          88226,
          87701,
          87628,
          87483,
          87347,
          87620,
          87490,
          87586,
          87718,
          87386,
          87448,
          87819,
          87954,
          87735,
          87695,
          87735,
          88707,
          87613,
          87422,
          87782,
          87618,
          86638,
          87007,
          87369,
          87437,
          88709,
          88863,
          86990,
          87236,
          86983,
          86711,
          86469,
          86968,
          86604,
          86804,
          87084,
          87237,
          86997,
          86766,
          86785,
          87081,
          86872,
          87022,
          86946,
          86909,
          86947,
          87309,
          87175,
          87123,
          87100,
          87559,
          87889,
          87998,
          138857,
          136470,
          133109,
          123248,
          129347,
          125108,
          88787,
          89030,
          88954,
          88515,
          88561,
          88245,
          88488,
          88534,
          88596,
          88704,
          88685,
          88801,
          89109,
          88405,
          89025,
          88665,
          89375,
          89481,
          90177,
          90497,
          89540,
          89610,
          90177,
          90562,
          96194,
          95626,
          90095,
          89371,
          89124,
          89310,
          89666,
          89418,
          89557,
          89282,
          89394,
          89246,
          89102,
          88789,
          106627,
          93692,
          87954,
          88561,
          88657,
          89248,
          89227,
          88701,
          88514,
          88637,
          88702,
          88899,
          88710,
          88705,
          88759,
          88207,
          88343,
          90051,
          88489,
          88658,
          88736,
          88494,
          88557,
          88607,
          88561,
          88555,
          88203,
          88215,
          88389,
          88585,
          88275,
          88249,
          88214,
          88400,
          88380,
          88432,
          88746,
          88706,
          88644,
          89006,
          89438,
          89159,
          89683,
          90057,
          90822,
          100136,
          88340,
          115920,
          132726,
          135917,
          127088,
          87194,
          86763,
          86179,
          93354,
          85984,
          86150,
          86423,
          86074,
          85575,
          85554,
          85189,
          85367,
          85503,
          85398,
          85505,
          87005
         ]
        }
       ],
       "layout": {
        "template": {
         "data": {
          "bar": [
           {
            "error_x": {
             "color": "#2a3f5f"
            },
            "error_y": {
             "color": "#2a3f5f"
            },
            "marker": {
             "line": {
              "color": "#E5ECF6",
              "width": 0.5
             },
             "pattern": {
              "fillmode": "overlay",
              "size": 10,
              "solidity": 0.2
             }
            },
            "type": "bar"
           }
          ],
          "barpolar": [
           {
            "marker": {
             "line": {
              "color": "#E5ECF6",
              "width": 0.5
             },
             "pattern": {
              "fillmode": "overlay",
              "size": 10,
              "solidity": 0.2
             }
            },
            "type": "barpolar"
           }
          ],
          "carpet": [
           {
            "aaxis": {
             "endlinecolor": "#2a3f5f",
             "gridcolor": "white",
             "linecolor": "white",
             "minorgridcolor": "white",
             "startlinecolor": "#2a3f5f"
            },
            "baxis": {
             "endlinecolor": "#2a3f5f",
             "gridcolor": "white",
             "linecolor": "white",
             "minorgridcolor": "white",
             "startlinecolor": "#2a3f5f"
            },
            "type": "carpet"
           }
          ],
          "choropleth": [
           {
            "colorbar": {
             "outlinewidth": 0,
             "ticks": ""
            },
            "type": "choropleth"
           }
          ],
          "contour": [
           {
            "colorbar": {
             "outlinewidth": 0,
             "ticks": ""
            },
            "colorscale": [
             [
              0,
              "#0d0887"
             ],
             [
              0.1111111111111111,
              "#46039f"
             ],
             [
              0.2222222222222222,
              "#7201a8"
             ],
             [
              0.3333333333333333,
              "#9c179e"
             ],
             [
              0.4444444444444444,
              "#bd3786"
             ],
             [
              0.5555555555555556,
              "#d8576b"
             ],
             [
              0.6666666666666666,
              "#ed7953"
             ],
             [
              0.7777777777777778,
              "#fb9f3a"
             ],
             [
              0.8888888888888888,
              "#fdca26"
             ],
             [
              1,
              "#f0f921"
             ]
            ],
            "type": "contour"
           }
          ],
          "contourcarpet": [
           {
            "colorbar": {
             "outlinewidth": 0,
             "ticks": ""
            },
            "type": "contourcarpet"
           }
          ],
          "heatmap": [
           {
            "colorbar": {
             "outlinewidth": 0,
             "ticks": ""
            },
            "colorscale": [
             [
              0,
              "#0d0887"
             ],
             [
              0.1111111111111111,
              "#46039f"
             ],
             [
              0.2222222222222222,
              "#7201a8"
             ],
             [
              0.3333333333333333,
              "#9c179e"
             ],
             [
              0.4444444444444444,
              "#bd3786"
             ],
             [
              0.5555555555555556,
              "#d8576b"
             ],
             [
              0.6666666666666666,
              "#ed7953"
             ],
             [
              0.7777777777777778,
              "#fb9f3a"
             ],
             [
              0.8888888888888888,
              "#fdca26"
             ],
             [
              1,
              "#f0f921"
             ]
            ],
            "type": "heatmap"
           }
          ],
          "heatmapgl": [
           {
            "colorbar": {
             "outlinewidth": 0,
             "ticks": ""
            },
            "colorscale": [
             [
              0,
              "#0d0887"
             ],
             [
              0.1111111111111111,
              "#46039f"
             ],
             [
              0.2222222222222222,
              "#7201a8"
             ],
             [
              0.3333333333333333,
              "#9c179e"
             ],
             [
              0.4444444444444444,
              "#bd3786"
             ],
             [
              0.5555555555555556,
              "#d8576b"
             ],
             [
              0.6666666666666666,
              "#ed7953"
             ],
             [
              0.7777777777777778,
              "#fb9f3a"
             ],
             [
              0.8888888888888888,
              "#fdca26"
             ],
             [
              1,
              "#f0f921"
             ]
            ],
            "type": "heatmapgl"
           }
          ],
          "histogram": [
           {
            "marker": {
             "pattern": {
              "fillmode": "overlay",
              "size": 10,
              "solidity": 0.2
             }
            },
            "type": "histogram"
           }
          ],
          "histogram2d": [
           {
            "colorbar": {
             "outlinewidth": 0,
             "ticks": ""
            },
            "colorscale": [
             [
              0,
              "#0d0887"
             ],
             [
              0.1111111111111111,
              "#46039f"
             ],
             [
              0.2222222222222222,
              "#7201a8"
             ],
             [
              0.3333333333333333,
              "#9c179e"
             ],
             [
              0.4444444444444444,
              "#bd3786"
             ],
             [
              0.5555555555555556,
              "#d8576b"
             ],
             [
              0.6666666666666666,
              "#ed7953"
             ],
             [
              0.7777777777777778,
              "#fb9f3a"
             ],
             [
              0.8888888888888888,
              "#fdca26"
             ],
             [
              1,
              "#f0f921"
             ]
            ],
            "type": "histogram2d"
           }
          ],
          "histogram2dcontour": [
           {
            "colorbar": {
             "outlinewidth": 0,
             "ticks": ""
            },
            "colorscale": [
             [
              0,
              "#0d0887"
             ],
             [
              0.1111111111111111,
              "#46039f"
             ],
             [
              0.2222222222222222,
              "#7201a8"
             ],
             [
              0.3333333333333333,
              "#9c179e"
             ],
             [
              0.4444444444444444,
              "#bd3786"
             ],
             [
              0.5555555555555556,
              "#d8576b"
             ],
             [
              0.6666666666666666,
              "#ed7953"
             ],
             [
              0.7777777777777778,
              "#fb9f3a"
             ],
             [
              0.8888888888888888,
              "#fdca26"
             ],
             [
              1,
              "#f0f921"
             ]
            ],
            "type": "histogram2dcontour"
           }
          ],
          "mesh3d": [
           {
            "colorbar": {
             "outlinewidth": 0,
             "ticks": ""
            },
            "type": "mesh3d"
           }
          ],
          "parcoords": [
           {
            "line": {
             "colorbar": {
              "outlinewidth": 0,
              "ticks": ""
             }
            },
            "type": "parcoords"
           }
          ],
          "pie": [
           {
            "automargin": true,
            "type": "pie"
           }
          ],
          "scatter": [
           {
            "fillpattern": {
             "fillmode": "overlay",
             "size": 10,
             "solidity": 0.2
            },
            "type": "scatter"
           }
          ],
          "scatter3d": [
           {
            "line": {
             "colorbar": {
              "outlinewidth": 0,
              "ticks": ""
             }
            },
            "marker": {
             "colorbar": {
              "outlinewidth": 0,
              "ticks": ""
             }
            },
            "type": "scatter3d"
           }
          ],
          "scattercarpet": [
           {
            "marker": {
             "colorbar": {
              "outlinewidth": 0,
              "ticks": ""
             }
            },
            "type": "scattercarpet"
           }
          ],
          "scattergeo": [
           {
            "marker": {
             "colorbar": {
              "outlinewidth": 0,
              "ticks": ""
             }
            },
            "type": "scattergeo"
           }
          ],
          "scattergl": [
           {
            "marker": {
             "colorbar": {
              "outlinewidth": 0,
              "ticks": ""
             }
            },
            "type": "scattergl"
           }
          ],
          "scattermapbox": [
           {
            "marker": {
             "colorbar": {
              "outlinewidth": 0,
              "ticks": ""
             }
            },
            "type": "scattermapbox"
           }
          ],
          "scatterpolar": [
           {
            "marker": {
             "colorbar": {
              "outlinewidth": 0,
              "ticks": ""
             }
            },
            "type": "scatterpolar"
           }
          ],
          "scatterpolargl": [
           {
            "marker": {
             "colorbar": {
              "outlinewidth": 0,
              "ticks": ""
             }
            },
            "type": "scatterpolargl"
           }
          ],
          "scatterternary": [
           {
            "marker": {
             "colorbar": {
              "outlinewidth": 0,
              "ticks": ""
             }
            },
            "type": "scatterternary"
           }
          ],
          "surface": [
           {
            "colorbar": {
             "outlinewidth": 0,
             "ticks": ""
            },
            "colorscale": [
             [
              0,
              "#0d0887"
             ],
             [
              0.1111111111111111,
              "#46039f"
             ],
             [
              0.2222222222222222,
              "#7201a8"
             ],
             [
              0.3333333333333333,
              "#9c179e"
             ],
             [
              0.4444444444444444,
              "#bd3786"
             ],
             [
              0.5555555555555556,
              "#d8576b"
             ],
             [
              0.6666666666666666,
              "#ed7953"
             ],
             [
              0.7777777777777778,
              "#fb9f3a"
             ],
             [
              0.8888888888888888,
              "#fdca26"
             ],
             [
              1,
              "#f0f921"
             ]
            ],
            "type": "surface"
           }
          ],
          "table": [
           {
            "cells": {
             "fill": {
              "color": "#EBF0F8"
             },
             "line": {
              "color": "white"
             }
            },
            "header": {
             "fill": {
              "color": "#C8D4E3"
             },
             "line": {
              "color": "white"
             }
            },
            "type": "table"
           }
          ]
         },
         "layout": {
          "annotationdefaults": {
           "arrowcolor": "#2a3f5f",
           "arrowhead": 0,
           "arrowwidth": 1
          },
          "autotypenumbers": "strict",
          "coloraxis": {
           "colorbar": {
            "outlinewidth": 0,
            "ticks": ""
           }
          },
          "colorscale": {
           "diverging": [
            [
             0,
             "#8e0152"
            ],
            [
             0.1,
             "#c51b7d"
            ],
            [
             0.2,
             "#de77ae"
            ],
            [
             0.3,
             "#f1b6da"
            ],
            [
             0.4,
             "#fde0ef"
            ],
            [
             0.5,
             "#f7f7f7"
            ],
            [
             0.6,
             "#e6f5d0"
            ],
            [
             0.7,
             "#b8e186"
            ],
            [
             0.8,
             "#7fbc41"
            ],
            [
             0.9,
             "#4d9221"
            ],
            [
             1,
             "#276419"
            ]
           ],
           "sequential": [
            [
             0,
             "#0d0887"
            ],
            [
             0.1111111111111111,
             "#46039f"
            ],
            [
             0.2222222222222222,
             "#7201a8"
            ],
            [
             0.3333333333333333,
             "#9c179e"
            ],
            [
             0.4444444444444444,
             "#bd3786"
            ],
            [
             0.5555555555555556,
             "#d8576b"
            ],
            [
             0.6666666666666666,
             "#ed7953"
            ],
            [
             0.7777777777777778,
             "#fb9f3a"
            ],
            [
             0.8888888888888888,
             "#fdca26"
            ],
            [
             1,
             "#f0f921"
            ]
           ],
           "sequentialminus": [
            [
             0,
             "#0d0887"
            ],
            [
             0.1111111111111111,
             "#46039f"
            ],
            [
             0.2222222222222222,
             "#7201a8"
            ],
            [
             0.3333333333333333,
             "#9c179e"
            ],
            [
             0.4444444444444444,
             "#bd3786"
            ],
            [
             0.5555555555555556,
             "#d8576b"
            ],
            [
             0.6666666666666666,
             "#ed7953"
            ],
            [
             0.7777777777777778,
             "#fb9f3a"
            ],
            [
             0.8888888888888888,
             "#fdca26"
            ],
            [
             1,
             "#f0f921"
            ]
           ]
          },
          "colorway": [
           "#636efa",
           "#EF553B",
           "#00cc96",
           "#ab63fa",
           "#FFA15A",
           "#19d3f3",
           "#FF6692",
           "#B6E880",
           "#FF97FF",
           "#FECB52"
          ],
          "font": {
           "color": "#2a3f5f"
          },
          "geo": {
           "bgcolor": "white",
           "lakecolor": "white",
           "landcolor": "#E5ECF6",
           "showlakes": true,
           "showland": true,
           "subunitcolor": "white"
          },
          "hoverlabel": {
           "align": "left"
          },
          "hovermode": "closest",
          "mapbox": {
           "style": "light"
          },
          "paper_bgcolor": "white",
          "plot_bgcolor": "#E5ECF6",
          "polar": {
           "angularaxis": {
            "gridcolor": "white",
            "linecolor": "white",
            "ticks": ""
           },
           "bgcolor": "#E5ECF6",
           "radialaxis": {
            "gridcolor": "white",
            "linecolor": "white",
            "ticks": ""
           }
          },
          "scene": {
           "xaxis": {
            "backgroundcolor": "#E5ECF6",
            "gridcolor": "white",
            "gridwidth": 2,
            "linecolor": "white",
            "showbackground": true,
            "ticks": "",
            "zerolinecolor": "white"
           },
           "yaxis": {
            "backgroundcolor": "#E5ECF6",
            "gridcolor": "white",
            "gridwidth": 2,
            "linecolor": "white",
            "showbackground": true,
            "ticks": "",
            "zerolinecolor": "white"
           },
           "zaxis": {
            "backgroundcolor": "#E5ECF6",
            "gridcolor": "white",
            "gridwidth": 2,
            "linecolor": "white",
            "showbackground": true,
            "ticks": "",
            "zerolinecolor": "white"
           }
          },
          "shapedefaults": {
           "line": {
            "color": "#2a3f5f"
           }
          },
          "ternary": {
           "aaxis": {
            "gridcolor": "white",
            "linecolor": "white",
            "ticks": ""
           },
           "baxis": {
            "gridcolor": "white",
            "linecolor": "white",
            "ticks": ""
           },
           "bgcolor": "#E5ECF6",
           "caxis": {
            "gridcolor": "white",
            "linecolor": "white",
            "ticks": ""
           }
          },
          "title": {
           "x": 0.05
          },
          "xaxis": {
           "automargin": true,
           "gridcolor": "white",
           "linecolor": "white",
           "ticks": "",
           "title": {
            "standoff": 15
           },
           "zerolinecolor": "white",
           "zerolinewidth": 2
          },
          "yaxis": {
           "automargin": true,
           "gridcolor": "white",
           "linecolor": "white",
           "ticks": "",
           "title": {
            "standoff": 15
           },
           "zerolinecolor": "white",
           "zerolinewidth": 2
          }
         }
        },
        "title": {
         "text": "Box Plot with plotly.graph_objects"
        },
        "yaxis": {
         "title": {
          "text": "Values"
         }
        }
       }
      }
     },
     "metadata": {},
     "output_type": "display_data"
    }
   ],
   "source": [
    "fig = go.Figure()\n",
    "\n",
    "# Add a box trace\n",
    "fig.add_trace(\n",
    "    go.Box(\n",
    "        y=lap_times_selected_driver_circuit[\"milliseconds\"], name=\"Lap times for Aus GP\"\n",
    "    )\n",
    ")\n",
    "\n",
    "# Customize the layout\n",
    "fig.update_layout(\n",
    "    title=\"Box Plot with plotly.graph_objects\",\n",
    "    yaxis_title=\"Values\",\n",
    ")\n",
    "\n",
    "# Show the figure\n",
    "fig.show()"
   ]
  },
  {
   "cell_type": "code",
   "execution_count": 24,
   "metadata": {},
   "outputs": [
    {
     "data": {
      "text/html": [
       "<div>\n",
       "<style scoped>\n",
       "    .dataframe tbody tr th:only-of-type {\n",
       "        vertical-align: middle;\n",
       "    }\n",
       "\n",
       "    .dataframe tbody tr th {\n",
       "        vertical-align: top;\n",
       "    }\n",
       "\n",
       "    .dataframe thead th {\n",
       "        text-align: right;\n",
       "    }\n",
       "</style>\n",
       "<table border=\"1\" class=\"dataframe\">\n",
       "  <thead>\n",
       "    <tr style=\"text-align: right;\">\n",
       "      <th></th>\n",
       "      <th>raceId</th>\n",
       "      <th>driverId</th>\n",
       "      <th>lap</th>\n",
       "      <th>position</th>\n",
       "      <th>milliseconds</th>\n",
       "      <th>year</th>\n",
       "      <th>round</th>\n",
       "      <th>circuitId</th>\n",
       "      <th>name</th>\n",
       "      <th>date</th>\n",
       "      <th>number</th>\n",
       "      <th>statusId</th>\n",
       "      <th>pitStopMilliseconds</th>\n",
       "      <th>isPitStop</th>\n",
       "    </tr>\n",
       "  </thead>\n",
       "  <tbody>\n",
       "    <tr>\n",
       "      <th>0</th>\n",
       "      <td>841</td>\n",
       "      <td>20</td>\n",
       "      <td>1</td>\n",
       "      <td>1</td>\n",
       "      <td>98109.0</td>\n",
       "      <td>2011</td>\n",
       "      <td>1</td>\n",
       "      <td>1</td>\n",
       "      <td>Australian Grand Prix</td>\n",
       "      <td>2011-03-27</td>\n",
       "      <td>1</td>\n",
       "      <td>1</td>\n",
       "      <td>0.0</td>\n",
       "      <td>False</td>\n",
       "    </tr>\n",
       "    <tr>\n",
       "      <th>1</th>\n",
       "      <td>841</td>\n",
       "      <td>20</td>\n",
       "      <td>2</td>\n",
       "      <td>1</td>\n",
       "      <td>93006.0</td>\n",
       "      <td>2011</td>\n",
       "      <td>1</td>\n",
       "      <td>1</td>\n",
       "      <td>Australian Grand Prix</td>\n",
       "      <td>2011-03-27</td>\n",
       "      <td>1</td>\n",
       "      <td>1</td>\n",
       "      <td>0.0</td>\n",
       "      <td>False</td>\n",
       "    </tr>\n",
       "    <tr>\n",
       "      <th>2</th>\n",
       "      <td>841</td>\n",
       "      <td>20</td>\n",
       "      <td>3</td>\n",
       "      <td>1</td>\n",
       "      <td>92713.0</td>\n",
       "      <td>2011</td>\n",
       "      <td>1</td>\n",
       "      <td>1</td>\n",
       "      <td>Australian Grand Prix</td>\n",
       "      <td>2011-03-27</td>\n",
       "      <td>1</td>\n",
       "      <td>1</td>\n",
       "      <td>0.0</td>\n",
       "      <td>False</td>\n",
       "    </tr>\n",
       "    <tr>\n",
       "      <th>3</th>\n",
       "      <td>841</td>\n",
       "      <td>20</td>\n",
       "      <td>4</td>\n",
       "      <td>1</td>\n",
       "      <td>92803.0</td>\n",
       "      <td>2011</td>\n",
       "      <td>1</td>\n",
       "      <td>1</td>\n",
       "      <td>Australian Grand Prix</td>\n",
       "      <td>2011-03-27</td>\n",
       "      <td>1</td>\n",
       "      <td>1</td>\n",
       "      <td>0.0</td>\n",
       "      <td>False</td>\n",
       "    </tr>\n",
       "    <tr>\n",
       "      <th>4</th>\n",
       "      <td>841</td>\n",
       "      <td>20</td>\n",
       "      <td>5</td>\n",
       "      <td>1</td>\n",
       "      <td>92342.0</td>\n",
       "      <td>2011</td>\n",
       "      <td>1</td>\n",
       "      <td>1</td>\n",
       "      <td>Australian Grand Prix</td>\n",
       "      <td>2011-03-27</td>\n",
       "      <td>1</td>\n",
       "      <td>1</td>\n",
       "      <td>0.0</td>\n",
       "      <td>False</td>\n",
       "    </tr>\n",
       "    <tr>\n",
       "      <th>...</th>\n",
       "      <td>...</td>\n",
       "      <td>...</td>\n",
       "      <td>...</td>\n",
       "      <td>...</td>\n",
       "      <td>...</td>\n",
       "      <td>...</td>\n",
       "      <td>...</td>\n",
       "      <td>...</td>\n",
       "      <td>...</td>\n",
       "      <td>...</td>\n",
       "      <td>...</td>\n",
       "      <td>...</td>\n",
       "      <td>...</td>\n",
       "      <td>...</td>\n",
       "    </tr>\n",
       "    <tr>\n",
       "      <th>517395</th>\n",
       "      <td>1076</td>\n",
       "      <td>20</td>\n",
       "      <td>18</td>\n",
       "      <td>15</td>\n",
       "      <td>85367.0</td>\n",
       "      <td>2022</td>\n",
       "      <td>3</td>\n",
       "      <td>1</td>\n",
       "      <td>Australian Grand Prix</td>\n",
       "      <td>2022-04-10</td>\n",
       "      <td>5</td>\n",
       "      <td>3</td>\n",
       "      <td>0.0</td>\n",
       "      <td>False</td>\n",
       "    </tr>\n",
       "    <tr>\n",
       "      <th>517396</th>\n",
       "      <td>1076</td>\n",
       "      <td>20</td>\n",
       "      <td>19</td>\n",
       "      <td>15</td>\n",
       "      <td>85503.0</td>\n",
       "      <td>2022</td>\n",
       "      <td>3</td>\n",
       "      <td>1</td>\n",
       "      <td>Australian Grand Prix</td>\n",
       "      <td>2022-04-10</td>\n",
       "      <td>5</td>\n",
       "      <td>3</td>\n",
       "      <td>0.0</td>\n",
       "      <td>False</td>\n",
       "    </tr>\n",
       "    <tr>\n",
       "      <th>517397</th>\n",
       "      <td>1076</td>\n",
       "      <td>20</td>\n",
       "      <td>20</td>\n",
       "      <td>15</td>\n",
       "      <td>85398.0</td>\n",
       "      <td>2022</td>\n",
       "      <td>3</td>\n",
       "      <td>1</td>\n",
       "      <td>Australian Grand Prix</td>\n",
       "      <td>2022-04-10</td>\n",
       "      <td>5</td>\n",
       "      <td>3</td>\n",
       "      <td>0.0</td>\n",
       "      <td>False</td>\n",
       "    </tr>\n",
       "    <tr>\n",
       "      <th>517398</th>\n",
       "      <td>1076</td>\n",
       "      <td>20</td>\n",
       "      <td>21</td>\n",
       "      <td>13</td>\n",
       "      <td>85505.0</td>\n",
       "      <td>2022</td>\n",
       "      <td>3</td>\n",
       "      <td>1</td>\n",
       "      <td>Australian Grand Prix</td>\n",
       "      <td>2022-04-10</td>\n",
       "      <td>5</td>\n",
       "      <td>3</td>\n",
       "      <td>0.0</td>\n",
       "      <td>False</td>\n",
       "    </tr>\n",
       "    <tr>\n",
       "      <th>517399</th>\n",
       "      <td>1076</td>\n",
       "      <td>20</td>\n",
       "      <td>22</td>\n",
       "      <td>12</td>\n",
       "      <td>87005.0</td>\n",
       "      <td>2022</td>\n",
       "      <td>3</td>\n",
       "      <td>1</td>\n",
       "      <td>Australian Grand Prix</td>\n",
       "      <td>2022-04-10</td>\n",
       "      <td>5</td>\n",
       "      <td>3</td>\n",
       "      <td>0.0</td>\n",
       "      <td>False</td>\n",
       "    </tr>\n",
       "  </tbody>\n",
       "</table>\n",
       "<p>568 rows × 14 columns</p>\n",
       "</div>"
      ],
      "text/plain": [
       "        raceId  driverId  lap  position  milliseconds  year  round  circuitId  \\\n",
       "0          841        20    1         1       98109.0  2011      1          1   \n",
       "1          841        20    2         1       93006.0  2011      1          1   \n",
       "2          841        20    3         1       92713.0  2011      1          1   \n",
       "3          841        20    4         1       92803.0  2011      1          1   \n",
       "4          841        20    5         1       92342.0  2011      1          1   \n",
       "...        ...       ...  ...       ...           ...   ...    ...        ...   \n",
       "517395    1076        20   18        15       85367.0  2022      3          1   \n",
       "517396    1076        20   19        15       85503.0  2022      3          1   \n",
       "517397    1076        20   20        15       85398.0  2022      3          1   \n",
       "517398    1076        20   21        13       85505.0  2022      3          1   \n",
       "517399    1076        20   22        12       87005.0  2022      3          1   \n",
       "\n",
       "                         name        date number  statusId  \\\n",
       "0       Australian Grand Prix  2011-03-27      1         1   \n",
       "1       Australian Grand Prix  2011-03-27      1         1   \n",
       "2       Australian Grand Prix  2011-03-27      1         1   \n",
       "3       Australian Grand Prix  2011-03-27      1         1   \n",
       "4       Australian Grand Prix  2011-03-27      1         1   \n",
       "...                       ...         ...    ...       ...   \n",
       "517395  Australian Grand Prix  2022-04-10      5         3   \n",
       "517396  Australian Grand Prix  2022-04-10      5         3   \n",
       "517397  Australian Grand Prix  2022-04-10      5         3   \n",
       "517398  Australian Grand Prix  2022-04-10      5         3   \n",
       "517399  Australian Grand Prix  2022-04-10      5         3   \n",
       "\n",
       "        pitStopMilliseconds  isPitStop  \n",
       "0                       0.0      False  \n",
       "1                       0.0      False  \n",
       "2                       0.0      False  \n",
       "3                       0.0      False  \n",
       "4                       0.0      False  \n",
       "...                     ...        ...  \n",
       "517395                  0.0      False  \n",
       "517396                  0.0      False  \n",
       "517397                  0.0      False  \n",
       "517398                  0.0      False  \n",
       "517399                  0.0      False  \n",
       "\n",
       "[568 rows x 14 columns]"
      ]
     },
     "execution_count": 24,
     "metadata": {},
     "output_type": "execute_result"
    }
   ],
   "source": [
    "lap_times_selected_driver_circuit"
   ]
  },
  {
   "cell_type": "markdown",
   "metadata": {},
   "source": [
    "# Feature engineering"
   ]
  },
  {
   "cell_type": "code",
   "execution_count": 25,
   "metadata": {},
   "outputs": [],
   "source": [
    "engineer_data_obj = engineerFeaturesForTraining(config=config)\n",
    "\n",
    "\n",
    "engineered_lap_times_df, encoder, encoder_columns = engineer_data_obj.engineer_data(\n",
    "    lap_times_data=lap_times_selected_driver_circuit\n",
    ")"
   ]
  },
  {
   "cell_type": "code",
   "execution_count": 26,
   "metadata": {},
   "outputs": [
    {
     "data": {
      "text/html": [
       "<div>\n",
       "<style scoped>\n",
       "    .dataframe tbody tr th:only-of-type {\n",
       "        vertical-align: middle;\n",
       "    }\n",
       "\n",
       "    .dataframe tbody tr th {\n",
       "        vertical-align: top;\n",
       "    }\n",
       "\n",
       "    .dataframe thead th {\n",
       "        text-align: right;\n",
       "    }\n",
       "</style>\n",
       "<table border=\"1\" class=\"dataframe\">\n",
       "  <thead>\n",
       "    <tr style=\"text-align: right;\">\n",
       "      <th></th>\n",
       "      <th>raceId</th>\n",
       "      <th>lap</th>\n",
       "      <th>position</th>\n",
       "      <th>milliseconds</th>\n",
       "      <th>year</th>\n",
       "      <th>milliseconds_1_prior</th>\n",
       "      <th>lap_number_1_prior</th>\n",
       "      <th>position_1_prior_lap</th>\n",
       "      <th>month</th>\n",
       "      <th>day</th>\n",
       "      <th>isPitStop_False</th>\n",
       "      <th>isPitStop_True</th>\n",
       "      <th>statusId_1</th>\n",
       "      <th>statusId_3</th>\n",
       "      <th>statusId_4</th>\n",
       "      <th>statusId_36</th>\n",
       "    </tr>\n",
       "  </thead>\n",
       "  <tbody>\n",
       "    <tr>\n",
       "      <th>1</th>\n",
       "      <td>1</td>\n",
       "      <td>2</td>\n",
       "      <td>2</td>\n",
       "      <td>91173.0</td>\n",
       "      <td>2009</td>\n",
       "      <td>99647.0</td>\n",
       "      <td>1.0</td>\n",
       "      <td>2.0</td>\n",
       "      <td>3</td>\n",
       "      <td>29</td>\n",
       "      <td>1.0</td>\n",
       "      <td>0.0</td>\n",
       "      <td>0.0</td>\n",
       "      <td>0.0</td>\n",
       "      <td>1.0</td>\n",
       "      <td>0.0</td>\n",
       "    </tr>\n",
       "    <tr>\n",
       "      <th>2</th>\n",
       "      <td>1</td>\n",
       "      <td>3</td>\n",
       "      <td>2</td>\n",
       "      <td>89752.0</td>\n",
       "      <td>2009</td>\n",
       "      <td>91173.0</td>\n",
       "      <td>2.0</td>\n",
       "      <td>2.0</td>\n",
       "      <td>3</td>\n",
       "      <td>29</td>\n",
       "      <td>1.0</td>\n",
       "      <td>0.0</td>\n",
       "      <td>0.0</td>\n",
       "      <td>0.0</td>\n",
       "      <td>1.0</td>\n",
       "      <td>0.0</td>\n",
       "    </tr>\n",
       "    <tr>\n",
       "      <th>3</th>\n",
       "      <td>1</td>\n",
       "      <td>4</td>\n",
       "      <td>2</td>\n",
       "      <td>88999.0</td>\n",
       "      <td>2009</td>\n",
       "      <td>89752.0</td>\n",
       "      <td>3.0</td>\n",
       "      <td>2.0</td>\n",
       "      <td>3</td>\n",
       "      <td>29</td>\n",
       "      <td>1.0</td>\n",
       "      <td>0.0</td>\n",
       "      <td>0.0</td>\n",
       "      <td>0.0</td>\n",
       "      <td>1.0</td>\n",
       "      <td>0.0</td>\n",
       "    </tr>\n",
       "    <tr>\n",
       "      <th>4</th>\n",
       "      <td>1</td>\n",
       "      <td>5</td>\n",
       "      <td>2</td>\n",
       "      <td>88849.0</td>\n",
       "      <td>2009</td>\n",
       "      <td>88999.0</td>\n",
       "      <td>4.0</td>\n",
       "      <td>2.0</td>\n",
       "      <td>3</td>\n",
       "      <td>29</td>\n",
       "      <td>1.0</td>\n",
       "      <td>0.0</td>\n",
       "      <td>0.0</td>\n",
       "      <td>0.0</td>\n",
       "      <td>1.0</td>\n",
       "      <td>0.0</td>\n",
       "    </tr>\n",
       "    <tr>\n",
       "      <th>5</th>\n",
       "      <td>1</td>\n",
       "      <td>6</td>\n",
       "      <td>2</td>\n",
       "      <td>88424.0</td>\n",
       "      <td>2009</td>\n",
       "      <td>88849.0</td>\n",
       "      <td>5.0</td>\n",
       "      <td>2.0</td>\n",
       "      <td>3</td>\n",
       "      <td>29</td>\n",
       "      <td>1.0</td>\n",
       "      <td>0.0</td>\n",
       "      <td>0.0</td>\n",
       "      <td>0.0</td>\n",
       "      <td>1.0</td>\n",
       "      <td>0.0</td>\n",
       "    </tr>\n",
       "    <tr>\n",
       "      <th>...</th>\n",
       "      <td>...</td>\n",
       "      <td>...</td>\n",
       "      <td>...</td>\n",
       "      <td>...</td>\n",
       "      <td>...</td>\n",
       "      <td>...</td>\n",
       "      <td>...</td>\n",
       "      <td>...</td>\n",
       "      <td>...</td>\n",
       "      <td>...</td>\n",
       "      <td>...</td>\n",
       "      <td>...</td>\n",
       "      <td>...</td>\n",
       "      <td>...</td>\n",
       "      <td>...</td>\n",
       "      <td>...</td>\n",
       "    </tr>\n",
       "    <tr>\n",
       "      <th>560</th>\n",
       "      <td>1076</td>\n",
       "      <td>18</td>\n",
       "      <td>15</td>\n",
       "      <td>85367.0</td>\n",
       "      <td>2022</td>\n",
       "      <td>85189.0</td>\n",
       "      <td>17.0</td>\n",
       "      <td>16.0</td>\n",
       "      <td>4</td>\n",
       "      <td>10</td>\n",
       "      <td>1.0</td>\n",
       "      <td>0.0</td>\n",
       "      <td>0.0</td>\n",
       "      <td>1.0</td>\n",
       "      <td>0.0</td>\n",
       "      <td>0.0</td>\n",
       "    </tr>\n",
       "    <tr>\n",
       "      <th>561</th>\n",
       "      <td>1076</td>\n",
       "      <td>19</td>\n",
       "      <td>15</td>\n",
       "      <td>85503.0</td>\n",
       "      <td>2022</td>\n",
       "      <td>85367.0</td>\n",
       "      <td>18.0</td>\n",
       "      <td>15.0</td>\n",
       "      <td>4</td>\n",
       "      <td>10</td>\n",
       "      <td>1.0</td>\n",
       "      <td>0.0</td>\n",
       "      <td>0.0</td>\n",
       "      <td>1.0</td>\n",
       "      <td>0.0</td>\n",
       "      <td>0.0</td>\n",
       "    </tr>\n",
       "    <tr>\n",
       "      <th>562</th>\n",
       "      <td>1076</td>\n",
       "      <td>20</td>\n",
       "      <td>15</td>\n",
       "      <td>85398.0</td>\n",
       "      <td>2022</td>\n",
       "      <td>85503.0</td>\n",
       "      <td>19.0</td>\n",
       "      <td>15.0</td>\n",
       "      <td>4</td>\n",
       "      <td>10</td>\n",
       "      <td>1.0</td>\n",
       "      <td>0.0</td>\n",
       "      <td>0.0</td>\n",
       "      <td>1.0</td>\n",
       "      <td>0.0</td>\n",
       "      <td>0.0</td>\n",
       "    </tr>\n",
       "    <tr>\n",
       "      <th>563</th>\n",
       "      <td>1076</td>\n",
       "      <td>21</td>\n",
       "      <td>13</td>\n",
       "      <td>85505.0</td>\n",
       "      <td>2022</td>\n",
       "      <td>85398.0</td>\n",
       "      <td>20.0</td>\n",
       "      <td>15.0</td>\n",
       "      <td>4</td>\n",
       "      <td>10</td>\n",
       "      <td>1.0</td>\n",
       "      <td>0.0</td>\n",
       "      <td>0.0</td>\n",
       "      <td>1.0</td>\n",
       "      <td>0.0</td>\n",
       "      <td>0.0</td>\n",
       "    </tr>\n",
       "    <tr>\n",
       "      <th>564</th>\n",
       "      <td>1076</td>\n",
       "      <td>22</td>\n",
       "      <td>12</td>\n",
       "      <td>87005.0</td>\n",
       "      <td>2022</td>\n",
       "      <td>85505.0</td>\n",
       "      <td>21.0</td>\n",
       "      <td>13.0</td>\n",
       "      <td>4</td>\n",
       "      <td>10</td>\n",
       "      <td>1.0</td>\n",
       "      <td>0.0</td>\n",
       "      <td>0.0</td>\n",
       "      <td>1.0</td>\n",
       "      <td>0.0</td>\n",
       "      <td>0.0</td>\n",
       "    </tr>\n",
       "  </tbody>\n",
       "</table>\n",
       "<p>554 rows × 16 columns</p>\n",
       "</div>"
      ],
      "text/plain": [
       "     raceId  lap  position  milliseconds  year  milliseconds_1_prior  \\\n",
       "1         1    2         2       91173.0  2009               99647.0   \n",
       "2         1    3         2       89752.0  2009               91173.0   \n",
       "3         1    4         2       88999.0  2009               89752.0   \n",
       "4         1    5         2       88849.0  2009               88999.0   \n",
       "5         1    6         2       88424.0  2009               88849.0   \n",
       "..      ...  ...       ...           ...   ...                   ...   \n",
       "560    1076   18        15       85367.0  2022               85189.0   \n",
       "561    1076   19        15       85503.0  2022               85367.0   \n",
       "562    1076   20        15       85398.0  2022               85503.0   \n",
       "563    1076   21        13       85505.0  2022               85398.0   \n",
       "564    1076   22        12       87005.0  2022               85505.0   \n",
       "\n",
       "     lap_number_1_prior  position_1_prior_lap  month  day  isPitStop_False  \\\n",
       "1                   1.0                   2.0      3   29              1.0   \n",
       "2                   2.0                   2.0      3   29              1.0   \n",
       "3                   3.0                   2.0      3   29              1.0   \n",
       "4                   4.0                   2.0      3   29              1.0   \n",
       "5                   5.0                   2.0      3   29              1.0   \n",
       "..                  ...                   ...    ...  ...              ...   \n",
       "560                17.0                  16.0      4   10              1.0   \n",
       "561                18.0                  15.0      4   10              1.0   \n",
       "562                19.0                  15.0      4   10              1.0   \n",
       "563                20.0                  15.0      4   10              1.0   \n",
       "564                21.0                  13.0      4   10              1.0   \n",
       "\n",
       "     isPitStop_True  statusId_1  statusId_3  statusId_4  statusId_36  \n",
       "1               0.0         0.0         0.0         1.0          0.0  \n",
       "2               0.0         0.0         0.0         1.0          0.0  \n",
       "3               0.0         0.0         0.0         1.0          0.0  \n",
       "4               0.0         0.0         0.0         1.0          0.0  \n",
       "5               0.0         0.0         0.0         1.0          0.0  \n",
       "..              ...         ...         ...         ...          ...  \n",
       "560             0.0         0.0         1.0         0.0          0.0  \n",
       "561             0.0         0.0         1.0         0.0          0.0  \n",
       "562             0.0         0.0         1.0         0.0          0.0  \n",
       "563             0.0         0.0         1.0         0.0          0.0  \n",
       "564             0.0         0.0         1.0         0.0          0.0  \n",
       "\n",
       "[554 rows x 16 columns]"
      ]
     },
     "execution_count": 26,
     "metadata": {},
     "output_type": "execute_result"
    }
   ],
   "source": [
    "engineered_lap_times_df"
   ]
  },
  {
   "cell_type": "code",
   "execution_count": 27,
   "metadata": {},
   "outputs": [
    {
     "data": {
      "application/vnd.plotly.v1+json": {
       "config": {
        "plotlyServerURL": "https://plot.ly"
       },
       "data": [
        {
         "mode": "lines+markers",
         "name": "race id: 841",
         "type": "scatter",
         "x": [
          2,
          3,
          4,
          5,
          6,
          7,
          8,
          9,
          10,
          11,
          12,
          13,
          14,
          15,
          16,
          17,
          18,
          19,
          20,
          21,
          22,
          23,
          24,
          25,
          26,
          27,
          28,
          29,
          30,
          31,
          32,
          33,
          34,
          35,
          36,
          37,
          38,
          39,
          40,
          41,
          42,
          43,
          44,
          45,
          46,
          47,
          48,
          49,
          50,
          51,
          52,
          53,
          54,
          55,
          56,
          57,
          58
         ],
         "y": [
          93006,
          92713,
          92803,
          92342,
          92605,
          92502,
          92537,
          93240,
          92572,
          92669,
          92902,
          93698,
          112075,
          98385,
          91548,
          90800,
          91810,
          91018,
          91055,
          91288,
          91084,
          90875,
          92240,
          91699,
          91328,
          91568,
          91113,
          91339,
          91054,
          91707,
          91611,
          91406,
          91871,
          92597,
          113737,
          99321,
          93632,
          91005,
          90530,
          90140,
          90419,
          90503,
          89844,
          90470,
          90669,
          90297,
          90471,
          90710,
          90732,
          90873,
          91087,
          90671,
          90656,
          90899,
          89962,
          90516,
          91946
         ]
        },
        {
         "mode": "lines+markers",
         "name": "race id: 841 1 prior",
         "type": "scatter",
         "x": [
          2,
          3,
          4,
          5,
          6,
          7,
          8,
          9,
          10,
          11,
          12,
          13,
          14,
          15,
          16,
          17,
          18,
          19,
          20,
          21,
          22,
          23,
          24,
          25,
          26,
          27,
          28,
          29,
          30,
          31,
          32,
          33,
          34,
          35,
          36,
          37,
          38,
          39,
          40,
          41,
          42,
          43,
          44,
          45,
          46,
          47,
          48,
          49,
          50,
          51,
          52,
          53,
          54,
          55,
          56,
          57,
          58
         ],
         "y": [
          98109,
          93006,
          92713,
          92803,
          92342,
          92605,
          92502,
          92537,
          93240,
          92572,
          92669,
          92902,
          93698,
          112075,
          98385,
          91548,
          90800,
          91810,
          91018,
          91055,
          91288,
          91084,
          90875,
          92240,
          91699,
          91328,
          91568,
          91113,
          91339,
          91054,
          91707,
          91611,
          91406,
          91871,
          92597,
          113737,
          99321,
          93632,
          91005,
          90530,
          90140,
          90419,
          90503,
          89844,
          90470,
          90669,
          90297,
          90471,
          90710,
          90732,
          90873,
          91087,
          90671,
          90656,
          90899,
          89962,
          90516
         ]
        },
        {
         "mode": "lines+markers",
         "name": "race id: 860",
         "type": "scatter",
         "x": [
          2,
          3,
          4,
          5,
          6,
          7,
          8,
          9,
          10,
          11,
          12,
          13,
          14,
          15,
          16,
          17,
          18,
          19,
          20,
          21,
          22,
          23,
          24,
          25,
          26,
          27,
          28,
          29,
          30,
          31,
          32,
          33,
          34,
          35,
          36,
          37,
          38,
          39,
          40,
          41,
          42,
          43,
          44,
          45,
          46,
          47,
          48,
          49,
          50,
          51,
          52,
          53,
          54,
          55,
          56,
          57,
          58
         ],
         "y": [
          95160,
          93848,
          94148,
          94174,
          96499,
          93690,
          93632,
          93500,
          94853,
          93605,
          93308,
          93582,
          93685,
          93750,
          114857,
          99517,
          93273,
          92764,
          92945,
          94467,
          92588,
          93174,
          92182,
          92028,
          92056,
          92162,
          91741,
          92107,
          91621,
          91794,
          92059,
          91947,
          91843,
          91865,
          91874,
          120851,
          163068,
          143569,
          160235,
          141015,
          93226,
          91477,
          90585,
          90221,
          90033,
          89899,
          90160,
          90287,
          90033,
          89888,
          89690,
          89869,
          89587,
          89995,
          89590,
          89417,
          89682
         ]
        },
        {
         "mode": "lines+markers",
         "name": "race id: 860 1 prior",
         "type": "scatter",
         "x": [
          2,
          3,
          4,
          5,
          6,
          7,
          8,
          9,
          10,
          11,
          12,
          13,
          14,
          15,
          16,
          17,
          18,
          19,
          20,
          21,
          22,
          23,
          24,
          25,
          26,
          27,
          28,
          29,
          30,
          31,
          32,
          33,
          34,
          35,
          36,
          37,
          38,
          39,
          40,
          41,
          42,
          43,
          44,
          45,
          46,
          47,
          48,
          49,
          50,
          51,
          52,
          53,
          54,
          55,
          56,
          57,
          58
         ],
         "y": [
          103029,
          95160,
          93848,
          94148,
          94174,
          96499,
          93690,
          93632,
          93500,
          94853,
          93605,
          93308,
          93582,
          93685,
          93750,
          114857,
          99517,
          93273,
          92764,
          92945,
          94467,
          92588,
          93174,
          92182,
          92028,
          92056,
          92162,
          91741,
          92107,
          91621,
          91794,
          92059,
          91947,
          91843,
          91865,
          91874,
          120851,
          163068,
          143569,
          160235,
          141015,
          93226,
          91477,
          90585,
          90221,
          90033,
          89899,
          90160,
          90287,
          90033,
          89888,
          89690,
          89869,
          89587,
          89995,
          89590,
          89417
         ]
        },
        {
         "mode": "lines+markers",
         "name": "race id: 880",
         "type": "scatter",
         "x": [
          2,
          3,
          4,
          5,
          6,
          7,
          8,
          9,
          10,
          11,
          12,
          13,
          14,
          15,
          16,
          17,
          18,
          19,
          20,
          21,
          22,
          23,
          24,
          25,
          26,
          27,
          28,
          29,
          30,
          31,
          32,
          33,
          34,
          35,
          36,
          37,
          38,
          39,
          40,
          41,
          42,
          43,
          44,
          45,
          46,
          47,
          48,
          49,
          50,
          51,
          52,
          53,
          54,
          55,
          56,
          57,
          58
         ],
         "y": [
          93106,
          93550,
          94374,
          94496,
          94748,
          112236,
          99173,
          92317,
          92209,
          92690,
          92239,
          92587,
          93665,
          93586,
          93756,
          93494,
          93609,
          93524,
          93644,
          111776,
          97277,
          91657,
          91379,
          92268,
          92667,
          92545,
          92140,
          92911,
          93037,
          93154,
          92839,
          91577,
          91318,
          91538,
          92125,
          109744,
          96665,
          90890,
          91110,
          90459,
          90409,
          90589,
          90723,
          91029,
          91073,
          91064,
          91695,
          91097,
          91068,
          90998,
          90807,
          90966,
          91182,
          90793,
          90883,
          91285,
          92185
         ]
        },
        {
         "mode": "lines+markers",
         "name": "race id: 880 1 prior",
         "type": "scatter",
         "x": [
          2,
          3,
          4,
          5,
          6,
          7,
          8,
          9,
          10,
          11,
          12,
          13,
          14,
          15,
          16,
          17,
          18,
          19,
          20,
          21,
          22,
          23,
          24,
          25,
          26,
          27,
          28,
          29,
          30,
          31,
          32,
          33,
          34,
          35,
          36,
          37,
          38,
          39,
          40,
          41,
          42,
          43,
          44,
          45,
          46,
          47,
          48,
          49,
          50,
          51,
          52,
          53,
          54,
          55,
          56,
          57,
          58
         ],
         "y": [
          99646,
          93106,
          93550,
          94374,
          94496,
          94748,
          112236,
          99173,
          92317,
          92209,
          92690,
          92239,
          92587,
          93665,
          93586,
          93756,
          93494,
          93609,
          93524,
          93644,
          111776,
          97277,
          91657,
          91379,
          92268,
          92667,
          92545,
          92140,
          92911,
          93037,
          93154,
          92839,
          91577,
          91318,
          91538,
          92125,
          109744,
          96665,
          90890,
          91110,
          90459,
          90409,
          90589,
          90723,
          91029,
          91073,
          91064,
          91695,
          91097,
          91068,
          90998,
          90807,
          90966,
          91182,
          90793,
          90883,
          91285
         ]
        },
        {
         "mode": "lines+markers",
         "name": "race id: 900",
         "type": "scatter",
         "x": [],
         "y": []
        },
        {
         "mode": "lines+markers",
         "name": "race id: 900 1 prior",
         "type": "scatter",
         "x": [],
         "y": []
        },
        {
         "mode": "lines+markers",
         "name": "race id: 926",
         "type": "scatter",
         "x": [
          2,
          3,
          4,
          5,
          6,
          7,
          8,
          9,
          10,
          11,
          12,
          13,
          14,
          15,
          16,
          17,
          18,
          19,
          20,
          21,
          22,
          23,
          24,
          25,
          26,
          27,
          28,
          29,
          30,
          31,
          32,
          33,
          34,
          35,
          36,
          37,
          38,
          39,
          40,
          41,
          42,
          43,
          44,
          45,
          46,
          47,
          48,
          49,
          50,
          51,
          52,
          53,
          54,
          55,
          56,
          57,
          58
         ],
         "y": [
          144069,
          133846,
          95361,
          94027,
          93438,
          93197,
          93754,
          92991,
          93074,
          93490,
          93597,
          93513,
          93374,
          93853,
          93173,
          93229,
          93146,
          93168,
          93145,
          92859,
          92307,
          92664,
          111263,
          98543,
          92115,
          92429,
          92670,
          92432,
          92518,
          92698,
          92443,
          92300,
          92856,
          92633,
          92567,
          92456,
          92518,
          93729,
          92644,
          92673,
          92653,
          92129,
          92334,
          92288,
          92054,
          92259,
          92037,
          92127,
          91754,
          91578,
          91457,
          91492,
          91847,
          91719,
          91478,
          91717,
          93383
         ]
        },
        {
         "mode": "lines+markers",
         "name": "race id: 926 1 prior",
         "type": "scatter",
         "x": [
          2,
          3,
          4,
          5,
          6,
          7,
          8,
          9,
          10,
          11,
          12,
          13,
          14,
          15,
          16,
          17,
          18,
          19,
          20,
          21,
          22,
          23,
          24,
          25,
          26,
          27,
          28,
          29,
          30,
          31,
          32,
          33,
          34,
          35,
          36,
          37,
          38,
          39,
          40,
          41,
          42,
          43,
          44,
          45,
          46,
          47,
          48,
          49,
          50,
          51,
          52,
          53,
          54,
          55,
          56,
          57,
          58
         ],
         "y": [
          147522,
          144069,
          133846,
          95361,
          94027,
          93438,
          93197,
          93754,
          92991,
          93074,
          93490,
          93597,
          93513,
          93374,
          93853,
          93173,
          93229,
          93146,
          93168,
          93145,
          92859,
          92307,
          92664,
          111263,
          98543,
          92115,
          92429,
          92670,
          92432,
          92518,
          92698,
          92443,
          92300,
          92856,
          92633,
          92567,
          92456,
          92518,
          93729,
          92644,
          92673,
          92653,
          92129,
          92334,
          92288,
          92054,
          92259,
          92037,
          92127,
          91754,
          91578,
          91457,
          91492,
          91847,
          91719,
          91478,
          91717
         ]
        },
        {
         "mode": "lines+markers",
         "name": "race id: 948",
         "type": "scatter",
         "x": [
          2,
          3,
          4,
          5,
          6,
          7,
          8,
          9,
          10,
          11,
          12,
          13,
          14,
          15,
          16,
          17,
          18,
          19,
          20,
          21,
          22,
          23,
          24,
          25,
          26,
          27,
          28,
          29,
          30,
          31,
          32,
          33,
          34,
          35,
          36,
          37,
          38,
          39,
          40,
          41,
          42,
          43,
          44,
          45,
          46,
          47,
          48,
          49,
          50,
          51,
          52,
          53,
          54,
          55,
          56,
          57
         ],
         "y": [
          91664,
          92167,
          92014,
          92273,
          92204,
          92080,
          92289,
          92578,
          92571,
          92960,
          93014,
          110574,
          95604,
          90757,
          91809,
          99423,
          94973.5,
          94973.5,
          90524,
          90374,
          90207,
          89951,
          90185,
          90719,
          91764,
          91454,
          91507,
          91809,
          92003,
          92228,
          92227,
          92795,
          92937,
          113109,
          94747,
          90251,
          90612,
          90627,
          91064,
          91220,
          91104,
          90814,
          91196,
          90779,
          90725,
          90590,
          90463,
          90271,
          90168,
          90137,
          91262,
          90665,
          90907,
          95239,
          90965,
          91634
         ]
        },
        {
         "mode": "lines+markers",
         "name": "race id: 948 1 prior",
         "type": "scatter",
         "x": [
          2,
          3,
          4,
          5,
          6,
          7,
          8,
          9,
          10,
          11,
          12,
          13,
          14,
          15,
          16,
          17,
          18,
          19,
          20,
          21,
          22,
          23,
          24,
          25,
          26,
          27,
          28,
          29,
          30,
          31,
          32,
          33,
          34,
          35,
          36,
          37,
          38,
          39,
          40,
          41,
          42,
          43,
          44,
          45,
          46,
          47,
          48,
          49,
          50,
          51,
          52,
          53,
          54,
          55,
          56,
          57
         ],
         "y": [
          96916,
          91664,
          92167,
          92014,
          92273,
          92204,
          92080,
          92289,
          92578,
          92571,
          92960,
          93014,
          110574,
          95604,
          90757,
          91809,
          99423,
          94973.5,
          94973.5,
          90524,
          90374,
          90207,
          89951,
          90185,
          90719,
          91764,
          91454,
          91507,
          91809,
          92003,
          92228,
          92227,
          92795,
          92937,
          113109,
          94747,
          90251,
          90612,
          90627,
          91064,
          91220,
          91104,
          90814,
          91196,
          90779,
          90725,
          90590,
          90463,
          90271,
          90168,
          90137,
          91262,
          90665,
          90907,
          95239,
          90965
         ]
        },
        {
         "mode": "lines+markers",
         "name": "race id: 1",
         "type": "scatter",
         "x": [
          2,
          3,
          4,
          5,
          6,
          7,
          8,
          9,
          10,
          11,
          12,
          13,
          14,
          15,
          16,
          17,
          18,
          19,
          20,
          21,
          22,
          23,
          24,
          25,
          26,
          27,
          28,
          29,
          30,
          31,
          32,
          33,
          34,
          35,
          36,
          37,
          38,
          39,
          40,
          41,
          42,
          43,
          44,
          45,
          46,
          47,
          48,
          49,
          50,
          51,
          52,
          53,
          54,
          55,
          56
         ],
         "y": [
          91173,
          89752,
          88999,
          88849,
          88424,
          88235,
          88140,
          88331,
          88970,
          88862,
          88387,
          88260,
          88457,
          88279,
          110990,
          95628,
          90580,
          94856,
          144788,
          106868,
          158375,
          151909,
          142185,
          93553,
          91452,
          90116,
          89431,
          89242,
          89120,
          88686,
          88819,
          88875,
          88604,
          88528,
          88173,
          88557,
          88459,
          88369,
          88448,
          88852,
          89082,
          89102,
          88976,
          106765,
          94308,
          89862,
          89555,
          89628,
          89507,
          89225,
          90154,
          89721,
          90237,
          91092,
          160783
         ]
        },
        {
         "mode": "lines+markers",
         "name": "race id: 1 1 prior",
         "type": "scatter",
         "x": [
          2,
          3,
          4,
          5,
          6,
          7,
          8,
          9,
          10,
          11,
          12,
          13,
          14,
          15,
          16,
          17,
          18,
          19,
          20,
          21,
          22,
          23,
          24,
          25,
          26,
          27,
          28,
          29,
          30,
          31,
          32,
          33,
          34,
          35,
          36,
          37,
          38,
          39,
          40,
          41,
          42,
          43,
          44,
          45,
          46,
          47,
          48,
          49,
          50,
          51,
          52,
          53,
          54,
          55,
          56
         ],
         "y": [
          99647,
          91173,
          89752,
          88999,
          88849,
          88424,
          88235,
          88140,
          88331,
          88970,
          88862,
          88387,
          88260,
          88457,
          88279,
          110990,
          95628,
          90580,
          94856,
          144788,
          106868,
          158375,
          151909,
          142185,
          93553,
          91452,
          90116,
          89431,
          89242,
          89120,
          88686,
          88819,
          88875,
          88604,
          88528,
          88173,
          88557,
          88459,
          88369,
          88448,
          88852,
          89082,
          89102,
          88976,
          106765,
          94308,
          89862,
          89555,
          89628,
          89507,
          89225,
          90154,
          89721,
          90237,
          91092
         ]
        },
        {
         "mode": "lines+markers",
         "name": "race id: 338",
         "type": "scatter",
         "x": [
          2,
          3,
          4,
          5,
          6,
          7,
          8,
          9,
          10,
          11,
          12,
          13,
          14,
          15,
          16,
          17,
          18,
          19,
          20,
          21,
          22,
          23,
          24,
          25
         ],
         "y": [
          163696,
          156229,
          150999,
          104978,
          103250,
          102775,
          101476,
          121768,
          103572,
          93057,
          92439,
          91856,
          92287,
          93925,
          92447,
          91866,
          91812,
          91744,
          91626,
          91558,
          91556,
          92064,
          92939,
          92391
         ]
        },
        {
         "mode": "lines+markers",
         "name": "race id: 338 1 prior",
         "type": "scatter",
         "x": [
          2,
          3,
          4,
          5,
          6,
          7,
          8,
          9,
          10,
          11,
          12,
          13,
          14,
          15,
          16,
          17,
          18,
          19,
          20,
          21,
          22,
          23,
          24,
          25
         ],
         "y": [
          126947,
          163696,
          156229,
          150999,
          104978,
          103250,
          102775,
          101476,
          121768,
          103572,
          93057,
          92439,
          91856,
          92287,
          93925,
          92447,
          91866,
          91812,
          91744,
          91626,
          91558,
          91556,
          92064,
          92939
         ]
        },
        {
         "mode": "lines+markers",
         "name": "race id: 969",
         "type": "scatter",
         "x": [
          2,
          3,
          4,
          5,
          6,
          7,
          8,
          9,
          10,
          11,
          12,
          13,
          14,
          15,
          16,
          17,
          18,
          19,
          20,
          21,
          22,
          23,
          24,
          25,
          26,
          27,
          28,
          29,
          30,
          31,
          32,
          33,
          34,
          35,
          36,
          37,
          38,
          39,
          40,
          41,
          42,
          43,
          44,
          45,
          46,
          47,
          48,
          49,
          50,
          51,
          52,
          53,
          54,
          55,
          56,
          57
         ],
         "y": [
          89727,
          89043,
          89128,
          89127,
          89083,
          88865,
          88753,
          88234,
          88657,
          88393,
          88221,
          88372,
          88690,
          88507,
          88221,
          88364,
          88478,
          88118,
          88224,
          88578,
          88501,
          106995,
          93830,
          87726,
          87598,
          88046,
          87726,
          88009,
          88388,
          88119,
          88226,
          87701,
          87628,
          87483,
          87347,
          87620,
          87490,
          87586,
          87718,
          87386,
          87448,
          87819,
          87954,
          87735,
          87695,
          87735,
          88707,
          87613,
          87422,
          87782,
          87618,
          86638,
          87007,
          87369,
          87437,
          88709
         ]
        },
        {
         "mode": "lines+markers",
         "name": "race id: 969 1 prior",
         "type": "scatter",
         "x": [
          2,
          3,
          4,
          5,
          6,
          7,
          8,
          9,
          10,
          11,
          12,
          13,
          14,
          15,
          16,
          17,
          18,
          19,
          20,
          21,
          22,
          23,
          24,
          25,
          26,
          27,
          28,
          29,
          30,
          31,
          32,
          33,
          34,
          35,
          36,
          37,
          38,
          39,
          40,
          41,
          42,
          43,
          44,
          45,
          46,
          47,
          48,
          49,
          50,
          51,
          52,
          53,
          54,
          55,
          56,
          57
         ],
         "y": [
          95078,
          89727,
          89043,
          89128,
          89127,
          89083,
          88865,
          88753,
          88234,
          88657,
          88393,
          88221,
          88372,
          88690,
          88507,
          88221,
          88364,
          88478,
          88118,
          88224,
          88578,
          88501,
          106995,
          93830,
          87726,
          87598,
          88046,
          87726,
          88009,
          88388,
          88119,
          88226,
          87701,
          87628,
          87483,
          87347,
          87620,
          87490,
          87586,
          87718,
          87386,
          87448,
          87819,
          87954,
          87735,
          87695,
          87735,
          88707,
          87613,
          87422,
          87782,
          87618,
          86638,
          87007,
          87369,
          87437
         ]
        },
        {
         "mode": "lines+markers",
         "name": "race id: 989",
         "type": "scatter",
         "x": [
          2,
          3,
          4,
          5,
          6,
          7,
          8,
          9,
          10,
          11,
          12,
          13,
          14,
          15,
          16,
          17,
          18,
          19,
          20,
          21,
          22,
          23,
          24,
          25,
          26,
          27,
          28,
          29,
          30,
          31,
          32,
          33,
          34,
          35,
          36,
          37,
          38,
          39,
          40,
          41,
          42,
          43,
          44,
          45,
          46,
          47,
          48,
          49,
          50,
          51,
          52,
          53,
          54,
          55,
          56,
          57,
          58
         ],
         "y": [
          90562,
          90177,
          89610,
          89540,
          90497,
          90177,
          89481,
          89375,
          88665,
          89025,
          88405,
          89109,
          88801,
          88685,
          88704,
          88596,
          88534,
          88488,
          88245,
          88561,
          88515,
          88954,
          89030,
          88787,
          125108,
          129347,
          123248,
          133109,
          136470,
          138857,
          87998,
          87889,
          87559,
          87100,
          87123,
          87175,
          87309,
          86947,
          86909,
          86946,
          87022,
          86872,
          87081,
          86785,
          86766,
          86997,
          87237,
          87084,
          86804,
          86604,
          86968,
          86469,
          86711,
          86983,
          87236,
          86990,
          88863
         ]
        },
        {
         "mode": "lines+markers",
         "name": "race id: 989 1 prior",
         "type": "scatter",
         "x": [
          2,
          3,
          4,
          5,
          6,
          7,
          8,
          9,
          10,
          11,
          12,
          13,
          14,
          15,
          16,
          17,
          18,
          19,
          20,
          21,
          22,
          23,
          24,
          25,
          26,
          27,
          28,
          29,
          30,
          31,
          32,
          33,
          34,
          35,
          36,
          37,
          38,
          39,
          40,
          41,
          42,
          43,
          44,
          45,
          46,
          47,
          48,
          49,
          50,
          51,
          52,
          53,
          54,
          55,
          56,
          57,
          58
         ],
         "y": [
          96194,
          90562,
          90177,
          89610,
          89540,
          90497,
          90177,
          89481,
          89375,
          88665,
          89025,
          88405,
          89109,
          88801,
          88685,
          88704,
          88596,
          88534,
          88488,
          88245,
          88561,
          88515,
          88954,
          89030,
          88787,
          125108,
          129347,
          123248,
          133109,
          136470,
          138857,
          87998,
          87889,
          87559,
          87100,
          87123,
          87175,
          87309,
          86947,
          86909,
          86946,
          87022,
          86872,
          87081,
          86785,
          86766,
          86997,
          87237,
          87084,
          86804,
          86604,
          86968,
          86469,
          86711,
          86983,
          87236,
          86990
         ]
        },
        {
         "mode": "lines+markers",
         "name": "race id: 1010",
         "type": "scatter",
         "x": [
          2,
          3,
          4,
          5,
          6,
          7,
          8,
          9,
          10,
          11,
          12,
          13,
          14,
          15,
          16,
          17,
          18,
          19,
          20,
          21,
          22,
          23,
          24,
          25,
          26,
          27,
          28,
          29,
          30,
          31,
          32,
          33,
          34,
          35,
          36,
          37,
          38,
          39,
          40,
          41,
          42,
          43,
          44,
          45,
          46,
          47,
          48,
          49,
          50,
          51,
          52,
          53,
          54,
          55,
          56,
          57,
          58
         ],
         "y": [
          90095,
          89371,
          89124,
          89310,
          89666,
          89418,
          89557,
          89282,
          89394,
          89246,
          89102,
          88789,
          106627,
          93692,
          87954,
          88561,
          88657,
          89248,
          89227,
          88701,
          88514,
          88637,
          88702,
          88899,
          88710,
          88705,
          88759,
          88207,
          88343,
          90051,
          88489,
          88658,
          88736,
          88494,
          88557,
          88607,
          88561,
          88555,
          88203,
          88215,
          88389,
          88585,
          88275,
          88249,
          88214,
          88400,
          88380,
          88432,
          88746,
          88706,
          88644,
          89006,
          89438,
          89159,
          89683,
          90057,
          90822
         ]
        },
        {
         "mode": "lines+markers",
         "name": "race id: 1010 1 prior",
         "type": "scatter",
         "x": [
          2,
          3,
          4,
          5,
          6,
          7,
          8,
          9,
          10,
          11,
          12,
          13,
          14,
          15,
          16,
          17,
          18,
          19,
          20,
          21,
          22,
          23,
          24,
          25,
          26,
          27,
          28,
          29,
          30,
          31,
          32,
          33,
          34,
          35,
          36,
          37,
          38,
          39,
          40,
          41,
          42,
          43,
          44,
          45,
          46,
          47,
          48,
          49,
          50,
          51,
          52,
          53,
          54,
          55,
          56,
          57,
          58
         ],
         "y": [
          95626,
          90095,
          89371,
          89124,
          89310,
          89666,
          89418,
          89557,
          89282,
          89394,
          89246,
          89102,
          88789,
          106627,
          93692,
          87954,
          88561,
          88657,
          89248,
          89227,
          88701,
          88514,
          88637,
          88702,
          88899,
          88710,
          88705,
          88759,
          88207,
          88343,
          90051,
          88489,
          88658,
          88736,
          88494,
          88557,
          88607,
          88561,
          88555,
          88203,
          88215,
          88389,
          88585,
          88275,
          88249,
          88214,
          88400,
          88380,
          88432,
          88746,
          88706,
          88644,
          89006,
          89438,
          89159,
          89683,
          90057
         ]
        },
        {
         "mode": "lines+markers",
         "name": "race id: 1076",
         "type": "scatter",
         "x": [
          2,
          3,
          4,
          5,
          6,
          7,
          8,
          9,
          10,
          11,
          12,
          13,
          14,
          15,
          16,
          17,
          18,
          19,
          20,
          21,
          22
         ],
         "y": [
          88340,
          115920,
          132726,
          135917,
          127088,
          87194,
          86763,
          86179,
          93354,
          85984,
          86150,
          86423,
          86074,
          85575,
          85554,
          85189,
          85367,
          85503,
          85398,
          85505,
          87005
         ]
        },
        {
         "mode": "lines+markers",
         "name": "race id: 1076 1 prior",
         "type": "scatter",
         "x": [
          2,
          3,
          4,
          5,
          6,
          7,
          8,
          9,
          10,
          11,
          12,
          13,
          14,
          15,
          16,
          17,
          18,
          19,
          20,
          21,
          22
         ],
         "y": [
          100136,
          88340,
          115920,
          132726,
          135917,
          127088,
          87194,
          86763,
          86179,
          93354,
          85984,
          86150,
          86423,
          86074,
          85575,
          85554,
          85189,
          85367,
          85503,
          85398,
          85505
         ]
        }
       ],
       "layout": {
        "template": {
         "data": {
          "bar": [
           {
            "error_x": {
             "color": "#2a3f5f"
            },
            "error_y": {
             "color": "#2a3f5f"
            },
            "marker": {
             "line": {
              "color": "#E5ECF6",
              "width": 0.5
             },
             "pattern": {
              "fillmode": "overlay",
              "size": 10,
              "solidity": 0.2
             }
            },
            "type": "bar"
           }
          ],
          "barpolar": [
           {
            "marker": {
             "line": {
              "color": "#E5ECF6",
              "width": 0.5
             },
             "pattern": {
              "fillmode": "overlay",
              "size": 10,
              "solidity": 0.2
             }
            },
            "type": "barpolar"
           }
          ],
          "carpet": [
           {
            "aaxis": {
             "endlinecolor": "#2a3f5f",
             "gridcolor": "white",
             "linecolor": "white",
             "minorgridcolor": "white",
             "startlinecolor": "#2a3f5f"
            },
            "baxis": {
             "endlinecolor": "#2a3f5f",
             "gridcolor": "white",
             "linecolor": "white",
             "minorgridcolor": "white",
             "startlinecolor": "#2a3f5f"
            },
            "type": "carpet"
           }
          ],
          "choropleth": [
           {
            "colorbar": {
             "outlinewidth": 0,
             "ticks": ""
            },
            "type": "choropleth"
           }
          ],
          "contour": [
           {
            "colorbar": {
             "outlinewidth": 0,
             "ticks": ""
            },
            "colorscale": [
             [
              0,
              "#0d0887"
             ],
             [
              0.1111111111111111,
              "#46039f"
             ],
             [
              0.2222222222222222,
              "#7201a8"
             ],
             [
              0.3333333333333333,
              "#9c179e"
             ],
             [
              0.4444444444444444,
              "#bd3786"
             ],
             [
              0.5555555555555556,
              "#d8576b"
             ],
             [
              0.6666666666666666,
              "#ed7953"
             ],
             [
              0.7777777777777778,
              "#fb9f3a"
             ],
             [
              0.8888888888888888,
              "#fdca26"
             ],
             [
              1,
              "#f0f921"
             ]
            ],
            "type": "contour"
           }
          ],
          "contourcarpet": [
           {
            "colorbar": {
             "outlinewidth": 0,
             "ticks": ""
            },
            "type": "contourcarpet"
           }
          ],
          "heatmap": [
           {
            "colorbar": {
             "outlinewidth": 0,
             "ticks": ""
            },
            "colorscale": [
             [
              0,
              "#0d0887"
             ],
             [
              0.1111111111111111,
              "#46039f"
             ],
             [
              0.2222222222222222,
              "#7201a8"
             ],
             [
              0.3333333333333333,
              "#9c179e"
             ],
             [
              0.4444444444444444,
              "#bd3786"
             ],
             [
              0.5555555555555556,
              "#d8576b"
             ],
             [
              0.6666666666666666,
              "#ed7953"
             ],
             [
              0.7777777777777778,
              "#fb9f3a"
             ],
             [
              0.8888888888888888,
              "#fdca26"
             ],
             [
              1,
              "#f0f921"
             ]
            ],
            "type": "heatmap"
           }
          ],
          "heatmapgl": [
           {
            "colorbar": {
             "outlinewidth": 0,
             "ticks": ""
            },
            "colorscale": [
             [
              0,
              "#0d0887"
             ],
             [
              0.1111111111111111,
              "#46039f"
             ],
             [
              0.2222222222222222,
              "#7201a8"
             ],
             [
              0.3333333333333333,
              "#9c179e"
             ],
             [
              0.4444444444444444,
              "#bd3786"
             ],
             [
              0.5555555555555556,
              "#d8576b"
             ],
             [
              0.6666666666666666,
              "#ed7953"
             ],
             [
              0.7777777777777778,
              "#fb9f3a"
             ],
             [
              0.8888888888888888,
              "#fdca26"
             ],
             [
              1,
              "#f0f921"
             ]
            ],
            "type": "heatmapgl"
           }
          ],
          "histogram": [
           {
            "marker": {
             "pattern": {
              "fillmode": "overlay",
              "size": 10,
              "solidity": 0.2
             }
            },
            "type": "histogram"
           }
          ],
          "histogram2d": [
           {
            "colorbar": {
             "outlinewidth": 0,
             "ticks": ""
            },
            "colorscale": [
             [
              0,
              "#0d0887"
             ],
             [
              0.1111111111111111,
              "#46039f"
             ],
             [
              0.2222222222222222,
              "#7201a8"
             ],
             [
              0.3333333333333333,
              "#9c179e"
             ],
             [
              0.4444444444444444,
              "#bd3786"
             ],
             [
              0.5555555555555556,
              "#d8576b"
             ],
             [
              0.6666666666666666,
              "#ed7953"
             ],
             [
              0.7777777777777778,
              "#fb9f3a"
             ],
             [
              0.8888888888888888,
              "#fdca26"
             ],
             [
              1,
              "#f0f921"
             ]
            ],
            "type": "histogram2d"
           }
          ],
          "histogram2dcontour": [
           {
            "colorbar": {
             "outlinewidth": 0,
             "ticks": ""
            },
            "colorscale": [
             [
              0,
              "#0d0887"
             ],
             [
              0.1111111111111111,
              "#46039f"
             ],
             [
              0.2222222222222222,
              "#7201a8"
             ],
             [
              0.3333333333333333,
              "#9c179e"
             ],
             [
              0.4444444444444444,
              "#bd3786"
             ],
             [
              0.5555555555555556,
              "#d8576b"
             ],
             [
              0.6666666666666666,
              "#ed7953"
             ],
             [
              0.7777777777777778,
              "#fb9f3a"
             ],
             [
              0.8888888888888888,
              "#fdca26"
             ],
             [
              1,
              "#f0f921"
             ]
            ],
            "type": "histogram2dcontour"
           }
          ],
          "mesh3d": [
           {
            "colorbar": {
             "outlinewidth": 0,
             "ticks": ""
            },
            "type": "mesh3d"
           }
          ],
          "parcoords": [
           {
            "line": {
             "colorbar": {
              "outlinewidth": 0,
              "ticks": ""
             }
            },
            "type": "parcoords"
           }
          ],
          "pie": [
           {
            "automargin": true,
            "type": "pie"
           }
          ],
          "scatter": [
           {
            "fillpattern": {
             "fillmode": "overlay",
             "size": 10,
             "solidity": 0.2
            },
            "type": "scatter"
           }
          ],
          "scatter3d": [
           {
            "line": {
             "colorbar": {
              "outlinewidth": 0,
              "ticks": ""
             }
            },
            "marker": {
             "colorbar": {
              "outlinewidth": 0,
              "ticks": ""
             }
            },
            "type": "scatter3d"
           }
          ],
          "scattercarpet": [
           {
            "marker": {
             "colorbar": {
              "outlinewidth": 0,
              "ticks": ""
             }
            },
            "type": "scattercarpet"
           }
          ],
          "scattergeo": [
           {
            "marker": {
             "colorbar": {
              "outlinewidth": 0,
              "ticks": ""
             }
            },
            "type": "scattergeo"
           }
          ],
          "scattergl": [
           {
            "marker": {
             "colorbar": {
              "outlinewidth": 0,
              "ticks": ""
             }
            },
            "type": "scattergl"
           }
          ],
          "scattermapbox": [
           {
            "marker": {
             "colorbar": {
              "outlinewidth": 0,
              "ticks": ""
             }
            },
            "type": "scattermapbox"
           }
          ],
          "scatterpolar": [
           {
            "marker": {
             "colorbar": {
              "outlinewidth": 0,
              "ticks": ""
             }
            },
            "type": "scatterpolar"
           }
          ],
          "scatterpolargl": [
           {
            "marker": {
             "colorbar": {
              "outlinewidth": 0,
              "ticks": ""
             }
            },
            "type": "scatterpolargl"
           }
          ],
          "scatterternary": [
           {
            "marker": {
             "colorbar": {
              "outlinewidth": 0,
              "ticks": ""
             }
            },
            "type": "scatterternary"
           }
          ],
          "surface": [
           {
            "colorbar": {
             "outlinewidth": 0,
             "ticks": ""
            },
            "colorscale": [
             [
              0,
              "#0d0887"
             ],
             [
              0.1111111111111111,
              "#46039f"
             ],
             [
              0.2222222222222222,
              "#7201a8"
             ],
             [
              0.3333333333333333,
              "#9c179e"
             ],
             [
              0.4444444444444444,
              "#bd3786"
             ],
             [
              0.5555555555555556,
              "#d8576b"
             ],
             [
              0.6666666666666666,
              "#ed7953"
             ],
             [
              0.7777777777777778,
              "#fb9f3a"
             ],
             [
              0.8888888888888888,
              "#fdca26"
             ],
             [
              1,
              "#f0f921"
             ]
            ],
            "type": "surface"
           }
          ],
          "table": [
           {
            "cells": {
             "fill": {
              "color": "#EBF0F8"
             },
             "line": {
              "color": "white"
             }
            },
            "header": {
             "fill": {
              "color": "#C8D4E3"
             },
             "line": {
              "color": "white"
             }
            },
            "type": "table"
           }
          ]
         },
         "layout": {
          "annotationdefaults": {
           "arrowcolor": "#2a3f5f",
           "arrowhead": 0,
           "arrowwidth": 1
          },
          "autotypenumbers": "strict",
          "coloraxis": {
           "colorbar": {
            "outlinewidth": 0,
            "ticks": ""
           }
          },
          "colorscale": {
           "diverging": [
            [
             0,
             "#8e0152"
            ],
            [
             0.1,
             "#c51b7d"
            ],
            [
             0.2,
             "#de77ae"
            ],
            [
             0.3,
             "#f1b6da"
            ],
            [
             0.4,
             "#fde0ef"
            ],
            [
             0.5,
             "#f7f7f7"
            ],
            [
             0.6,
             "#e6f5d0"
            ],
            [
             0.7,
             "#b8e186"
            ],
            [
             0.8,
             "#7fbc41"
            ],
            [
             0.9,
             "#4d9221"
            ],
            [
             1,
             "#276419"
            ]
           ],
           "sequential": [
            [
             0,
             "#0d0887"
            ],
            [
             0.1111111111111111,
             "#46039f"
            ],
            [
             0.2222222222222222,
             "#7201a8"
            ],
            [
             0.3333333333333333,
             "#9c179e"
            ],
            [
             0.4444444444444444,
             "#bd3786"
            ],
            [
             0.5555555555555556,
             "#d8576b"
            ],
            [
             0.6666666666666666,
             "#ed7953"
            ],
            [
             0.7777777777777778,
             "#fb9f3a"
            ],
            [
             0.8888888888888888,
             "#fdca26"
            ],
            [
             1,
             "#f0f921"
            ]
           ],
           "sequentialminus": [
            [
             0,
             "#0d0887"
            ],
            [
             0.1111111111111111,
             "#46039f"
            ],
            [
             0.2222222222222222,
             "#7201a8"
            ],
            [
             0.3333333333333333,
             "#9c179e"
            ],
            [
             0.4444444444444444,
             "#bd3786"
            ],
            [
             0.5555555555555556,
             "#d8576b"
            ],
            [
             0.6666666666666666,
             "#ed7953"
            ],
            [
             0.7777777777777778,
             "#fb9f3a"
            ],
            [
             0.8888888888888888,
             "#fdca26"
            ],
            [
             1,
             "#f0f921"
            ]
           ]
          },
          "colorway": [
           "#636efa",
           "#EF553B",
           "#00cc96",
           "#ab63fa",
           "#FFA15A",
           "#19d3f3",
           "#FF6692",
           "#B6E880",
           "#FF97FF",
           "#FECB52"
          ],
          "font": {
           "color": "#2a3f5f"
          },
          "geo": {
           "bgcolor": "white",
           "lakecolor": "white",
           "landcolor": "#E5ECF6",
           "showlakes": true,
           "showland": true,
           "subunitcolor": "white"
          },
          "hoverlabel": {
           "align": "left"
          },
          "hovermode": "closest",
          "mapbox": {
           "style": "light"
          },
          "paper_bgcolor": "white",
          "plot_bgcolor": "#E5ECF6",
          "polar": {
           "angularaxis": {
            "gridcolor": "white",
            "linecolor": "white",
            "ticks": ""
           },
           "bgcolor": "#E5ECF6",
           "radialaxis": {
            "gridcolor": "white",
            "linecolor": "white",
            "ticks": ""
           }
          },
          "scene": {
           "xaxis": {
            "backgroundcolor": "#E5ECF6",
            "gridcolor": "white",
            "gridwidth": 2,
            "linecolor": "white",
            "showbackground": true,
            "ticks": "",
            "zerolinecolor": "white"
           },
           "yaxis": {
            "backgroundcolor": "#E5ECF6",
            "gridcolor": "white",
            "gridwidth": 2,
            "linecolor": "white",
            "showbackground": true,
            "ticks": "",
            "zerolinecolor": "white"
           },
           "zaxis": {
            "backgroundcolor": "#E5ECF6",
            "gridcolor": "white",
            "gridwidth": 2,
            "linecolor": "white",
            "showbackground": true,
            "ticks": "",
            "zerolinecolor": "white"
           }
          },
          "shapedefaults": {
           "line": {
            "color": "#2a3f5f"
           }
          },
          "ternary": {
           "aaxis": {
            "gridcolor": "white",
            "linecolor": "white",
            "ticks": ""
           },
           "baxis": {
            "gridcolor": "white",
            "linecolor": "white",
            "ticks": ""
           },
           "bgcolor": "#E5ECF6",
           "caxis": {
            "gridcolor": "white",
            "linecolor": "white",
            "ticks": ""
           }
          },
          "title": {
           "x": 0.05
          },
          "xaxis": {
           "automargin": true,
           "gridcolor": "white",
           "linecolor": "white",
           "ticks": "",
           "title": {
            "standoff": 15
           },
           "zerolinecolor": "white",
           "zerolinewidth": 2
          },
          "yaxis": {
           "automargin": true,
           "gridcolor": "white",
           "linecolor": "white",
           "ticks": "",
           "title": {
            "standoff": 15
           },
           "zerolinecolor": "white",
           "zerolinewidth": 2
          }
         }
        },
        "title": {
         "text": "Laptimes by each lap and prior lap"
        },
        "xaxis": {
         "title": {
          "text": "Lap number"
         }
        },
        "yaxis": {
         "title": {
          "text": "Total lap time"
         }
        }
       }
      }
     },
     "metadata": {},
     "output_type": "display_data"
    }
   ],
   "source": [
    "fig = go.Figure()\n",
    "\n",
    "for race_id in list_race_id:\n",
    "\n",
    "    lap_times_race = engineered_lap_times_df[\n",
    "        engineered_lap_times_df[\"raceId\"] == race_id\n",
    "    ]\n",
    "\n",
    "    fig.add_trace(\n",
    "        go.Scatter(\n",
    "            x=lap_times_race[\"lap\"],\n",
    "            y=lap_times_race[\"milliseconds\"],\n",
    "            mode=\"lines+markers\",\n",
    "            name=f\"race id: {race_id}\",\n",
    "        )\n",
    "    )\n",
    "\n",
    "    fig.add_trace(\n",
    "        go.Scatter(\n",
    "            x=lap_times_race[\"lap\"],\n",
    "            y=lap_times_race[\"milliseconds_1_prior\"],\n",
    "            mode=\"lines+markers\",\n",
    "            name=f\"race id: {race_id} 1 prior\",\n",
    "        )\n",
    "    )\n",
    "\n",
    "    fig.update_layout(\n",
    "        title=\"Laptimes by each lap and prior lap\",\n",
    "        xaxis_title=\"Lap number\",\n",
    "        yaxis_title=\"Total lap time\",\n",
    "    )\n",
    "fig.show()"
   ]
  },
  {
   "cell_type": "markdown",
   "metadata": {},
   "source": [
    "# Spliting into train test and validation"
   ]
  },
  {
   "cell_type": "code",
   "execution_count": 28,
   "metadata": {},
   "outputs": [],
   "source": [
    "split_obj = splitData()\n",
    "\n",
    "train_data, test_data = split_obj.train_test_split(\n",
    "    data=engineered_lap_times_df, race_id=338\n",
    ")\n",
    "\n",
    "training_set, validation_set = split_obj.train_validation_split(train_data=train_data)"
   ]
  },
  {
   "cell_type": "code",
   "execution_count": null,
   "metadata": {},
   "outputs": [],
   "source": []
  },
  {
   "cell_type": "code",
   "execution_count": null,
   "metadata": {},
   "outputs": [],
   "source": []
  },
  {
   "cell_type": "markdown",
   "metadata": {},
   "source": [
    "# Transform data into modelling data\n",
    "- scaling \n",
    "- sequencing"
   ]
  },
  {
   "cell_type": "code",
   "execution_count": 29,
   "metadata": {},
   "outputs": [],
   "source": [
    "## training_set trainformation"
   ]
  },
  {
   "cell_type": "code",
   "execution_count": 30,
   "metadata": {},
   "outputs": [
    {
     "name": "stderr",
     "output_type": "stream",
     "text": [
      "INFO:root:scaler_dict.pkl saved to ../artifacts/\n"
     ]
    }
   ],
   "source": [
    "data_transform_obj = transformData(\n",
    "    n_steps_input=config.get(\"N_STEP_INPUT\"),\n",
    "    n_steps_output=config.get(\"N_STEP_OUTPUT\"),\n",
    "    config=config,\n",
    ")\n",
    "\n",
    "scaled_input_df_train, scaled_output_df_train = (\n",
    "    data_transform_obj.create_scaled_input_output_data(data=training_set, train=True)\n",
    ")\n",
    "\n",
    "\n",
    "scaled_input_df_val, scaled_output_df_val = (\n",
    "    data_transform_obj.create_scaled_input_output_data(data=validation_set, train=False)\n",
    ")"
   ]
  },
  {
   "cell_type": "code",
   "execution_count": 31,
   "metadata": {},
   "outputs": [
    {
     "data": {
      "text/html": [
       "<div>\n",
       "<style scoped>\n",
       "    .dataframe tbody tr th:only-of-type {\n",
       "        vertical-align: middle;\n",
       "    }\n",
       "\n",
       "    .dataframe tbody tr th {\n",
       "        vertical-align: top;\n",
       "    }\n",
       "\n",
       "    .dataframe thead th {\n",
       "        text-align: right;\n",
       "    }\n",
       "</style>\n",
       "<table border=\"1\" class=\"dataframe\">\n",
       "  <thead>\n",
       "    <tr style=\"text-align: right;\">\n",
       "      <th></th>\n",
       "      <th>year_scaled</th>\n",
       "      <th>day_scaled</th>\n",
       "      <th>lap_scaled</th>\n",
       "      <th>position_scaled</th>\n",
       "      <th>milliseconds_1_prior_scaled</th>\n",
       "      <th>lap_number_1_prior_scaled</th>\n",
       "      <th>position_1_prior_lap_scaled</th>\n",
       "      <th>month_sin</th>\n",
       "      <th>month_cos</th>\n",
       "      <th>isPitStop_False</th>\n",
       "      <th>statusId_3</th>\n",
       "      <th>statusId_36</th>\n",
       "      <th>statusId_1</th>\n",
       "      <th>isPitStop_True</th>\n",
       "      <th>raceId</th>\n",
       "      <th>statusId_4</th>\n",
       "    </tr>\n",
       "  </thead>\n",
       "  <tbody>\n",
       "    <tr>\n",
       "      <th>0</th>\n",
       "      <td>-1.660550</td>\n",
       "      <td>1.495531</td>\n",
       "      <td>1.000000</td>\n",
       "      <td>0.055556</td>\n",
       "      <td>0.273641</td>\n",
       "      <td>1.000000</td>\n",
       "      <td>0.055556</td>\n",
       "      <td>1.000000</td>\n",
       "      <td>6.123234e-17</td>\n",
       "      <td>1.0</td>\n",
       "      <td>0.0</td>\n",
       "      <td>0.0</td>\n",
       "      <td>0.0</td>\n",
       "      <td>0.0</td>\n",
       "      <td>1</td>\n",
       "      <td>1.0</td>\n",
       "    </tr>\n",
       "    <tr>\n",
       "      <th>1</th>\n",
       "      <td>-1.660550</td>\n",
       "      <td>1.495531</td>\n",
       "      <td>1.022727</td>\n",
       "      <td>0.055556</td>\n",
       "      <td>0.112934</td>\n",
       "      <td>1.022727</td>\n",
       "      <td>0.055556</td>\n",
       "      <td>1.000000</td>\n",
       "      <td>6.123234e-17</td>\n",
       "      <td>1.0</td>\n",
       "      <td>0.0</td>\n",
       "      <td>0.0</td>\n",
       "      <td>0.0</td>\n",
       "      <td>0.0</td>\n",
       "      <td>1</td>\n",
       "      <td>1.0</td>\n",
       "    </tr>\n",
       "    <tr>\n",
       "      <th>2</th>\n",
       "      <td>-1.660550</td>\n",
       "      <td>1.495531</td>\n",
       "      <td>1.045455</td>\n",
       "      <td>0.055556</td>\n",
       "      <td>0.055577</td>\n",
       "      <td>1.045455</td>\n",
       "      <td>0.055556</td>\n",
       "      <td>1.000000</td>\n",
       "      <td>6.123234e-17</td>\n",
       "      <td>1.0</td>\n",
       "      <td>0.0</td>\n",
       "      <td>0.0</td>\n",
       "      <td>0.0</td>\n",
       "      <td>0.0</td>\n",
       "      <td>1</td>\n",
       "      <td>1.0</td>\n",
       "    </tr>\n",
       "    <tr>\n",
       "      <th>3</th>\n",
       "      <td>-1.660550</td>\n",
       "      <td>1.495531</td>\n",
       "      <td>1.068182</td>\n",
       "      <td>0.055556</td>\n",
       "      <td>0.051616</td>\n",
       "      <td>1.068182</td>\n",
       "      <td>0.055556</td>\n",
       "      <td>1.000000</td>\n",
       "      <td>6.123234e-17</td>\n",
       "      <td>1.0</td>\n",
       "      <td>0.0</td>\n",
       "      <td>0.0</td>\n",
       "      <td>0.0</td>\n",
       "      <td>0.0</td>\n",
       "      <td>1</td>\n",
       "      <td>1.0</td>\n",
       "    </tr>\n",
       "    <tr>\n",
       "      <th>4</th>\n",
       "      <td>-1.660550</td>\n",
       "      <td>1.495531</td>\n",
       "      <td>1.090909</td>\n",
       "      <td>0.055556</td>\n",
       "      <td>0.052558</td>\n",
       "      <td>1.090909</td>\n",
       "      <td>0.055556</td>\n",
       "      <td>1.000000</td>\n",
       "      <td>6.123234e-17</td>\n",
       "      <td>1.0</td>\n",
       "      <td>0.0</td>\n",
       "      <td>0.0</td>\n",
       "      <td>0.0</td>\n",
       "      <td>0.0</td>\n",
       "      <td>1</td>\n",
       "      <td>1.0</td>\n",
       "    </tr>\n",
       "    <tr>\n",
       "      <th>...</th>\n",
       "      <td>...</td>\n",
       "      <td>...</td>\n",
       "      <td>...</td>\n",
       "      <td>...</td>\n",
       "      <td>...</td>\n",
       "      <td>...</td>\n",
       "      <td>...</td>\n",
       "      <td>...</td>\n",
       "      <td>...</td>\n",
       "      <td>...</td>\n",
       "      <td>...</td>\n",
       "      <td>...</td>\n",
       "      <td>...</td>\n",
       "      <td>...</td>\n",
       "      <td>...</td>\n",
       "      <td>...</td>\n",
       "    </tr>\n",
       "    <tr>\n",
       "      <th>107</th>\n",
       "      <td>2.102348</td>\n",
       "      <td>-2.096095</td>\n",
       "      <td>0.363636</td>\n",
       "      <td>0.777778</td>\n",
       "      <td>-0.004709</td>\n",
       "      <td>0.363636</td>\n",
       "      <td>0.833333</td>\n",
       "      <td>0.866025</td>\n",
       "      <td>-5.000000e-01</td>\n",
       "      <td>1.0</td>\n",
       "      <td>1.0</td>\n",
       "      <td>0.0</td>\n",
       "      <td>0.0</td>\n",
       "      <td>0.0</td>\n",
       "      <td>1076</td>\n",
       "      <td>0.0</td>\n",
       "    </tr>\n",
       "    <tr>\n",
       "      <th>108</th>\n",
       "      <td>2.102348</td>\n",
       "      <td>-2.096095</td>\n",
       "      <td>0.386364</td>\n",
       "      <td>0.777778</td>\n",
       "      <td>-0.002412</td>\n",
       "      <td>0.386364</td>\n",
       "      <td>0.777778</td>\n",
       "      <td>0.866025</td>\n",
       "      <td>-5.000000e-01</td>\n",
       "      <td>1.0</td>\n",
       "      <td>1.0</td>\n",
       "      <td>0.0</td>\n",
       "      <td>0.0</td>\n",
       "      <td>0.0</td>\n",
       "      <td>1076</td>\n",
       "      <td>0.0</td>\n",
       "    </tr>\n",
       "    <tr>\n",
       "      <th>109</th>\n",
       "      <td>2.102348</td>\n",
       "      <td>-2.096095</td>\n",
       "      <td>0.409091</td>\n",
       "      <td>0.777778</td>\n",
       "      <td>-0.000658</td>\n",
       "      <td>0.409091</td>\n",
       "      <td>0.777778</td>\n",
       "      <td>0.866025</td>\n",
       "      <td>-5.000000e-01</td>\n",
       "      <td>1.0</td>\n",
       "      <td>1.0</td>\n",
       "      <td>0.0</td>\n",
       "      <td>0.0</td>\n",
       "      <td>0.0</td>\n",
       "      <td>1076</td>\n",
       "      <td>0.0</td>\n",
       "    </tr>\n",
       "    <tr>\n",
       "      <th>110</th>\n",
       "      <td>2.102348</td>\n",
       "      <td>-2.096095</td>\n",
       "      <td>0.431818</td>\n",
       "      <td>0.666667</td>\n",
       "      <td>-0.002013</td>\n",
       "      <td>0.431818</td>\n",
       "      <td>0.777778</td>\n",
       "      <td>0.866025</td>\n",
       "      <td>-5.000000e-01</td>\n",
       "      <td>1.0</td>\n",
       "      <td>1.0</td>\n",
       "      <td>0.0</td>\n",
       "      <td>0.0</td>\n",
       "      <td>0.0</td>\n",
       "      <td>1076</td>\n",
       "      <td>0.0</td>\n",
       "    </tr>\n",
       "    <tr>\n",
       "      <th>111</th>\n",
       "      <td>2.102348</td>\n",
       "      <td>-2.096095</td>\n",
       "      <td>0.454545</td>\n",
       "      <td>0.611111</td>\n",
       "      <td>-0.000632</td>\n",
       "      <td>0.454545</td>\n",
       "      <td>0.666667</td>\n",
       "      <td>0.866025</td>\n",
       "      <td>-5.000000e-01</td>\n",
       "      <td>1.0</td>\n",
       "      <td>1.0</td>\n",
       "      <td>0.0</td>\n",
       "      <td>0.0</td>\n",
       "      <td>0.0</td>\n",
       "      <td>1076</td>\n",
       "      <td>0.0</td>\n",
       "    </tr>\n",
       "  </tbody>\n",
       "</table>\n",
       "<p>112 rows × 16 columns</p>\n",
       "</div>"
      ],
      "text/plain": [
       "     year_scaled  day_scaled  lap_scaled  position_scaled  \\\n",
       "0      -1.660550    1.495531    1.000000         0.055556   \n",
       "1      -1.660550    1.495531    1.022727         0.055556   \n",
       "2      -1.660550    1.495531    1.045455         0.055556   \n",
       "3      -1.660550    1.495531    1.068182         0.055556   \n",
       "4      -1.660550    1.495531    1.090909         0.055556   \n",
       "..           ...         ...         ...              ...   \n",
       "107     2.102348   -2.096095    0.363636         0.777778   \n",
       "108     2.102348   -2.096095    0.386364         0.777778   \n",
       "109     2.102348   -2.096095    0.409091         0.777778   \n",
       "110     2.102348   -2.096095    0.431818         0.666667   \n",
       "111     2.102348   -2.096095    0.454545         0.611111   \n",
       "\n",
       "     milliseconds_1_prior_scaled  lap_number_1_prior_scaled  \\\n",
       "0                       0.273641                   1.000000   \n",
       "1                       0.112934                   1.022727   \n",
       "2                       0.055577                   1.045455   \n",
       "3                       0.051616                   1.068182   \n",
       "4                       0.052558                   1.090909   \n",
       "..                           ...                        ...   \n",
       "107                    -0.004709                   0.363636   \n",
       "108                    -0.002412                   0.386364   \n",
       "109                    -0.000658                   0.409091   \n",
       "110                    -0.002013                   0.431818   \n",
       "111                    -0.000632                   0.454545   \n",
       "\n",
       "     position_1_prior_lap_scaled  month_sin     month_cos  isPitStop_False  \\\n",
       "0                       0.055556   1.000000  6.123234e-17              1.0   \n",
       "1                       0.055556   1.000000  6.123234e-17              1.0   \n",
       "2                       0.055556   1.000000  6.123234e-17              1.0   \n",
       "3                       0.055556   1.000000  6.123234e-17              1.0   \n",
       "4                       0.055556   1.000000  6.123234e-17              1.0   \n",
       "..                           ...        ...           ...              ...   \n",
       "107                     0.833333   0.866025 -5.000000e-01              1.0   \n",
       "108                     0.777778   0.866025 -5.000000e-01              1.0   \n",
       "109                     0.777778   0.866025 -5.000000e-01              1.0   \n",
       "110                     0.777778   0.866025 -5.000000e-01              1.0   \n",
       "111                     0.666667   0.866025 -5.000000e-01              1.0   \n",
       "\n",
       "     statusId_3  statusId_36  statusId_1  isPitStop_True  raceId  statusId_4  \n",
       "0           0.0          0.0         0.0             0.0       1         1.0  \n",
       "1           0.0          0.0         0.0             0.0       1         1.0  \n",
       "2           0.0          0.0         0.0             0.0       1         1.0  \n",
       "3           0.0          0.0         0.0             0.0       1         1.0  \n",
       "4           0.0          0.0         0.0             0.0       1         1.0  \n",
       "..          ...          ...         ...             ...     ...         ...  \n",
       "107         1.0          0.0         0.0             0.0    1076         0.0  \n",
       "108         1.0          0.0         0.0             0.0    1076         0.0  \n",
       "109         1.0          0.0         0.0             0.0    1076         0.0  \n",
       "110         1.0          0.0         0.0             0.0    1076         0.0  \n",
       "111         1.0          0.0         0.0             0.0    1076         0.0  \n",
       "\n",
       "[112 rows x 16 columns]"
      ]
     },
     "execution_count": 31,
     "metadata": {},
     "output_type": "execute_result"
    }
   ],
   "source": [
    "scaled_input_df_val"
   ]
  },
  {
   "cell_type": "code",
   "execution_count": 32,
   "metadata": {},
   "outputs": [],
   "source": [
    "x_sequential_train, y_sequential_train = data_transform_obj.create_sequence(\n",
    "    scaled_input_df=scaled_input_df_train, scaled_output_df=scaled_output_df_train\n",
    ")\n",
    "\n",
    "x_sequential_val, y_sequential_val = data_transform_obj.create_sequence(\n",
    "    scaled_input_df=scaled_input_df_val, scaled_output_df=scaled_output_df_val\n",
    ")"
   ]
  },
  {
   "cell_type": "code",
   "execution_count": 33,
   "metadata": {},
   "outputs": [],
   "source": [
    "x_train = torch.Tensor(x_sequential_train)\n",
    "y_train = torch.Tensor(y_sequential_train)\n",
    "\n",
    "x_train = torch.reshape(\n",
    "    x_train,\n",
    "    (\n",
    "        x_train.shape[0],\n",
    "        2,\n",
    "        x_train.shape[2],\n",
    "    ),\n",
    ")\n",
    "\n",
    "x_validation = torch.Tensor(x_sequential_val)\n",
    "y_validation = torch.Tensor(y_sequential_val)\n",
    "\n",
    "x_validation = torch.reshape(\n",
    "    x_validation,\n",
    "    (\n",
    "        x_validation.shape[0],\n",
    "        2,\n",
    "        x_validation.shape[2],\n",
    "    ),\n",
    ")"
   ]
  },
  {
   "cell_type": "code",
   "execution_count": 34,
   "metadata": {},
   "outputs": [],
   "source": [
    "train_obj = train(config=config)\n",
    "\n",
    "train_data_loader, validation_data_loader = train_obj.create_data_loader(\n",
    "    batch_size=8,\n",
    "    x_train=x_train,\n",
    "    y_train=y_train,\n",
    "    x_validation=x_validation,\n",
    "    y_validation=y_validation,\n",
    ")"
   ]
  },
  {
   "cell_type": "code",
   "execution_count": 35,
   "metadata": {},
   "outputs": [
    {
     "data": {
      "text/plain": [
       "15"
      ]
     },
     "execution_count": 35,
     "metadata": {},
     "output_type": "execute_result"
    }
   ],
   "source": [
    "x_train.shape[2]"
   ]
  },
  {
   "cell_type": "code",
   "execution_count": 36,
   "metadata": {},
   "outputs": [
    {
     "name": "stdout",
     "output_type": "stream",
     "text": [
      "Epoch num: 0\n",
      "Batch 1, train loss: 0.003481788095086813\n",
      "Batch 2, train loss: 0.0023195818066596985\n",
      "Batch 3, train loss: 0.0027585846837610006\n",
      "Batch 4, train loss: 0.0030385381542146206\n",
      "Batch 5, train loss: 0.0030039858538657427\n",
      "Batch 6, train loss: 0.0025531125720590353\n",
      "Batch 7, train loss: 0.0029199616983532906\n",
      "Batch 8, train loss: 0.002176359063014388\n",
      "Batch 9, train loss: 0.0025408812798559666\n",
      "Batch 10, train loss: 0.002022148109972477\n",
      "Batch 11, train loss: 0.002903018379583955\n",
      "Batch 12, train loss: 0.002345136133953929\n",
      "Batch 13, train loss: 0.002488859696313739\n",
      "Batch 14, train loss: 0.0015431619249284267\n",
      "Batch 15, train loss: 0.001419375534169376\n",
      "Batch 16, train loss: 0.002274208003655076\n",
      "Batch 17, train loss: 0.0018381415866315365\n",
      "Batch 18, train loss: 0.0011922772973775864\n",
      "Batch 19, train loss: 0.0015109314117580652\n",
      "Batch 20, train loss: 0.0018862431170418859\n",
      "Batch 21, train loss: 0.001817969954572618\n",
      "Batch 22, train loss: 0.0018343963893130422\n",
      "Batch 23, train loss: 0.002069523325189948\n",
      "Batch 24, train loss: 0.0014936658553779125\n",
      "Batch 25, train loss: 0.0008387607522308826\n",
      "Batch 26, train loss: 0.001138555584475398\n",
      "Batch 27, train loss: 0.0010858448222279549\n",
      "Batch 28, train loss: 0.0014281991170719266\n",
      "Batch 29, train loss: 0.0013929763808846474\n",
      "Batch 30, train loss: 0.0016135488403961062\n",
      "Batch 31, train loss: 0.0011271073017269373\n",
      "Batch 32, train loss: 0.001539961900562048\n",
      "Batch 33, train loss: 0.0009652546723373234\n",
      "Batch 34, train loss: 0.0006721261306665838\n",
      "Batch 35, train loss: 0.0011194145772606134\n",
      "Batch 36, train loss: 0.000549867341760546\n",
      "Batch 37, train loss: 0.0009401388233527541\n",
      "Batch 38, train loss: 0.000924183870665729\n",
      "Batch 39, train loss: 0.0009832895593717694\n",
      "Batch 40, train loss: 0.0008230580133385956\n",
      "Batch 41, train loss: 0.0018723049433901906\n",
      "Batch 42, train loss: 0.0009058791329152882\n",
      "Batch 43, train loss: 0.0009543411433696747\n",
      "Batch 44, train loss: 0.0007601684192195535\n",
      "Batch 45, train loss: 0.001421552267856896\n",
      "Batch 46, train loss: 0.0006769011961296201\n",
      "Validation loss: 0.024442508816719055\n",
      "Epoch num: 1\n",
      "Batch 1, train loss: 0.0010276074754074216\n",
      "Batch 2, train loss: 0.0010240428382530808\n",
      "Batch 3, train loss: 0.0005857394426129758\n",
      "Batch 4, train loss: 0.0004812004917766899\n",
      "Batch 5, train loss: 0.0005929399048909545\n",
      "Batch 6, train loss: 0.00025494565488770604\n",
      "Batch 7, train loss: 0.0005492411437444389\n",
      "Batch 8, train loss: 0.0006517099100165069\n",
      "Batch 9, train loss: 0.00037999756750650704\n",
      "Batch 10, train loss: 0.0012191269779577851\n",
      "Batch 11, train loss: 0.0006964815547689795\n",
      "Batch 12, train loss: 0.0005541866412386298\n",
      "Batch 13, train loss: 0.0008153103990480304\n",
      "Batch 14, train loss: 0.0004939309437759221\n",
      "Batch 15, train loss: 0.0008612832170911133\n",
      "Batch 16, train loss: 0.0007721895235590637\n",
      "Batch 17, train loss: 0.00044294659164734185\n",
      "Batch 18, train loss: 0.0007790772360749543\n",
      "Batch 19, train loss: 0.0006781858974136412\n",
      "Batch 20, train loss: 0.000877254584338516\n",
      "Batch 21, train loss: 0.0003582698118407279\n",
      "Batch 22, train loss: 0.0003105518117081374\n",
      "Batch 23, train loss: 0.0005055374931544065\n",
      "Batch 24, train loss: 0.00025031541008502245\n",
      "Batch 25, train loss: 0.0009673235472291708\n",
      "Batch 26, train loss: 0.00013437146844808012\n",
      "Batch 27, train loss: 0.00022094040468800813\n",
      "Batch 28, train loss: 0.0003603484947234392\n",
      "Batch 29, train loss: 0.00040315918158739805\n",
      "Batch 30, train loss: 0.0006532553816214204\n",
      "Batch 31, train loss: 0.00039456822560168803\n",
      "Batch 32, train loss: 0.0002766973339021206\n",
      "Batch 33, train loss: 0.000887322414200753\n",
      "Batch 34, train loss: 0.0004301024309825152\n",
      "Batch 35, train loss: 0.0007051535649225116\n",
      "Batch 36, train loss: 0.00022896139125805348\n",
      "Batch 37, train loss: 0.0005478475359268486\n",
      "Batch 38, train loss: 0.0002245264477096498\n",
      "Batch 39, train loss: 0.00027374838828109205\n",
      "Batch 40, train loss: 0.00044136226642876863\n",
      "Batch 41, train loss: 0.0006200346979312599\n",
      "Batch 42, train loss: 0.0005802443483844399\n",
      "Batch 43, train loss: 0.000534864782821387\n",
      "Batch 44, train loss: 0.0003828444459941238\n",
      "Batch 45, train loss: 0.0005547786713577807\n",
      "Batch 46, train loss: 0.00021784704586025327\n",
      "Validation loss: 0.0349501296877861\n",
      "Epoch num: 2\n",
      "Batch 1, train loss: 0.00021436373936012387\n",
      "Batch 2, train loss: 0.00011862256360473111\n",
      "Batch 3, train loss: 0.00025015100254677236\n",
      "Batch 4, train loss: 0.00017766350356396288\n",
      "Batch 5, train loss: 0.0004234709485899657\n",
      "Batch 6, train loss: 0.00069954723585397\n",
      "Batch 7, train loss: 0.000141892975079827\n",
      "Batch 8, train loss: 0.0002551486832089722\n",
      "Batch 9, train loss: 0.0002990892971865833\n",
      "Batch 10, train loss: 0.00017314832075498998\n",
      "Batch 11, train loss: 0.00045847095316275954\n",
      "Batch 12, train loss: 8.255997090600431e-05\n",
      "Batch 13, train loss: 0.0005663735792040825\n",
      "Batch 14, train loss: 0.0003331858024466783\n",
      "Batch 15, train loss: 0.00016321051225531846\n",
      "Batch 16, train loss: 0.00029359612381085753\n",
      "Batch 17, train loss: 0.00022223232372198254\n",
      "Batch 18, train loss: 0.00023125080042518675\n",
      "Batch 19, train loss: 0.0001646685996092856\n",
      "Batch 20, train loss: 0.00042519415728747845\n",
      "Batch 21, train loss: 0.00019785469339694828\n",
      "Batch 22, train loss: 0.000614523480180651\n",
      "Batch 23, train loss: 0.0010949117131531239\n",
      "Batch 24, train loss: 0.00018082771566696465\n",
      "Batch 25, train loss: 0.00029068460571579635\n",
      "Batch 26, train loss: 0.0004962073871865869\n",
      "Batch 27, train loss: 0.0002324296219740063\n",
      "Batch 28, train loss: 0.0002531259669922292\n",
      "Batch 29, train loss: 0.00042115189717151225\n",
      "Batch 30, train loss: 0.00012628892727661878\n",
      "Batch 31, train loss: 9.418645640835166e-05\n",
      "Batch 32, train loss: 0.00020060624228790402\n",
      "Batch 33, train loss: 0.00014260133320931345\n",
      "Batch 34, train loss: 0.0004963318351656199\n",
      "Batch 35, train loss: 0.00025367180933244526\n",
      "Batch 36, train loss: 0.000549424672499299\n",
      "Batch 37, train loss: 0.0003800590056926012\n",
      "Batch 38, train loss: 0.0009127993253059685\n",
      "Batch 39, train loss: 0.00010514895257074386\n",
      "Batch 40, train loss: 0.00027325100381858647\n",
      "Batch 41, train loss: 0.00039663485949859023\n",
      "Batch 42, train loss: 0.00015639420598745346\n",
      "Batch 43, train loss: 0.0004202735726721585\n",
      "Batch 44, train loss: 0.00030516600236296654\n",
      "Batch 45, train loss: 0.0003363449068274349\n",
      "Batch 46, train loss: 0.00037335045635700226\n",
      "Validation loss: 0.032795701175928116\n",
      "Epoch num: 3\n",
      "Batch 1, train loss: 0.00021968256623949856\n",
      "Batch 2, train loss: 0.00035157956881448627\n",
      "Batch 3, train loss: 0.0003531166585162282\n",
      "Batch 4, train loss: 0.0001888272527139634\n",
      "Batch 5, train loss: 0.0005233226111158729\n",
      "Batch 6, train loss: 0.0005676656146533787\n",
      "Batch 7, train loss: 0.0001475400204071775\n",
      "Batch 8, train loss: 0.0006300725508481264\n",
      "Batch 9, train loss: 0.00018256701878271997\n",
      "Batch 10, train loss: 0.00011473651829874143\n",
      "Batch 11, train loss: 0.0006666116532869637\n",
      "Batch 12, train loss: 0.0001414215366821736\n",
      "Batch 13, train loss: 0.0003624492383096367\n",
      "Batch 14, train loss: 0.0003752736665774137\n",
      "Batch 15, train loss: 0.00010899771586991847\n",
      "Batch 16, train loss: 0.0006342408596538007\n",
      "Batch 17, train loss: 0.00016925969976000488\n",
      "Batch 18, train loss: 0.00012728785804938525\n",
      "Batch 19, train loss: 0.0005111383507028222\n",
      "Batch 20, train loss: 0.0001541271194582805\n",
      "Batch 21, train loss: 0.00016077543841674924\n",
      "Batch 22, train loss: 0.00012168569810455665\n",
      "Batch 23, train loss: 0.00016936883912421763\n",
      "Batch 24, train loss: 0.00022204924607649446\n",
      "Batch 25, train loss: 0.00013121777737978846\n",
      "Batch 26, train loss: 0.00029029964935034513\n",
      "Batch 27, train loss: 0.0004890943528153002\n",
      "Batch 28, train loss: 0.00039995391853153706\n",
      "Batch 29, train loss: 0.00017431798914913088\n",
      "Batch 30, train loss: 0.00018777880177367479\n",
      "Batch 31, train loss: 0.00024788235896266997\n",
      "Batch 32, train loss: 0.00046347492025233805\n",
      "Batch 33, train loss: 0.000390564528061077\n",
      "Batch 34, train loss: 0.00030100042931735516\n",
      "Batch 35, train loss: 0.00041212025098502636\n",
      "Batch 36, train loss: 0.00017944160208571702\n",
      "Batch 37, train loss: 0.0004185060679446906\n",
      "Batch 38, train loss: 0.0002522538125049323\n",
      "Batch 39, train loss: 0.00014636330888606608\n",
      "Batch 40, train loss: 0.0001141307657235302\n",
      "Batch 41, train loss: 6.826587195973843e-05\n",
      "Batch 42, train loss: 0.0005082369316369295\n",
      "Batch 43, train loss: 0.0001215650700032711\n",
      "Batch 44, train loss: 0.00047430608537979424\n",
      "Batch 45, train loss: 0.00012790113396476954\n",
      "Batch 46, train loss: 9.256126213585958e-05\n",
      "Validation loss: 0.0265499297529459\n",
      "Epoch num: 4\n",
      "Batch 1, train loss: 0.0004538527864497155\n",
      "Batch 2, train loss: 0.0001639023976167664\n",
      "Batch 3, train loss: 0.00018813366477843374\n",
      "Batch 4, train loss: 9.414526721229777e-05\n",
      "Batch 5, train loss: 0.0005676144501194358\n",
      "Batch 6, train loss: 0.00024690350983291864\n",
      "Batch 7, train loss: 0.00010125534026883543\n",
      "Batch 8, train loss: 0.000591325166169554\n",
      "Batch 9, train loss: 0.00010717356781242415\n",
      "Batch 10, train loss: 0.00012959836749359965\n",
      "Batch 11, train loss: 0.00020406056137289852\n",
      "Batch 12, train loss: 0.0001643774303374812\n",
      "Batch 13, train loss: 0.00030173698905855417\n",
      "Batch 14, train loss: 0.000368764391168952\n",
      "Batch 15, train loss: 9.221281652571633e-05\n",
      "Batch 16, train loss: 0.00020610094361472875\n",
      "Batch 17, train loss: 0.0011992653599008918\n",
      "Batch 18, train loss: 0.00020525630679912865\n",
      "Batch 19, train loss: 0.00037974529550410807\n",
      "Batch 20, train loss: 0.00044969154987484217\n",
      "Batch 21, train loss: 0.00010558845679042861\n",
      "Batch 22, train loss: 0.00017085597210098058\n",
      "Batch 23, train loss: 0.000523305730894208\n",
      "Batch 24, train loss: 0.000104624341474846\n",
      "Batch 25, train loss: 0.00010829000530065969\n",
      "Batch 26, train loss: 0.0002560179855208844\n",
      "Batch 27, train loss: 0.0002495723601896316\n",
      "Batch 28, train loss: 0.00011748360702767968\n",
      "Batch 29, train loss: 7.83005089033395e-05\n",
      "Batch 30, train loss: 0.00013110793952364475\n",
      "Batch 31, train loss: 7.964631367940456e-05\n",
      "Batch 32, train loss: 0.00012671606964431703\n",
      "Batch 33, train loss: 0.00010873680002987385\n",
      "Batch 34, train loss: 0.00023585156304761767\n",
      "Batch 35, train loss: 0.00033447015448473394\n",
      "Batch 36, train loss: 0.0006437423289753497\n",
      "Batch 37, train loss: 0.0008517573587596416\n",
      "Batch 38, train loss: 0.00010230311454506591\n",
      "Batch 39, train loss: 0.00012066291674273089\n",
      "Batch 40, train loss: 0.00044017168693244457\n",
      "Batch 41, train loss: 0.00014532648492604494\n",
      "Batch 42, train loss: 0.0005518347024917603\n",
      "Batch 43, train loss: 0.00018841613200493157\n",
      "Batch 44, train loss: 0.000536109902895987\n",
      "Batch 45, train loss: 9.72188136074692e-05\n",
      "Batch 46, train loss: 0.00029557544621638954\n",
      "Validation loss: 0.020746219903230667\n",
      "Epoch num: 5\n",
      "Batch 1, train loss: 9.351859625894576e-05\n",
      "Batch 2, train loss: 0.00012640695786103606\n",
      "Batch 3, train loss: 0.00010545476106926799\n",
      "Batch 4, train loss: 0.0001026791796903126\n",
      "Batch 5, train loss: 8.299781620735303e-05\n",
      "Batch 6, train loss: 0.000564484391361475\n",
      "Batch 7, train loss: 0.0005652143154293299\n",
      "Batch 8, train loss: 0.00024680938804522157\n",
      "Batch 9, train loss: 6.873923121020198e-05\n",
      "Batch 10, train loss: 0.0005945769953541458\n",
      "Batch 11, train loss: 5.0528520660009235e-05\n",
      "Batch 12, train loss: 0.00016256453818641603\n",
      "Batch 13, train loss: 0.0001992197649087757\n",
      "Batch 14, train loss: 0.00032997061498463154\n",
      "Batch 15, train loss: 0.0004346759233158082\n",
      "Batch 16, train loss: 9.73458809312433e-05\n",
      "Batch 17, train loss: 0.00013949457206763327\n",
      "Batch 18, train loss: 0.00016067676187958568\n",
      "Batch 19, train loss: 0.0006235209293663502\n",
      "Batch 20, train loss: 0.000556638406123966\n",
      "Batch 21, train loss: 0.0004384903877507895\n",
      "Batch 22, train loss: 0.00010411094990558922\n",
      "Batch 23, train loss: 8.787272236077115e-05\n",
      "Batch 24, train loss: 0.0004321490996517241\n",
      "Batch 25, train loss: 0.00044219367555342615\n",
      "Batch 26, train loss: 0.0003684480907395482\n",
      "Batch 27, train loss: 0.00010854892752831802\n",
      "Batch 28, train loss: 0.0008884505950845778\n",
      "Batch 29, train loss: 0.0002470489125698805\n",
      "Batch 30, train loss: 0.0008115823729895055\n",
      "Batch 31, train loss: 0.0002632179530337453\n",
      "Batch 32, train loss: 9.834972297539935e-05\n",
      "Batch 33, train loss: 0.00011445584095781669\n",
      "Batch 34, train loss: 0.00010404244676465169\n",
      "Batch 35, train loss: 0.00013748560741078109\n",
      "Batch 36, train loss: 0.0002798592613544315\n",
      "Batch 37, train loss: 9.970380779122934e-05\n",
      "Batch 38, train loss: 0.0005124307353980839\n",
      "Batch 39, train loss: 0.00039742159424349666\n",
      "Batch 40, train loss: 9.720528760226443e-05\n",
      "Batch 41, train loss: 0.0004477781767491251\n",
      "Batch 42, train loss: 0.00023020367370918393\n",
      "Batch 43, train loss: 0.00010634554200805724\n",
      "Batch 44, train loss: 9.46320069488138e-05\n",
      "Batch 45, train loss: 0.00013634869537781924\n",
      "Batch 46, train loss: 5.605626211035997e-05\n",
      "Validation loss: 0.024970412254333496\n",
      "Epoch num: 6\n",
      "Batch 1, train loss: 0.0002024390414590016\n",
      "Batch 2, train loss: 0.0002658494049683213\n",
      "Batch 3, train loss: 0.00020897081412840635\n",
      "Batch 4, train loss: 0.000362731225322932\n",
      "Batch 5, train loss: 0.00010881306661758572\n",
      "Batch 6, train loss: 0.00014616077532991767\n",
      "Batch 7, train loss: 8.94326003617607e-05\n",
      "Batch 8, train loss: 0.00037639180663973093\n",
      "Batch 9, train loss: 8.596904808655381e-05\n",
      "Batch 10, train loss: 0.0008550186175853014\n",
      "Batch 11, train loss: 0.0001467930997023359\n",
      "Batch 12, train loss: 0.00021707233099732548\n",
      "Batch 13, train loss: 0.0009002728620544076\n",
      "Batch 14, train loss: 0.0005182966124266386\n",
      "Batch 15, train loss: 8.16176543594338e-05\n",
      "Batch 16, train loss: 9.937813592841849e-05\n",
      "Batch 17, train loss: 0.00036484323209151626\n",
      "Batch 18, train loss: 0.0002076646196655929\n",
      "Batch 19, train loss: 7.514493336202577e-05\n",
      "Batch 20, train loss: 0.00025636929785832763\n",
      "Batch 21, train loss: 0.0006513084517791867\n",
      "Batch 22, train loss: 0.0003706128045450896\n",
      "Batch 23, train loss: 8.111828356049955e-05\n",
      "Batch 24, train loss: 0.00022862586774863303\n",
      "Batch 25, train loss: 0.000671577756293118\n",
      "Batch 26, train loss: 0.0005836714990437031\n",
      "Batch 27, train loss: 0.0006441359873861074\n",
      "Batch 28, train loss: 0.00016758929996285588\n",
      "Batch 29, train loss: 0.00026689114747568965\n",
      "Batch 30, train loss: 7.008668035268784e-05\n",
      "Batch 31, train loss: 0.0003126690862700343\n",
      "Batch 32, train loss: 7.179639214882627e-05\n",
      "Batch 33, train loss: 0.000539585598744452\n",
      "Batch 34, train loss: 9.795292862690985e-05\n",
      "Batch 35, train loss: 6.785613368265331e-05\n",
      "Batch 36, train loss: 9.652669541537762e-05\n",
      "Batch 37, train loss: 6.512053369078785e-05\n",
      "Batch 38, train loss: 7.264174200827256e-05\n",
      "Batch 39, train loss: 0.00012033495295327157\n",
      "Batch 40, train loss: 0.0007732819067314267\n",
      "Batch 41, train loss: 0.00010764199396362528\n",
      "Batch 42, train loss: 0.0001000355914584361\n",
      "Batch 43, train loss: 0.00011722105409717187\n",
      "Batch 44, train loss: 8.165539475157857e-05\n",
      "Batch 45, train loss: 0.0004358337027952075\n",
      "Batch 46, train loss: 0.0001408121024724096\n",
      "Validation loss: 0.02731589414179325\n",
      "Epoch num: 7\n",
      "Batch 1, train loss: 7.334525434998795e-05\n",
      "Batch 2, train loss: 8.851087477523834e-05\n",
      "Batch 3, train loss: 7.147433643694967e-05\n",
      "Batch 4, train loss: 0.00042218458838760853\n",
      "Batch 5, train loss: 0.0006747068255208433\n",
      "Batch 6, train loss: 0.00012011296348646283\n",
      "Batch 7, train loss: 0.00018998842278961092\n",
      "Batch 8, train loss: 0.0002337610931135714\n",
      "Batch 9, train loss: 0.0001947388082044199\n",
      "Batch 10, train loss: 0.00014296792505774647\n",
      "Batch 11, train loss: 0.0003303175326436758\n",
      "Batch 12, train loss: 0.0008342977380380034\n",
      "Batch 13, train loss: 6.168233812786639e-05\n",
      "Batch 14, train loss: 0.00038184740697033703\n",
      "Batch 15, train loss: 0.00024400305119343102\n",
      "Batch 16, train loss: 0.0004488723643589765\n",
      "Batch 17, train loss: 0.00015023596643004566\n",
      "Batch 18, train loss: 0.0008932899218052626\n",
      "Batch 19, train loss: 0.00015793077182024717\n",
      "Batch 20, train loss: 0.00011518815881572664\n",
      "Batch 21, train loss: 0.0005735143786296248\n",
      "Batch 22, train loss: 0.00013909069821238518\n",
      "Batch 23, train loss: 0.00010666954040061682\n",
      "Batch 24, train loss: 0.000333979056449607\n",
      "Batch 25, train loss: 0.0004365654313005507\n",
      "Batch 26, train loss: 0.00011541230924194679\n",
      "Batch 27, train loss: 0.0005126206087879837\n",
      "Batch 28, train loss: 0.00023112351482268423\n",
      "Batch 29, train loss: 5.701831469195895e-05\n",
      "Batch 30, train loss: 0.00018548719526734203\n",
      "Batch 31, train loss: 7.978712528711185e-05\n",
      "Batch 32, train loss: 0.00032457459019497037\n",
      "Batch 33, train loss: 5.195812263991684e-05\n",
      "Batch 34, train loss: 0.00012047743075527251\n",
      "Batch 35, train loss: 0.00011021867248928174\n",
      "Batch 36, train loss: 0.00011747271491913125\n",
      "Batch 37, train loss: 0.000650603324174881\n",
      "Batch 38, train loss: 0.00010192021727561951\n",
      "Batch 39, train loss: 0.00012141333718318492\n",
      "Batch 40, train loss: 0.0002122411533491686\n",
      "Batch 41, train loss: 0.0004423462087288499\n",
      "Batch 42, train loss: 0.0005120360874570906\n",
      "Batch 43, train loss: 0.0001715153775876388\n",
      "Batch 44, train loss: 0.00037197492201812565\n",
      "Batch 45, train loss: 8.375083416467533e-05\n",
      "Batch 46, train loss: 0.00023337062157224864\n",
      "Validation loss: 0.017599452286958694\n",
      "Epoch num: 8\n",
      "Batch 1, train loss: 0.00014697384904138744\n",
      "Batch 2, train loss: 0.00010558102076174691\n",
      "Batch 3, train loss: 0.0009246100671589375\n",
      "Batch 4, train loss: 7.318200368899852e-05\n",
      "Batch 5, train loss: 0.0003103797498624772\n",
      "Batch 6, train loss: 0.0006039925501681864\n",
      "Batch 7, train loss: 0.0003081201866734773\n",
      "Batch 8, train loss: 0.0001172413321910426\n",
      "Batch 9, train loss: 0.0001296556438319385\n",
      "Batch 10, train loss: 4.962937600794248e-05\n",
      "Batch 11, train loss: 0.0011138254776597023\n",
      "Batch 12, train loss: 0.00013389726518653333\n",
      "Batch 13, train loss: 6.948325608391315e-05\n",
      "Batch 14, train loss: 0.0001658633555052802\n",
      "Batch 15, train loss: 0.0003506525536067784\n",
      "Batch 16, train loss: 0.00048567578778602183\n",
      "Batch 17, train loss: 0.0005597408744506538\n",
      "Batch 18, train loss: 0.00016636954387649894\n",
      "Batch 19, train loss: 0.0001323947071796283\n",
      "Batch 20, train loss: 8.285482181236148e-05\n",
      "Batch 21, train loss: 0.00013432324340101331\n",
      "Batch 22, train loss: 0.00011862321116495878\n",
      "Batch 23, train loss: 7.450024713762105e-05\n",
      "Batch 24, train loss: 0.0001395721483277157\n",
      "Batch 25, train loss: 0.00026935135247185826\n",
      "Batch 26, train loss: 0.00029325595824047923\n",
      "Batch 27, train loss: 8.929684554459527e-05\n",
      "Batch 28, train loss: 0.00012777246593032032\n",
      "Batch 29, train loss: 0.00014851662854198366\n",
      "Batch 30, train loss: 7.575567724416032e-05\n",
      "Batch 31, train loss: 9.675123146735132e-05\n",
      "Batch 32, train loss: 0.0005968025070615113\n",
      "Batch 33, train loss: 0.0005580652505159378\n",
      "Batch 34, train loss: 0.0001249406486749649\n",
      "Batch 35, train loss: 0.00010771834058687091\n",
      "Batch 36, train loss: 0.0001427957759005949\n",
      "Batch 37, train loss: 0.0007585993153043091\n",
      "Batch 38, train loss: 0.0004694937961176038\n",
      "Batch 39, train loss: 0.00016917525499593467\n",
      "Batch 40, train loss: 0.0003353938227519393\n",
      "Batch 41, train loss: 8.522622374584898e-05\n",
      "Batch 42, train loss: 0.000441264477558434\n",
      "Batch 43, train loss: 0.00028639682568609715\n",
      "Batch 44, train loss: 0.0001241128920810297\n",
      "Batch 45, train loss: 0.0004417250747792423\n",
      "Batch 46, train loss: 0.00037710240576416254\n"
     ]
    },
    {
     "name": "stderr",
     "output_type": "stream",
     "text": [
      "INFO:root:model.pkl saved to ../artifacts/\n"
     ]
    },
    {
     "name": "stdout",
     "output_type": "stream",
     "text": [
      "Validation loss: 0.019556058570742607\n",
      "Epoch num: 9\n",
      "Batch 1, train loss: 6.381179264280945e-05\n",
      "Batch 2, train loss: 7.698973058722913e-05\n",
      "Batch 3, train loss: 0.00010303844464942813\n",
      "Batch 4, train loss: 0.0003459042636677623\n",
      "Batch 5, train loss: 0.00017213408136740327\n",
      "Batch 6, train loss: 0.00011435957276262343\n",
      "Batch 7, train loss: 0.000855686201248318\n",
      "Batch 8, train loss: 0.00032394513254985213\n",
      "Batch 9, train loss: 0.0003720449167303741\n",
      "Batch 10, train loss: 0.00012250131112523377\n",
      "Batch 11, train loss: 0.0007979045622050762\n",
      "Batch 12, train loss: 0.0005879512173123658\n",
      "Batch 13, train loss: 7.441580237355083e-05\n",
      "Batch 14, train loss: 0.00015088316285982728\n",
      "Batch 15, train loss: 0.00013092553126625717\n",
      "Batch 16, train loss: 0.0002626929781399667\n",
      "Batch 17, train loss: 0.00010806929640239105\n",
      "Batch 18, train loss: 0.00025784660829231143\n",
      "Batch 19, train loss: 0.0007134546176530421\n",
      "Batch 20, train loss: 7.424324576277286e-05\n",
      "Batch 21, train loss: 5.77874670852907e-05\n",
      "Batch 22, train loss: 8.4223851445131e-05\n",
      "Batch 23, train loss: 6.686894630547613e-05\n",
      "Batch 24, train loss: 0.0005779840867035091\n",
      "Batch 25, train loss: 4.924196400679648e-05\n",
      "Batch 26, train loss: 6.194934394443408e-05\n",
      "Batch 27, train loss: 0.00012128171510994434\n",
      "Batch 28, train loss: 0.00012718506332021207\n",
      "Batch 29, train loss: 0.00010592550825094804\n",
      "Batch 30, train loss: 0.00033558515133336186\n",
      "Batch 31, train loss: 0.00015993464330676943\n",
      "Batch 32, train loss: 0.0003361025592312217\n",
      "Batch 33, train loss: 0.0001524684630567208\n",
      "Batch 34, train loss: 0.0002913814387284219\n",
      "Batch 35, train loss: 0.00042173892143182456\n",
      "Batch 36, train loss: 0.00014029478188604116\n",
      "Batch 37, train loss: 0.0001354270934825763\n",
      "Batch 38, train loss: 7.173785706982017e-05\n",
      "Batch 39, train loss: 7.645742152817547e-05\n",
      "Batch 40, train loss: 0.0005146864568814635\n",
      "Batch 41, train loss: 0.0005179913132451475\n",
      "Batch 42, train loss: 8.944277942646295e-05\n",
      "Batch 43, train loss: 0.0006507598445750773\n",
      "Batch 44, train loss: 0.0005842968239448965\n",
      "Batch 45, train loss: 0.0002715286973398179\n",
      "Batch 46, train loss: 3.478938015177846e-05\n",
      "Validation loss: 0.014098746702075005\n"
     ]
    }
   ],
   "source": [
    "lstm_model = LSTM(\n",
    "    num_classes=config.get(\"N_STEP_OUTPUT\"),\n",
    "    input_size=x_train.shape[2],\n",
    "    hidden_size_layer=8,\n",
    "    num_layers=config.get(\"NUM_LAYERS\"),\n",
    "    dropout_rate=0.1,\n",
    ")\n",
    "lstm_model.to(device)\n",
    "\n",
    "loss_fn = torch.nn.MSELoss()\n",
    "\n",
    "optimizer = torch.optim.Adam(lstm_model.parameters(), lr=0.001)\n",
    "\n",
    "validation_loss = train_obj.train_validation_loop(\n",
    "    n_epochs=10,\n",
    "    lstm_model=lstm_model,\n",
    "    optimizer=optimizer,\n",
    "    loss_fn=loss_fn,\n",
    "    train_loader=train_data_loader,\n",
    "    validation_loader=validation_data_loader,\n",
    "    device=device,\n",
    ")"
   ]
  },
  {
   "cell_type": "code",
   "execution_count": 37,
   "metadata": {},
   "outputs": [
    {
     "name": "stdout",
     "output_type": "stream",
     "text": [
      "tensor([[0.6335, 0.0000, 0.5170, 0.0000, 0.0426],\n",
      "        [0.6592, 0.0000, 0.4992, 0.0017, 0.0759],\n",
      "        [0.5794, 0.0000, 0.4792, 0.0304, 0.0967],\n",
      "        [0.1101, 0.0000, 0.3951, 0.1928, 0.2390],\n",
      "        [0.0000, 0.0000, 0.3672, 0.2012, 0.2237],\n",
      "        [0.0000, 0.0000, 0.3552, 0.2121, 0.2304],\n",
      "        [0.0000, 0.0000, 0.3187, 0.2378, 0.2415],\n",
      "        [0.1135, 0.0000, 0.2791, 0.1846, 0.1884],\n",
      "        [0.0000, 0.0000, 0.2815, 0.2471, 0.2596],\n",
      "        [0.0000, 0.0000, 0.2925, 0.2799, 0.2824],\n",
      "        [0.0000, 0.0000, 0.2822, 0.2870, 0.2811],\n",
      "        [0.0000, 0.0000, 0.2702, 0.2978, 0.2884],\n",
      "        [0.0000, 0.0000, 0.2599, 0.3058, 0.2933],\n",
      "        [0.0000, 0.0000, 0.2521, 0.3104, 0.2956],\n",
      "        [0.0000, 0.0000, 0.2396, 0.3240, 0.3063],\n",
      "        [0.0000, 0.0000, 0.2276, 0.3342, 0.3127],\n",
      "        [0.0000, 0.0000, 0.2170, 0.3430, 0.3184],\n",
      "        [0.0000, 0.0000, 0.2065, 0.3519, 0.3243],\n",
      "        [0.0000, 0.0000, 0.1962, 0.3607, 0.3302]])\n"
     ]
    }
   ],
   "source": [
    "infer_obj = makeInference(config=config)\n",
    "\n",
    "prediction_tensor, actual_sequential, lap_sequential = infer_obj.perform_inference(\n",
    "    test_data=test_data, device=device\n",
    ")"
   ]
  },
  {
   "cell_type": "code",
   "execution_count": 38,
   "metadata": {},
   "outputs": [
    {
     "data": {
      "text/plain": [
       "[[134528.83568680286, 85189.0, 125453.07582777739, 85189.0, 88507.9287757352],\n",
       " [136523.17064720392,\n",
       "  85189.0,\n",
       "  124067.6997371912,\n",
       "  85318.03750997037,\n",
       "  91097.45458186418],\n",
       " [130313.07228171825,\n",
       "  85189.0,\n",
       "  122505.52337101102,\n",
       "  87555.05710465461,\n",
       "  92722.98428342491],\n",
       " [93763.47914589942,\n",
       "  85189.0,\n",
       "  115955.17006096244,\n",
       "  100204.3509016335,\n",
       "  103804.71241012216],\n",
       " [85189.0,\n",
       "  85189.0,\n",
       "  113787.39095491171,\n",
       "  100855.08500164747,\n",
       "  102611.86352217197],\n",
       " [85189.0,\n",
       "  85189.0,\n",
       "  112849.03234091401,\n",
       "  101705.01214468479,\n",
       "  103131.82228213549],\n",
       " [85189.0, 85189.0, 110008.6439448595, 103704.98707449436, 103998.60898804665],\n",
       " [94025.16096109152,\n",
       "  85189.0,\n",
       "  106928.11586368084,\n",
       "  99568.18556210399,\n",
       "  99863.25576409698],\n",
       " [85189.0,\n",
       "  85189.0,\n",
       "  107115.82240110636,\n",
       "  104430.27785652876,\n",
       "  105407.34569266438],\n",
       " [85189.0,\n",
       "  85189.0,\n",
       "  107969.29831501842,\n",
       "  106987.40749269724,\n",
       "  107181.94930168986],\n",
       " [85189.0,\n",
       "  85189.0,\n",
       "  107163.10994708538,\n",
       "  107536.63374823332,\n",
       "  107083.04559123516],\n",
       " [85189.0,\n",
       "  85189.0,\n",
       "  106228.87802675366,\n",
       "  108383.19779840112,\n",
       "  107651.65895149112],\n",
       " [85189.0,\n",
       "  85189.0,\n",
       "  105427.06469681859,\n",
       "  109002.26683560014,\n",
       "  108027.28323507309],\n",
       " [85189.0,\n",
       "  85189.0,\n",
       "  104822.52032157779,\n",
       "  109360.79481685162,\n",
       "  108211.21586704254],\n",
       " [85189.0,\n",
       "  85189.0,\n",
       "  103850.34161941707,\n",
       "  110421.26689195633,\n",
       "  109039.60204049945],\n",
       " [85189.0,\n",
       "  85189.0,\n",
       "  102916.10737811029,\n",
       "  111217.58415293694,\n",
       "  109544.71352297068],\n",
       " [85189.0, 85189.0, 102084.8826521486, 111902.90542337298, 109983.51706880331],\n",
       " [85189.0, 85189.0, 101274.81941634417, 112591.48998475075, 110442.8310712874],\n",
       " [85189.0,\n",
       "  85189.0,\n",
       "  100465.49657158554,\n",
       "  113281.21182391047,\n",
       "  110904.26180303097]]"
      ]
     },
     "execution_count": 38,
     "metadata": {},
     "output_type": "execute_result"
    }
   ],
   "source": [
    "prediction_tensor.tolist()"
   ]
  },
  {
   "cell_type": "code",
   "execution_count": 39,
   "metadata": {},
   "outputs": [
    {
     "data": {
      "text/plain": [
       "[array([156229., 150999., 104978., 103250., 102775.]),\n",
       " array([150999., 104978., 103250., 102775., 101476.]),\n",
       " array([104978., 103250., 102775., 101476., 121768.]),\n",
       " array([103250., 102775., 101476., 121768., 103572.]),\n",
       " array([102775., 101476., 121768., 103572.,  93057.]),\n",
       " array([101476., 121768., 103572.,  93057.,  92439.]),\n",
       " array([121768., 103572.,  93057.,  92439.,  91856.]),\n",
       " array([103572.,  93057.,  92439.,  91856.,  92287.]),\n",
       " array([93057., 92439., 91856., 92287., 93925.]),\n",
       " array([92439., 91856., 92287., 93925., 92447.]),\n",
       " array([91856., 92287., 93925., 92447., 91866.]),\n",
       " array([92287., 93925., 92447., 91866., 91812.]),\n",
       " array([93925., 92447., 91866., 91812., 91744.]),\n",
       " array([92447., 91866., 91812., 91744., 91626.]),\n",
       " array([91866., 91812., 91744., 91626., 91558.]),\n",
       " array([91812., 91744., 91626., 91558., 91556.]),\n",
       " array([91744., 91626., 91558., 91556., 92064.]),\n",
       " array([91626., 91558., 91556., 92064., 92939.]),\n",
       " array([91558., 91556., 92064., 92939., 92391.])]"
      ]
     },
     "execution_count": 39,
     "metadata": {},
     "output_type": "execute_result"
    }
   ],
   "source": [
    "actual_sequential"
   ]
  },
  {
   "cell_type": "code",
   "execution_count": 40,
   "metadata": {},
   "outputs": [
    {
     "data": {
      "text/plain": [
       "[array([3, 4, 5, 6, 7], dtype=int64),\n",
       " array([4, 5, 6, 7, 8], dtype=int64),\n",
       " array([5, 6, 7, 8, 9], dtype=int64),\n",
       " array([ 6,  7,  8,  9, 10], dtype=int64),\n",
       " array([ 7,  8,  9, 10, 11], dtype=int64),\n",
       " array([ 8,  9, 10, 11, 12], dtype=int64),\n",
       " array([ 9, 10, 11, 12, 13], dtype=int64),\n",
       " array([10, 11, 12, 13, 14], dtype=int64),\n",
       " array([11, 12, 13, 14, 15], dtype=int64),\n",
       " array([12, 13, 14, 15, 16], dtype=int64),\n",
       " array([13, 14, 15, 16, 17], dtype=int64),\n",
       " array([14, 15, 16, 17, 18], dtype=int64),\n",
       " array([15, 16, 17, 18, 19], dtype=int64),\n",
       " array([16, 17, 18, 19, 20], dtype=int64),\n",
       " array([17, 18, 19, 20, 21], dtype=int64),\n",
       " array([18, 19, 20, 21, 22], dtype=int64),\n",
       " array([19, 20, 21, 22, 23], dtype=int64),\n",
       " array([20, 21, 22, 23, 24], dtype=int64),\n",
       " array([21, 22, 23, 24, 25], dtype=int64)]"
      ]
     },
     "execution_count": 40,
     "metadata": {},
     "output_type": "execute_result"
    }
   ],
   "source": [
    "lap_sequential"
   ]
  },
  {
   "cell_type": "markdown",
   "metadata": {},
   "source": [
    "# Evaluation"
   ]
  },
  {
   "cell_type": "code",
   "execution_count": 41,
   "metadata": {},
   "outputs": [
    {
     "name": "stdout",
     "output_type": "stream",
     "text": [
      "[134528.83568680286, 85189.0, 125453.07582777739, 85189.0, 88507.9287757352]\n",
      "[136523.17064720392, 85189.0, 124067.6997371912, 85318.03750997037, 91097.45458186418]\n",
      "[130313.07228171825, 85189.0, 122505.52337101102, 87555.05710465461, 92722.98428342491]\n",
      "[93763.47914589942, 85189.0, 115955.17006096244, 100204.3509016335, 103804.71241012216]\n",
      "[85189.0, 85189.0, 113787.39095491171, 100855.08500164747, 102611.86352217197]\n",
      "[85189.0, 85189.0, 112849.03234091401, 101705.01214468479, 103131.82228213549]\n",
      "[85189.0, 85189.0, 110008.6439448595, 103704.98707449436, 103998.60898804665]\n",
      "[94025.16096109152, 85189.0, 106928.11586368084, 99568.18556210399, 99863.25576409698]\n",
      "[85189.0, 85189.0, 107115.82240110636, 104430.27785652876, 105407.34569266438]\n",
      "[85189.0, 85189.0, 107969.29831501842, 106987.40749269724, 107181.94930168986]\n",
      "[85189.0, 85189.0, 107163.10994708538, 107536.63374823332, 107083.04559123516]\n",
      "[85189.0, 85189.0, 106228.87802675366, 108383.19779840112, 107651.65895149112]\n",
      "[85189.0, 85189.0, 105427.06469681859, 109002.26683560014, 108027.28323507309]\n",
      "[85189.0, 85189.0, 104822.52032157779, 109360.79481685162, 108211.21586704254]\n",
      "[85189.0, 85189.0, 103850.34161941707, 110421.26689195633, 109039.60204049945]\n",
      "[85189.0, 85189.0, 102916.10737811029, 111217.58415293694, 109544.71352297068]\n",
      "[85189.0, 85189.0, 102084.8826521486, 111902.90542337298, 109983.51706880331]\n",
      "[85189.0, 85189.0, 101274.81941634417, 112591.48998475075, 110442.8310712874]\n",
      "[85189.0, 85189.0, 100465.49657158554, 113281.21182391047, 110904.26180303097]\n"
     ]
    }
   ],
   "source": [
    "evaluate = evaluateModellingResults()\n",
    "\n",
    "rmse_mae_mape_dict = evaluate.get_model_evaluation_metrics(\n",
    "    ls_prediction=prediction_tensor.tolist(),\n",
    "    ls_actual=actual_sequential,\n",
    "    lap_sequential=lap_sequential,\n",
    ")"
   ]
  },
  {
   "cell_type": "code",
   "execution_count": 42,
   "metadata": {},
   "outputs": [],
   "source": [
    "rmse_mae_mape_df = pd.DataFrame(rmse_mae_mape_dict)\n"
   ]
  },
  {
   "cell_type": "code",
   "execution_count": 43,
   "metadata": {},
   "outputs": [
    {
     "data": {
      "application/vnd.plotly.v1+json": {
       "config": {
        "plotlyServerURL": "https://plot.ly"
       },
       "data": [
        {
         "mode": "lines+markers",
         "name": "RMSE",
         "type": "scatter",
         "x": [
          2,
          3,
          4,
          5,
          6,
          7,
          8,
          9,
          10,
          11,
          12,
          13,
          14,
          15,
          16,
          17,
          18,
          19,
          20
         ],
         "y": [
          33914.10032329099,
          17011.70493027511,
          21884.993717547473,
          14655.735785506391,
          12140.02413314035,
          19382.866152694307,
          21155.054148985568,
          9796.524850102027,
          11194.941388145071,
          12088.764121032995,
          12077.529309860292,
          12964.197474239389,
          13217.785915228358,
          13053.393252435462,
          13370.702545852213,
          13596.997770737315,
          13640.556474417936,
          13447.799285338227,
          13477.644001224931
         ]
        },
        {
         "mode": "lines+markers",
         "name": "MAE",
         "type": "scatter",
         "x": [
          2,
          3,
          4,
          5,
          6,
          7,
          8,
          9,
          10,
          11,
          12,
          13,
          14,
          15,
          16,
          17,
          18,
          19,
          20
         ],
         "y": [
          28062.662273047863,
          16583.607399630546,
          21218.51085292995,
          12669.610484710336,
          10825.077513122558,
          16296.773353546858,
          19064.4480014801,
          9438.479245758057,
          10800.6891900599,
          11479.331021881104,
          11461.957857310772,
          12394.54695532918,
          12605.722953498363,
          12229.50620109439,
          12336.64211037457,
          12423.281010803581,
          12357.06102886498,
          12111.22809447646,
          11998.594039705396
         ]
        }
       ],
       "layout": {
        "template": {
         "data": {
          "bar": [
           {
            "error_x": {
             "color": "#2a3f5f"
            },
            "error_y": {
             "color": "#2a3f5f"
            },
            "marker": {
             "line": {
              "color": "#E5ECF6",
              "width": 0.5
             },
             "pattern": {
              "fillmode": "overlay",
              "size": 10,
              "solidity": 0.2
             }
            },
            "type": "bar"
           }
          ],
          "barpolar": [
           {
            "marker": {
             "line": {
              "color": "#E5ECF6",
              "width": 0.5
             },
             "pattern": {
              "fillmode": "overlay",
              "size": 10,
              "solidity": 0.2
             }
            },
            "type": "barpolar"
           }
          ],
          "carpet": [
           {
            "aaxis": {
             "endlinecolor": "#2a3f5f",
             "gridcolor": "white",
             "linecolor": "white",
             "minorgridcolor": "white",
             "startlinecolor": "#2a3f5f"
            },
            "baxis": {
             "endlinecolor": "#2a3f5f",
             "gridcolor": "white",
             "linecolor": "white",
             "minorgridcolor": "white",
             "startlinecolor": "#2a3f5f"
            },
            "type": "carpet"
           }
          ],
          "choropleth": [
           {
            "colorbar": {
             "outlinewidth": 0,
             "ticks": ""
            },
            "type": "choropleth"
           }
          ],
          "contour": [
           {
            "colorbar": {
             "outlinewidth": 0,
             "ticks": ""
            },
            "colorscale": [
             [
              0,
              "#0d0887"
             ],
             [
              0.1111111111111111,
              "#46039f"
             ],
             [
              0.2222222222222222,
              "#7201a8"
             ],
             [
              0.3333333333333333,
              "#9c179e"
             ],
             [
              0.4444444444444444,
              "#bd3786"
             ],
             [
              0.5555555555555556,
              "#d8576b"
             ],
             [
              0.6666666666666666,
              "#ed7953"
             ],
             [
              0.7777777777777778,
              "#fb9f3a"
             ],
             [
              0.8888888888888888,
              "#fdca26"
             ],
             [
              1,
              "#f0f921"
             ]
            ],
            "type": "contour"
           }
          ],
          "contourcarpet": [
           {
            "colorbar": {
             "outlinewidth": 0,
             "ticks": ""
            },
            "type": "contourcarpet"
           }
          ],
          "heatmap": [
           {
            "colorbar": {
             "outlinewidth": 0,
             "ticks": ""
            },
            "colorscale": [
             [
              0,
              "#0d0887"
             ],
             [
              0.1111111111111111,
              "#46039f"
             ],
             [
              0.2222222222222222,
              "#7201a8"
             ],
             [
              0.3333333333333333,
              "#9c179e"
             ],
             [
              0.4444444444444444,
              "#bd3786"
             ],
             [
              0.5555555555555556,
              "#d8576b"
             ],
             [
              0.6666666666666666,
              "#ed7953"
             ],
             [
              0.7777777777777778,
              "#fb9f3a"
             ],
             [
              0.8888888888888888,
              "#fdca26"
             ],
             [
              1,
              "#f0f921"
             ]
            ],
            "type": "heatmap"
           }
          ],
          "heatmapgl": [
           {
            "colorbar": {
             "outlinewidth": 0,
             "ticks": ""
            },
            "colorscale": [
             [
              0,
              "#0d0887"
             ],
             [
              0.1111111111111111,
              "#46039f"
             ],
             [
              0.2222222222222222,
              "#7201a8"
             ],
             [
              0.3333333333333333,
              "#9c179e"
             ],
             [
              0.4444444444444444,
              "#bd3786"
             ],
             [
              0.5555555555555556,
              "#d8576b"
             ],
             [
              0.6666666666666666,
              "#ed7953"
             ],
             [
              0.7777777777777778,
              "#fb9f3a"
             ],
             [
              0.8888888888888888,
              "#fdca26"
             ],
             [
              1,
              "#f0f921"
             ]
            ],
            "type": "heatmapgl"
           }
          ],
          "histogram": [
           {
            "marker": {
             "pattern": {
              "fillmode": "overlay",
              "size": 10,
              "solidity": 0.2
             }
            },
            "type": "histogram"
           }
          ],
          "histogram2d": [
           {
            "colorbar": {
             "outlinewidth": 0,
             "ticks": ""
            },
            "colorscale": [
             [
              0,
              "#0d0887"
             ],
             [
              0.1111111111111111,
              "#46039f"
             ],
             [
              0.2222222222222222,
              "#7201a8"
             ],
             [
              0.3333333333333333,
              "#9c179e"
             ],
             [
              0.4444444444444444,
              "#bd3786"
             ],
             [
              0.5555555555555556,
              "#d8576b"
             ],
             [
              0.6666666666666666,
              "#ed7953"
             ],
             [
              0.7777777777777778,
              "#fb9f3a"
             ],
             [
              0.8888888888888888,
              "#fdca26"
             ],
             [
              1,
              "#f0f921"
             ]
            ],
            "type": "histogram2d"
           }
          ],
          "histogram2dcontour": [
           {
            "colorbar": {
             "outlinewidth": 0,
             "ticks": ""
            },
            "colorscale": [
             [
              0,
              "#0d0887"
             ],
             [
              0.1111111111111111,
              "#46039f"
             ],
             [
              0.2222222222222222,
              "#7201a8"
             ],
             [
              0.3333333333333333,
              "#9c179e"
             ],
             [
              0.4444444444444444,
              "#bd3786"
             ],
             [
              0.5555555555555556,
              "#d8576b"
             ],
             [
              0.6666666666666666,
              "#ed7953"
             ],
             [
              0.7777777777777778,
              "#fb9f3a"
             ],
             [
              0.8888888888888888,
              "#fdca26"
             ],
             [
              1,
              "#f0f921"
             ]
            ],
            "type": "histogram2dcontour"
           }
          ],
          "mesh3d": [
           {
            "colorbar": {
             "outlinewidth": 0,
             "ticks": ""
            },
            "type": "mesh3d"
           }
          ],
          "parcoords": [
           {
            "line": {
             "colorbar": {
              "outlinewidth": 0,
              "ticks": ""
             }
            },
            "type": "parcoords"
           }
          ],
          "pie": [
           {
            "automargin": true,
            "type": "pie"
           }
          ],
          "scatter": [
           {
            "fillpattern": {
             "fillmode": "overlay",
             "size": 10,
             "solidity": 0.2
            },
            "type": "scatter"
           }
          ],
          "scatter3d": [
           {
            "line": {
             "colorbar": {
              "outlinewidth": 0,
              "ticks": ""
             }
            },
            "marker": {
             "colorbar": {
              "outlinewidth": 0,
              "ticks": ""
             }
            },
            "type": "scatter3d"
           }
          ],
          "scattercarpet": [
           {
            "marker": {
             "colorbar": {
              "outlinewidth": 0,
              "ticks": ""
             }
            },
            "type": "scattercarpet"
           }
          ],
          "scattergeo": [
           {
            "marker": {
             "colorbar": {
              "outlinewidth": 0,
              "ticks": ""
             }
            },
            "type": "scattergeo"
           }
          ],
          "scattergl": [
           {
            "marker": {
             "colorbar": {
              "outlinewidth": 0,
              "ticks": ""
             }
            },
            "type": "scattergl"
           }
          ],
          "scattermapbox": [
           {
            "marker": {
             "colorbar": {
              "outlinewidth": 0,
              "ticks": ""
             }
            },
            "type": "scattermapbox"
           }
          ],
          "scatterpolar": [
           {
            "marker": {
             "colorbar": {
              "outlinewidth": 0,
              "ticks": ""
             }
            },
            "type": "scatterpolar"
           }
          ],
          "scatterpolargl": [
           {
            "marker": {
             "colorbar": {
              "outlinewidth": 0,
              "ticks": ""
             }
            },
            "type": "scatterpolargl"
           }
          ],
          "scatterternary": [
           {
            "marker": {
             "colorbar": {
              "outlinewidth": 0,
              "ticks": ""
             }
            },
            "type": "scatterternary"
           }
          ],
          "surface": [
           {
            "colorbar": {
             "outlinewidth": 0,
             "ticks": ""
            },
            "colorscale": [
             [
              0,
              "#0d0887"
             ],
             [
              0.1111111111111111,
              "#46039f"
             ],
             [
              0.2222222222222222,
              "#7201a8"
             ],
             [
              0.3333333333333333,
              "#9c179e"
             ],
             [
              0.4444444444444444,
              "#bd3786"
             ],
             [
              0.5555555555555556,
              "#d8576b"
             ],
             [
              0.6666666666666666,
              "#ed7953"
             ],
             [
              0.7777777777777778,
              "#fb9f3a"
             ],
             [
              0.8888888888888888,
              "#fdca26"
             ],
             [
              1,
              "#f0f921"
             ]
            ],
            "type": "surface"
           }
          ],
          "table": [
           {
            "cells": {
             "fill": {
              "color": "#EBF0F8"
             },
             "line": {
              "color": "white"
             }
            },
            "header": {
             "fill": {
              "color": "#C8D4E3"
             },
             "line": {
              "color": "white"
             }
            },
            "type": "table"
           }
          ]
         },
         "layout": {
          "annotationdefaults": {
           "arrowcolor": "#2a3f5f",
           "arrowhead": 0,
           "arrowwidth": 1
          },
          "autotypenumbers": "strict",
          "coloraxis": {
           "colorbar": {
            "outlinewidth": 0,
            "ticks": ""
           }
          },
          "colorscale": {
           "diverging": [
            [
             0,
             "#8e0152"
            ],
            [
             0.1,
             "#c51b7d"
            ],
            [
             0.2,
             "#de77ae"
            ],
            [
             0.3,
             "#f1b6da"
            ],
            [
             0.4,
             "#fde0ef"
            ],
            [
             0.5,
             "#f7f7f7"
            ],
            [
             0.6,
             "#e6f5d0"
            ],
            [
             0.7,
             "#b8e186"
            ],
            [
             0.8,
             "#7fbc41"
            ],
            [
             0.9,
             "#4d9221"
            ],
            [
             1,
             "#276419"
            ]
           ],
           "sequential": [
            [
             0,
             "#0d0887"
            ],
            [
             0.1111111111111111,
             "#46039f"
            ],
            [
             0.2222222222222222,
             "#7201a8"
            ],
            [
             0.3333333333333333,
             "#9c179e"
            ],
            [
             0.4444444444444444,
             "#bd3786"
            ],
            [
             0.5555555555555556,
             "#d8576b"
            ],
            [
             0.6666666666666666,
             "#ed7953"
            ],
            [
             0.7777777777777778,
             "#fb9f3a"
            ],
            [
             0.8888888888888888,
             "#fdca26"
            ],
            [
             1,
             "#f0f921"
            ]
           ],
           "sequentialminus": [
            [
             0,
             "#0d0887"
            ],
            [
             0.1111111111111111,
             "#46039f"
            ],
            [
             0.2222222222222222,
             "#7201a8"
            ],
            [
             0.3333333333333333,
             "#9c179e"
            ],
            [
             0.4444444444444444,
             "#bd3786"
            ],
            [
             0.5555555555555556,
             "#d8576b"
            ],
            [
             0.6666666666666666,
             "#ed7953"
            ],
            [
             0.7777777777777778,
             "#fb9f3a"
            ],
            [
             0.8888888888888888,
             "#fdca26"
            ],
            [
             1,
             "#f0f921"
            ]
           ]
          },
          "colorway": [
           "#636efa",
           "#EF553B",
           "#00cc96",
           "#ab63fa",
           "#FFA15A",
           "#19d3f3",
           "#FF6692",
           "#B6E880",
           "#FF97FF",
           "#FECB52"
          ],
          "font": {
           "color": "#2a3f5f"
          },
          "geo": {
           "bgcolor": "white",
           "lakecolor": "white",
           "landcolor": "#E5ECF6",
           "showlakes": true,
           "showland": true,
           "subunitcolor": "white"
          },
          "hoverlabel": {
           "align": "left"
          },
          "hovermode": "closest",
          "mapbox": {
           "style": "light"
          },
          "paper_bgcolor": "white",
          "plot_bgcolor": "#E5ECF6",
          "polar": {
           "angularaxis": {
            "gridcolor": "white",
            "linecolor": "white",
            "ticks": ""
           },
           "bgcolor": "#E5ECF6",
           "radialaxis": {
            "gridcolor": "white",
            "linecolor": "white",
            "ticks": ""
           }
          },
          "scene": {
           "xaxis": {
            "backgroundcolor": "#E5ECF6",
            "gridcolor": "white",
            "gridwidth": 2,
            "linecolor": "white",
            "showbackground": true,
            "ticks": "",
            "zerolinecolor": "white"
           },
           "yaxis": {
            "backgroundcolor": "#E5ECF6",
            "gridcolor": "white",
            "gridwidth": 2,
            "linecolor": "white",
            "showbackground": true,
            "ticks": "",
            "zerolinecolor": "white"
           },
           "zaxis": {
            "backgroundcolor": "#E5ECF6",
            "gridcolor": "white",
            "gridwidth": 2,
            "linecolor": "white",
            "showbackground": true,
            "ticks": "",
            "zerolinecolor": "white"
           }
          },
          "shapedefaults": {
           "line": {
            "color": "#2a3f5f"
           }
          },
          "ternary": {
           "aaxis": {
            "gridcolor": "white",
            "linecolor": "white",
            "ticks": ""
           },
           "baxis": {
            "gridcolor": "white",
            "linecolor": "white",
            "ticks": ""
           },
           "bgcolor": "#E5ECF6",
           "caxis": {
            "gridcolor": "white",
            "linecolor": "white",
            "ticks": ""
           }
          },
          "title": {
           "x": 0.05
          },
          "xaxis": {
           "automargin": true,
           "gridcolor": "white",
           "linecolor": "white",
           "ticks": "",
           "title": {
            "standoff": 15
           },
           "zerolinecolor": "white",
           "zerolinewidth": 2
          },
          "yaxis": {
           "automargin": true,
           "gridcolor": "white",
           "linecolor": "white",
           "ticks": "",
           "title": {
            "standoff": 15
           },
           "zerolinecolor": "white",
           "zerolinewidth": 2
          }
         }
        },
        "title": {
         "text": "error rate in prediction at each lap"
        },
        "xaxis": {
         "title": {
          "text": "Lap number"
         }
        },
        "yaxis": {
         "title": {
          "text": "Error"
         }
        }
       }
      }
     },
     "metadata": {},
     "output_type": "display_data"
    }
   ],
   "source": [
    "fig = go.Figure()\n",
    "\n",
    "fig.add_trace(\n",
    "        go.Scatter(\n",
    "            x=rmse_mae_mape_df[\"current_lap\"],\n",
    "            y=rmse_mae_mape_df[\"RMSE\"],\n",
    "            mode=\"lines+markers\",\n",
    "            name=f\"RMSE\",\n",
    "        )\n",
    "    )\n",
    "\n",
    "fig.add_trace(\n",
    "        go.Scatter(\n",
    "            x=rmse_mae_mape_df[\"current_lap\"],\n",
    "            y=rmse_mae_mape_df[\"MAE\"],\n",
    "            mode=\"lines+markers\",\n",
    "            name=f\"MAE\",\n",
    "        )\n",
    "    )\n",
    "\n",
    "\n",
    "fig.update_layout(\n",
    "        title=\"error rate in prediction at each lap\",\n",
    "        xaxis_title=\"Lap number\",\n",
    "        yaxis_title=\"Error\",\n",
    "    )"
   ]
  },
  {
   "cell_type": "code",
   "execution_count": null,
   "metadata": {},
   "outputs": [],
   "source": []
  }
 ],
 "metadata": {
  "kernelspec": {
   "display_name": "Python 3",
   "language": "python",
   "name": "python3"
  },
  "language_info": {
   "codemirror_mode": {
    "name": "ipython",
    "version": 3
   },
   "file_extension": ".py",
   "mimetype": "text/x-python",
   "name": "python",
   "nbconvert_exporter": "python",
   "pygments_lexer": "ipython3",
   "version": "3.10.9"
  }
 },
 "nbformat": 4,
 "nbformat_minor": 2
}
